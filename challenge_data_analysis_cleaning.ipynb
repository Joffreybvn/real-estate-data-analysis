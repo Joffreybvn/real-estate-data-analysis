{
  "nbformat": 4,
  "nbformat_minor": 0,
  "metadata": {
    "colab": {
      "name": "challenge-data-analysis_cleaning.ipynb",
      "provenance": [],
      "collapsed_sections": [
        "-VKRcxP2V8H-",
        "BugfLt_BZjSh",
        "SjDhwO86ZmTm",
        "ZeBIMQIJE4x5"
      ],
      "toc_visible": true,
      "include_colab_link": true
    },
    "kernelspec": {
      "name": "python3",
      "display_name": "Python 3"
    }
  },
  "cells": [
    {
      "cell_type": "markdown",
      "metadata": {
        "id": "view-in-github",
        "colab_type": "text"
      },
      "source": [
        "<a href=\"https://colab.research.google.com/github/kaiyungtan/challenge-data-analysis/blob/master/challenge_data_analysis_cleaning.ipynb\" target=\"_parent\"><img src=\"https://colab.research.google.com/assets/colab-badge.svg\" alt=\"Open In Colab\"/></a>"
      ]
    },
    {
      "cell_type": "markdown",
      "metadata": {
        "id": "u8kJHmDUXQkV",
        "colab_type": "text"
      },
      "source": [
        "# Challenge: Data Cleaning"
      ]
    },
    {
      "cell_type": "markdown",
      "metadata": {
        "id": "bFdpx191Xaj3",
        "colab_type": "text"
      },
      "source": [
        "## Imports"
      ]
    },
    {
      "cell_type": "code",
      "metadata": {
        "id": "2Q_o90-JkjUS",
        "colab_type": "code",
        "colab": {}
      },
      "source": [
        "# allow jupyter notebook to print all the interactive output \n",
        "from IPython.core.interactiveshell import InteractiveShell \n",
        "InteractiveShell.ast_node_interactivity = \"all\""
      ],
      "execution_count": 250,
      "outputs": []
    },
    {
      "cell_type": "code",
      "metadata": {
        "id": "qBz0DahiTXuE",
        "colab_type": "code",
        "colab": {}
      },
      "source": [
        "import pandas as pd\n",
        "from pandas_profiling import ProfileReport\n",
        "import missingno as msno"
      ],
      "execution_count": 251,
      "outputs": []
    },
    {
      "cell_type": "code",
      "metadata": {
        "id": "WIQo9tSFSpL9",
        "colab_type": "code",
        "colab": {}
      },
      "source": [
        "DATASET_URL = \"https://raw.githubusercontent.com/kaiyungtan/challenge-data-analysis/master/data/raw/dataset_house_apartment.csv\"\n",
        "POSTAL_CODE_URL = \"https://raw.githubusercontent.com/kaiyungtan/challenge-data-analysis/master/data/raw/code-postaux-belge.csv\"\n",
        "\n",
        "\n",
        "df = pd.read_csv(DATASET_URL, sep = ',')\n",
        "postal_codes = pd.read_csv(POSTAL_CODE_URL, sep = ';')"
      ],
      "execution_count": 252,
      "outputs": []
    },
    {
      "cell_type": "code",
      "metadata": {
        "id": "vcg4SH_3hOOx",
        "colab_type": "code",
        "colab": {
          "base_uri": "https://localhost:8080/",
          "height": 34
        },
        "outputId": "eb56f48a-6a37-451e-c51c-ce78bdbd66bb"
      },
      "source": [
        "df.shape\n",
        "postal_codes.shape"
      ],
      "execution_count": 253,
      "outputs": [
        {
          "output_type": "execute_result",
          "data": {
            "text/plain": [
              "(52077, 20)"
            ]
          },
          "metadata": {
            "tags": []
          },
          "execution_count": 253
        },
        {
          "output_type": "execute_result",
          "data": {
            "text/plain": [
              "(2757, 6)"
            ]
          },
          "metadata": {
            "tags": []
          },
          "execution_count": 253
        }
      ]
    },
    {
      "cell_type": "markdown",
      "metadata": {
        "id": "tUcS9QC3emv2",
        "colab_type": "text"
      },
      "source": [
        "## Postal Code Aggregation"
      ]
    },
    {
      "cell_type": "code",
      "metadata": {
        "id": "3-vK4KQeY5v7",
        "colab_type": "code",
        "colab": {}
      },
      "source": [
        "# Drop empty columns\n",
        "postal_codes.drop(columns=['coordonnees', 'geom'], inplace=True)\n",
        "\n",
        "# Rename the columns\n",
        "postal_codes.rename(columns={\"column_1\": \"locality\", \"column_2\": \"city_name\", 'column_3': 'lattitude', 'column_4': 'longitude'}, inplace=True)\n",
        "\n",
        "# Drop the localities' duplicates\n",
        "postal_codes.drop_duplicates(subset=['locality'], inplace=True)"
      ],
      "execution_count": 254,
      "outputs": []
    },
    {
      "cell_type": "code",
      "metadata": {
        "id": "88IOnKHnZiNm",
        "colab_type": "code",
        "colab": {
          "base_uri": "https://localhost:8080/",
          "height": 241
        },
        "outputId": "721a25fe-82cc-49c2-a7e5-54dc144d32f0"
      },
      "source": [
        "# Merge solution 1:\n",
        "df = pd.merge(df, postal_codes, on=['locality'], how='inner')\n",
        "\n",
        "# Merge solution 2:\n",
        "# df.merge(postal_codes, on=['locality'], how='inner', copy=True)\n",
        "\n",
        "# Merge solution 3 (Merge only one column and add it to the dataframe)\n",
        "# df['city_name'] = df['locality'].map(postal_codes.set_index('locality')['city_name'])\n",
        "\n",
        "df.head(5)"
      ],
      "execution_count": 255,
      "outputs": [
        {
          "output_type": "execute_result",
          "data": {
            "text/html": [
              "<div>\n",
              "<style scoped>\n",
              "    .dataframe tbody tr th:only-of-type {\n",
              "        vertical-align: middle;\n",
              "    }\n",
              "\n",
              "    .dataframe tbody tr th {\n",
              "        vertical-align: top;\n",
              "    }\n",
              "\n",
              "    .dataframe thead th {\n",
              "        text-align: right;\n",
              "    }\n",
              "</style>\n",
              "<table border=\"1\" class=\"dataframe\">\n",
              "  <thead>\n",
              "    <tr style=\"text-align: right;\">\n",
              "      <th></th>\n",
              "      <th>locality</th>\n",
              "      <th>type_of_property</th>\n",
              "      <th>subtype_of_property</th>\n",
              "      <th>price</th>\n",
              "      <th>type_of_sale</th>\n",
              "      <th>number_of_rooms</th>\n",
              "      <th>house_area</th>\n",
              "      <th>fully_equipped_kitchen</th>\n",
              "      <th>furnished</th>\n",
              "      <th>open_fire</th>\n",
              "      <th>terrace</th>\n",
              "      <th>terrace_area</th>\n",
              "      <th>garden</th>\n",
              "      <th>garden_area</th>\n",
              "      <th>surface_of_the_land</th>\n",
              "      <th>surface_of_the_plot_of_land</th>\n",
              "      <th>number_of_facades</th>\n",
              "      <th>swimming_pool</th>\n",
              "      <th>state_of_the_building</th>\n",
              "      <th>construction_year</th>\n",
              "      <th>city_name</th>\n",
              "      <th>lattitude</th>\n",
              "      <th>longitude</th>\n",
              "    </tr>\n",
              "  </thead>\n",
              "  <tbody>\n",
              "    <tr>\n",
              "      <th>0</th>\n",
              "      <td>1050</td>\n",
              "      <td>house</td>\n",
              "      <td>house</td>\n",
              "      <td>340000</td>\n",
              "      <td>for sale</td>\n",
              "      <td>6.0</td>\n",
              "      <td>203</td>\n",
              "      <td>1</td>\n",
              "      <td>None</td>\n",
              "      <td>0</td>\n",
              "      <td>1</td>\n",
              "      <td>None</td>\n",
              "      <td>0</td>\n",
              "      <td>None</td>\n",
              "      <td>95.0</td>\n",
              "      <td>None</td>\n",
              "      <td>2</td>\n",
              "      <td>0</td>\n",
              "      <td>to be done up</td>\n",
              "      <td>1901</td>\n",
              "      <td>Ixelles</td>\n",
              "      <td>4.381571</td>\n",
              "      <td>50.822285</td>\n",
              "    </tr>\n",
              "    <tr>\n",
              "      <th>1</th>\n",
              "      <td>1050</td>\n",
              "      <td>house</td>\n",
              "      <td>mixed use building</td>\n",
              "      <td>520000</td>\n",
              "      <td>for sale</td>\n",
              "      <td>4.0</td>\n",
              "      <td>200</td>\n",
              "      <td>0</td>\n",
              "      <td>None</td>\n",
              "      <td>0</td>\n",
              "      <td>0</td>\n",
              "      <td>None</td>\n",
              "      <td>0</td>\n",
              "      <td>None</td>\n",
              "      <td>69.0</td>\n",
              "      <td>None</td>\n",
              "      <td>2</td>\n",
              "      <td>0</td>\n",
              "      <td>to renovate</td>\n",
              "      <td>1940</td>\n",
              "      <td>Ixelles</td>\n",
              "      <td>4.381571</td>\n",
              "      <td>50.822285</td>\n",
              "    </tr>\n",
              "    <tr>\n",
              "      <th>2</th>\n",
              "      <td>1050</td>\n",
              "      <td>house</td>\n",
              "      <td>house</td>\n",
              "      <td>no price</td>\n",
              "      <td>for sale</td>\n",
              "      <td>6.0</td>\n",
              "      <td>None</td>\n",
              "      <td>1</td>\n",
              "      <td>None</td>\n",
              "      <td>0</td>\n",
              "      <td>0</td>\n",
              "      <td>None</td>\n",
              "      <td>0</td>\n",
              "      <td>None</td>\n",
              "      <td>0.0</td>\n",
              "      <td>None</td>\n",
              "      <td>None</td>\n",
              "      <td>0</td>\n",
              "      <td>None</td>\n",
              "      <td>1910</td>\n",
              "      <td>Ixelles</td>\n",
              "      <td>4.381571</td>\n",
              "      <td>50.822285</td>\n",
              "    </tr>\n",
              "    <tr>\n",
              "      <th>3</th>\n",
              "      <td>1050</td>\n",
              "      <td>house</td>\n",
              "      <td>house</td>\n",
              "      <td>599000</td>\n",
              "      <td>for sale</td>\n",
              "      <td>4.0</td>\n",
              "      <td>160</td>\n",
              "      <td>1</td>\n",
              "      <td>None</td>\n",
              "      <td>0</td>\n",
              "      <td>1</td>\n",
              "      <td>None</td>\n",
              "      <td>1</td>\n",
              "      <td>55</td>\n",
              "      <td>100.0</td>\n",
              "      <td>None</td>\n",
              "      <td>2</td>\n",
              "      <td>0</td>\n",
              "      <td>to be done up</td>\n",
              "      <td>1898</td>\n",
              "      <td>Ixelles</td>\n",
              "      <td>4.381571</td>\n",
              "      <td>50.822285</td>\n",
              "    </tr>\n",
              "    <tr>\n",
              "      <th>4</th>\n",
              "      <td>1050</td>\n",
              "      <td>house</td>\n",
              "      <td>house</td>\n",
              "      <td>599000</td>\n",
              "      <td>for sale</td>\n",
              "      <td>3.0</td>\n",
              "      <td>160</td>\n",
              "      <td>1</td>\n",
              "      <td>None</td>\n",
              "      <td>0</td>\n",
              "      <td>1</td>\n",
              "      <td>15</td>\n",
              "      <td>1</td>\n",
              "      <td>60</td>\n",
              "      <td>130.0</td>\n",
              "      <td>None</td>\n",
              "      <td>2</td>\n",
              "      <td>0</td>\n",
              "      <td>good</td>\n",
              "      <td>1953</td>\n",
              "      <td>Ixelles</td>\n",
              "      <td>4.381571</td>\n",
              "      <td>50.822285</td>\n",
              "    </tr>\n",
              "  </tbody>\n",
              "</table>\n",
              "</div>"
            ],
            "text/plain": [
              "   locality type_of_property  ... lattitude  longitude\n",
              "0      1050            house  ...  4.381571  50.822285\n",
              "1      1050            house  ...  4.381571  50.822285\n",
              "2      1050            house  ...  4.381571  50.822285\n",
              "3      1050            house  ...  4.381571  50.822285\n",
              "4      1050            house  ...  4.381571  50.822285\n",
              "\n",
              "[5 rows x 23 columns]"
            ]
          },
          "metadata": {
            "tags": []
          },
          "execution_count": 255
        }
      ]
    },
    {
      "cell_type": "code",
      "metadata": {
        "id": "mwejaMV7YpIj",
        "colab_type": "code",
        "colab": {
          "base_uri": "https://localhost:8080/",
          "height": 34
        },
        "outputId": "515c9e26-ef19-409f-9504-ed748558feb8"
      },
      "source": [
        "df.price.dtypes"
      ],
      "execution_count": 256,
      "outputs": [
        {
          "output_type": "execute_result",
          "data": {
            "text/plain": [
              "dtype('O')"
            ]
          },
          "metadata": {
            "tags": []
          },
          "execution_count": 256
        }
      ]
    },
    {
      "cell_type": "code",
      "metadata": {
        "id": "0j1i05hIYueP",
        "colab_type": "code",
        "colab": {
          "base_uri": "https://localhost:8080/",
          "height": 425
        },
        "outputId": "f391abc8-15e8-4e4f-f138-ee8f0d9e575f"
      },
      "source": [
        "df.dtypes"
      ],
      "execution_count": 257,
      "outputs": [
        {
          "output_type": "execute_result",
          "data": {
            "text/plain": [
              "locality                         int64\n",
              "type_of_property                object\n",
              "subtype_of_property             object\n",
              "price                           object\n",
              "type_of_sale                    object\n",
              "number_of_rooms                float64\n",
              "house_area                      object\n",
              "fully_equipped_kitchen           int64\n",
              "furnished                       object\n",
              "open_fire                        int64\n",
              "terrace                          int64\n",
              "terrace_area                    object\n",
              "garden                           int64\n",
              "garden_area                     object\n",
              "surface_of_the_land            float64\n",
              "surface_of_the_plot_of_land     object\n",
              "number_of_facades               object\n",
              "swimming_pool                    int64\n",
              "state_of_the_building           object\n",
              "construction_year               object\n",
              "city_name                       object\n",
              "lattitude                      float64\n",
              "longitude                      float64\n",
              "dtype: object"
            ]
          },
          "metadata": {
            "tags": []
          },
          "execution_count": 257
        }
      ]
    },
    {
      "cell_type": "markdown",
      "metadata": {
        "id": "qjZH2epaZqvt",
        "colab_type": "text"
      },
      "source": [
        "## Drop duplicates row , missing values & rename columns"
      ]
    },
    {
      "cell_type": "code",
      "metadata": {
        "id": "5CDvXcyGax4D",
        "colab_type": "code",
        "colab": {}
      },
      "source": [
        "# Drop the duplicated rows\n",
        "df.drop_duplicates(inplace=True)"
      ],
      "execution_count": 258,
      "outputs": []
    },
    {
      "cell_type": "code",
      "metadata": {
        "id": "AGunaw8TG5VV",
        "colab_type": "code",
        "colab": {}
      },
      "source": [
        "# rename columns name 'locality' to 'postal_code'\n",
        "\n",
        "df.rename(columns={'locality' :'postal_code'},inplace=True)\n",
        "\n",
        "#df.rename(columns={\"A\": \"a\", \"B\": \"c\"})"
      ],
      "execution_count": 259,
      "outputs": []
    },
    {
      "cell_type": "code",
      "metadata": {
        "id": "UBycltRm_OTb",
        "colab_type": "code",
        "colab": {}
      },
      "source": [
        "# Move column: 'city_name' next to 'postal_code'\n",
        "\n",
        "second_col = df.pop(\"city_name\")\n",
        "\n",
        "df.insert(1, \"city_name\", second_col)\n"
      ],
      "execution_count": 260,
      "outputs": []
    },
    {
      "cell_type": "code",
      "metadata": {
        "id": "m0JcEjwOBM0F",
        "colab_type": "code",
        "colab": {
          "base_uri": "https://localhost:8080/",
          "height": 210
        },
        "outputId": "407afcfc-5138-4b87-e3c1-692074d12bf3"
      },
      "source": [
        "# Drop columns with only 1 unique value\n",
        "\n",
        "df.describe(include='object') \n",
        "\n",
        "df.drop(columns=['type_of_sale','furnished','surface_of_the_plot_of_land'],inplace=True)\n",
        "df.shape"
      ],
      "execution_count": 261,
      "outputs": [
        {
          "output_type": "execute_result",
          "data": {
            "text/html": [
              "<div>\n",
              "<style scoped>\n",
              "    .dataframe tbody tr th:only-of-type {\n",
              "        vertical-align: middle;\n",
              "    }\n",
              "\n",
              "    .dataframe tbody tr th {\n",
              "        vertical-align: top;\n",
              "    }\n",
              "\n",
              "    .dataframe thead th {\n",
              "        text-align: right;\n",
              "    }\n",
              "</style>\n",
              "<table border=\"1\" class=\"dataframe\">\n",
              "  <thead>\n",
              "    <tr style=\"text-align: right;\">\n",
              "      <th></th>\n",
              "      <th>city_name</th>\n",
              "      <th>type_of_property</th>\n",
              "      <th>subtype_of_property</th>\n",
              "      <th>price</th>\n",
              "      <th>type_of_sale</th>\n",
              "      <th>house_area</th>\n",
              "      <th>furnished</th>\n",
              "      <th>terrace_area</th>\n",
              "      <th>garden_area</th>\n",
              "      <th>surface_of_the_plot_of_land</th>\n",
              "      <th>number_of_facades</th>\n",
              "      <th>state_of_the_building</th>\n",
              "      <th>construction_year</th>\n",
              "    </tr>\n",
              "  </thead>\n",
              "  <tbody>\n",
              "    <tr>\n",
              "      <th>count</th>\n",
              "      <td>50841</td>\n",
              "      <td>50841</td>\n",
              "      <td>50841</td>\n",
              "      <td>50841</td>\n",
              "      <td>50841</td>\n",
              "      <td>50841</td>\n",
              "      <td>50841</td>\n",
              "      <td>50841</td>\n",
              "      <td>50841</td>\n",
              "      <td>50841</td>\n",
              "      <td>50841</td>\n",
              "      <td>50841</td>\n",
              "      <td>50841</td>\n",
              "    </tr>\n",
              "    <tr>\n",
              "      <th>unique</th>\n",
              "      <td>1070</td>\n",
              "      <td>2</td>\n",
              "      <td>24</td>\n",
              "      <td>4220</td>\n",
              "      <td>1</td>\n",
              "      <td>693</td>\n",
              "      <td>1</td>\n",
              "      <td>185</td>\n",
              "      <td>1192</td>\n",
              "      <td>1</td>\n",
              "      <td>5</td>\n",
              "      <td>7</td>\n",
              "      <td>220</td>\n",
              "    </tr>\n",
              "    <tr>\n",
              "      <th>top</th>\n",
              "      <td>Antwerpen</td>\n",
              "      <td>house</td>\n",
              "      <td>house</td>\n",
              "      <td>249000</td>\n",
              "      <td>for sale</td>\n",
              "      <td>None</td>\n",
              "      <td>None</td>\n",
              "      <td>None</td>\n",
              "      <td>None</td>\n",
              "      <td>None</td>\n",
              "      <td>2</td>\n",
              "      <td>as new</td>\n",
              "      <td>None</td>\n",
              "    </tr>\n",
              "    <tr>\n",
              "      <th>freq</th>\n",
              "      <td>1028</td>\n",
              "      <td>29001</td>\n",
              "      <td>21809</td>\n",
              "      <td>674</td>\n",
              "      <td>50841</td>\n",
              "      <td>8430</td>\n",
              "      <td>50841</td>\n",
              "      <td>33745</td>\n",
              "      <td>42491</td>\n",
              "      <td>50841</td>\n",
              "      <td>17834</td>\n",
              "      <td>14358</td>\n",
              "      <td>20958</td>\n",
              "    </tr>\n",
              "  </tbody>\n",
              "</table>\n",
              "</div>"
            ],
            "text/plain": [
              "        city_name type_of_property  ... state_of_the_building construction_year\n",
              "count       50841            50841  ...                 50841             50841\n",
              "unique       1070                2  ...                     7               220\n",
              "top     Antwerpen            house  ...                as new              None\n",
              "freq         1028            29001  ...                 14358             20958\n",
              "\n",
              "[4 rows x 13 columns]"
            ]
          },
          "metadata": {
            "tags": []
          },
          "execution_count": 261
        },
        {
          "output_type": "execute_result",
          "data": {
            "text/plain": [
              "(50841, 20)"
            ]
          },
          "metadata": {
            "tags": []
          },
          "execution_count": 261
        }
      ]
    },
    {
      "cell_type": "code",
      "metadata": {
        "id": "xvKQ2-O2Caw1",
        "colab_type": "code",
        "colab": {
          "base_uri": "https://localhost:8080/",
          "height": 374
        },
        "outputId": "dfccc4b3-e7cd-49ed-cefd-2a0d67c7961f"
      },
      "source": [
        "df.isna().sum()"
      ],
      "execution_count": 262,
      "outputs": [
        {
          "output_type": "execute_result",
          "data": {
            "text/plain": [
              "postal_code                   0\n",
              "city_name                     0\n",
              "type_of_property              0\n",
              "subtype_of_property           0\n",
              "price                         0\n",
              "number_of_rooms               2\n",
              "house_area                    0\n",
              "fully_equipped_kitchen        0\n",
              "open_fire                     0\n",
              "terrace                       0\n",
              "terrace_area                  0\n",
              "garden                        0\n",
              "garden_area                   0\n",
              "surface_of_the_land       21840\n",
              "number_of_facades             0\n",
              "swimming_pool                 0\n",
              "state_of_the_building         0\n",
              "construction_year             0\n",
              "lattitude                     0\n",
              "longitude                     0\n",
              "dtype: int64"
            ]
          },
          "metadata": {
            "tags": []
          },
          "execution_count": 262
        }
      ]
    },
    {
      "cell_type": "code",
      "metadata": {
        "id": "uZEZ678wCfcj",
        "colab_type": "code",
        "colab": {}
      },
      "source": [
        "# fill missing value as \"None\" for columns: surface_of_the_land\n",
        "df.surface_of_the_land = df.surface_of_the_land.fillna('None')"
      ],
      "execution_count": 263,
      "outputs": []
    },
    {
      "cell_type": "code",
      "metadata": {
        "id": "qzKu9jgEEkTA",
        "colab_type": "code",
        "colab": {
          "base_uri": "https://localhost:8080/",
          "height": 374
        },
        "outputId": "edacfe06-cada-4c80-c167-1f13dd5a7517"
      },
      "source": [
        "df.isna().sum()"
      ],
      "execution_count": 264,
      "outputs": [
        {
          "output_type": "execute_result",
          "data": {
            "text/plain": [
              "postal_code               0\n",
              "city_name                 0\n",
              "type_of_property          0\n",
              "subtype_of_property       0\n",
              "price                     0\n",
              "number_of_rooms           2\n",
              "house_area                0\n",
              "fully_equipped_kitchen    0\n",
              "open_fire                 0\n",
              "terrace                   0\n",
              "terrace_area              0\n",
              "garden                    0\n",
              "garden_area               0\n",
              "surface_of_the_land       0\n",
              "number_of_facades         0\n",
              "swimming_pool             0\n",
              "state_of_the_building     0\n",
              "construction_year         0\n",
              "lattitude                 0\n",
              "longitude                 0\n",
              "dtype: int64"
            ]
          },
          "metadata": {
            "tags": []
          },
          "execution_count": 264
        }
      ]
    },
    {
      "cell_type": "code",
      "metadata": {
        "id": "_Sx9mbsfEmIU",
        "colab_type": "code",
        "colab": {}
      },
      "source": [
        "# drop 2 rows of missing value for columns: number_of_rooms)\n",
        "\n",
        "df.dropna(inplace=True)"
      ],
      "execution_count": 265,
      "outputs": []
    },
    {
      "cell_type": "code",
      "metadata": {
        "id": "ApRI8U39EqaW",
        "colab_type": "code",
        "colab": {
          "base_uri": "https://localhost:8080/",
          "height": 374
        },
        "outputId": "9c32dd8f-d80d-4d66-91dc-e9c3b2ba827f"
      },
      "source": [
        "df.isna().sum()"
      ],
      "execution_count": 266,
      "outputs": [
        {
          "output_type": "execute_result",
          "data": {
            "text/plain": [
              "postal_code               0\n",
              "city_name                 0\n",
              "type_of_property          0\n",
              "subtype_of_property       0\n",
              "price                     0\n",
              "number_of_rooms           0\n",
              "house_area                0\n",
              "fully_equipped_kitchen    0\n",
              "open_fire                 0\n",
              "terrace                   0\n",
              "terrace_area              0\n",
              "garden                    0\n",
              "garden_area               0\n",
              "surface_of_the_land       0\n",
              "number_of_facades         0\n",
              "swimming_pool             0\n",
              "state_of_the_building     0\n",
              "construction_year         0\n",
              "lattitude                 0\n",
              "longitude                 0\n",
              "dtype: int64"
            ]
          },
          "metadata": {
            "tags": []
          },
          "execution_count": 266
        }
      ]
    },
    {
      "cell_type": "markdown",
      "metadata": {
        "id": "OLYBmgLwiNl-",
        "colab_type": "text"
      },
      "source": [
        "## Columns cleaning"
      ]
    },
    {
      "cell_type": "code",
      "metadata": {
        "id": "9Bn8LaU5kCQj",
        "colab_type": "code",
        "colab": {}
      },
      "source": [
        "# Function to clean unique and dtype of a given column.\n",
        "def print_unique_dtype(column):\n",
        "  \"\"\"Print unique and dtype of a given column\"\"\"\n",
        "  \n",
        "  unique = df[column].value_counts().nunique()\n",
        "  dtype = df[column].dtype\n",
        "\n",
        "  print(f\"{unique} - {dtype}\")"
      ],
      "execution_count": 267,
      "outputs": []
    },
    {
      "cell_type": "markdown",
      "metadata": {
        "id": "WL3eyUhyQJ4H",
        "colab_type": "text"
      },
      "source": [
        "### postal_code "
      ]
    },
    {
      "cell_type": "code",
      "metadata": {
        "id": "TTgtIPfSGHgs",
        "colab_type": "code",
        "colab": {
          "base_uri": "https://localhost:8080/",
          "height": 34
        },
        "outputId": "c2db9df6-ccca-4f79-8968-97bb7ea406d9"
      },
      "source": [
        "# Postal Code is used earlier to aggregate the city name and regions,\n",
        "# so we know it's already clean.\n",
        "\n",
        "print_unique_dtype('postal_code')"
      ],
      "execution_count": 268,
      "outputs": [
        {
          "output_type": "stream",
          "text": [
            "195 - int64\n"
          ],
          "name": "stdout"
        }
      ]
    },
    {
      "cell_type": "markdown",
      "metadata": {
        "id": "fNplDl1uQR6o",
        "colab_type": "text"
      },
      "source": [
        "### city_name"
      ]
    },
    {
      "cell_type": "code",
      "metadata": {
        "id": "CSzkLweGRAFR",
        "colab_type": "code",
        "colab": {
          "base_uri": "https://localhost:8080/",
          "height": 34
        },
        "outputId": "4a3aafb9-3f3f-4f60-f221-f1a1c04972b7"
      },
      "source": [
        "# City name is an \"object\", it come from the aggregated city name,\n",
        "# so we know it's already clean -> Str.\n",
        "\n",
        "print_unique_dtype('city_name')"
      ],
      "execution_count": 269,
      "outputs": [
        {
          "output_type": "stream",
          "text": [
            "195 - object\n"
          ],
          "name": "stdout"
        }
      ]
    },
    {
      "cell_type": "markdown",
      "metadata": {
        "id": "vaeKUjwbRLds",
        "colab_type": "text"
      },
      "source": [
        "### type_of_property"
      ]
    },
    {
      "cell_type": "code",
      "metadata": {
        "id": "1YgFHWOZROf-",
        "colab_type": "code",
        "colab": {
          "base_uri": "https://localhost:8080/",
          "height": 85
        },
        "outputId": "7cf51a21-85ae-4571-889a-293175a321b5"
      },
      "source": [
        "# Type of property is currently a string:\n",
        "# either 'house' or 'apartment'\n",
        "\n",
        "print_unique_dtype('type_of_property')\n",
        "df['type_of_property'].value_counts()"
      ],
      "execution_count": 270,
      "outputs": [
        {
          "output_type": "stream",
          "text": [
            "2 - object\n"
          ],
          "name": "stdout"
        },
        {
          "output_type": "execute_result",
          "data": {
            "text/plain": [
              "house        29000\n",
              "apartment    21839\n",
              "Name: type_of_property, dtype: int64"
            ]
          },
          "metadata": {
            "tags": []
          },
          "execution_count": 270
        }
      ]
    },
    {
      "cell_type": "code",
      "metadata": {
        "colab_type": "code",
        "id": "GlRqFLeiVFns",
        "colab": {
          "base_uri": "https://localhost:8080/",
          "height": 241
        },
        "outputId": "4c356cec-5857-4f47-9083-3e9fc699efc3"
      },
      "source": [
        "# Change house to 0, and apartment to 1\n",
        "\n",
        "df['type_of_property'] = df['type_of_property'].replace({\"house\":0 ,\"apartment\":1})\n",
        "df.head()"
      ],
      "execution_count": 271,
      "outputs": [
        {
          "output_type": "execute_result",
          "data": {
            "text/html": [
              "<div>\n",
              "<style scoped>\n",
              "    .dataframe tbody tr th:only-of-type {\n",
              "        vertical-align: middle;\n",
              "    }\n",
              "\n",
              "    .dataframe tbody tr th {\n",
              "        vertical-align: top;\n",
              "    }\n",
              "\n",
              "    .dataframe thead th {\n",
              "        text-align: right;\n",
              "    }\n",
              "</style>\n",
              "<table border=\"1\" class=\"dataframe\">\n",
              "  <thead>\n",
              "    <tr style=\"text-align: right;\">\n",
              "      <th></th>\n",
              "      <th>postal_code</th>\n",
              "      <th>city_name</th>\n",
              "      <th>type_of_property</th>\n",
              "      <th>subtype_of_property</th>\n",
              "      <th>price</th>\n",
              "      <th>number_of_rooms</th>\n",
              "      <th>house_area</th>\n",
              "      <th>fully_equipped_kitchen</th>\n",
              "      <th>open_fire</th>\n",
              "      <th>terrace</th>\n",
              "      <th>terrace_area</th>\n",
              "      <th>garden</th>\n",
              "      <th>garden_area</th>\n",
              "      <th>surface_of_the_land</th>\n",
              "      <th>number_of_facades</th>\n",
              "      <th>swimming_pool</th>\n",
              "      <th>state_of_the_building</th>\n",
              "      <th>construction_year</th>\n",
              "      <th>lattitude</th>\n",
              "      <th>longitude</th>\n",
              "    </tr>\n",
              "  </thead>\n",
              "  <tbody>\n",
              "    <tr>\n",
              "      <th>0</th>\n",
              "      <td>1050</td>\n",
              "      <td>Ixelles</td>\n",
              "      <td>0</td>\n",
              "      <td>house</td>\n",
              "      <td>340000</td>\n",
              "      <td>6.0</td>\n",
              "      <td>203</td>\n",
              "      <td>1</td>\n",
              "      <td>0</td>\n",
              "      <td>1</td>\n",
              "      <td>None</td>\n",
              "      <td>0</td>\n",
              "      <td>None</td>\n",
              "      <td>95</td>\n",
              "      <td>2</td>\n",
              "      <td>0</td>\n",
              "      <td>to be done up</td>\n",
              "      <td>1901</td>\n",
              "      <td>4.381571</td>\n",
              "      <td>50.822285</td>\n",
              "    </tr>\n",
              "    <tr>\n",
              "      <th>1</th>\n",
              "      <td>1050</td>\n",
              "      <td>Ixelles</td>\n",
              "      <td>0</td>\n",
              "      <td>mixed use building</td>\n",
              "      <td>520000</td>\n",
              "      <td>4.0</td>\n",
              "      <td>200</td>\n",
              "      <td>0</td>\n",
              "      <td>0</td>\n",
              "      <td>0</td>\n",
              "      <td>None</td>\n",
              "      <td>0</td>\n",
              "      <td>None</td>\n",
              "      <td>69</td>\n",
              "      <td>2</td>\n",
              "      <td>0</td>\n",
              "      <td>to renovate</td>\n",
              "      <td>1940</td>\n",
              "      <td>4.381571</td>\n",
              "      <td>50.822285</td>\n",
              "    </tr>\n",
              "    <tr>\n",
              "      <th>2</th>\n",
              "      <td>1050</td>\n",
              "      <td>Ixelles</td>\n",
              "      <td>0</td>\n",
              "      <td>house</td>\n",
              "      <td>no price</td>\n",
              "      <td>6.0</td>\n",
              "      <td>None</td>\n",
              "      <td>1</td>\n",
              "      <td>0</td>\n",
              "      <td>0</td>\n",
              "      <td>None</td>\n",
              "      <td>0</td>\n",
              "      <td>None</td>\n",
              "      <td>0</td>\n",
              "      <td>None</td>\n",
              "      <td>0</td>\n",
              "      <td>None</td>\n",
              "      <td>1910</td>\n",
              "      <td>4.381571</td>\n",
              "      <td>50.822285</td>\n",
              "    </tr>\n",
              "    <tr>\n",
              "      <th>3</th>\n",
              "      <td>1050</td>\n",
              "      <td>Ixelles</td>\n",
              "      <td>0</td>\n",
              "      <td>house</td>\n",
              "      <td>599000</td>\n",
              "      <td>4.0</td>\n",
              "      <td>160</td>\n",
              "      <td>1</td>\n",
              "      <td>0</td>\n",
              "      <td>1</td>\n",
              "      <td>None</td>\n",
              "      <td>1</td>\n",
              "      <td>55</td>\n",
              "      <td>100</td>\n",
              "      <td>2</td>\n",
              "      <td>0</td>\n",
              "      <td>to be done up</td>\n",
              "      <td>1898</td>\n",
              "      <td>4.381571</td>\n",
              "      <td>50.822285</td>\n",
              "    </tr>\n",
              "    <tr>\n",
              "      <th>4</th>\n",
              "      <td>1050</td>\n",
              "      <td>Ixelles</td>\n",
              "      <td>0</td>\n",
              "      <td>house</td>\n",
              "      <td>599000</td>\n",
              "      <td>3.0</td>\n",
              "      <td>160</td>\n",
              "      <td>1</td>\n",
              "      <td>0</td>\n",
              "      <td>1</td>\n",
              "      <td>15</td>\n",
              "      <td>1</td>\n",
              "      <td>60</td>\n",
              "      <td>130</td>\n",
              "      <td>2</td>\n",
              "      <td>0</td>\n",
              "      <td>good</td>\n",
              "      <td>1953</td>\n",
              "      <td>4.381571</td>\n",
              "      <td>50.822285</td>\n",
              "    </tr>\n",
              "  </tbody>\n",
              "</table>\n",
              "</div>"
            ],
            "text/plain": [
              "   postal_code city_name  ...  lattitude  longitude\n",
              "0         1050   Ixelles  ...   4.381571  50.822285\n",
              "1         1050   Ixelles  ...   4.381571  50.822285\n",
              "2         1050   Ixelles  ...   4.381571  50.822285\n",
              "3         1050   Ixelles  ...   4.381571  50.822285\n",
              "4         1050   Ixelles  ...   4.381571  50.822285\n",
              "\n",
              "[5 rows x 20 columns]"
            ]
          },
          "metadata": {
            "tags": []
          },
          "execution_count": 271
        }
      ]
    },
    {
      "cell_type": "markdown",
      "metadata": {
        "id": "zRcQGDHtRFv9",
        "colab_type": "text"
      },
      "source": [
        "### subtype_of_property"
      ]
    },
    {
      "cell_type": "code",
      "metadata": {
        "id": "4DH2doXaRS1M",
        "colab_type": "code",
        "colab": {
          "base_uri": "https://localhost:8080/",
          "height": 459
        },
        "outputId": "a7463ec8-db28-466d-852d-efaf7be08db5"
      },
      "source": [
        "# Subtype of property is related to the property's type.\n",
        "# We'll drop \"castle\" and \"pavillon\"\n",
        "\n",
        "print_unique_dtype('subtype_of_property')\n",
        "df.subtype_of_property.value_counts()"
      ],
      "execution_count": 272,
      "outputs": [
        {
          "output_type": "stream",
          "text": [
            "23 - object\n"
          ],
          "name": "stdout"
        },
        {
          "output_type": "execute_result",
          "data": {
            "text/plain": [
              "house                   21809\n",
              "apartment               16904\n",
              "villa                    2796\n",
              "duplex                   1371\n",
              "ground floor             1170\n",
              "apartment block          1038\n",
              "mixed use building        983\n",
              "penthouse                 886\n",
              "flat studio               852\n",
              "mansion                   459\n",
              "exceptional property      447\n",
              "town house                409\n",
              "country cottage           317\n",
              "service flat              284\n",
              "bungalow                  280\n",
              "loft                      216\n",
              "farmhouse                 143\n",
              "chalet                    138\n",
              "other property             85\n",
              "manor house                85\n",
              "kot                        83\n",
              "triplex                    73\n",
              "castle                     10\n",
              "pavilion                    1\n",
              "Name: subtype_of_property, dtype: int64"
            ]
          },
          "metadata": {
            "tags": []
          },
          "execution_count": 272
        }
      ]
    },
    {
      "cell_type": "code",
      "metadata": {
        "id": "_lix_lSCSy7b",
        "colab_type": "code",
        "colab": {
          "base_uri": "https://localhost:8080/",
          "height": 51
        },
        "outputId": "a0d7f00f-9d8e-4a52-bf54-55c94d754c90"
      },
      "source": [
        "# Drop castle & pavilion & apartment block.\n",
        "df = df[(df['subtype_of_property'] != 'castle') & (df['subtype_of_property'] != 'pavilion') & (df['subtype_of_property'] != 'apartment block')]\n",
        "\n",
        "print_unique_dtype('subtype_of_property')\n",
        "df.shape"
      ],
      "execution_count": 273,
      "outputs": [
        {
          "output_type": "stream",
          "text": [
            "20 - object\n"
          ],
          "name": "stdout"
        },
        {
          "output_type": "execute_result",
          "data": {
            "text/plain": [
              "(49790, 20)"
            ]
          },
          "metadata": {
            "tags": []
          },
          "execution_count": 273
        }
      ]
    },
    {
      "cell_type": "code",
      "metadata": {
        "id": "_wezPQhhYBSc",
        "colab_type": "code",
        "colab": {}
      },
      "source": [
        "# Drop the columns\n",
        "df.drop(columns=['subtype_of_property'],inplace=True)"
      ],
      "execution_count": 274,
      "outputs": []
    },
    {
      "cell_type": "markdown",
      "metadata": {
        "id": "Qw8J27HURW4m",
        "colab_type": "text"
      },
      "source": [
        "### price"
      ]
    },
    {
      "cell_type": "code",
      "metadata": {
        "id": "od28NHi3RaD1",
        "colab_type": "code",
        "colab": {
          "base_uri": "https://localhost:8080/",
          "height": 34
        },
        "outputId": "a6d95b25-5c3e-4a21-a97d-dc0352328f33"
      },
      "source": [
        "# Remove the \"no price\" string from price column.\n",
        "df['price'] = df[df.price != \"no price\"]['price']\n",
        "df.dropna(inplace=True)\n",
        "\n",
        "# Convert the price to int\n",
        "df['price'] = df['price'].astype(int)\n",
        "\n",
        "\n",
        "df.shape\n",
        "df['price'].dtype"
      ],
      "execution_count": 275,
      "outputs": [
        {
          "output_type": "execute_result",
          "data": {
            "text/plain": [
              "(49722, 19)"
            ]
          },
          "metadata": {
            "tags": []
          },
          "execution_count": 275
        },
        {
          "output_type": "execute_result",
          "data": {
            "text/plain": [
              "dtype('int64')"
            ]
          },
          "metadata": {
            "tags": []
          },
          "execution_count": 275
        }
      ]
    },
    {
      "cell_type": "markdown",
      "metadata": {
        "id": "Mrr4nQNncIC0",
        "colab_type": "text"
      },
      "source": [
        ""
      ]
    },
    {
      "cell_type": "markdown",
      "metadata": {
        "id": "QpJ-CtGqRbJF",
        "colab_type": "text"
      },
      "source": [
        "### number_of_rooms"
      ]
    },
    {
      "cell_type": "code",
      "metadata": {
        "id": "ujkvgYOPRkjm",
        "colab_type": "code",
        "colab": {
          "base_uri": "https://localhost:8080/",
          "height": 493
        },
        "outputId": "c7145163-60f1-487f-854e-d1b66caff141"
      },
      "source": [
        "# 204 and 165 are too many rooms to be real.\n",
        "# We remove it.\n",
        "\n",
        "df.number_of_rooms.value_counts()"
      ],
      "execution_count": 276,
      "outputs": [
        {
          "output_type": "execute_result",
          "data": {
            "text/plain": [
              "3.0      16684\n",
              "2.0      16077\n",
              "4.0       7081\n",
              "1.0       4938\n",
              "5.0       2441\n",
              "0.0        985\n",
              "6.0        927\n",
              "7.0        270\n",
              "8.0        126\n",
              "9.0         62\n",
              "10.0        57\n",
              "11.0        22\n",
              "12.0        15\n",
              "15.0         7\n",
              "13.0         5\n",
              "16.0         4\n",
              "20.0         3\n",
              "14.0         3\n",
              "18.0         3\n",
              "204.0        3\n",
              "17.0         2\n",
              "30.0         2\n",
              "23.0         1\n",
              "165.0        1\n",
              "33.0         1\n",
              "24.0         1\n",
              "19.0         1\n",
              "Name: number_of_rooms, dtype: int64"
            ]
          },
          "metadata": {
            "tags": []
          },
          "execution_count": 276
        }
      ]
    },
    {
      "cell_type": "code",
      "metadata": {
        "id": "hqvKdpenUqQO",
        "colab_type": "code",
        "colab": {
          "base_uri": "https://localhost:8080/",
          "height": 357
        },
        "outputId": "a4aa16ce-dcf9-4148-f8f1-473fab422bca"
      },
      "source": [
        "# Remove number_of_rooms >= 165\n",
        "df = df[(df['number_of_rooms'] < 20) & (df['number_of_rooms'] > 0)]\n",
        "\n",
        "# Convert to int\n",
        "df['number_of_rooms'] = df['number_of_rooms'].astype(int)\n",
        "\n",
        "df['number_of_rooms'].value_counts()\n",
        "df.shape"
      ],
      "execution_count": 277,
      "outputs": [
        {
          "output_type": "execute_result",
          "data": {
            "text/plain": [
              "3     16684\n",
              "2     16077\n",
              "4      7081\n",
              "1      4938\n",
              "5      2441\n",
              "6       927\n",
              "7       270\n",
              "8       126\n",
              "9        62\n",
              "10       57\n",
              "11       22\n",
              "12       15\n",
              "15        7\n",
              "13        5\n",
              "16        4\n",
              "18        3\n",
              "14        3\n",
              "17        2\n",
              "19        1\n",
              "Name: number_of_rooms, dtype: int64"
            ]
          },
          "metadata": {
            "tags": []
          },
          "execution_count": 277
        },
        {
          "output_type": "execute_result",
          "data": {
            "text/plain": [
              "(48725, 19)"
            ]
          },
          "metadata": {
            "tags": []
          },
          "execution_count": 277
        }
      ]
    },
    {
      "cell_type": "markdown",
      "metadata": {
        "id": "6Ebv3QvSRlF1",
        "colab_type": "text"
      },
      "source": [
        "### house_area"
      ]
    },
    {
      "cell_type": "code",
      "metadata": {
        "id": "9HaS45XpRno-",
        "colab_type": "code",
        "colab": {
          "base_uri": "https://localhost:8080/",
          "height": 221
        },
        "outputId": "a1fd335c-8f21-4fb3-8ea5-a178152ad9ce"
      },
      "source": [
        "# Lots of None values (8427 entries)\n",
        "df.house_area.value_counts()\n"
      ],
      "execution_count": 278,
      "outputs": [
        {
          "output_type": "execute_result",
          "data": {
            "text/plain": [
              "None    7921\n",
              "90       904\n",
              "120      897\n",
              "100      886\n",
              "150      814\n",
              "        ... \n",
              "1013       1\n",
              "1350       1\n",
              "607        1\n",
              "639        1\n",
              "527        1\n",
              "Name: house_area, Length: 661, dtype: int64"
            ]
          },
          "metadata": {
            "tags": []
          },
          "execution_count": 278
        }
      ]
    },
    {
      "cell_type": "code",
      "metadata": {
        "id": "0vq5d8Vh7iK9",
        "colab_type": "code",
        "colab": {
          "base_uri": "https://localhost:8080/",
          "height": 34
        },
        "outputId": "4bbc5aea-10c4-4731-9a53-2e69a07f24ce"
      },
      "source": [
        "# Remove the 'None' (str) entries\n",
        "df = df[(df['house_area'] != 'None')]\n",
        "\n",
        "# Convert the type to int\n",
        "df['house_area'] = df['house_area'].astype(int)\n",
        "\n",
        "# print_unique_dtype('subtype_of_property')\n",
        "df.shape\n",
        "df['house_area'].dtype"
      ],
      "execution_count": 279,
      "outputs": [
        {
          "output_type": "execute_result",
          "data": {
            "text/plain": [
              "(40804, 19)"
            ]
          },
          "metadata": {
            "tags": []
          },
          "execution_count": 279
        },
        {
          "output_type": "execute_result",
          "data": {
            "text/plain": [
              "dtype('int64')"
            ]
          },
          "metadata": {
            "tags": []
          },
          "execution_count": 279
        }
      ]
    },
    {
      "cell_type": "code",
      "metadata": {
        "id": "T1IEzpDqZI0P",
        "colab_type": "code",
        "colab": {
          "base_uri": "https://localhost:8080/",
          "height": 34
        },
        "outputId": "1d6a56a5-7605-4c25-8568-ac11ec766798"
      },
      "source": [
        "# Delete the 1 and 31700 entries \n",
        "df = df[(df['house_area'] != 1) & (df['house_area'] != 31700)]\n",
        "\n",
        "df.house_area.max()\n"
      ],
      "execution_count": 280,
      "outputs": [
        {
          "output_type": "execute_result",
          "data": {
            "text/plain": [
              "3560"
            ]
          },
          "metadata": {
            "tags": []
          },
          "execution_count": 280
        }
      ]
    },
    {
      "cell_type": "markdown",
      "metadata": {
        "id": "JPeer-nGRoIe",
        "colab_type": "text"
      },
      "source": [
        "### fully_equipped_kitchen"
      ]
    },
    {
      "cell_type": "code",
      "metadata": {
        "id": "Q8Iri2OrRqsu",
        "colab_type": "code",
        "colab": {
          "base_uri": "https://localhost:8080/",
          "height": 68
        },
        "outputId": "23110334-20ca-40d1-bf1d-0ca8ae174b79"
      },
      "source": [
        "# fully_equiped_kitchen is clean\n",
        "\n",
        "df.fully_equipped_kitchen.value_counts() \n",
        "df.fully_equipped_kitchen.dtype"
      ],
      "execution_count": 281,
      "outputs": [
        {
          "output_type": "execute_result",
          "data": {
            "text/plain": [
              "1    28504\n",
              "0    12295\n",
              "Name: fully_equipped_kitchen, dtype: int64"
            ]
          },
          "metadata": {
            "tags": []
          },
          "execution_count": 281
        },
        {
          "output_type": "execute_result",
          "data": {
            "text/plain": [
              "dtype('int64')"
            ]
          },
          "metadata": {
            "tags": []
          },
          "execution_count": 281
        }
      ]
    },
    {
      "cell_type": "code",
      "metadata": {
        "id": "xaOYdcHnVy8c",
        "colab_type": "code",
        "colab": {}
      },
      "source": [
        " "
      ],
      "execution_count": 281,
      "outputs": []
    },
    {
      "cell_type": "markdown",
      "metadata": {
        "id": "dCgpm8NBRq-k",
        "colab_type": "text"
      },
      "source": [
        "### open_fire"
      ]
    },
    {
      "cell_type": "code",
      "metadata": {
        "id": "lEbA8GUNV5Au",
        "colab_type": "code",
        "colab": {
          "base_uri": "https://localhost:8080/",
          "height": 68
        },
        "outputId": "96d6a3e0-b0da-4112-a162-3facfff85e51"
      },
      "source": [
        "# open_fire is clean\n",
        "\n",
        "df.open_fire.value_counts() \n",
        "df.open_fire.dtype"
      ],
      "execution_count": 282,
      "outputs": [
        {
          "output_type": "execute_result",
          "data": {
            "text/plain": [
              "0    38622\n",
              "1     2177\n",
              "Name: open_fire, dtype: int64"
            ]
          },
          "metadata": {
            "tags": []
          },
          "execution_count": 282
        },
        {
          "output_type": "execute_result",
          "data": {
            "text/plain": [
              "dtype('int64')"
            ]
          },
          "metadata": {
            "tags": []
          },
          "execution_count": 282
        }
      ]
    },
    {
      "cell_type": "markdown",
      "metadata": {
        "id": "-VKRcxP2V8H-",
        "colab_type": "text"
      },
      "source": [
        "### terrace"
      ]
    },
    {
      "cell_type": "code",
      "metadata": {
        "id": "tcKBOGUFV_gO",
        "colab_type": "code",
        "colab": {
          "base_uri": "https://localhost:8080/",
          "height": 0
        },
        "outputId": "15e56bb0-455e-43f5-973d-b3e6b94761f5"
      },
      "source": [
        "# terrace is clean\n",
        "\n",
        "df.terrace.value_counts()\n",
        "df.terrace.dtype"
      ],
      "execution_count": 283,
      "outputs": [
        {
          "output_type": "execute_result",
          "data": {
            "text/plain": [
              "1    25236\n",
              "0    15563\n",
              "Name: terrace, dtype: int64"
            ]
          },
          "metadata": {
            "tags": []
          },
          "execution_count": 283
        },
        {
          "output_type": "execute_result",
          "data": {
            "text/plain": [
              "dtype('int64')"
            ]
          },
          "metadata": {
            "tags": []
          },
          "execution_count": 283
        }
      ]
    },
    {
      "cell_type": "markdown",
      "metadata": {
        "id": "UI0jg_90WD-Q",
        "colab_type": "text"
      },
      "source": [
        "### terrace_area"
      ]
    },
    {
      "cell_type": "code",
      "metadata": {
        "id": "wWvl9EwSWObQ",
        "colab_type": "code",
        "colab": {}
      },
      "source": [
        "# 66.4% (25 000) entries are None.\n",
        "# We can't remove them.\n",
        "\n",
        "# Remove the terrace_area field ?\n",
        "# Replace the terrace_area by 'small'/'medium'/'large' terrace, and assign all None to 'small' ?\n",
        "# Replace by 0 ?\n",
        "\n",
        "#Finally the columns will be dropped\n",
        "\n",
        "df.drop(columns=['terrace_area'],inplace=True)\n"
      ],
      "execution_count": 284,
      "outputs": []
    },
    {
      "cell_type": "code",
      "metadata": {
        "id": "wZYQPFNFWTZP",
        "colab_type": "code",
        "colab": {}
      },
      "source": [
        "# Replace: None = 0\n",
        "# df['terrace_area'] = df['terrace_area'].replace({\"None\":0})\n",
        "\n",
        "# df.terrace_area.value_counts() "
      ],
      "execution_count": 285,
      "outputs": []
    },
    {
      "cell_type": "markdown",
      "metadata": {
        "id": "IaE1ZqC3WY1B",
        "colab_type": "text"
      },
      "source": [
        "### garden"
      ]
    },
    {
      "cell_type": "code",
      "metadata": {
        "id": "QW3aunvsWau5",
        "colab_type": "code",
        "colab": {
          "base_uri": "https://localhost:8080/",
          "height": 68
        },
        "outputId": "bebacc0f-0672-4970-d3fc-f0b2fb7e2afc"
      },
      "source": [
        "# garden is clean\n",
        "\n",
        "df.garden.value_counts()\n",
        "df.garden.dtype"
      ],
      "execution_count": 286,
      "outputs": [
        {
          "output_type": "execute_result",
          "data": {
            "text/plain": [
              "0    27706\n",
              "1    13093\n",
              "Name: garden, dtype: int64"
            ]
          },
          "metadata": {
            "tags": []
          },
          "execution_count": 286
        },
        {
          "output_type": "execute_result",
          "data": {
            "text/plain": [
              "dtype('int64')"
            ]
          },
          "metadata": {
            "tags": []
          },
          "execution_count": 286
        }
      ]
    },
    {
      "cell_type": "markdown",
      "metadata": {
        "id": "otSomXhvWdP4",
        "colab_type": "text"
      },
      "source": [
        "### garden_area"
      ]
    },
    {
      "cell_type": "code",
      "metadata": {
        "id": "6K4ApLYPWfOd",
        "colab_type": "code",
        "colab": {}
      },
      "source": [
        "# 33 000 'None' entries\n",
        "# df.garden_area.value_counts() \n",
        "\n",
        "df.drop(columns=['garden_area'],inplace=True)\n"
      ],
      "execution_count": 287,
      "outputs": []
    },
    {
      "cell_type": "code",
      "metadata": {
        "id": "1NY6EJ6ZWhup",
        "colab_type": "code",
        "colab": {}
      },
      "source": [
        "# Replace 'None' by 0\n",
        "# df['garden_area'] = df['garden_area'].replace({\"None\":0})\n",
        "\n",
        "# df.terrace_area.value_counts() "
      ],
      "execution_count": 288,
      "outputs": []
    },
    {
      "cell_type": "markdown",
      "metadata": {
        "id": "7LbVQnsjZUu0",
        "colab_type": "text"
      },
      "source": [
        "### surface_of_the_land"
      ]
    },
    {
      "cell_type": "code",
      "metadata": {
        "id": "76Hi9BC0ZT_m",
        "colab_type": "code",
        "colab": {
          "base_uri": "https://localhost:8080/",
          "height": 221
        },
        "outputId": "e247f9e5-245f-46f6-a008-284e40e37a37"
      },
      "source": [
        "# Surface of the land has 20 000 None entries\n",
        "df.surface_of_the_land.value_counts()"
      ],
      "execution_count": 289,
      "outputs": [
        {
          "output_type": "execute_result",
          "data": {
            "text/plain": [
              "None       19236\n",
              "0.0         1797\n",
              "150.0        170\n",
              "200.0        160\n",
              "1000.0       146\n",
              "           ...  \n",
              "74400.0        1\n",
              "2229.0         1\n",
              "2228.0         1\n",
              "1018.0         1\n",
              "2673.0         1\n",
              "Name: surface_of_the_land, Length: 2955, dtype: int64"
            ]
          },
          "metadata": {
            "tags": []
          },
          "execution_count": 289
        }
      ]
    },
    {
      "cell_type": "code",
      "metadata": {
        "id": "ZkFFjTRoZc0_",
        "colab_type": "code",
        "colab": {
          "base_uri": "https://localhost:8080/",
          "height": 221
        },
        "outputId": "ad4bf4a7-5cf1-4b40-ca85-27eb8ebca831"
      },
      "source": [
        "# Replace 'None' by 0\n",
        "df['surface_of_the_land'] = df['surface_of_the_land'].replace({\"None\":0}).astype(int)\n",
        "\n",
        "df.surface_of_the_land.value_counts()"
      ],
      "execution_count": 290,
      "outputs": [
        {
          "output_type": "execute_result",
          "data": {
            "text/plain": [
              "0        21033\n",
              "150        170\n",
              "200        160\n",
              "1000       146\n",
              "300        146\n",
              "         ...  \n",
              "15222        1\n",
              "2992         1\n",
              "33793        1\n",
              "1041         1\n",
              "2737         1\n",
              "Name: surface_of_the_land, Length: 2954, dtype: int64"
            ]
          },
          "metadata": {
            "tags": []
          },
          "execution_count": 290
        }
      ]
    },
    {
      "cell_type": "markdown",
      "metadata": {
        "id": "O-g5OO7KZf0G",
        "colab_type": "text"
      },
      "source": [
        "### number_of_facades"
      ]
    },
    {
      "cell_type": "code",
      "metadata": {
        "id": "YwOMQnroZiyJ",
        "colab_type": "code",
        "colab": {
          "base_uri": "https://localhost:8080/",
          "height": 119
        },
        "outputId": "aa0a0804-a7bc-4cd0-cd30-bef6799dc152"
      },
      "source": [
        "# Number of facades has a lot of None value.\n",
        "# Also, some house have only 1 facade.\n",
        "\n",
        "df.number_of_facades.value_counts()"
      ],
      "execution_count": 291,
      "outputs": [
        {
          "output_type": "execute_result",
          "data": {
            "text/plain": [
              "2       14531\n",
              "None    10360\n",
              "4        8104\n",
              "3        7400\n",
              "1         404\n",
              "Name: number_of_facades, dtype: int64"
            ]
          },
          "metadata": {
            "tags": []
          },
          "execution_count": 291
        }
      ]
    },
    {
      "cell_type": "code",
      "metadata": {
        "id": "gSFUYWKDadGD",
        "colab_type": "code",
        "colab": {
          "base_uri": "https://localhost:8080/",
          "height": 102
        },
        "outputId": "15bfda9b-7e26-41c6-fb03-737afccc1b65"
      },
      "source": [
        "# Replace 'None' by 0\n",
        "df['number_of_facades'] = df['number_of_facades'].replace({\"None\": 0}).astype(int)\n",
        "\n",
        "# Drop the 1-facade houses.\n",
        "df = df[(df['number_of_facades'] != 1)]\n",
        "\n",
        "df.number_of_facades.value_counts()"
      ],
      "execution_count": 292,
      "outputs": [
        {
          "output_type": "execute_result",
          "data": {
            "text/plain": [
              "2    14531\n",
              "0    10360\n",
              "4     8104\n",
              "3     7400\n",
              "Name: number_of_facades, dtype: int64"
            ]
          },
          "metadata": {
            "tags": []
          },
          "execution_count": 292
        }
      ]
    },
    {
      "cell_type": "markdown",
      "metadata": {
        "id": "BugfLt_BZjSh",
        "colab_type": "text"
      },
      "source": [
        "### swimming_pool"
      ]
    },
    {
      "cell_type": "code",
      "metadata": {
        "id": "ox05UrA3ZnJ_",
        "colab_type": "code",
        "colab": {
          "base_uri": "https://localhost:8080/",
          "height": 0
        },
        "outputId": "c981ee81-25a2-44b4-cb51-ce1c51ff3b13"
      },
      "source": [
        "# Swimming pool data is clean\n",
        "df.swimming_pool.value_counts()"
      ],
      "execution_count": 293,
      "outputs": [
        {
          "output_type": "execute_result",
          "data": {
            "text/plain": [
              "0    39699\n",
              "1      696\n",
              "Name: swimming_pool, dtype: int64"
            ]
          },
          "metadata": {
            "tags": []
          },
          "execution_count": 293
        }
      ]
    },
    {
      "cell_type": "markdown",
      "metadata": {
        "id": "SjDhwO86ZmTm",
        "colab_type": "text"
      },
      "source": [
        "### state_of_the_building"
      ]
    },
    {
      "cell_type": "code",
      "metadata": {
        "id": "WbxRNmJaZxbI",
        "colab_type": "code",
        "colab": {
          "base_uri": "https://localhost:8080/",
          "height": 0
        },
        "outputId": "8478fb17-deb9-470d-f1d4-103178a37968"
      },
      "source": [
        "# State of the building data has 'None'\n",
        "df.state_of_the_building.value_counts()"
      ],
      "execution_count": 294,
      "outputs": [
        {
          "output_type": "execute_result",
          "data": {
            "text/plain": [
              "as new            12096\n",
              "good              10985\n",
              "None               9796\n",
              "to be done up      2789\n",
              "to renovate        2441\n",
              "just renovated     2147\n",
              "to restore          141\n",
              "Name: state_of_the_building, dtype: int64"
            ]
          },
          "metadata": {
            "tags": []
          },
          "execution_count": 294
        }
      ]
    },
    {
      "cell_type": "code",
      "metadata": {
        "id": "5Iboyn_sQ0e-",
        "colab_type": "code",
        "colab": {
          "base_uri": "https://localhost:8080/",
          "height": 0
        },
        "outputId": "4b80cbc8-be44-454e-d184-76e79d64c2c2"
      },
      "source": [
        "# Replace 'None' by 'unknown'\n",
        "df['state_of_the_building'] = df['state_of_the_building'].replace({\"None\": \"unknown\"})\n",
        "df.state_of_the_building.value_counts()"
      ],
      "execution_count": 295,
      "outputs": [
        {
          "output_type": "execute_result",
          "data": {
            "text/plain": [
              "as new            12096\n",
              "good              10985\n",
              "unknown            9796\n",
              "to be done up      2789\n",
              "to renovate        2441\n",
              "just renovated     2147\n",
              "to restore          141\n",
              "Name: state_of_the_building, dtype: int64"
            ]
          },
          "metadata": {
            "tags": []
          },
          "execution_count": 295
        }
      ]
    },
    {
      "cell_type": "markdown",
      "metadata": {
        "id": "Wp1RnxvzZx2K",
        "colab_type": "text"
      },
      "source": [
        "### construction_year"
      ]
    },
    {
      "cell_type": "code",
      "metadata": {
        "id": "DLf5BDJLZ12G",
        "colab_type": "code",
        "colab": {
          "base_uri": "https://localhost:8080/",
          "height": 221
        },
        "outputId": "fe5b660d-2830-4b87-8911-8bb053c8c341"
      },
      "source": [
        "df.construction_year.value_counts(normalize=True)"
      ],
      "execution_count": 296,
      "outputs": [
        {
          "output_type": "execute_result",
          "data": {
            "text/plain": [
              "None    0.378710\n",
              "2020    0.080456\n",
              "2019    0.047852\n",
              "2018    0.022206\n",
              "1930    0.013021\n",
              "          ...   \n",
              "1781    0.000025\n",
              "1855    0.000025\n",
              "1876    0.000025\n",
              "1854    0.000025\n",
              "1873    0.000025\n",
              "Name: construction_year, Length: 217, dtype: float64"
            ]
          },
          "metadata": {
            "tags": []
          },
          "execution_count": 296
        }
      ]
    },
    {
      "cell_type": "code",
      "metadata": {
        "id": "ssb9DaHRamrR",
        "colab_type": "code",
        "colab": {}
      },
      "source": [
        "# 41% of data construction year unknown.\n",
        "# drop construction year column\n",
        "\n",
        "df.drop(columns=['construction_year'],inplace=True)"
      ],
      "execution_count": 297,
      "outputs": []
    },
    {
      "cell_type": "markdown",
      "metadata": {
        "id": "OKiMlUYrJMbz",
        "colab_type": "text"
      },
      "source": [
        "## Provinces and regions aggregation"
      ]
    },
    {
      "cell_type": "code",
      "metadata": {
        "id": "qZZ8A1vwI3PD",
        "colab_type": "code",
        "colab": {
          "base_uri": "https://localhost:8080/",
          "height": 54
        },
        "outputId": "f3fc9122-e218-4e78-eccf-ae3cf8367f5c"
      },
      "source": [
        "# This cell create a dictionnary of all postal codes, and their associated provinces and regions.\n",
        "\n",
        "provinces = {\n",
        "    'Bruxelles-Capitale': {\n",
        "        'range': [(1000, 1299)],\n",
        "        'region': 'Bruxelles'\n",
        "    },\n",
        "    'Brabant wallon': {\n",
        "        'range': [(1300, 1499)],\n",
        "        'region': 'Wallonie'\n",
        "    },\n",
        "    'Brabant flamand': {\n",
        "        'range': [(1500, 1999), (3000, 3499)],\n",
        "        'region': 'Flandre'\n",
        "    },\n",
        "    'Anvers': {\n",
        "        'range': [(2000, 2999)],\n",
        "        'region': 'Flandre'\n",
        "    },\n",
        "    'Limbourg': {\n",
        "        'range': [(3500, 3999)],\n",
        "        'region': 'Flandre'\n",
        "    },\n",
        "    'Liège': {\n",
        "        'range': [(4000, 4999)],\n",
        "        'region': 'Wallonie'\n",
        "    },\n",
        "    'Namur': {\n",
        "        'range': [(5000, 5999)],\n",
        "        'region': 'Wallonie'\n",
        "    },\n",
        "    'Hainaut': {\n",
        "        'range': [(6000, 6599), (7000, 7999)],\n",
        "        'region': 'Wallonie'\n",
        "    },\n",
        "    'Luxembourg': {\n",
        "        'range': [(6600, 6999)],\n",
        "        'region': 'Wallonie'\n",
        "    },\n",
        "    'Flandre-Occidentale': {\n",
        "        'range': [(8000, 8999)],\n",
        "        'region': 'Flandre'\n",
        "    },\n",
        "    'Flandre-Orientale': {\n",
        "        'range': [(9000, 9999)],\n",
        "        'region': 'Flandre'\n",
        "    }\n",
        "}\n",
        "\n",
        "def convert_by_postal_code():\n",
        "  \"\"\"\n",
        "  Convert the 'provinces' dictionnary to a dictionnary of postal codes as key,\n",
        "  and its region and province as values.\n",
        "  \"\"\"\n",
        "  postal_dict = {}\n",
        "\n",
        "  # Loop through each entry in the \"provinces\" dictionnary\n",
        "  for province, content in provinces.items():\n",
        "\n",
        "    # Loop though each postal code\n",
        "    for postal_code_tuple in content['range']:\n",
        "      for code in range(postal_code_tuple[0], postal_code_tuple[1] + 1):\n",
        "\n",
        "        # Append the province and region for each postal code.\n",
        "        postal_dict[code] = {'province': province, 'region': content['region']}\n",
        "\n",
        "  return postal_dict\n",
        "\n",
        "postal_dict = convert_by_postal_code()\n",
        "print(postal_dict)\n"
      ],
      "execution_count": 298,
      "outputs": [
        {
          "output_type": "stream",
          "text": [
            "{1000: {'province': 'Bruxelles-Capitale', 'region': 'Bruxelles'}, 1001: {'province': 'Bruxelles-Capitale', 'region': 'Bruxelles'}, 1002: {'province': 'Bruxelles-Capitale', 'region': 'Bruxelles'}, 1003: {'province': 'Bruxelles-Capitale', 'region': 'Bruxelles'}, 1004: {'province': 'Bruxelles-Capitale', 'region': 'Bruxelles'}, 1005: {'province': 'Bruxelles-Capitale', 'region': 'Bruxelles'}, 1006: {'province': 'Bruxelles-Capitale', 'region': 'Bruxelles'}, 1007: {'province': 'Bruxelles-Capitale', 'region': 'Bruxelles'}, 1008: {'province': 'Bruxelles-Capitale', 'region': 'Bruxelles'}, 1009: {'province': 'Bruxelles-Capitale', 'region': 'Bruxelles'}, 1010: {'province': 'Bruxelles-Capitale', 'region': 'Bruxelles'}, 1011: {'province': 'Bruxelles-Capitale', 'region': 'Bruxelles'}, 1012: {'province': 'Bruxelles-Capitale', 'region': 'Bruxelles'}, 1013: {'province': 'Bruxelles-Capitale', 'region': 'Bruxelles'}, 1014: {'province': 'Bruxelles-Capitale', 'region': 'Bruxelles'}, 1015: {'province': 'Bruxelles-Capitale', 'region': 'Bruxelles'}, 1016: {'province': 'Bruxelles-Capitale', 'region': 'Bruxelles'}, 1017: {'province': 'Bruxelles-Capitale', 'region': 'Bruxelles'}, 1018: {'province': 'Bruxelles-Capitale', 'region': 'Bruxelles'}, 1019: {'province': 'Bruxelles-Capitale', 'region': 'Bruxelles'}, 1020: {'province': 'Bruxelles-Capitale', 'region': 'Bruxelles'}, 1021: {'province': 'Bruxelles-Capitale', 'region': 'Bruxelles'}, 1022: {'province': 'Bruxelles-Capitale', 'region': 'Bruxelles'}, 1023: {'province': 'Bruxelles-Capitale', 'region': 'Bruxelles'}, 1024: {'province': 'Bruxelles-Capitale', 'region': 'Bruxelles'}, 1025: {'province': 'Bruxelles-Capitale', 'region': 'Bruxelles'}, 1026: {'province': 'Bruxelles-Capitale', 'region': 'Bruxelles'}, 1027: {'province': 'Bruxelles-Capitale', 'region': 'Bruxelles'}, 1028: {'province': 'Bruxelles-Capitale', 'region': 'Bruxelles'}, 1029: {'province': 'Bruxelles-Capitale', 'region': 'Bruxelles'}, 1030: {'province': 'Bruxelles-Capitale', 'region': 'Bruxelles'}, 1031: {'province': 'Bruxelles-Capitale', 'region': 'Bruxelles'}, 1032: {'province': 'Bruxelles-Capitale', 'region': 'Bruxelles'}, 1033: {'province': 'Bruxelles-Capitale', 'region': 'Bruxelles'}, 1034: {'province': 'Bruxelles-Capitale', 'region': 'Bruxelles'}, 1035: {'province': 'Bruxelles-Capitale', 'region': 'Bruxelles'}, 1036: {'province': 'Bruxelles-Capitale', 'region': 'Bruxelles'}, 1037: {'province': 'Bruxelles-Capitale', 'region': 'Bruxelles'}, 1038: {'province': 'Bruxelles-Capitale', 'region': 'Bruxelles'}, 1039: {'province': 'Bruxelles-Capitale', 'region': 'Bruxelles'}, 1040: {'province': 'Bruxelles-Capitale', 'region': 'Bruxelles'}, 1041: {'province': 'Bruxelles-Capitale', 'region': 'Bruxelles'}, 1042: {'province': 'Bruxelles-Capitale', 'region': 'Bruxelles'}, 1043: {'province': 'Bruxelles-Capitale', 'region': 'Bruxelles'}, 1044: {'province': 'Bruxelles-Capitale', 'region': 'Bruxelles'}, 1045: {'province': 'Bruxelles-Capitale', 'region': 'Bruxelles'}, 1046: {'province': 'Bruxelles-Capitale', 'region': 'Bruxelles'}, 1047: {'province': 'Bruxelles-Capitale', 'region': 'Bruxelles'}, 1048: {'province': 'Bruxelles-Capitale', 'region': 'Bruxelles'}, 1049: {'province': 'Bruxelles-Capitale', 'region': 'Bruxelles'}, 1050: {'province': 'Bruxelles-Capitale', 'region': 'Bruxelles'}, 1051: {'province': 'Bruxelles-Capitale', 'region': 'Bruxelles'}, 1052: {'province': 'Bruxelles-Capitale', 'region': 'Bruxelles'}, 1053: {'province': 'Bruxelles-Capitale', 'region': 'Bruxelles'}, 1054: {'province': 'Bruxelles-Capitale', 'region': 'Bruxelles'}, 1055: {'province': 'Bruxelles-Capitale', 'region': 'Bruxelles'}, 1056: {'province': 'Bruxelles-Capitale', 'region': 'Bruxelles'}, 1057: {'province': 'Bruxelles-Capitale', 'region': 'Bruxelles'}, 1058: {'province': 'Bruxelles-Capitale', 'region': 'Bruxelles'}, 1059: {'province': 'Bruxelles-Capitale', 'region': 'Bruxelles'}, 1060: {'province': 'Bruxelles-Capitale', 'region': 'Bruxelles'}, 1061: {'province': 'Bruxelles-Capitale', 'region': 'Bruxelles'}, 1062: {'province': 'Bruxelles-Capitale', 'region': 'Bruxelles'}, 1063: {'province': 'Bruxelles-Capitale', 'region': 'Bruxelles'}, 1064: {'province': 'Bruxelles-Capitale', 'region': 'Bruxelles'}, 1065: {'province': 'Bruxelles-Capitale', 'region': 'Bruxelles'}, 1066: {'province': 'Bruxelles-Capitale', 'region': 'Bruxelles'}, 1067: {'province': 'Bruxelles-Capitale', 'region': 'Bruxelles'}, 1068: {'province': 'Bruxelles-Capitale', 'region': 'Bruxelles'}, 1069: {'province': 'Bruxelles-Capitale', 'region': 'Bruxelles'}, 1070: {'province': 'Bruxelles-Capitale', 'region': 'Bruxelles'}, 1071: {'province': 'Bruxelles-Capitale', 'region': 'Bruxelles'}, 1072: {'province': 'Bruxelles-Capitale', 'region': 'Bruxelles'}, 1073: {'province': 'Bruxelles-Capitale', 'region': 'Bruxelles'}, 1074: {'province': 'Bruxelles-Capitale', 'region': 'Bruxelles'}, 1075: {'province': 'Bruxelles-Capitale', 'region': 'Bruxelles'}, 1076: {'province': 'Bruxelles-Capitale', 'region': 'Bruxelles'}, 1077: {'province': 'Bruxelles-Capitale', 'region': 'Bruxelles'}, 1078: {'province': 'Bruxelles-Capitale', 'region': 'Bruxelles'}, 1079: {'province': 'Bruxelles-Capitale', 'region': 'Bruxelles'}, 1080: {'province': 'Bruxelles-Capitale', 'region': 'Bruxelles'}, 1081: {'province': 'Bruxelles-Capitale', 'region': 'Bruxelles'}, 1082: {'province': 'Bruxelles-Capitale', 'region': 'Bruxelles'}, 1083: {'province': 'Bruxelles-Capitale', 'region': 'Bruxelles'}, 1084: {'province': 'Bruxelles-Capitale', 'region': 'Bruxelles'}, 1085: {'province': 'Bruxelles-Capitale', 'region': 'Bruxelles'}, 1086: {'province': 'Bruxelles-Capitale', 'region': 'Bruxelles'}, 1087: {'province': 'Bruxelles-Capitale', 'region': 'Bruxelles'}, 1088: {'province': 'Bruxelles-Capitale', 'region': 'Bruxelles'}, 1089: {'province': 'Bruxelles-Capitale', 'region': 'Bruxelles'}, 1090: {'province': 'Bruxelles-Capitale', 'region': 'Bruxelles'}, 1091: {'province': 'Bruxelles-Capitale', 'region': 'Bruxelles'}, 1092: {'province': 'Bruxelles-Capitale', 'region': 'Bruxelles'}, 1093: {'province': 'Bruxelles-Capitale', 'region': 'Bruxelles'}, 1094: {'province': 'Bruxelles-Capitale', 'region': 'Bruxelles'}, 1095: {'province': 'Bruxelles-Capitale', 'region': 'Bruxelles'}, 1096: {'province': 'Bruxelles-Capitale', 'region': 'Bruxelles'}, 1097: {'province': 'Bruxelles-Capitale', 'region': 'Bruxelles'}, 1098: {'province': 'Bruxelles-Capitale', 'region': 'Bruxelles'}, 1099: {'province': 'Bruxelles-Capitale', 'region': 'Bruxelles'}, 1100: {'province': 'Bruxelles-Capitale', 'region': 'Bruxelles'}, 1101: {'province': 'Bruxelles-Capitale', 'region': 'Bruxelles'}, 1102: {'province': 'Bruxelles-Capitale', 'region': 'Bruxelles'}, 1103: {'province': 'Bruxelles-Capitale', 'region': 'Bruxelles'}, 1104: {'province': 'Bruxelles-Capitale', 'region': 'Bruxelles'}, 1105: {'province': 'Bruxelles-Capitale', 'region': 'Bruxelles'}, 1106: {'province': 'Bruxelles-Capitale', 'region': 'Bruxelles'}, 1107: {'province': 'Bruxelles-Capitale', 'region': 'Bruxelles'}, 1108: {'province': 'Bruxelles-Capitale', 'region': 'Bruxelles'}, 1109: {'province': 'Bruxelles-Capitale', 'region': 'Bruxelles'}, 1110: {'province': 'Bruxelles-Capitale', 'region': 'Bruxelles'}, 1111: {'province': 'Bruxelles-Capitale', 'region': 'Bruxelles'}, 1112: {'province': 'Bruxelles-Capitale', 'region': 'Bruxelles'}, 1113: {'province': 'Bruxelles-Capitale', 'region': 'Bruxelles'}, 1114: {'province': 'Bruxelles-Capitale', 'region': 'Bruxelles'}, 1115: {'province': 'Bruxelles-Capitale', 'region': 'Bruxelles'}, 1116: {'province': 'Bruxelles-Capitale', 'region': 'Bruxelles'}, 1117: {'province': 'Bruxelles-Capitale', 'region': 'Bruxelles'}, 1118: {'province': 'Bruxelles-Capitale', 'region': 'Bruxelles'}, 1119: {'province': 'Bruxelles-Capitale', 'region': 'Bruxelles'}, 1120: {'province': 'Bruxelles-Capitale', 'region': 'Bruxelles'}, 1121: {'province': 'Bruxelles-Capitale', 'region': 'Bruxelles'}, 1122: {'province': 'Bruxelles-Capitale', 'region': 'Bruxelles'}, 1123: {'province': 'Bruxelles-Capitale', 'region': 'Bruxelles'}, 1124: {'province': 'Bruxelles-Capitale', 'region': 'Bruxelles'}, 1125: {'province': 'Bruxelles-Capitale', 'region': 'Bruxelles'}, 1126: {'province': 'Bruxelles-Capitale', 'region': 'Bruxelles'}, 1127: {'province': 'Bruxelles-Capitale', 'region': 'Bruxelles'}, 1128: {'province': 'Bruxelles-Capitale', 'region': 'Bruxelles'}, 1129: {'province': 'Bruxelles-Capitale', 'region': 'Bruxelles'}, 1130: {'province': 'Bruxelles-Capitale', 'region': 'Bruxelles'}, 1131: {'province': 'Bruxelles-Capitale', 'region': 'Bruxelles'}, 1132: {'province': 'Bruxelles-Capitale', 'region': 'Bruxelles'}, 1133: {'province': 'Bruxelles-Capitale', 'region': 'Bruxelles'}, 1134: {'province': 'Bruxelles-Capitale', 'region': 'Bruxelles'}, 1135: {'province': 'Bruxelles-Capitale', 'region': 'Bruxelles'}, 1136: {'province': 'Bruxelles-Capitale', 'region': 'Bruxelles'}, 1137: {'province': 'Bruxelles-Capitale', 'region': 'Bruxelles'}, 1138: {'province': 'Bruxelles-Capitale', 'region': 'Bruxelles'}, 1139: {'province': 'Bruxelles-Capitale', 'region': 'Bruxelles'}, 1140: {'province': 'Bruxelles-Capitale', 'region': 'Bruxelles'}, 1141: {'province': 'Bruxelles-Capitale', 'region': 'Bruxelles'}, 1142: {'province': 'Bruxelles-Capitale', 'region': 'Bruxelles'}, 1143: {'province': 'Bruxelles-Capitale', 'region': 'Bruxelles'}, 1144: {'province': 'Bruxelles-Capitale', 'region': 'Bruxelles'}, 1145: {'province': 'Bruxelles-Capitale', 'region': 'Bruxelles'}, 1146: {'province': 'Bruxelles-Capitale', 'region': 'Bruxelles'}, 1147: {'province': 'Bruxelles-Capitale', 'region': 'Bruxelles'}, 1148: {'province': 'Bruxelles-Capitale', 'region': 'Bruxelles'}, 1149: {'province': 'Bruxelles-Capitale', 'region': 'Bruxelles'}, 1150: {'province': 'Bruxelles-Capitale', 'region': 'Bruxelles'}, 1151: {'province': 'Bruxelles-Capitale', 'region': 'Bruxelles'}, 1152: {'province': 'Bruxelles-Capitale', 'region': 'Bruxelles'}, 1153: {'province': 'Bruxelles-Capitale', 'region': 'Bruxelles'}, 1154: {'province': 'Bruxelles-Capitale', 'region': 'Bruxelles'}, 1155: {'province': 'Bruxelles-Capitale', 'region': 'Bruxelles'}, 1156: {'province': 'Bruxelles-Capitale', 'region': 'Bruxelles'}, 1157: {'province': 'Bruxelles-Capitale', 'region': 'Bruxelles'}, 1158: {'province': 'Bruxelles-Capitale', 'region': 'Bruxelles'}, 1159: {'province': 'Bruxelles-Capitale', 'region': 'Bruxelles'}, 1160: {'province': 'Bruxelles-Capitale', 'region': 'Bruxelles'}, 1161: {'province': 'Bruxelles-Capitale', 'region': 'Bruxelles'}, 1162: {'province': 'Bruxelles-Capitale', 'region': 'Bruxelles'}, 1163: {'province': 'Bruxelles-Capitale', 'region': 'Bruxelles'}, 1164: {'province': 'Bruxelles-Capitale', 'region': 'Bruxelles'}, 1165: {'province': 'Bruxelles-Capitale', 'region': 'Bruxelles'}, 1166: {'province': 'Bruxelles-Capitale', 'region': 'Bruxelles'}, 1167: {'province': 'Bruxelles-Capitale', 'region': 'Bruxelles'}, 1168: {'province': 'Bruxelles-Capitale', 'region': 'Bruxelles'}, 1169: {'province': 'Bruxelles-Capitale', 'region': 'Bruxelles'}, 1170: {'province': 'Bruxelles-Capitale', 'region': 'Bruxelles'}, 1171: {'province': 'Bruxelles-Capitale', 'region': 'Bruxelles'}, 1172: {'province': 'Bruxelles-Capitale', 'region': 'Bruxelles'}, 1173: {'province': 'Bruxelles-Capitale', 'region': 'Bruxelles'}, 1174: {'province': 'Bruxelles-Capitale', 'region': 'Bruxelles'}, 1175: {'province': 'Bruxelles-Capitale', 'region': 'Bruxelles'}, 1176: {'province': 'Bruxelles-Capitale', 'region': 'Bruxelles'}, 1177: {'province': 'Bruxelles-Capitale', 'region': 'Bruxelles'}, 1178: {'province': 'Bruxelles-Capitale', 'region': 'Bruxelles'}, 1179: {'province': 'Bruxelles-Capitale', 'region': 'Bruxelles'}, 1180: {'province': 'Bruxelles-Capitale', 'region': 'Bruxelles'}, 1181: {'province': 'Bruxelles-Capitale', 'region': 'Bruxelles'}, 1182: {'province': 'Bruxelles-Capitale', 'region': 'Bruxelles'}, 1183: {'province': 'Bruxelles-Capitale', 'region': 'Bruxelles'}, 1184: {'province': 'Bruxelles-Capitale', 'region': 'Bruxelles'}, 1185: {'province': 'Bruxelles-Capitale', 'region': 'Bruxelles'}, 1186: {'province': 'Bruxelles-Capitale', 'region': 'Bruxelles'}, 1187: {'province': 'Bruxelles-Capitale', 'region': 'Bruxelles'}, 1188: {'province': 'Bruxelles-Capitale', 'region': 'Bruxelles'}, 1189: {'province': 'Bruxelles-Capitale', 'region': 'Bruxelles'}, 1190: {'province': 'Bruxelles-Capitale', 'region': 'Bruxelles'}, 1191: {'province': 'Bruxelles-Capitale', 'region': 'Bruxelles'}, 1192: {'province': 'Bruxelles-Capitale', 'region': 'Bruxelles'}, 1193: {'province': 'Bruxelles-Capitale', 'region': 'Bruxelles'}, 1194: {'province': 'Bruxelles-Capitale', 'region': 'Bruxelles'}, 1195: {'province': 'Bruxelles-Capitale', 'region': 'Bruxelles'}, 1196: {'province': 'Bruxelles-Capitale', 'region': 'Bruxelles'}, 1197: {'province': 'Bruxelles-Capitale', 'region': 'Bruxelles'}, 1198: {'province': 'Bruxelles-Capitale', 'region': 'Bruxelles'}, 1199: {'province': 'Bruxelles-Capitale', 'region': 'Bruxelles'}, 1200: {'province': 'Bruxelles-Capitale', 'region': 'Bruxelles'}, 1201: {'province': 'Bruxelles-Capitale', 'region': 'Bruxelles'}, 1202: {'province': 'Bruxelles-Capitale', 'region': 'Bruxelles'}, 1203: {'province': 'Bruxelles-Capitale', 'region': 'Bruxelles'}, 1204: {'province': 'Bruxelles-Capitale', 'region': 'Bruxelles'}, 1205: {'province': 'Bruxelles-Capitale', 'region': 'Bruxelles'}, 1206: {'province': 'Bruxelles-Capitale', 'region': 'Bruxelles'}, 1207: {'province': 'Bruxelles-Capitale', 'region': 'Bruxelles'}, 1208: {'province': 'Bruxelles-Capitale', 'region': 'Bruxelles'}, 1209: {'province': 'Bruxelles-Capitale', 'region': 'Bruxelles'}, 1210: {'province': 'Bruxelles-Capitale', 'region': 'Bruxelles'}, 1211: {'province': 'Bruxelles-Capitale', 'region': 'Bruxelles'}, 1212: {'province': 'Bruxelles-Capitale', 'region': 'Bruxelles'}, 1213: {'province': 'Bruxelles-Capitale', 'region': 'Bruxelles'}, 1214: {'province': 'Bruxelles-Capitale', 'region': 'Bruxelles'}, 1215: {'province': 'Bruxelles-Capitale', 'region': 'Bruxelles'}, 1216: {'province': 'Bruxelles-Capitale', 'region': 'Bruxelles'}, 1217: {'province': 'Bruxelles-Capitale', 'region': 'Bruxelles'}, 1218: {'province': 'Bruxelles-Capitale', 'region': 'Bruxelles'}, 1219: {'province': 'Bruxelles-Capitale', 'region': 'Bruxelles'}, 1220: {'province': 'Bruxelles-Capitale', 'region': 'Bruxelles'}, 1221: {'province': 'Bruxelles-Capitale', 'region': 'Bruxelles'}, 1222: {'province': 'Bruxelles-Capitale', 'region': 'Bruxelles'}, 1223: {'province': 'Bruxelles-Capitale', 'region': 'Bruxelles'}, 1224: {'province': 'Bruxelles-Capitale', 'region': 'Bruxelles'}, 1225: {'province': 'Bruxelles-Capitale', 'region': 'Bruxelles'}, 1226: {'province': 'Bruxelles-Capitale', 'region': 'Bruxelles'}, 1227: {'province': 'Bruxelles-Capitale', 'region': 'Bruxelles'}, 1228: {'province': 'Bruxelles-Capitale', 'region': 'Bruxelles'}, 1229: {'province': 'Bruxelles-Capitale', 'region': 'Bruxelles'}, 1230: {'province': 'Bruxelles-Capitale', 'region': 'Bruxelles'}, 1231: {'province': 'Bruxelles-Capitale', 'region': 'Bruxelles'}, 1232: {'province': 'Bruxelles-Capitale', 'region': 'Bruxelles'}, 1233: {'province': 'Bruxelles-Capitale', 'region': 'Bruxelles'}, 1234: {'province': 'Bruxelles-Capitale', 'region': 'Bruxelles'}, 1235: {'province': 'Bruxelles-Capitale', 'region': 'Bruxelles'}, 1236: {'province': 'Bruxelles-Capitale', 'region': 'Bruxelles'}, 1237: {'province': 'Bruxelles-Capitale', 'region': 'Bruxelles'}, 1238: {'province': 'Bruxelles-Capitale', 'region': 'Bruxelles'}, 1239: {'province': 'Bruxelles-Capitale', 'region': 'Bruxelles'}, 1240: {'province': 'Bruxelles-Capitale', 'region': 'Bruxelles'}, 1241: {'province': 'Bruxelles-Capitale', 'region': 'Bruxelles'}, 1242: {'province': 'Bruxelles-Capitale', 'region': 'Bruxelles'}, 1243: {'province': 'Bruxelles-Capitale', 'region': 'Bruxelles'}, 1244: {'province': 'Bruxelles-Capitale', 'region': 'Bruxelles'}, 1245: {'province': 'Bruxelles-Capitale', 'region': 'Bruxelles'}, 1246: {'province': 'Bruxelles-Capitale', 'region': 'Bruxelles'}, 1247: {'province': 'Bruxelles-Capitale', 'region': 'Bruxelles'}, 1248: {'province': 'Bruxelles-Capitale', 'region': 'Bruxelles'}, 1249: {'province': 'Bruxelles-Capitale', 'region': 'Bruxelles'}, 1250: {'province': 'Bruxelles-Capitale', 'region': 'Bruxelles'}, 1251: {'province': 'Bruxelles-Capitale', 'region': 'Bruxelles'}, 1252: {'province': 'Bruxelles-Capitale', 'region': 'Bruxelles'}, 1253: {'province': 'Bruxelles-Capitale', 'region': 'Bruxelles'}, 1254: {'province': 'Bruxelles-Capitale', 'region': 'Bruxelles'}, 1255: {'province': 'Bruxelles-Capitale', 'region': 'Bruxelles'}, 1256: {'province': 'Bruxelles-Capitale', 'region': 'Bruxelles'}, 1257: {'province': 'Bruxelles-Capitale', 'region': 'Bruxelles'}, 1258: {'province': 'Bruxelles-Capitale', 'region': 'Bruxelles'}, 1259: {'province': 'Bruxelles-Capitale', 'region': 'Bruxelles'}, 1260: {'province': 'Bruxelles-Capitale', 'region': 'Bruxelles'}, 1261: {'province': 'Bruxelles-Capitale', 'region': 'Bruxelles'}, 1262: {'province': 'Bruxelles-Capitale', 'region': 'Bruxelles'}, 1263: {'province': 'Bruxelles-Capitale', 'region': 'Bruxelles'}, 1264: {'province': 'Bruxelles-Capitale', 'region': 'Bruxelles'}, 1265: {'province': 'Bruxelles-Capitale', 'region': 'Bruxelles'}, 1266: {'province': 'Bruxelles-Capitale', 'region': 'Bruxelles'}, 1267: {'province': 'Bruxelles-Capitale', 'region': 'Bruxelles'}, 1268: {'province': 'Bruxelles-Capitale', 'region': 'Bruxelles'}, 1269: {'province': 'Bruxelles-Capitale', 'region': 'Bruxelles'}, 1270: {'province': 'Bruxelles-Capitale', 'region': 'Bruxelles'}, 1271: {'province': 'Bruxelles-Capitale', 'region': 'Bruxelles'}, 1272: {'province': 'Bruxelles-Capitale', 'region': 'Bruxelles'}, 1273: {'province': 'Bruxelles-Capitale', 'region': 'Bruxelles'}, 1274: {'province': 'Bruxelles-Capitale', 'region': 'Bruxelles'}, 1275: {'province': 'Bruxelles-Capitale', 'region': 'Bruxelles'}, 1276: {'province': 'Bruxelles-Capitale', 'region': 'Bruxelles'}, 1277: {'province': 'Bruxelles-Capitale', 'region': 'Bruxelles'}, 1278: {'province': 'Bruxelles-Capitale', 'region': 'Bruxelles'}, 1279: {'province': 'Bruxelles-Capitale', 'region': 'Bruxelles'}, 1280: {'province': 'Bruxelles-Capitale', 'region': 'Bruxelles'}, 1281: {'province': 'Bruxelles-Capitale', 'region': 'Bruxelles'}, 1282: {'province': 'Bruxelles-Capitale', 'region': 'Bruxelles'}, 1283: {'province': 'Bruxelles-Capitale', 'region': 'Bruxelles'}, 1284: {'province': 'Bruxelles-Capitale', 'region': 'Bruxelles'}, 1285: {'province': 'Bruxelles-Capitale', 'region': 'Bruxelles'}, 1286: {'province': 'Bruxelles-Capitale', 'region': 'Bruxelles'}, 1287: {'province': 'Bruxelles-Capitale', 'region': 'Bruxelles'}, 1288: {'province': 'Bruxelles-Capitale', 'region': 'Bruxelles'}, 1289: {'province': 'Bruxelles-Capitale', 'region': 'Bruxelles'}, 1290: {'province': 'Bruxelles-Capitale', 'region': 'Bruxelles'}, 1291: {'province': 'Bruxelles-Capitale', 'region': 'Bruxelles'}, 1292: {'province': 'Bruxelles-Capitale', 'region': 'Bruxelles'}, 1293: {'province': 'Bruxelles-Capitale', 'region': 'Bruxelles'}, 1294: {'province': 'Bruxelles-Capitale', 'region': 'Bruxelles'}, 1295: {'province': 'Bruxelles-Capitale', 'region': 'Bruxelles'}, 1296: {'province': 'Bruxelles-Capitale', 'region': 'Bruxelles'}, 1297: {'province': 'Bruxelles-Capitale', 'region': 'Bruxelles'}, 1298: {'province': 'Bruxelles-Capitale', 'region': 'Bruxelles'}, 1299: {'province': 'Bruxelles-Capitale', 'region': 'Bruxelles'}, 1300: {'province': 'Brabant wallon', 'region': 'Wallonie'}, 1301: {'province': 'Brabant wallon', 'region': 'Wallonie'}, 1302: {'province': 'Brabant wallon', 'region': 'Wallonie'}, 1303: {'province': 'Brabant wallon', 'region': 'Wallonie'}, 1304: {'province': 'Brabant wallon', 'region': 'Wallonie'}, 1305: {'province': 'Brabant wallon', 'region': 'Wallonie'}, 1306: {'province': 'Brabant wallon', 'region': 'Wallonie'}, 1307: {'province': 'Brabant wallon', 'region': 'Wallonie'}, 1308: {'province': 'Brabant wallon', 'region': 'Wallonie'}, 1309: {'province': 'Brabant wallon', 'region': 'Wallonie'}, 1310: {'province': 'Brabant wallon', 'region': 'Wallonie'}, 1311: {'province': 'Brabant wallon', 'region': 'Wallonie'}, 1312: {'province': 'Brabant wallon', 'region': 'Wallonie'}, 1313: {'province': 'Brabant wallon', 'region': 'Wallonie'}, 1314: {'province': 'Brabant wallon', 'region': 'Wallonie'}, 1315: {'province': 'Brabant wallon', 'region': 'Wallonie'}, 1316: {'province': 'Brabant wallon', 'region': 'Wallonie'}, 1317: {'province': 'Brabant wallon', 'region': 'Wallonie'}, 1318: {'province': 'Brabant wallon', 'region': 'Wallonie'}, 1319: {'province': 'Brabant wallon', 'region': 'Wallonie'}, 1320: {'province': 'Brabant wallon', 'region': 'Wallonie'}, 1321: {'province': 'Brabant wallon', 'region': 'Wallonie'}, 1322: {'province': 'Brabant wallon', 'region': 'Wallonie'}, 1323: {'province': 'Brabant wallon', 'region': 'Wallonie'}, 1324: {'province': 'Brabant wallon', 'region': 'Wallonie'}, 1325: {'province': 'Brabant wallon', 'region': 'Wallonie'}, 1326: {'province': 'Brabant wallon', 'region': 'Wallonie'}, 1327: {'province': 'Brabant wallon', 'region': 'Wallonie'}, 1328: {'province': 'Brabant wallon', 'region': 'Wallonie'}, 1329: {'province': 'Brabant wallon', 'region': 'Wallonie'}, 1330: {'province': 'Brabant wallon', 'region': 'Wallonie'}, 1331: {'province': 'Brabant wallon', 'region': 'Wallonie'}, 1332: {'province': 'Brabant wallon', 'region': 'Wallonie'}, 1333: {'province': 'Brabant wallon', 'region': 'Wallonie'}, 1334: {'province': 'Brabant wallon', 'region': 'Wallonie'}, 1335: {'province': 'Brabant wallon', 'region': 'Wallonie'}, 1336: {'province': 'Brabant wallon', 'region': 'Wallonie'}, 1337: {'province': 'Brabant wallon', 'region': 'Wallonie'}, 1338: {'province': 'Brabant wallon', 'region': 'Wallonie'}, 1339: {'province': 'Brabant wallon', 'region': 'Wallonie'}, 1340: {'province': 'Brabant wallon', 'region': 'Wallonie'}, 1341: {'province': 'Brabant wallon', 'region': 'Wallonie'}, 1342: {'province': 'Brabant wallon', 'region': 'Wallonie'}, 1343: {'province': 'Brabant wallon', 'region': 'Wallonie'}, 1344: {'province': 'Brabant wallon', 'region': 'Wallonie'}, 1345: {'province': 'Brabant wallon', 'region': 'Wallonie'}, 1346: {'province': 'Brabant wallon', 'region': 'Wallonie'}, 1347: {'province': 'Brabant wallon', 'region': 'Wallonie'}, 1348: {'province': 'Brabant wallon', 'region': 'Wallonie'}, 1349: {'province': 'Brabant wallon', 'region': 'Wallonie'}, 1350: {'province': 'Brabant wallon', 'region': 'Wallonie'}, 1351: {'province': 'Brabant wallon', 'region': 'Wallonie'}, 1352: {'province': 'Brabant wallon', 'region': 'Wallonie'}, 1353: {'province': 'Brabant wallon', 'region': 'Wallonie'}, 1354: {'province': 'Brabant wallon', 'region': 'Wallonie'}, 1355: {'province': 'Brabant wallon', 'region': 'Wallonie'}, 1356: {'province': 'Brabant wallon', 'region': 'Wallonie'}, 1357: {'province': 'Brabant wallon', 'region': 'Wallonie'}, 1358: {'province': 'Brabant wallon', 'region': 'Wallonie'}, 1359: {'province': 'Brabant wallon', 'region': 'Wallonie'}, 1360: {'province': 'Brabant wallon', 'region': 'Wallonie'}, 1361: {'province': 'Brabant wallon', 'region': 'Wallonie'}, 1362: {'province': 'Brabant wallon', 'region': 'Wallonie'}, 1363: {'province': 'Brabant wallon', 'region': 'Wallonie'}, 1364: {'province': 'Brabant wallon', 'region': 'Wallonie'}, 1365: {'province': 'Brabant wallon', 'region': 'Wallonie'}, 1366: {'province': 'Brabant wallon', 'region': 'Wallonie'}, 1367: {'province': 'Brabant wallon', 'region': 'Wallonie'}, 1368: {'province': 'Brabant wallon', 'region': 'Wallonie'}, 1369: {'province': 'Brabant wallon', 'region': 'Wallonie'}, 1370: {'province': 'Brabant wallon', 'region': 'Wallonie'}, 1371: {'province': 'Brabant wallon', 'region': 'Wallonie'}, 1372: {'province': 'Brabant wallon', 'region': 'Wallonie'}, 1373: {'province': 'Brabant wallon', 'region': 'Wallonie'}, 1374: {'province': 'Brabant wallon', 'region': 'Wallonie'}, 1375: {'province': 'Brabant wallon', 'region': 'Wallonie'}, 1376: {'province': 'Brabant wallon', 'region': 'Wallonie'}, 1377: {'province': 'Brabant wallon', 'region': 'Wallonie'}, 1378: {'province': 'Brabant wallon', 'region': 'Wallonie'}, 1379: {'province': 'Brabant wallon', 'region': 'Wallonie'}, 1380: {'province': 'Brabant wallon', 'region': 'Wallonie'}, 1381: {'province': 'Brabant wallon', 'region': 'Wallonie'}, 1382: {'province': 'Brabant wallon', 'region': 'Wallonie'}, 1383: {'province': 'Brabant wallon', 'region': 'Wallonie'}, 1384: {'province': 'Brabant wallon', 'region': 'Wallonie'}, 1385: {'province': 'Brabant wallon', 'region': 'Wallonie'}, 1386: {'province': 'Brabant wallon', 'region': 'Wallonie'}, 1387: {'province': 'Brabant wallon', 'region': 'Wallonie'}, 1388: {'province': 'Brabant wallon', 'region': 'Wallonie'}, 1389: {'province': 'Brabant wallon', 'region': 'Wallonie'}, 1390: {'province': 'Brabant wallon', 'region': 'Wallonie'}, 1391: {'province': 'Brabant wallon', 'region': 'Wallonie'}, 1392: {'province': 'Brabant wallon', 'region': 'Wallonie'}, 1393: {'province': 'Brabant wallon', 'region': 'Wallonie'}, 1394: {'province': 'Brabant wallon', 'region': 'Wallonie'}, 1395: {'province': 'Brabant wallon', 'region': 'Wallonie'}, 1396: {'province': 'Brabant wallon', 'region': 'Wallonie'}, 1397: {'province': 'Brabant wallon', 'region': 'Wallonie'}, 1398: {'province': 'Brabant wallon', 'region': 'Wallonie'}, 1399: {'province': 'Brabant wallon', 'region': 'Wallonie'}, 1400: {'province': 'Brabant wallon', 'region': 'Wallonie'}, 1401: {'province': 'Brabant wallon', 'region': 'Wallonie'}, 1402: {'province': 'Brabant wallon', 'region': 'Wallonie'}, 1403: {'province': 'Brabant wallon', 'region': 'Wallonie'}, 1404: {'province': 'Brabant wallon', 'region': 'Wallonie'}, 1405: {'province': 'Brabant wallon', 'region': 'Wallonie'}, 1406: {'province': 'Brabant wallon', 'region': 'Wallonie'}, 1407: {'province': 'Brabant wallon', 'region': 'Wallonie'}, 1408: {'province': 'Brabant wallon', 'region': 'Wallonie'}, 1409: {'province': 'Brabant wallon', 'region': 'Wallonie'}, 1410: {'province': 'Brabant wallon', 'region': 'Wallonie'}, 1411: {'province': 'Brabant wallon', 'region': 'Wallonie'}, 1412: {'province': 'Brabant wallon', 'region': 'Wallonie'}, 1413: {'province': 'Brabant wallon', 'region': 'Wallonie'}, 1414: {'province': 'Brabant wallon', 'region': 'Wallonie'}, 1415: {'province': 'Brabant wallon', 'region': 'Wallonie'}, 1416: {'province': 'Brabant wallon', 'region': 'Wallonie'}, 1417: {'province': 'Brabant wallon', 'region': 'Wallonie'}, 1418: {'province': 'Brabant wallon', 'region': 'Wallonie'}, 1419: {'province': 'Brabant wallon', 'region': 'Wallonie'}, 1420: {'province': 'Brabant wallon', 'region': 'Wallonie'}, 1421: {'province': 'Brabant wallon', 'region': 'Wallonie'}, 1422: {'province': 'Brabant wallon', 'region': 'Wallonie'}, 1423: {'province': 'Brabant wallon', 'region': 'Wallonie'}, 1424: {'province': 'Brabant wallon', 'region': 'Wallonie'}, 1425: {'province': 'Brabant wallon', 'region': 'Wallonie'}, 1426: {'province': 'Brabant wallon', 'region': 'Wallonie'}, 1427: {'province': 'Brabant wallon', 'region': 'Wallonie'}, 1428: {'province': 'Brabant wallon', 'region': 'Wallonie'}, 1429: {'province': 'Brabant wallon', 'region': 'Wallonie'}, 1430: {'province': 'Brabant wallon', 'region': 'Wallonie'}, 1431: {'province': 'Brabant wallon', 'region': 'Wallonie'}, 1432: {'province': 'Brabant wallon', 'region': 'Wallonie'}, 1433: {'province': 'Brabant wallon', 'region': 'Wallonie'}, 1434: {'province': 'Brabant wallon', 'region': 'Wallonie'}, 1435: {'province': 'Brabant wallon', 'region': 'Wallonie'}, 1436: {'province': 'Brabant wallon', 'region': 'Wallonie'}, 1437: {'province': 'Brabant wallon', 'region': 'Wallonie'}, 1438: {'province': 'Brabant wallon', 'region': 'Wallonie'}, 1439: {'province': 'Brabant wallon', 'region': 'Wallonie'}, 1440: {'province': 'Brabant wallon', 'region': 'Wallonie'}, 1441: {'province': 'Brabant wallon', 'region': 'Wallonie'}, 1442: {'province': 'Brabant wallon', 'region': 'Wallonie'}, 1443: {'province': 'Brabant wallon', 'region': 'Wallonie'}, 1444: {'province': 'Brabant wallon', 'region': 'Wallonie'}, 1445: {'province': 'Brabant wallon', 'region': 'Wallonie'}, 1446: {'province': 'Brabant wallon', 'region': 'Wallonie'}, 1447: {'province': 'Brabant wallon', 'region': 'Wallonie'}, 1448: {'province': 'Brabant wallon', 'region': 'Wallonie'}, 1449: {'province': 'Brabant wallon', 'region': 'Wallonie'}, 1450: {'province': 'Brabant wallon', 'region': 'Wallonie'}, 1451: {'province': 'Brabant wallon', 'region': 'Wallonie'}, 1452: {'province': 'Brabant wallon', 'region': 'Wallonie'}, 1453: {'province': 'Brabant wallon', 'region': 'Wallonie'}, 1454: {'province': 'Brabant wallon', 'region': 'Wallonie'}, 1455: {'province': 'Brabant wallon', 'region': 'Wallonie'}, 1456: {'province': 'Brabant wallon', 'region': 'Wallonie'}, 1457: {'province': 'Brabant wallon', 'region': 'Wallonie'}, 1458: {'province': 'Brabant wallon', 'region': 'Wallonie'}, 1459: {'province': 'Brabant wallon', 'region': 'Wallonie'}, 1460: {'province': 'Brabant wallon', 'region': 'Wallonie'}, 1461: {'province': 'Brabant wallon', 'region': 'Wallonie'}, 1462: {'province': 'Brabant wallon', 'region': 'Wallonie'}, 1463: {'province': 'Brabant wallon', 'region': 'Wallonie'}, 1464: {'province': 'Brabant wallon', 'region': 'Wallonie'}, 1465: {'province': 'Brabant wallon', 'region': 'Wallonie'}, 1466: {'province': 'Brabant wallon', 'region': 'Wallonie'}, 1467: {'province': 'Brabant wallon', 'region': 'Wallonie'}, 1468: {'province': 'Brabant wallon', 'region': 'Wallonie'}, 1469: {'province': 'Brabant wallon', 'region': 'Wallonie'}, 1470: {'province': 'Brabant wallon', 'region': 'Wallonie'}, 1471: {'province': 'Brabant wallon', 'region': 'Wallonie'}, 1472: {'province': 'Brabant wallon', 'region': 'Wallonie'}, 1473: {'province': 'Brabant wallon', 'region': 'Wallonie'}, 1474: {'province': 'Brabant wallon', 'region': 'Wallonie'}, 1475: {'province': 'Brabant wallon', 'region': 'Wallonie'}, 1476: {'province': 'Brabant wallon', 'region': 'Wallonie'}, 1477: {'province': 'Brabant wallon', 'region': 'Wallonie'}, 1478: {'province': 'Brabant wallon', 'region': 'Wallonie'}, 1479: {'province': 'Brabant wallon', 'region': 'Wallonie'}, 1480: {'province': 'Brabant wallon', 'region': 'Wallonie'}, 1481: {'province': 'Brabant wallon', 'region': 'Wallonie'}, 1482: {'province': 'Brabant wallon', 'region': 'Wallonie'}, 1483: {'province': 'Brabant wallon', 'region': 'Wallonie'}, 1484: {'province': 'Brabant wallon', 'region': 'Wallonie'}, 1485: {'province': 'Brabant wallon', 'region': 'Wallonie'}, 1486: {'province': 'Brabant wallon', 'region': 'Wallonie'}, 1487: {'province': 'Brabant wallon', 'region': 'Wallonie'}, 1488: {'province': 'Brabant wallon', 'region': 'Wallonie'}, 1489: {'province': 'Brabant wallon', 'region': 'Wallonie'}, 1490: {'province': 'Brabant wallon', 'region': 'Wallonie'}, 1491: {'province': 'Brabant wallon', 'region': 'Wallonie'}, 1492: {'province': 'Brabant wallon', 'region': 'Wallonie'}, 1493: {'province': 'Brabant wallon', 'region': 'Wallonie'}, 1494: {'province': 'Brabant wallon', 'region': 'Wallonie'}, 1495: {'province': 'Brabant wallon', 'region': 'Wallonie'}, 1496: {'province': 'Brabant wallon', 'region': 'Wallonie'}, 1497: {'province': 'Brabant wallon', 'region': 'Wallonie'}, 1498: {'province': 'Brabant wallon', 'region': 'Wallonie'}, 1499: {'province': 'Brabant wallon', 'region': 'Wallonie'}, 1500: {'province': 'Brabant flamand', 'region': 'Flandre'}, 1501: {'province': 'Brabant flamand', 'region': 'Flandre'}, 1502: {'province': 'Brabant flamand', 'region': 'Flandre'}, 1503: {'province': 'Brabant flamand', 'region': 'Flandre'}, 1504: {'province': 'Brabant flamand', 'region': 'Flandre'}, 1505: {'province': 'Brabant flamand', 'region': 'Flandre'}, 1506: {'province': 'Brabant flamand', 'region': 'Flandre'}, 1507: {'province': 'Brabant flamand', 'region': 'Flandre'}, 1508: {'province': 'Brabant flamand', 'region': 'Flandre'}, 1509: {'province': 'Brabant flamand', 'region': 'Flandre'}, 1510: {'province': 'Brabant flamand', 'region': 'Flandre'}, 1511: {'province': 'Brabant flamand', 'region': 'Flandre'}, 1512: {'province': 'Brabant flamand', 'region': 'Flandre'}, 1513: {'province': 'Brabant flamand', 'region': 'Flandre'}, 1514: {'province': 'Brabant flamand', 'region': 'Flandre'}, 1515: {'province': 'Brabant flamand', 'region': 'Flandre'}, 1516: {'province': 'Brabant flamand', 'region': 'Flandre'}, 1517: {'province': 'Brabant flamand', 'region': 'Flandre'}, 1518: {'province': 'Brabant flamand', 'region': 'Flandre'}, 1519: {'province': 'Brabant flamand', 'region': 'Flandre'}, 1520: {'province': 'Brabant flamand', 'region': 'Flandre'}, 1521: {'province': 'Brabant flamand', 'region': 'Flandre'}, 1522: {'province': 'Brabant flamand', 'region': 'Flandre'}, 1523: {'province': 'Brabant flamand', 'region': 'Flandre'}, 1524: {'province': 'Brabant flamand', 'region': 'Flandre'}, 1525: {'province': 'Brabant flamand', 'region': 'Flandre'}, 1526: {'province': 'Brabant flamand', 'region': 'Flandre'}, 1527: {'province': 'Brabant flamand', 'region': 'Flandre'}, 1528: {'province': 'Brabant flamand', 'region': 'Flandre'}, 1529: {'province': 'Brabant flamand', 'region': 'Flandre'}, 1530: {'province': 'Brabant flamand', 'region': 'Flandre'}, 1531: {'province': 'Brabant flamand', 'region': 'Flandre'}, 1532: {'province': 'Brabant flamand', 'region': 'Flandre'}, 1533: {'province': 'Brabant flamand', 'region': 'Flandre'}, 1534: {'province': 'Brabant flamand', 'region': 'Flandre'}, 1535: {'province': 'Brabant flamand', 'region': 'Flandre'}, 1536: {'province': 'Brabant flamand', 'region': 'Flandre'}, 1537: {'province': 'Brabant flamand', 'region': 'Flandre'}, 1538: {'province': 'Brabant flamand', 'region': 'Flandre'}, 1539: {'province': 'Brabant flamand', 'region': 'Flandre'}, 1540: {'province': 'Brabant flamand', 'region': 'Flandre'}, 1541: {'province': 'Brabant flamand', 'region': 'Flandre'}, 1542: {'province': 'Brabant flamand', 'region': 'Flandre'}, 1543: {'province': 'Brabant flamand', 'region': 'Flandre'}, 1544: {'province': 'Brabant flamand', 'region': 'Flandre'}, 1545: {'province': 'Brabant flamand', 'region': 'Flandre'}, 1546: {'province': 'Brabant flamand', 'region': 'Flandre'}, 1547: {'province': 'Brabant flamand', 'region': 'Flandre'}, 1548: {'province': 'Brabant flamand', 'region': 'Flandre'}, 1549: {'province': 'Brabant flamand', 'region': 'Flandre'}, 1550: {'province': 'Brabant flamand', 'region': 'Flandre'}, 1551: {'province': 'Brabant flamand', 'region': 'Flandre'}, 1552: {'province': 'Brabant flamand', 'region': 'Flandre'}, 1553: {'province': 'Brabant flamand', 'region': 'Flandre'}, 1554: {'province': 'Brabant flamand', 'region': 'Flandre'}, 1555: {'province': 'Brabant flamand', 'region': 'Flandre'}, 1556: {'province': 'Brabant flamand', 'region': 'Flandre'}, 1557: {'province': 'Brabant flamand', 'region': 'Flandre'}, 1558: {'province': 'Brabant flamand', 'region': 'Flandre'}, 1559: {'province': 'Brabant flamand', 'region': 'Flandre'}, 1560: {'province': 'Brabant flamand', 'region': 'Flandre'}, 1561: {'province': 'Brabant flamand', 'region': 'Flandre'}, 1562: {'province': 'Brabant flamand', 'region': 'Flandre'}, 1563: {'province': 'Brabant flamand', 'region': 'Flandre'}, 1564: {'province': 'Brabant flamand', 'region': 'Flandre'}, 1565: {'province': 'Brabant flamand', 'region': 'Flandre'}, 1566: {'province': 'Brabant flamand', 'region': 'Flandre'}, 1567: {'province': 'Brabant flamand', 'region': 'Flandre'}, 1568: {'province': 'Brabant flamand', 'region': 'Flandre'}, 1569: {'province': 'Brabant flamand', 'region': 'Flandre'}, 1570: {'province': 'Brabant flamand', 'region': 'Flandre'}, 1571: {'province': 'Brabant flamand', 'region': 'Flandre'}, 1572: {'province': 'Brabant flamand', 'region': 'Flandre'}, 1573: {'province': 'Brabant flamand', 'region': 'Flandre'}, 1574: {'province': 'Brabant flamand', 'region': 'Flandre'}, 1575: {'province': 'Brabant flamand', 'region': 'Flandre'}, 1576: {'province': 'Brabant flamand', 'region': 'Flandre'}, 1577: {'province': 'Brabant flamand', 'region': 'Flandre'}, 1578: {'province': 'Brabant flamand', 'region': 'Flandre'}, 1579: {'province': 'Brabant flamand', 'region': 'Flandre'}, 1580: {'province': 'Brabant flamand', 'region': 'Flandre'}, 1581: {'province': 'Brabant flamand', 'region': 'Flandre'}, 1582: {'province': 'Brabant flamand', 'region': 'Flandre'}, 1583: {'province': 'Brabant flamand', 'region': 'Flandre'}, 1584: {'province': 'Brabant flamand', 'region': 'Flandre'}, 1585: {'province': 'Brabant flamand', 'region': 'Flandre'}, 1586: {'province': 'Brabant flamand', 'region': 'Flandre'}, 1587: {'province': 'Brabant flamand', 'region': 'Flandre'}, 1588: {'province': 'Brabant flamand', 'region': 'Flandre'}, 1589: {'province': 'Brabant flamand', 'region': 'Flandre'}, 1590: {'province': 'Brabant flamand', 'region': 'Flandre'}, 1591: {'province': 'Brabant flamand', 'region': 'Flandre'}, 1592: {'province': 'Brabant flamand', 'region': 'Flandre'}, 1593: {'province': 'Brabant flamand', 'region': 'Flandre'}, 1594: {'province': 'Brabant flamand', 'region': 'Flandre'}, 1595: {'province': 'Brabant flamand', 'region': 'Flandre'}, 1596: {'province': 'Brabant flamand', 'region': 'Flandre'}, 1597: {'province': 'Brabant flamand', 'region': 'Flandre'}, 1598: {'province': 'Brabant flamand', 'region': 'Flandre'}, 1599: {'province': 'Brabant flamand', 'region': 'Flandre'}, 1600: {'province': 'Brabant flamand', 'region': 'Flandre'}, 1601: {'province': 'Brabant flamand', 'region': 'Flandre'}, 1602: {'province': 'Brabant flamand', 'region': 'Flandre'}, 1603: {'province': 'Brabant flamand', 'region': 'Flandre'}, 1604: {'province': 'Brabant flamand', 'region': 'Flandre'}, 1605: {'province': 'Brabant flamand', 'region': 'Flandre'}, 1606: {'province': 'Brabant flamand', 'region': 'Flandre'}, 1607: {'province': 'Brabant flamand', 'region': 'Flandre'}, 1608: {'province': 'Brabant flamand', 'region': 'Flandre'}, 1609: {'province': 'Brabant flamand', 'region': 'Flandre'}, 1610: {'province': 'Brabant flamand', 'region': 'Flandre'}, 1611: {'province': 'Brabant flamand', 'region': 'Flandre'}, 1612: {'province': 'Brabant flamand', 'region': 'Flandre'}, 1613: {'province': 'Brabant flamand', 'region': 'Flandre'}, 1614: {'province': 'Brabant flamand', 'region': 'Flandre'}, 1615: {'province': 'Brabant flamand', 'region': 'Flandre'}, 1616: {'province': 'Brabant flamand', 'region': 'Flandre'}, 1617: {'province': 'Brabant flamand', 'region': 'Flandre'}, 1618: {'province': 'Brabant flamand', 'region': 'Flandre'}, 1619: {'province': 'Brabant flamand', 'region': 'Flandre'}, 1620: {'province': 'Brabant flamand', 'region': 'Flandre'}, 1621: {'province': 'Brabant flamand', 'region': 'Flandre'}, 1622: {'province': 'Brabant flamand', 'region': 'Flandre'}, 1623: {'province': 'Brabant flamand', 'region': 'Flandre'}, 1624: {'province': 'Brabant flamand', 'region': 'Flandre'}, 1625: {'province': 'Brabant flamand', 'region': 'Flandre'}, 1626: {'province': 'Brabant flamand', 'region': 'Flandre'}, 1627: {'province': 'Brabant flamand', 'region': 'Flandre'}, 1628: {'province': 'Brabant flamand', 'region': 'Flandre'}, 1629: {'province': 'Brabant flamand', 'region': 'Flandre'}, 1630: {'province': 'Brabant flamand', 'region': 'Flandre'}, 1631: {'province': 'Brabant flamand', 'region': 'Flandre'}, 1632: {'province': 'Brabant flamand', 'region': 'Flandre'}, 1633: {'province': 'Brabant flamand', 'region': 'Flandre'}, 1634: {'province': 'Brabant flamand', 'region': 'Flandre'}, 1635: {'province': 'Brabant flamand', 'region': 'Flandre'}, 1636: {'province': 'Brabant flamand', 'region': 'Flandre'}, 1637: {'province': 'Brabant flamand', 'region': 'Flandre'}, 1638: {'province': 'Brabant flamand', 'region': 'Flandre'}, 1639: {'province': 'Brabant flamand', 'region': 'Flandre'}, 1640: {'province': 'Brabant flamand', 'region': 'Flandre'}, 1641: {'province': 'Brabant flamand', 'region': 'Flandre'}, 1642: {'province': 'Brabant flamand', 'region': 'Flandre'}, 1643: {'province': 'Brabant flamand', 'region': 'Flandre'}, 1644: {'province': 'Brabant flamand', 'region': 'Flandre'}, 1645: {'province': 'Brabant flamand', 'region': 'Flandre'}, 1646: {'province': 'Brabant flamand', 'region': 'Flandre'}, 1647: {'province': 'Brabant flamand', 'region': 'Flandre'}, 1648: {'province': 'Brabant flamand', 'region': 'Flandre'}, 1649: {'province': 'Brabant flamand', 'region': 'Flandre'}, 1650: {'province': 'Brabant flamand', 'region': 'Flandre'}, 1651: {'province': 'Brabant flamand', 'region': 'Flandre'}, 1652: {'province': 'Brabant flamand', 'region': 'Flandre'}, 1653: {'province': 'Brabant flamand', 'region': 'Flandre'}, 1654: {'province': 'Brabant flamand', 'region': 'Flandre'}, 1655: {'province': 'Brabant flamand', 'region': 'Flandre'}, 1656: {'province': 'Brabant flamand', 'region': 'Flandre'}, 1657: {'province': 'Brabant flamand', 'region': 'Flandre'}, 1658: {'province': 'Brabant flamand', 'region': 'Flandre'}, 1659: {'province': 'Brabant flamand', 'region': 'Flandre'}, 1660: {'province': 'Brabant flamand', 'region': 'Flandre'}, 1661: {'province': 'Brabant flamand', 'region': 'Flandre'}, 1662: {'province': 'Brabant flamand', 'region': 'Flandre'}, 1663: {'province': 'Brabant flamand', 'region': 'Flandre'}, 1664: {'province': 'Brabant flamand', 'region': 'Flandre'}, 1665: {'province': 'Brabant flamand', 'region': 'Flandre'}, 1666: {'province': 'Brabant flamand', 'region': 'Flandre'}, 1667: {'province': 'Brabant flamand', 'region': 'Flandre'}, 1668: {'province': 'Brabant flamand', 'region': 'Flandre'}, 1669: {'province': 'Brabant flamand', 'region': 'Flandre'}, 1670: {'province': 'Brabant flamand', 'region': 'Flandre'}, 1671: {'province': 'Brabant flamand', 'region': 'Flandre'}, 1672: {'province': 'Brabant flamand', 'region': 'Flandre'}, 1673: {'province': 'Brabant flamand', 'region': 'Flandre'}, 1674: {'province': 'Brabant flamand', 'region': 'Flandre'}, 1675: {'province': 'Brabant flamand', 'region': 'Flandre'}, 1676: {'province': 'Brabant flamand', 'region': 'Flandre'}, 1677: {'province': 'Brabant flamand', 'region': 'Flandre'}, 1678: {'province': 'Brabant flamand', 'region': 'Flandre'}, 1679: {'province': 'Brabant flamand', 'region': 'Flandre'}, 1680: {'province': 'Brabant flamand', 'region': 'Flandre'}, 1681: {'province': 'Brabant flamand', 'region': 'Flandre'}, 1682: {'province': 'Brabant flamand', 'region': 'Flandre'}, 1683: {'province': 'Brabant flamand', 'region': 'Flandre'}, 1684: {'province': 'Brabant flamand', 'region': 'Flandre'}, 1685: {'province': 'Brabant flamand', 'region': 'Flandre'}, 1686: {'province': 'Brabant flamand', 'region': 'Flandre'}, 1687: {'province': 'Brabant flamand', 'region': 'Flandre'}, 1688: {'province': 'Brabant flamand', 'region': 'Flandre'}, 1689: {'province': 'Brabant flamand', 'region': 'Flandre'}, 1690: {'province': 'Brabant flamand', 'region': 'Flandre'}, 1691: {'province': 'Brabant flamand', 'region': 'Flandre'}, 1692: {'province': 'Brabant flamand', 'region': 'Flandre'}, 1693: {'province': 'Brabant flamand', 'region': 'Flandre'}, 1694: {'province': 'Brabant flamand', 'region': 'Flandre'}, 1695: {'province': 'Brabant flamand', 'region': 'Flandre'}, 1696: {'province': 'Brabant flamand', 'region': 'Flandre'}, 1697: {'province': 'Brabant flamand', 'region': 'Flandre'}, 1698: {'province': 'Brabant flamand', 'region': 'Flandre'}, 1699: {'province': 'Brabant flamand', 'region': 'Flandre'}, 1700: {'province': 'Brabant flamand', 'region': 'Flandre'}, 1701: {'province': 'Brabant flamand', 'region': 'Flandre'}, 1702: {'province': 'Brabant flamand', 'region': 'Flandre'}, 1703: {'province': 'Brabant flamand', 'region': 'Flandre'}, 1704: {'province': 'Brabant flamand', 'region': 'Flandre'}, 1705: {'province': 'Brabant flamand', 'region': 'Flandre'}, 1706: {'province': 'Brabant flamand', 'region': 'Flandre'}, 1707: {'province': 'Brabant flamand', 'region': 'Flandre'}, 1708: {'province': 'Brabant flamand', 'region': 'Flandre'}, 1709: {'province': 'Brabant flamand', 'region': 'Flandre'}, 1710: {'province': 'Brabant flamand', 'region': 'Flandre'}, 1711: {'province': 'Brabant flamand', 'region': 'Flandre'}, 1712: {'province': 'Brabant flamand', 'region': 'Flandre'}, 1713: {'province': 'Brabant flamand', 'region': 'Flandre'}, 1714: {'province': 'Brabant flamand', 'region': 'Flandre'}, 1715: {'province': 'Brabant flamand', 'region': 'Flandre'}, 1716: {'province': 'Brabant flamand', 'region': 'Flandre'}, 1717: {'province': 'Brabant flamand', 'region': 'Flandre'}, 1718: {'province': 'Brabant flamand', 'region': 'Flandre'}, 1719: {'province': 'Brabant flamand', 'region': 'Flandre'}, 1720: {'province': 'Brabant flamand', 'region': 'Flandre'}, 1721: {'province': 'Brabant flamand', 'region': 'Flandre'}, 1722: {'province': 'Brabant flamand', 'region': 'Flandre'}, 1723: {'province': 'Brabant flamand', 'region': 'Flandre'}, 1724: {'province': 'Brabant flamand', 'region': 'Flandre'}, 1725: {'province': 'Brabant flamand', 'region': 'Flandre'}, 1726: {'province': 'Brabant flamand', 'region': 'Flandre'}, 1727: {'province': 'Brabant flamand', 'region': 'Flandre'}, 1728: {'province': 'Brabant flamand', 'region': 'Flandre'}, 1729: {'province': 'Brabant flamand', 'region': 'Flandre'}, 1730: {'province': 'Brabant flamand', 'region': 'Flandre'}, 1731: {'province': 'Brabant flamand', 'region': 'Flandre'}, 1732: {'province': 'Brabant flamand', 'region': 'Flandre'}, 1733: {'province': 'Brabant flamand', 'region': 'Flandre'}, 1734: {'province': 'Brabant flamand', 'region': 'Flandre'}, 1735: {'province': 'Brabant flamand', 'region': 'Flandre'}, 1736: {'province': 'Brabant flamand', 'region': 'Flandre'}, 1737: {'province': 'Brabant flamand', 'region': 'Flandre'}, 1738: {'province': 'Brabant flamand', 'region': 'Flandre'}, 1739: {'province': 'Brabant flamand', 'region': 'Flandre'}, 1740: {'province': 'Brabant flamand', 'region': 'Flandre'}, 1741: {'province': 'Brabant flamand', 'region': 'Flandre'}, 1742: {'province': 'Brabant flamand', 'region': 'Flandre'}, 1743: {'province': 'Brabant flamand', 'region': 'Flandre'}, 1744: {'province': 'Brabant flamand', 'region': 'Flandre'}, 1745: {'province': 'Brabant flamand', 'region': 'Flandre'}, 1746: {'province': 'Brabant flamand', 'region': 'Flandre'}, 1747: {'province': 'Brabant flamand', 'region': 'Flandre'}, 1748: {'province': 'Brabant flamand', 'region': 'Flandre'}, 1749: {'province': 'Brabant flamand', 'region': 'Flandre'}, 1750: {'province': 'Brabant flamand', 'region': 'Flandre'}, 1751: {'province': 'Brabant flamand', 'region': 'Flandre'}, 1752: {'province': 'Brabant flamand', 'region': 'Flandre'}, 1753: {'province': 'Brabant flamand', 'region': 'Flandre'}, 1754: {'province': 'Brabant flamand', 'region': 'Flandre'}, 1755: {'province': 'Brabant flamand', 'region': 'Flandre'}, 1756: {'province': 'Brabant flamand', 'region': 'Flandre'}, 1757: {'province': 'Brabant flamand', 'region': 'Flandre'}, 1758: {'province': 'Brabant flamand', 'region': 'Flandre'}, 1759: {'province': 'Brabant flamand', 'region': 'Flandre'}, 1760: {'province': 'Brabant flamand', 'region': 'Flandre'}, 1761: {'province': 'Brabant flamand', 'region': 'Flandre'}, 1762: {'province': 'Brabant flamand', 'region': 'Flandre'}, 1763: {'province': 'Brabant flamand', 'region': 'Flandre'}, 1764: {'province': 'Brabant flamand', 'region': 'Flandre'}, 1765: {'province': 'Brabant flamand', 'region': 'Flandre'}, 1766: {'province': 'Brabant flamand', 'region': 'Flandre'}, 1767: {'province': 'Brabant flamand', 'region': 'Flandre'}, 1768: {'province': 'Brabant flamand', 'region': 'Flandre'}, 1769: {'province': 'Brabant flamand', 'region': 'Flandre'}, 1770: {'province': 'Brabant flamand', 'region': 'Flandre'}, 1771: {'province': 'Brabant flamand', 'region': 'Flandre'}, 1772: {'province': 'Brabant flamand', 'region': 'Flandre'}, 1773: {'province': 'Brabant flamand', 'region': 'Flandre'}, 1774: {'province': 'Brabant flamand', 'region': 'Flandre'}, 1775: {'province': 'Brabant flamand', 'region': 'Flandre'}, 1776: {'province': 'Brabant flamand', 'region': 'Flandre'}, 1777: {'province': 'Brabant flamand', 'region': 'Flandre'}, 1778: {'province': 'Brabant flamand', 'region': 'Flandre'}, 1779: {'province': 'Brabant flamand', 'region': 'Flandre'}, 1780: {'province': 'Brabant flamand', 'region': 'Flandre'}, 1781: {'province': 'Brabant flamand', 'region': 'Flandre'}, 1782: {'province': 'Brabant flamand', 'region': 'Flandre'}, 1783: {'province': 'Brabant flamand', 'region': 'Flandre'}, 1784: {'province': 'Brabant flamand', 'region': 'Flandre'}, 1785: {'province': 'Brabant flamand', 'region': 'Flandre'}, 1786: {'province': 'Brabant flamand', 'region': 'Flandre'}, 1787: {'province': 'Brabant flamand', 'region': 'Flandre'}, 1788: {'province': 'Brabant flamand', 'region': 'Flandre'}, 1789: {'province': 'Brabant flamand', 'region': 'Flandre'}, 1790: {'province': 'Brabant flamand', 'region': 'Flandre'}, 1791: {'province': 'Brabant flamand', 'region': 'Flandre'}, 1792: {'province': 'Brabant flamand', 'region': 'Flandre'}, 1793: {'province': 'Brabant flamand', 'region': 'Flandre'}, 1794: {'province': 'Brabant flamand', 'region': 'Flandre'}, 1795: {'province': 'Brabant flamand', 'region': 'Flandre'}, 1796: {'province': 'Brabant flamand', 'region': 'Flandre'}, 1797: {'province': 'Brabant flamand', 'region': 'Flandre'}, 1798: {'province': 'Brabant flamand', 'region': 'Flandre'}, 1799: {'province': 'Brabant flamand', 'region': 'Flandre'}, 1800: {'province': 'Brabant flamand', 'region': 'Flandre'}, 1801: {'province': 'Brabant flamand', 'region': 'Flandre'}, 1802: {'province': 'Brabant flamand', 'region': 'Flandre'}, 1803: {'province': 'Brabant flamand', 'region': 'Flandre'}, 1804: {'province': 'Brabant flamand', 'region': 'Flandre'}, 1805: {'province': 'Brabant flamand', 'region': 'Flandre'}, 1806: {'province': 'Brabant flamand', 'region': 'Flandre'}, 1807: {'province': 'Brabant flamand', 'region': 'Flandre'}, 1808: {'province': 'Brabant flamand', 'region': 'Flandre'}, 1809: {'province': 'Brabant flamand', 'region': 'Flandre'}, 1810: {'province': 'Brabant flamand', 'region': 'Flandre'}, 1811: {'province': 'Brabant flamand', 'region': 'Flandre'}, 1812: {'province': 'Brabant flamand', 'region': 'Flandre'}, 1813: {'province': 'Brabant flamand', 'region': 'Flandre'}, 1814: {'province': 'Brabant flamand', 'region': 'Flandre'}, 1815: {'province': 'Brabant flamand', 'region': 'Flandre'}, 1816: {'province': 'Brabant flamand', 'region': 'Flandre'}, 1817: {'province': 'Brabant flamand', 'region': 'Flandre'}, 1818: {'province': 'Brabant flamand', 'region': 'Flandre'}, 1819: {'province': 'Brabant flamand', 'region': 'Flandre'}, 1820: {'province': 'Brabant flamand', 'region': 'Flandre'}, 1821: {'province': 'Brabant flamand', 'region': 'Flandre'}, 1822: {'province': 'Brabant flamand', 'region': 'Flandre'}, 1823: {'province': 'Brabant flamand', 'region': 'Flandre'}, 1824: {'province': 'Brabant flamand', 'region': 'Flandre'}, 1825: {'province': 'Brabant flamand', 'region': 'Flandre'}, 1826: {'province': 'Brabant flamand', 'region': 'Flandre'}, 1827: {'province': 'Brabant flamand', 'region': 'Flandre'}, 1828: {'province': 'Brabant flamand', 'region': 'Flandre'}, 1829: {'province': 'Brabant flamand', 'region': 'Flandre'}, 1830: {'province': 'Brabant flamand', 'region': 'Flandre'}, 1831: {'province': 'Brabant flamand', 'region': 'Flandre'}, 1832: {'province': 'Brabant flamand', 'region': 'Flandre'}, 1833: {'province': 'Brabant flamand', 'region': 'Flandre'}, 1834: {'province': 'Brabant flamand', 'region': 'Flandre'}, 1835: {'province': 'Brabant flamand', 'region': 'Flandre'}, 1836: {'province': 'Brabant flamand', 'region': 'Flandre'}, 1837: {'province': 'Brabant flamand', 'region': 'Flandre'}, 1838: {'province': 'Brabant flamand', 'region': 'Flandre'}, 1839: {'province': 'Brabant flamand', 'region': 'Flandre'}, 1840: {'province': 'Brabant flamand', 'region': 'Flandre'}, 1841: {'province': 'Brabant flamand', 'region': 'Flandre'}, 1842: {'province': 'Brabant flamand', 'region': 'Flandre'}, 1843: {'province': 'Brabant flamand', 'region': 'Flandre'}, 1844: {'province': 'Brabant flamand', 'region': 'Flandre'}, 1845: {'province': 'Brabant flamand', 'region': 'Flandre'}, 1846: {'province': 'Brabant flamand', 'region': 'Flandre'}, 1847: {'province': 'Brabant flamand', 'region': 'Flandre'}, 1848: {'province': 'Brabant flamand', 'region': 'Flandre'}, 1849: {'province': 'Brabant flamand', 'region': 'Flandre'}, 1850: {'province': 'Brabant flamand', 'region': 'Flandre'}, 1851: {'province': 'Brabant flamand', 'region': 'Flandre'}, 1852: {'province': 'Brabant flamand', 'region': 'Flandre'}, 1853: {'province': 'Brabant flamand', 'region': 'Flandre'}, 1854: {'province': 'Brabant flamand', 'region': 'Flandre'}, 1855: {'province': 'Brabant flamand', 'region': 'Flandre'}, 1856: {'province': 'Brabant flamand', 'region': 'Flandre'}, 1857: {'province': 'Brabant flamand', 'region': 'Flandre'}, 1858: {'province': 'Brabant flamand', 'region': 'Flandre'}, 1859: {'province': 'Brabant flamand', 'region': 'Flandre'}, 1860: {'province': 'Brabant flamand', 'region': 'Flandre'}, 1861: {'province': 'Brabant flamand', 'region': 'Flandre'}, 1862: {'province': 'Brabant flamand', 'region': 'Flandre'}, 1863: {'province': 'Brabant flamand', 'region': 'Flandre'}, 1864: {'province': 'Brabant flamand', 'region': 'Flandre'}, 1865: {'province': 'Brabant flamand', 'region': 'Flandre'}, 1866: {'province': 'Brabant flamand', 'region': 'Flandre'}, 1867: {'province': 'Brabant flamand', 'region': 'Flandre'}, 1868: {'province': 'Brabant flamand', 'region': 'Flandre'}, 1869: {'province': 'Brabant flamand', 'region': 'Flandre'}, 1870: {'province': 'Brabant flamand', 'region': 'Flandre'}, 1871: {'province': 'Brabant flamand', 'region': 'Flandre'}, 1872: {'province': 'Brabant flamand', 'region': 'Flandre'}, 1873: {'province': 'Brabant flamand', 'region': 'Flandre'}, 1874: {'province': 'Brabant flamand', 'region': 'Flandre'}, 1875: {'province': 'Brabant flamand', 'region': 'Flandre'}, 1876: {'province': 'Brabant flamand', 'region': 'Flandre'}, 1877: {'province': 'Brabant flamand', 'region': 'Flandre'}, 1878: {'province': 'Brabant flamand', 'region': 'Flandre'}, 1879: {'province': 'Brabant flamand', 'region': 'Flandre'}, 1880: {'province': 'Brabant flamand', 'region': 'Flandre'}, 1881: {'province': 'Brabant flamand', 'region': 'Flandre'}, 1882: {'province': 'Brabant flamand', 'region': 'Flandre'}, 1883: {'province': 'Brabant flamand', 'region': 'Flandre'}, 1884: {'province': 'Brabant flamand', 'region': 'Flandre'}, 1885: {'province': 'Brabant flamand', 'region': 'Flandre'}, 1886: {'province': 'Brabant flamand', 'region': 'Flandre'}, 1887: {'province': 'Brabant flamand', 'region': 'Flandre'}, 1888: {'province': 'Brabant flamand', 'region': 'Flandre'}, 1889: {'province': 'Brabant flamand', 'region': 'Flandre'}, 1890: {'province': 'Brabant flamand', 'region': 'Flandre'}, 1891: {'province': 'Brabant flamand', 'region': 'Flandre'}, 1892: {'province': 'Brabant flamand', 'region': 'Flandre'}, 1893: {'province': 'Brabant flamand', 'region': 'Flandre'}, 1894: {'province': 'Brabant flamand', 'region': 'Flandre'}, 1895: {'province': 'Brabant flamand', 'region': 'Flandre'}, 1896: {'province': 'Brabant flamand', 'region': 'Flandre'}, 1897: {'province': 'Brabant flamand', 'region': 'Flandre'}, 1898: {'province': 'Brabant flamand', 'region': 'Flandre'}, 1899: {'province': 'Brabant flamand', 'region': 'Flandre'}, 1900: {'province': 'Brabant flamand', 'region': 'Flandre'}, 1901: {'province': 'Brabant flamand', 'region': 'Flandre'}, 1902: {'province': 'Brabant flamand', 'region': 'Flandre'}, 1903: {'province': 'Brabant flamand', 'region': 'Flandre'}, 1904: {'province': 'Brabant flamand', 'region': 'Flandre'}, 1905: {'province': 'Brabant flamand', 'region': 'Flandre'}, 1906: {'province': 'Brabant flamand', 'region': 'Flandre'}, 1907: {'province': 'Brabant flamand', 'region': 'Flandre'}, 1908: {'province': 'Brabant flamand', 'region': 'Flandre'}, 1909: {'province': 'Brabant flamand', 'region': 'Flandre'}, 1910: {'province': 'Brabant flamand', 'region': 'Flandre'}, 1911: {'province': 'Brabant flamand', 'region': 'Flandre'}, 1912: {'province': 'Brabant flamand', 'region': 'Flandre'}, 1913: {'province': 'Brabant flamand', 'region': 'Flandre'}, 1914: {'province': 'Brabant flamand', 'region': 'Flandre'}, 1915: {'province': 'Brabant flamand', 'region': 'Flandre'}, 1916: {'province': 'Brabant flamand', 'region': 'Flandre'}, 1917: {'province': 'Brabant flamand', 'region': 'Flandre'}, 1918: {'province': 'Brabant flamand', 'region': 'Flandre'}, 1919: {'province': 'Brabant flamand', 'region': 'Flandre'}, 1920: {'province': 'Brabant flamand', 'region': 'Flandre'}, 1921: {'province': 'Brabant flamand', 'region': 'Flandre'}, 1922: {'province': 'Brabant flamand', 'region': 'Flandre'}, 1923: {'province': 'Brabant flamand', 'region': 'Flandre'}, 1924: {'province': 'Brabant flamand', 'region': 'Flandre'}, 1925: {'province': 'Brabant flamand', 'region': 'Flandre'}, 1926: {'province': 'Brabant flamand', 'region': 'Flandre'}, 1927: {'province': 'Brabant flamand', 'region': 'Flandre'}, 1928: {'province': 'Brabant flamand', 'region': 'Flandre'}, 1929: {'province': 'Brabant flamand', 'region': 'Flandre'}, 1930: {'province': 'Brabant flamand', 'region': 'Flandre'}, 1931: {'province': 'Brabant flamand', 'region': 'Flandre'}, 1932: {'province': 'Brabant flamand', 'region': 'Flandre'}, 1933: {'province': 'Brabant flamand', 'region': 'Flandre'}, 1934: {'province': 'Brabant flamand', 'region': 'Flandre'}, 1935: {'province': 'Brabant flamand', 'region': 'Flandre'}, 1936: {'province': 'Brabant flamand', 'region': 'Flandre'}, 1937: {'province': 'Brabant flamand', 'region': 'Flandre'}, 1938: {'province': 'Brabant flamand', 'region': 'Flandre'}, 1939: {'province': 'Brabant flamand', 'region': 'Flandre'}, 1940: {'province': 'Brabant flamand', 'region': 'Flandre'}, 1941: {'province': 'Brabant flamand', 'region': 'Flandre'}, 1942: {'province': 'Brabant flamand', 'region': 'Flandre'}, 1943: {'province': 'Brabant flamand', 'region': 'Flandre'}, 1944: {'province': 'Brabant flamand', 'region': 'Flandre'}, 1945: {'province': 'Brabant flamand', 'region': 'Flandre'}, 1946: {'province': 'Brabant flamand', 'region': 'Flandre'}, 1947: {'province': 'Brabant flamand', 'region': 'Flandre'}, 1948: {'province': 'Brabant flamand', 'region': 'Flandre'}, 1949: {'province': 'Brabant flamand', 'region': 'Flandre'}, 1950: {'province': 'Brabant flamand', 'region': 'Flandre'}, 1951: {'province': 'Brabant flamand', 'region': 'Flandre'}, 1952: {'province': 'Brabant flamand', 'region': 'Flandre'}, 1953: {'province': 'Brabant flamand', 'region': 'Flandre'}, 1954: {'province': 'Brabant flamand', 'region': 'Flandre'}, 1955: {'province': 'Brabant flamand', 'region': 'Flandre'}, 1956: {'province': 'Brabant flamand', 'region': 'Flandre'}, 1957: {'province': 'Brabant flamand', 'region': 'Flandre'}, 1958: {'province': 'Brabant flamand', 'region': 'Flandre'}, 1959: {'province': 'Brabant flamand', 'region': 'Flandre'}, 1960: {'province': 'Brabant flamand', 'region': 'Flandre'}, 1961: {'province': 'Brabant flamand', 'region': 'Flandre'}, 1962: {'province': 'Brabant flamand', 'region': 'Flandre'}, 1963: {'province': 'Brabant flamand', 'region': 'Flandre'}, 1964: {'province': 'Brabant flamand', 'region': 'Flandre'}, 1965: {'province': 'Brabant flamand', 'region': 'Flandre'}, 1966: {'province': 'Brabant flamand', 'region': 'Flandre'}, 1967: {'province': 'Brabant flamand', 'region': 'Flandre'}, 1968: {'province': 'Brabant flamand', 'region': 'Flandre'}, 1969: {'province': 'Brabant flamand', 'region': 'Flandre'}, 1970: {'province': 'Brabant flamand', 'region': 'Flandre'}, 1971: {'province': 'Brabant flamand', 'region': 'Flandre'}, 1972: {'province': 'Brabant flamand', 'region': 'Flandre'}, 1973: {'province': 'Brabant flamand', 'region': 'Flandre'}, 1974: {'province': 'Brabant flamand', 'region': 'Flandre'}, 1975: {'province': 'Brabant flamand', 'region': 'Flandre'}, 1976: {'province': 'Brabant flamand', 'region': 'Flandre'}, 1977: {'province': 'Brabant flamand', 'region': 'Flandre'}, 1978: {'province': 'Brabant flamand', 'region': 'Flandre'}, 1979: {'province': 'Brabant flamand', 'region': 'Flandre'}, 1980: {'province': 'Brabant flamand', 'region': 'Flandre'}, 1981: {'province': 'Brabant flamand', 'region': 'Flandre'}, 1982: {'province': 'Brabant flamand', 'region': 'Flandre'}, 1983: {'province': 'Brabant flamand', 'region': 'Flandre'}, 1984: {'province': 'Brabant flamand', 'region': 'Flandre'}, 1985: {'province': 'Brabant flamand', 'region': 'Flandre'}, 1986: {'province': 'Brabant flamand', 'region': 'Flandre'}, 1987: {'province': 'Brabant flamand', 'region': 'Flandre'}, 1988: {'province': 'Brabant flamand', 'region': 'Flandre'}, 1989: {'province': 'Brabant flamand', 'region': 'Flandre'}, 1990: {'province': 'Brabant flamand', 'region': 'Flandre'}, 1991: {'province': 'Brabant flamand', 'region': 'Flandre'}, 1992: {'province': 'Brabant flamand', 'region': 'Flandre'}, 1993: {'province': 'Brabant flamand', 'region': 'Flandre'}, 1994: {'province': 'Brabant flamand', 'region': 'Flandre'}, 1995: {'province': 'Brabant flamand', 'region': 'Flandre'}, 1996: {'province': 'Brabant flamand', 'region': 'Flandre'}, 1997: {'province': 'Brabant flamand', 'region': 'Flandre'}, 1998: {'province': 'Brabant flamand', 'region': 'Flandre'}, 1999: {'province': 'Brabant flamand', 'region': 'Flandre'}, 3000: {'province': 'Brabant flamand', 'region': 'Flandre'}, 3001: {'province': 'Brabant flamand', 'region': 'Flandre'}, 3002: {'province': 'Brabant flamand', 'region': 'Flandre'}, 3003: {'province': 'Brabant flamand', 'region': 'Flandre'}, 3004: {'province': 'Brabant flamand', 'region': 'Flandre'}, 3005: {'province': 'Brabant flamand', 'region': 'Flandre'}, 3006: {'province': 'Brabant flamand', 'region': 'Flandre'}, 3007: {'province': 'Brabant flamand', 'region': 'Flandre'}, 3008: {'province': 'Brabant flamand', 'region': 'Flandre'}, 3009: {'province': 'Brabant flamand', 'region': 'Flandre'}, 3010: {'province': 'Brabant flamand', 'region': 'Flandre'}, 3011: {'province': 'Brabant flamand', 'region': 'Flandre'}, 3012: {'province': 'Brabant flamand', 'region': 'Flandre'}, 3013: {'province': 'Brabant flamand', 'region': 'Flandre'}, 3014: {'province': 'Brabant flamand', 'region': 'Flandre'}, 3015: {'province': 'Brabant flamand', 'region': 'Flandre'}, 3016: {'province': 'Brabant flamand', 'region': 'Flandre'}, 3017: {'province': 'Brabant flamand', 'region': 'Flandre'}, 3018: {'province': 'Brabant flamand', 'region': 'Flandre'}, 3019: {'province': 'Brabant flamand', 'region': 'Flandre'}, 3020: {'province': 'Brabant flamand', 'region': 'Flandre'}, 3021: {'province': 'Brabant flamand', 'region': 'Flandre'}, 3022: {'province': 'Brabant flamand', 'region': 'Flandre'}, 3023: {'province': 'Brabant flamand', 'region': 'Flandre'}, 3024: {'province': 'Brabant flamand', 'region': 'Flandre'}, 3025: {'province': 'Brabant flamand', 'region': 'Flandre'}, 3026: {'province': 'Brabant flamand', 'region': 'Flandre'}, 3027: {'province': 'Brabant flamand', 'region': 'Flandre'}, 3028: {'province': 'Brabant flamand', 'region': 'Flandre'}, 3029: {'province': 'Brabant flamand', 'region': 'Flandre'}, 3030: {'province': 'Brabant flamand', 'region': 'Flandre'}, 3031: {'province': 'Brabant flamand', 'region': 'Flandre'}, 3032: {'province': 'Brabant flamand', 'region': 'Flandre'}, 3033: {'province': 'Brabant flamand', 'region': 'Flandre'}, 3034: {'province': 'Brabant flamand', 'region': 'Flandre'}, 3035: {'province': 'Brabant flamand', 'region': 'Flandre'}, 3036: {'province': 'Brabant flamand', 'region': 'Flandre'}, 3037: {'province': 'Brabant flamand', 'region': 'Flandre'}, 3038: {'province': 'Brabant flamand', 'region': 'Flandre'}, 3039: {'province': 'Brabant flamand', 'region': 'Flandre'}, 3040: {'province': 'Brabant flamand', 'region': 'Flandre'}, 3041: {'province': 'Brabant flamand', 'region': 'Flandre'}, 3042: {'province': 'Brabant flamand', 'region': 'Flandre'}, 3043: {'province': 'Brabant flamand', 'region': 'Flandre'}, 3044: {'province': 'Brabant flamand', 'region': 'Flandre'}, 3045: {'province': 'Brabant flamand', 'region': 'Flandre'}, 3046: {'province': 'Brabant flamand', 'region': 'Flandre'}, 3047: {'province': 'Brabant flamand', 'region': 'Flandre'}, 3048: {'province': 'Brabant flamand', 'region': 'Flandre'}, 3049: {'province': 'Brabant flamand', 'region': 'Flandre'}, 3050: {'province': 'Brabant flamand', 'region': 'Flandre'}, 3051: {'province': 'Brabant flamand', 'region': 'Flandre'}, 3052: {'province': 'Brabant flamand', 'region': 'Flandre'}, 3053: {'province': 'Brabant flamand', 'region': 'Flandre'}, 3054: {'province': 'Brabant flamand', 'region': 'Flandre'}, 3055: {'province': 'Brabant flamand', 'region': 'Flandre'}, 3056: {'province': 'Brabant flamand', 'region': 'Flandre'}, 3057: {'province': 'Brabant flamand', 'region': 'Flandre'}, 3058: {'province': 'Brabant flamand', 'region': 'Flandre'}, 3059: {'province': 'Brabant flamand', 'region': 'Flandre'}, 3060: {'province': 'Brabant flamand', 'region': 'Flandre'}, 3061: {'province': 'Brabant flamand', 'region': 'Flandre'}, 3062: {'province': 'Brabant flamand', 'region': 'Flandre'}, 3063: {'province': 'Brabant flamand', 'region': 'Flandre'}, 3064: {'province': 'Brabant flamand', 'region': 'Flandre'}, 3065: {'province': 'Brabant flamand', 'region': 'Flandre'}, 3066: {'province': 'Brabant flamand', 'region': 'Flandre'}, 3067: {'province': 'Brabant flamand', 'region': 'Flandre'}, 3068: {'province': 'Brabant flamand', 'region': 'Flandre'}, 3069: {'province': 'Brabant flamand', 'region': 'Flandre'}, 3070: {'province': 'Brabant flamand', 'region': 'Flandre'}, 3071: {'province': 'Brabant flamand', 'region': 'Flandre'}, 3072: {'province': 'Brabant flamand', 'region': 'Flandre'}, 3073: {'province': 'Brabant flamand', 'region': 'Flandre'}, 3074: {'province': 'Brabant flamand', 'region': 'Flandre'}, 3075: {'province': 'Brabant flamand', 'region': 'Flandre'}, 3076: {'province': 'Brabant flamand', 'region': 'Flandre'}, 3077: {'province': 'Brabant flamand', 'region': 'Flandre'}, 3078: {'province': 'Brabant flamand', 'region': 'Flandre'}, 3079: {'province': 'Brabant flamand', 'region': 'Flandre'}, 3080: {'province': 'Brabant flamand', 'region': 'Flandre'}, 3081: {'province': 'Brabant flamand', 'region': 'Flandre'}, 3082: {'province': 'Brabant flamand', 'region': 'Flandre'}, 3083: {'province': 'Brabant flamand', 'region': 'Flandre'}, 3084: {'province': 'Brabant flamand', 'region': 'Flandre'}, 3085: {'province': 'Brabant flamand', 'region': 'Flandre'}, 3086: {'province': 'Brabant flamand', 'region': 'Flandre'}, 3087: {'province': 'Brabant flamand', 'region': 'Flandre'}, 3088: {'province': 'Brabant flamand', 'region': 'Flandre'}, 3089: {'province': 'Brabant flamand', 'region': 'Flandre'}, 3090: {'province': 'Brabant flamand', 'region': 'Flandre'}, 3091: {'province': 'Brabant flamand', 'region': 'Flandre'}, 3092: {'province': 'Brabant flamand', 'region': 'Flandre'}, 3093: {'province': 'Brabant flamand', 'region': 'Flandre'}, 3094: {'province': 'Brabant flamand', 'region': 'Flandre'}, 3095: {'province': 'Brabant flamand', 'region': 'Flandre'}, 3096: {'province': 'Brabant flamand', 'region': 'Flandre'}, 3097: {'province': 'Brabant flamand', 'region': 'Flandre'}, 3098: {'province': 'Brabant flamand', 'region': 'Flandre'}, 3099: {'province': 'Brabant flamand', 'region': 'Flandre'}, 3100: {'province': 'Brabant flamand', 'region': 'Flandre'}, 3101: {'province': 'Brabant flamand', 'region': 'Flandre'}, 3102: {'province': 'Brabant flamand', 'region': 'Flandre'}, 3103: {'province': 'Brabant flamand', 'region': 'Flandre'}, 3104: {'province': 'Brabant flamand', 'region': 'Flandre'}, 3105: {'province': 'Brabant flamand', 'region': 'Flandre'}, 3106: {'province': 'Brabant flamand', 'region': 'Flandre'}, 3107: {'province': 'Brabant flamand', 'region': 'Flandre'}, 3108: {'province': 'Brabant flamand', 'region': 'Flandre'}, 3109: {'province': 'Brabant flamand', 'region': 'Flandre'}, 3110: {'province': 'Brabant flamand', 'region': 'Flandre'}, 3111: {'province': 'Brabant flamand', 'region': 'Flandre'}, 3112: {'province': 'Brabant flamand', 'region': 'Flandre'}, 3113: {'province': 'Brabant flamand', 'region': 'Flandre'}, 3114: {'province': 'Brabant flamand', 'region': 'Flandre'}, 3115: {'province': 'Brabant flamand', 'region': 'Flandre'}, 3116: {'province': 'Brabant flamand', 'region': 'Flandre'}, 3117: {'province': 'Brabant flamand', 'region': 'Flandre'}, 3118: {'province': 'Brabant flamand', 'region': 'Flandre'}, 3119: {'province': 'Brabant flamand', 'region': 'Flandre'}, 3120: {'province': 'Brabant flamand', 'region': 'Flandre'}, 3121: {'province': 'Brabant flamand', 'region': 'Flandre'}, 3122: {'province': 'Brabant flamand', 'region': 'Flandre'}, 3123: {'province': 'Brabant flamand', 'region': 'Flandre'}, 3124: {'province': 'Brabant flamand', 'region': 'Flandre'}, 3125: {'province': 'Brabant flamand', 'region': 'Flandre'}, 3126: {'province': 'Brabant flamand', 'region': 'Flandre'}, 3127: {'province': 'Brabant flamand', 'region': 'Flandre'}, 3128: {'province': 'Brabant flamand', 'region': 'Flandre'}, 3129: {'province': 'Brabant flamand', 'region': 'Flandre'}, 3130: {'province': 'Brabant flamand', 'region': 'Flandre'}, 3131: {'province': 'Brabant flamand', 'region': 'Flandre'}, 3132: {'province': 'Brabant flamand', 'region': 'Flandre'}, 3133: {'province': 'Brabant flamand', 'region': 'Flandre'}, 3134: {'province': 'Brabant flamand', 'region': 'Flandre'}, 3135: {'province': 'Brabant flamand', 'region': 'Flandre'}, 3136: {'province': 'Brabant flamand', 'region': 'Flandre'}, 3137: {'province': 'Brabant flamand', 'region': 'Flandre'}, 3138: {'province': 'Brabant flamand', 'region': 'Flandre'}, 3139: {'province': 'Brabant flamand', 'region': 'Flandre'}, 3140: {'province': 'Brabant flamand', 'region': 'Flandre'}, 3141: {'province': 'Brabant flamand', 'region': 'Flandre'}, 3142: {'province': 'Brabant flamand', 'region': 'Flandre'}, 3143: {'province': 'Brabant flamand', 'region': 'Flandre'}, 3144: {'province': 'Brabant flamand', 'region': 'Flandre'}, 3145: {'province': 'Brabant flamand', 'region': 'Flandre'}, 3146: {'province': 'Brabant flamand', 'region': 'Flandre'}, 3147: {'province': 'Brabant flamand', 'region': 'Flandre'}, 3148: {'province': 'Brabant flamand', 'region': 'Flandre'}, 3149: {'province': 'Brabant flamand', 'region': 'Flandre'}, 3150: {'province': 'Brabant flamand', 'region': 'Flandre'}, 3151: {'province': 'Brabant flamand', 'region': 'Flandre'}, 3152: {'province': 'Brabant flamand', 'region': 'Flandre'}, 3153: {'province': 'Brabant flamand', 'region': 'Flandre'}, 3154: {'province': 'Brabant flamand', 'region': 'Flandre'}, 3155: {'province': 'Brabant flamand', 'region': 'Flandre'}, 3156: {'province': 'Brabant flamand', 'region': 'Flandre'}, 3157: {'province': 'Brabant flamand', 'region': 'Flandre'}, 3158: {'province': 'Brabant flamand', 'region': 'Flandre'}, 3159: {'province': 'Brabant flamand', 'region': 'Flandre'}, 3160: {'province': 'Brabant flamand', 'region': 'Flandre'}, 3161: {'province': 'Brabant flamand', 'region': 'Flandre'}, 3162: {'province': 'Brabant flamand', 'region': 'Flandre'}, 3163: {'province': 'Brabant flamand', 'region': 'Flandre'}, 3164: {'province': 'Brabant flamand', 'region': 'Flandre'}, 3165: {'province': 'Brabant flamand', 'region': 'Flandre'}, 3166: {'province': 'Brabant flamand', 'region': 'Flandre'}, 3167: {'province': 'Brabant flamand', 'region': 'Flandre'}, 3168: {'province': 'Brabant flamand', 'region': 'Flandre'}, 3169: {'province': 'Brabant flamand', 'region': 'Flandre'}, 3170: {'province': 'Brabant flamand', 'region': 'Flandre'}, 3171: {'province': 'Brabant flamand', 'region': 'Flandre'}, 3172: {'province': 'Brabant flamand', 'region': 'Flandre'}, 3173: {'province': 'Brabant flamand', 'region': 'Flandre'}, 3174: {'province': 'Brabant flamand', 'region': 'Flandre'}, 3175: {'province': 'Brabant flamand', 'region': 'Flandre'}, 3176: {'province': 'Brabant flamand', 'region': 'Flandre'}, 3177: {'province': 'Brabant flamand', 'region': 'Flandre'}, 3178: {'province': 'Brabant flamand', 'region': 'Flandre'}, 3179: {'province': 'Brabant flamand', 'region': 'Flandre'}, 3180: {'province': 'Brabant flamand', 'region': 'Flandre'}, 3181: {'province': 'Brabant flamand', 'region': 'Flandre'}, 3182: {'province': 'Brabant flamand', 'region': 'Flandre'}, 3183: {'province': 'Brabant flamand', 'region': 'Flandre'}, 3184: {'province': 'Brabant flamand', 'region': 'Flandre'}, 3185: {'province': 'Brabant flamand', 'region': 'Flandre'}, 3186: {'province': 'Brabant flamand', 'region': 'Flandre'}, 3187: {'province': 'Brabant flamand', 'region': 'Flandre'}, 3188: {'province': 'Brabant flamand', 'region': 'Flandre'}, 3189: {'province': 'Brabant flamand', 'region': 'Flandre'}, 3190: {'province': 'Brabant flamand', 'region': 'Flandre'}, 3191: {'province': 'Brabant flamand', 'region': 'Flandre'}, 3192: {'province': 'Brabant flamand', 'region': 'Flandre'}, 3193: {'province': 'Brabant flamand', 'region': 'Flandre'}, 3194: {'province': 'Brabant flamand', 'region': 'Flandre'}, 3195: {'province': 'Brabant flamand', 'region': 'Flandre'}, 3196: {'province': 'Brabant flamand', 'region': 'Flandre'}, 3197: {'province': 'Brabant flamand', 'region': 'Flandre'}, 3198: {'province': 'Brabant flamand', 'region': 'Flandre'}, 3199: {'province': 'Brabant flamand', 'region': 'Flandre'}, 3200: {'province': 'Brabant flamand', 'region': 'Flandre'}, 3201: {'province': 'Brabant flamand', 'region': 'Flandre'}, 3202: {'province': 'Brabant flamand', 'region': 'Flandre'}, 3203: {'province': 'Brabant flamand', 'region': 'Flandre'}, 3204: {'province': 'Brabant flamand', 'region': 'Flandre'}, 3205: {'province': 'Brabant flamand', 'region': 'Flandre'}, 3206: {'province': 'Brabant flamand', 'region': 'Flandre'}, 3207: {'province': 'Brabant flamand', 'region': 'Flandre'}, 3208: {'province': 'Brabant flamand', 'region': 'Flandre'}, 3209: {'province': 'Brabant flamand', 'region': 'Flandre'}, 3210: {'province': 'Brabant flamand', 'region': 'Flandre'}, 3211: {'province': 'Brabant flamand', 'region': 'Flandre'}, 3212: {'province': 'Brabant flamand', 'region': 'Flandre'}, 3213: {'province': 'Brabant flamand', 'region': 'Flandre'}, 3214: {'province': 'Brabant flamand', 'region': 'Flandre'}, 3215: {'province': 'Brabant flamand', 'region': 'Flandre'}, 3216: {'province': 'Brabant flamand', 'region': 'Flandre'}, 3217: {'province': 'Brabant flamand', 'region': 'Flandre'}, 3218: {'province': 'Brabant flamand', 'region': 'Flandre'}, 3219: {'province': 'Brabant flamand', 'region': 'Flandre'}, 3220: {'province': 'Brabant flamand', 'region': 'Flandre'}, 3221: {'province': 'Brabant flamand', 'region': 'Flandre'}, 3222: {'province': 'Brabant flamand', 'region': 'Flandre'}, 3223: {'province': 'Brabant flamand', 'region': 'Flandre'}, 3224: {'province': 'Brabant flamand', 'region': 'Flandre'}, 3225: {'province': 'Brabant flamand', 'region': 'Flandre'}, 3226: {'province': 'Brabant flamand', 'region': 'Flandre'}, 3227: {'province': 'Brabant flamand', 'region': 'Flandre'}, 3228: {'province': 'Brabant flamand', 'region': 'Flandre'}, 3229: {'province': 'Brabant flamand', 'region': 'Flandre'}, 3230: {'province': 'Brabant flamand', 'region': 'Flandre'}, 3231: {'province': 'Brabant flamand', 'region': 'Flandre'}, 3232: {'province': 'Brabant flamand', 'region': 'Flandre'}, 3233: {'province': 'Brabant flamand', 'region': 'Flandre'}, 3234: {'province': 'Brabant flamand', 'region': 'Flandre'}, 3235: {'province': 'Brabant flamand', 'region': 'Flandre'}, 3236: {'province': 'Brabant flamand', 'region': 'Flandre'}, 3237: {'province': 'Brabant flamand', 'region': 'Flandre'}, 3238: {'province': 'Brabant flamand', 'region': 'Flandre'}, 3239: {'province': 'Brabant flamand', 'region': 'Flandre'}, 3240: {'province': 'Brabant flamand', 'region': 'Flandre'}, 3241: {'province': 'Brabant flamand', 'region': 'Flandre'}, 3242: {'province': 'Brabant flamand', 'region': 'Flandre'}, 3243: {'province': 'Brabant flamand', 'region': 'Flandre'}, 3244: {'province': 'Brabant flamand', 'region': 'Flandre'}, 3245: {'province': 'Brabant flamand', 'region': 'Flandre'}, 3246: {'province': 'Brabant flamand', 'region': 'Flandre'}, 3247: {'province': 'Brabant flamand', 'region': 'Flandre'}, 3248: {'province': 'Brabant flamand', 'region': 'Flandre'}, 3249: {'province': 'Brabant flamand', 'region': 'Flandre'}, 3250: {'province': 'Brabant flamand', 'region': 'Flandre'}, 3251: {'province': 'Brabant flamand', 'region': 'Flandre'}, 3252: {'province': 'Brabant flamand', 'region': 'Flandre'}, 3253: {'province': 'Brabant flamand', 'region': 'Flandre'}, 3254: {'province': 'Brabant flamand', 'region': 'Flandre'}, 3255: {'province': 'Brabant flamand', 'region': 'Flandre'}, 3256: {'province': 'Brabant flamand', 'region': 'Flandre'}, 3257: {'province': 'Brabant flamand', 'region': 'Flandre'}, 3258: {'province': 'Brabant flamand', 'region': 'Flandre'}, 3259: {'province': 'Brabant flamand', 'region': 'Flandre'}, 3260: {'province': 'Brabant flamand', 'region': 'Flandre'}, 3261: {'province': 'Brabant flamand', 'region': 'Flandre'}, 3262: {'province': 'Brabant flamand', 'region': 'Flandre'}, 3263: {'province': 'Brabant flamand', 'region': 'Flandre'}, 3264: {'province': 'Brabant flamand', 'region': 'Flandre'}, 3265: {'province': 'Brabant flamand', 'region': 'Flandre'}, 3266: {'province': 'Brabant flamand', 'region': 'Flandre'}, 3267: {'province': 'Brabant flamand', 'region': 'Flandre'}, 3268: {'province': 'Brabant flamand', 'region': 'Flandre'}, 3269: {'province': 'Brabant flamand', 'region': 'Flandre'}, 3270: {'province': 'Brabant flamand', 'region': 'Flandre'}, 3271: {'province': 'Brabant flamand', 'region': 'Flandre'}, 3272: {'province': 'Brabant flamand', 'region': 'Flandre'}, 3273: {'province': 'Brabant flamand', 'region': 'Flandre'}, 3274: {'province': 'Brabant flamand', 'region': 'Flandre'}, 3275: {'province': 'Brabant flamand', 'region': 'Flandre'}, 3276: {'province': 'Brabant flamand', 'region': 'Flandre'}, 3277: {'province': 'Brabant flamand', 'region': 'Flandre'}, 3278: {'province': 'Brabant flamand', 'region': 'Flandre'}, 3279: {'province': 'Brabant flamand', 'region': 'Flandre'}, 3280: {'province': 'Brabant flamand', 'region': 'Flandre'}, 3281: {'province': 'Brabant flamand', 'region': 'Flandre'}, 3282: {'province': 'Brabant flamand', 'region': 'Flandre'}, 3283: {'province': 'Brabant flamand', 'region': 'Flandre'}, 3284: {'province': 'Brabant flamand', 'region': 'Flandre'}, 3285: {'province': 'Brabant flamand', 'region': 'Flandre'}, 3286: {'province': 'Brabant flamand', 'region': 'Flandre'}, 3287: {'province': 'Brabant flamand', 'region': 'Flandre'}, 3288: {'province': 'Brabant flamand', 'region': 'Flandre'}, 3289: {'province': 'Brabant flamand', 'region': 'Flandre'}, 3290: {'province': 'Brabant flamand', 'region': 'Flandre'}, 3291: {'province': 'Brabant flamand', 'region': 'Flandre'}, 3292: {'province': 'Brabant flamand', 'region': 'Flandre'}, 3293: {'province': 'Brabant flamand', 'region': 'Flandre'}, 3294: {'province': 'Brabant flamand', 'region': 'Flandre'}, 3295: {'province': 'Brabant flamand', 'region': 'Flandre'}, 3296: {'province': 'Brabant flamand', 'region': 'Flandre'}, 3297: {'province': 'Brabant flamand', 'region': 'Flandre'}, 3298: {'province': 'Brabant flamand', 'region': 'Flandre'}, 3299: {'province': 'Brabant flamand', 'region': 'Flandre'}, 3300: {'province': 'Brabant flamand', 'region': 'Flandre'}, 3301: {'province': 'Brabant flamand', 'region': 'Flandre'}, 3302: {'province': 'Brabant flamand', 'region': 'Flandre'}, 3303: {'province': 'Brabant flamand', 'region': 'Flandre'}, 3304: {'province': 'Brabant flamand', 'region': 'Flandre'}, 3305: {'province': 'Brabant flamand', 'region': 'Flandre'}, 3306: {'province': 'Brabant flamand', 'region': 'Flandre'}, 3307: {'province': 'Brabant flamand', 'region': 'Flandre'}, 3308: {'province': 'Brabant flamand', 'region': 'Flandre'}, 3309: {'province': 'Brabant flamand', 'region': 'Flandre'}, 3310: {'province': 'Brabant flamand', 'region': 'Flandre'}, 3311: {'province': 'Brabant flamand', 'region': 'Flandre'}, 3312: {'province': 'Brabant flamand', 'region': 'Flandre'}, 3313: {'province': 'Brabant flamand', 'region': 'Flandre'}, 3314: {'province': 'Brabant flamand', 'region': 'Flandre'}, 3315: {'province': 'Brabant flamand', 'region': 'Flandre'}, 3316: {'province': 'Brabant flamand', 'region': 'Flandre'}, 3317: {'province': 'Brabant flamand', 'region': 'Flandre'}, 3318: {'province': 'Brabant flamand', 'region': 'Flandre'}, 3319: {'province': 'Brabant flamand', 'region': 'Flandre'}, 3320: {'province': 'Brabant flamand', 'region': 'Flandre'}, 3321: {'province': 'Brabant flamand', 'region': 'Flandre'}, 3322: {'province': 'Brabant flamand', 'region': 'Flandre'}, 3323: {'province': 'Brabant flamand', 'region': 'Flandre'}, 3324: {'province': 'Brabant flamand', 'region': 'Flandre'}, 3325: {'province': 'Brabant flamand', 'region': 'Flandre'}, 3326: {'province': 'Brabant flamand', 'region': 'Flandre'}, 3327: {'province': 'Brabant flamand', 'region': 'Flandre'}, 3328: {'province': 'Brabant flamand', 'region': 'Flandre'}, 3329: {'province': 'Brabant flamand', 'region': 'Flandre'}, 3330: {'province': 'Brabant flamand', 'region': 'Flandre'}, 3331: {'province': 'Brabant flamand', 'region': 'Flandre'}, 3332: {'province': 'Brabant flamand', 'region': 'Flandre'}, 3333: {'province': 'Brabant flamand', 'region': 'Flandre'}, 3334: {'province': 'Brabant flamand', 'region': 'Flandre'}, 3335: {'province': 'Brabant flamand', 'region': 'Flandre'}, 3336: {'province': 'Brabant flamand', 'region': 'Flandre'}, 3337: {'province': 'Brabant flamand', 'region': 'Flandre'}, 3338: {'province': 'Brabant flamand', 'region': 'Flandre'}, 3339: {'province': 'Brabant flamand', 'region': 'Flandre'}, 3340: {'province': 'Brabant flamand', 'region': 'Flandre'}, 3341: {'province': 'Brabant flamand', 'region': 'Flandre'}, 3342: {'province': 'Brabant flamand', 'region': 'Flandre'}, 3343: {'province': 'Brabant flamand', 'region': 'Flandre'}, 3344: {'province': 'Brabant flamand', 'region': 'Flandre'}, 3345: {'province': 'Brabant flamand', 'region': 'Flandre'}, 3346: {'province': 'Brabant flamand', 'region': 'Flandre'}, 3347: {'province': 'Brabant flamand', 'region': 'Flandre'}, 3348: {'province': 'Brabant flamand', 'region': 'Flandre'}, 3349: {'province': 'Brabant flamand', 'region': 'Flandre'}, 3350: {'province': 'Brabant flamand', 'region': 'Flandre'}, 3351: {'province': 'Brabant flamand', 'region': 'Flandre'}, 3352: {'province': 'Brabant flamand', 'region': 'Flandre'}, 3353: {'province': 'Brabant flamand', 'region': 'Flandre'}, 3354: {'province': 'Brabant flamand', 'region': 'Flandre'}, 3355: {'province': 'Brabant flamand', 'region': 'Flandre'}, 3356: {'province': 'Brabant flamand', 'region': 'Flandre'}, 3357: {'province': 'Brabant flamand', 'region': 'Flandre'}, 3358: {'province': 'Brabant flamand', 'region': 'Flandre'}, 3359: {'province': 'Brabant flamand', 'region': 'Flandre'}, 3360: {'province': 'Brabant flamand', 'region': 'Flandre'}, 3361: {'province': 'Brabant flamand', 'region': 'Flandre'}, 3362: {'province': 'Brabant flamand', 'region': 'Flandre'}, 3363: {'province': 'Brabant flamand', 'region': 'Flandre'}, 3364: {'province': 'Brabant flamand', 'region': 'Flandre'}, 3365: {'province': 'Brabant flamand', 'region': 'Flandre'}, 3366: {'province': 'Brabant flamand', 'region': 'Flandre'}, 3367: {'province': 'Brabant flamand', 'region': 'Flandre'}, 3368: {'province': 'Brabant flamand', 'region': 'Flandre'}, 3369: {'province': 'Brabant flamand', 'region': 'Flandre'}, 3370: {'province': 'Brabant flamand', 'region': 'Flandre'}, 3371: {'province': 'Brabant flamand', 'region': 'Flandre'}, 3372: {'province': 'Brabant flamand', 'region': 'Flandre'}, 3373: {'province': 'Brabant flamand', 'region': 'Flandre'}, 3374: {'province': 'Brabant flamand', 'region': 'Flandre'}, 3375: {'province': 'Brabant flamand', 'region': 'Flandre'}, 3376: {'province': 'Brabant flamand', 'region': 'Flandre'}, 3377: {'province': 'Brabant flamand', 'region': 'Flandre'}, 3378: {'province': 'Brabant flamand', 'region': 'Flandre'}, 3379: {'province': 'Brabant flamand', 'region': 'Flandre'}, 3380: {'province': 'Brabant flamand', 'region': 'Flandre'}, 3381: {'province': 'Brabant flamand', 'region': 'Flandre'}, 3382: {'province': 'Brabant flamand', 'region': 'Flandre'}, 3383: {'province': 'Brabant flamand', 'region': 'Flandre'}, 3384: {'province': 'Brabant flamand', 'region': 'Flandre'}, 3385: {'province': 'Brabant flamand', 'region': 'Flandre'}, 3386: {'province': 'Brabant flamand', 'region': 'Flandre'}, 3387: {'province': 'Brabant flamand', 'region': 'Flandre'}, 3388: {'province': 'Brabant flamand', 'region': 'Flandre'}, 3389: {'province': 'Brabant flamand', 'region': 'Flandre'}, 3390: {'province': 'Brabant flamand', 'region': 'Flandre'}, 3391: {'province': 'Brabant flamand', 'region': 'Flandre'}, 3392: {'province': 'Brabant flamand', 'region': 'Flandre'}, 3393: {'province': 'Brabant flamand', 'region': 'Flandre'}, 3394: {'province': 'Brabant flamand', 'region': 'Flandre'}, 3395: {'province': 'Brabant flamand', 'region': 'Flandre'}, 3396: {'province': 'Brabant flamand', 'region': 'Flandre'}, 3397: {'province': 'Brabant flamand', 'region': 'Flandre'}, 3398: {'province': 'Brabant flamand', 'region': 'Flandre'}, 3399: {'province': 'Brabant flamand', 'region': 'Flandre'}, 3400: {'province': 'Brabant flamand', 'region': 'Flandre'}, 3401: {'province': 'Brabant flamand', 'region': 'Flandre'}, 3402: {'province': 'Brabant flamand', 'region': 'Flandre'}, 3403: {'province': 'Brabant flamand', 'region': 'Flandre'}, 3404: {'province': 'Brabant flamand', 'region': 'Flandre'}, 3405: {'province': 'Brabant flamand', 'region': 'Flandre'}, 3406: {'province': 'Brabant flamand', 'region': 'Flandre'}, 3407: {'province': 'Brabant flamand', 'region': 'Flandre'}, 3408: {'province': 'Brabant flamand', 'region': 'Flandre'}, 3409: {'province': 'Brabant flamand', 'region': 'Flandre'}, 3410: {'province': 'Brabant flamand', 'region': 'Flandre'}, 3411: {'province': 'Brabant flamand', 'region': 'Flandre'}, 3412: {'province': 'Brabant flamand', 'region': 'Flandre'}, 3413: {'province': 'Brabant flamand', 'region': 'Flandre'}, 3414: {'province': 'Brabant flamand', 'region': 'Flandre'}, 3415: {'province': 'Brabant flamand', 'region': 'Flandre'}, 3416: {'province': 'Brabant flamand', 'region': 'Flandre'}, 3417: {'province': 'Brabant flamand', 'region': 'Flandre'}, 3418: {'province': 'Brabant flamand', 'region': 'Flandre'}, 3419: {'province': 'Brabant flamand', 'region': 'Flandre'}, 3420: {'province': 'Brabant flamand', 'region': 'Flandre'}, 3421: {'province': 'Brabant flamand', 'region': 'Flandre'}, 3422: {'province': 'Brabant flamand', 'region': 'Flandre'}, 3423: {'province': 'Brabant flamand', 'region': 'Flandre'}, 3424: {'province': 'Brabant flamand', 'region': 'Flandre'}, 3425: {'province': 'Brabant flamand', 'region': 'Flandre'}, 3426: {'province': 'Brabant flamand', 'region': 'Flandre'}, 3427: {'province': 'Brabant flamand', 'region': 'Flandre'}, 3428: {'province': 'Brabant flamand', 'region': 'Flandre'}, 3429: {'province': 'Brabant flamand', 'region': 'Flandre'}, 3430: {'province': 'Brabant flamand', 'region': 'Flandre'}, 3431: {'province': 'Brabant flamand', 'region': 'Flandre'}, 3432: {'province': 'Brabant flamand', 'region': 'Flandre'}, 3433: {'province': 'Brabant flamand', 'region': 'Flandre'}, 3434: {'province': 'Brabant flamand', 'region': 'Flandre'}, 3435: {'province': 'Brabant flamand', 'region': 'Flandre'}, 3436: {'province': 'Brabant flamand', 'region': 'Flandre'}, 3437: {'province': 'Brabant flamand', 'region': 'Flandre'}, 3438: {'province': 'Brabant flamand', 'region': 'Flandre'}, 3439: {'province': 'Brabant flamand', 'region': 'Flandre'}, 3440: {'province': 'Brabant flamand', 'region': 'Flandre'}, 3441: {'province': 'Brabant flamand', 'region': 'Flandre'}, 3442: {'province': 'Brabant flamand', 'region': 'Flandre'}, 3443: {'province': 'Brabant flamand', 'region': 'Flandre'}, 3444: {'province': 'Brabant flamand', 'region': 'Flandre'}, 3445: {'province': 'Brabant flamand', 'region': 'Flandre'}, 3446: {'province': 'Brabant flamand', 'region': 'Flandre'}, 3447: {'province': 'Brabant flamand', 'region': 'Flandre'}, 3448: {'province': 'Brabant flamand', 'region': 'Flandre'}, 3449: {'province': 'Brabant flamand', 'region': 'Flandre'}, 3450: {'province': 'Brabant flamand', 'region': 'Flandre'}, 3451: {'province': 'Brabant flamand', 'region': 'Flandre'}, 3452: {'province': 'Brabant flamand', 'region': 'Flandre'}, 3453: {'province': 'Brabant flamand', 'region': 'Flandre'}, 3454: {'province': 'Brabant flamand', 'region': 'Flandre'}, 3455: {'province': 'Brabant flamand', 'region': 'Flandre'}, 3456: {'province': 'Brabant flamand', 'region': 'Flandre'}, 3457: {'province': 'Brabant flamand', 'region': 'Flandre'}, 3458: {'province': 'Brabant flamand', 'region': 'Flandre'}, 3459: {'province': 'Brabant flamand', 'region': 'Flandre'}, 3460: {'province': 'Brabant flamand', 'region': 'Flandre'}, 3461: {'province': 'Brabant flamand', 'region': 'Flandre'}, 3462: {'province': 'Brabant flamand', 'region': 'Flandre'}, 3463: {'province': 'Brabant flamand', 'region': 'Flandre'}, 3464: {'province': 'Brabant flamand', 'region': 'Flandre'}, 3465: {'province': 'Brabant flamand', 'region': 'Flandre'}, 3466: {'province': 'Brabant flamand', 'region': 'Flandre'}, 3467: {'province': 'Brabant flamand', 'region': 'Flandre'}, 3468: {'province': 'Brabant flamand', 'region': 'Flandre'}, 3469: {'province': 'Brabant flamand', 'region': 'Flandre'}, 3470: {'province': 'Brabant flamand', 'region': 'Flandre'}, 3471: {'province': 'Brabant flamand', 'region': 'Flandre'}, 3472: {'province': 'Brabant flamand', 'region': 'Flandre'}, 3473: {'province': 'Brabant flamand', 'region': 'Flandre'}, 3474: {'province': 'Brabant flamand', 'region': 'Flandre'}, 3475: {'province': 'Brabant flamand', 'region': 'Flandre'}, 3476: {'province': 'Brabant flamand', 'region': 'Flandre'}, 3477: {'province': 'Brabant flamand', 'region': 'Flandre'}, 3478: {'province': 'Brabant flamand', 'region': 'Flandre'}, 3479: {'province': 'Brabant flamand', 'region': 'Flandre'}, 3480: {'province': 'Brabant flamand', 'region': 'Flandre'}, 3481: {'province': 'Brabant flamand', 'region': 'Flandre'}, 3482: {'province': 'Brabant flamand', 'region': 'Flandre'}, 3483: {'province': 'Brabant flamand', 'region': 'Flandre'}, 3484: {'province': 'Brabant flamand', 'region': 'Flandre'}, 3485: {'province': 'Brabant flamand', 'region': 'Flandre'}, 3486: {'province': 'Brabant flamand', 'region': 'Flandre'}, 3487: {'province': 'Brabant flamand', 'region': 'Flandre'}, 3488: {'province': 'Brabant flamand', 'region': 'Flandre'}, 3489: {'province': 'Brabant flamand', 'region': 'Flandre'}, 3490: {'province': 'Brabant flamand', 'region': 'Flandre'}, 3491: {'province': 'Brabant flamand', 'region': 'Flandre'}, 3492: {'province': 'Brabant flamand', 'region': 'Flandre'}, 3493: {'province': 'Brabant flamand', 'region': 'Flandre'}, 3494: {'province': 'Brabant flamand', 'region': 'Flandre'}, 3495: {'province': 'Brabant flamand', 'region': 'Flandre'}, 3496: {'province': 'Brabant flamand', 'region': 'Flandre'}, 3497: {'province': 'Brabant flamand', 'region': 'Flandre'}, 3498: {'province': 'Brabant flamand', 'region': 'Flandre'}, 3499: {'province': 'Brabant flamand', 'region': 'Flandre'}, 2000: {'province': 'Anvers', 'region': 'Flandre'}, 2001: {'province': 'Anvers', 'region': 'Flandre'}, 2002: {'province': 'Anvers', 'region': 'Flandre'}, 2003: {'province': 'Anvers', 'region': 'Flandre'}, 2004: {'province': 'Anvers', 'region': 'Flandre'}, 2005: {'province': 'Anvers', 'region': 'Flandre'}, 2006: {'province': 'Anvers', 'region': 'Flandre'}, 2007: {'province': 'Anvers', 'region': 'Flandre'}, 2008: {'province': 'Anvers', 'region': 'Flandre'}, 2009: {'province': 'Anvers', 'region': 'Flandre'}, 2010: {'province': 'Anvers', 'region': 'Flandre'}, 2011: {'province': 'Anvers', 'region': 'Flandre'}, 2012: {'province': 'Anvers', 'region': 'Flandre'}, 2013: {'province': 'Anvers', 'region': 'Flandre'}, 2014: {'province': 'Anvers', 'region': 'Flandre'}, 2015: {'province': 'Anvers', 'region': 'Flandre'}, 2016: {'province': 'Anvers', 'region': 'Flandre'}, 2017: {'province': 'Anvers', 'region': 'Flandre'}, 2018: {'province': 'Anvers', 'region': 'Flandre'}, 2019: {'province': 'Anvers', 'region': 'Flandre'}, 2020: {'province': 'Anvers', 'region': 'Flandre'}, 2021: {'province': 'Anvers', 'region': 'Flandre'}, 2022: {'province': 'Anvers', 'region': 'Flandre'}, 2023: {'province': 'Anvers', 'region': 'Flandre'}, 2024: {'province': 'Anvers', 'region': 'Flandre'}, 2025: {'province': 'Anvers', 'region': 'Flandre'}, 2026: {'province': 'Anvers', 'region': 'Flandre'}, 2027: {'province': 'Anvers', 'region': 'Flandre'}, 2028: {'province': 'Anvers', 'region': 'Flandre'}, 2029: {'province': 'Anvers', 'region': 'Flandre'}, 2030: {'province': 'Anvers', 'region': 'Flandre'}, 2031: {'province': 'Anvers', 'region': 'Flandre'}, 2032: {'province': 'Anvers', 'region': 'Flandre'}, 2033: {'province': 'Anvers', 'region': 'Flandre'}, 2034: {'province': 'Anvers', 'region': 'Flandre'}, 2035: {'province': 'Anvers', 'region': 'Flandre'}, 2036: {'province': 'Anvers', 'region': 'Flandre'}, 2037: {'province': 'Anvers', 'region': 'Flandre'}, 2038: {'province': 'Anvers', 'region': 'Flandre'}, 2039: {'province': 'Anvers', 'region': 'Flandre'}, 2040: {'province': 'Anvers', 'region': 'Flandre'}, 2041: {'province': 'Anvers', 'region': 'Flandre'}, 2042: {'province': 'Anvers', 'region': 'Flandre'}, 2043: {'province': 'Anvers', 'region': 'Flandre'}, 2044: {'province': 'Anvers', 'region': 'Flandre'}, 2045: {'province': 'Anvers', 'region': 'Flandre'}, 2046: {'province': 'Anvers', 'region': 'Flandre'}, 2047: {'province': 'Anvers', 'region': 'Flandre'}, 2048: {'province': 'Anvers', 'region': 'Flandre'}, 2049: {'province': 'Anvers', 'region': 'Flandre'}, 2050: {'province': 'Anvers', 'region': 'Flandre'}, 2051: {'province': 'Anvers', 'region': 'Flandre'}, 2052: {'province': 'Anvers', 'region': 'Flandre'}, 2053: {'province': 'Anvers', 'region': 'Flandre'}, 2054: {'province': 'Anvers', 'region': 'Flandre'}, 2055: {'province': 'Anvers', 'region': 'Flandre'}, 2056: {'province': 'Anvers', 'region': 'Flandre'}, 2057: {'province': 'Anvers', 'region': 'Flandre'}, 2058: {'province': 'Anvers', 'region': 'Flandre'}, 2059: {'province': 'Anvers', 'region': 'Flandre'}, 2060: {'province': 'Anvers', 'region': 'Flandre'}, 2061: {'province': 'Anvers', 'region': 'Flandre'}, 2062: {'province': 'Anvers', 'region': 'Flandre'}, 2063: {'province': 'Anvers', 'region': 'Flandre'}, 2064: {'province': 'Anvers', 'region': 'Flandre'}, 2065: {'province': 'Anvers', 'region': 'Flandre'}, 2066: {'province': 'Anvers', 'region': 'Flandre'}, 2067: {'province': 'Anvers', 'region': 'Flandre'}, 2068: {'province': 'Anvers', 'region': 'Flandre'}, 2069: {'province': 'Anvers', 'region': 'Flandre'}, 2070: {'province': 'Anvers', 'region': 'Flandre'}, 2071: {'province': 'Anvers', 'region': 'Flandre'}, 2072: {'province': 'Anvers', 'region': 'Flandre'}, 2073: {'province': 'Anvers', 'region': 'Flandre'}, 2074: {'province': 'Anvers', 'region': 'Flandre'}, 2075: {'province': 'Anvers', 'region': 'Flandre'}, 2076: {'province': 'Anvers', 'region': 'Flandre'}, 2077: {'province': 'Anvers', 'region': 'Flandre'}, 2078: {'province': 'Anvers', 'region': 'Flandre'}, 2079: {'province': 'Anvers', 'region': 'Flandre'}, 2080: {'province': 'Anvers', 'region': 'Flandre'}, 2081: {'province': 'Anvers', 'region': 'Flandre'}, 2082: {'province': 'Anvers', 'region': 'Flandre'}, 2083: {'province': 'Anvers', 'region': 'Flandre'}, 2084: {'province': 'Anvers', 'region': 'Flandre'}, 2085: {'province': 'Anvers', 'region': 'Flandre'}, 2086: {'province': 'Anvers', 'region': 'Flandre'}, 2087: {'province': 'Anvers', 'region': 'Flandre'}, 2088: {'province': 'Anvers', 'region': 'Flandre'}, 2089: {'province': 'Anvers', 'region': 'Flandre'}, 2090: {'province': 'Anvers', 'region': 'Flandre'}, 2091: {'province': 'Anvers', 'region': 'Flandre'}, 2092: {'province': 'Anvers', 'region': 'Flandre'}, 2093: {'province': 'Anvers', 'region': 'Flandre'}, 2094: {'province': 'Anvers', 'region': 'Flandre'}, 2095: {'province': 'Anvers', 'region': 'Flandre'}, 2096: {'province': 'Anvers', 'region': 'Flandre'}, 2097: {'province': 'Anvers', 'region': 'Flandre'}, 2098: {'province': 'Anvers', 'region': 'Flandre'}, 2099: {'province': 'Anvers', 'region': 'Flandre'}, 2100: {'province': 'Anvers', 'region': 'Flandre'}, 2101: {'province': 'Anvers', 'region': 'Flandre'}, 2102: {'province': 'Anvers', 'region': 'Flandre'}, 2103: {'province': 'Anvers', 'region': 'Flandre'}, 2104: {'province': 'Anvers', 'region': 'Flandre'}, 2105: {'province': 'Anvers', 'region': 'Flandre'}, 2106: {'province': 'Anvers', 'region': 'Flandre'}, 2107: {'province': 'Anvers', 'region': 'Flandre'}, 2108: {'province': 'Anvers', 'region': 'Flandre'}, 2109: {'province': 'Anvers', 'region': 'Flandre'}, 2110: {'province': 'Anvers', 'region': 'Flandre'}, 2111: {'province': 'Anvers', 'region': 'Flandre'}, 2112: {'province': 'Anvers', 'region': 'Flandre'}, 2113: {'province': 'Anvers', 'region': 'Flandre'}, 2114: {'province': 'Anvers', 'region': 'Flandre'}, 2115: {'province': 'Anvers', 'region': 'Flandre'}, 2116: {'province': 'Anvers', 'region': 'Flandre'}, 2117: {'province': 'Anvers', 'region': 'Flandre'}, 2118: {'province': 'Anvers', 'region': 'Flandre'}, 2119: {'province': 'Anvers', 'region': 'Flandre'}, 2120: {'province': 'Anvers', 'region': 'Flandre'}, 2121: {'province': 'Anvers', 'region': 'Flandre'}, 2122: {'province': 'Anvers', 'region': 'Flandre'}, 2123: {'province': 'Anvers', 'region': 'Flandre'}, 2124: {'province': 'Anvers', 'region': 'Flandre'}, 2125: {'province': 'Anvers', 'region': 'Flandre'}, 2126: {'province': 'Anvers', 'region': 'Flandre'}, 2127: {'province': 'Anvers', 'region': 'Flandre'}, 2128: {'province': 'Anvers', 'region': 'Flandre'}, 2129: {'province': 'Anvers', 'region': 'Flandre'}, 2130: {'province': 'Anvers', 'region': 'Flandre'}, 2131: {'province': 'Anvers', 'region': 'Flandre'}, 2132: {'province': 'Anvers', 'region': 'Flandre'}, 2133: {'province': 'Anvers', 'region': 'Flandre'}, 2134: {'province': 'Anvers', 'region': 'Flandre'}, 2135: {'province': 'Anvers', 'region': 'Flandre'}, 2136: {'province': 'Anvers', 'region': 'Flandre'}, 2137: {'province': 'Anvers', 'region': 'Flandre'}, 2138: {'province': 'Anvers', 'region': 'Flandre'}, 2139: {'province': 'Anvers', 'region': 'Flandre'}, 2140: {'province': 'Anvers', 'region': 'Flandre'}, 2141: {'province': 'Anvers', 'region': 'Flandre'}, 2142: {'province': 'Anvers', 'region': 'Flandre'}, 2143: {'province': 'Anvers', 'region': 'Flandre'}, 2144: {'province': 'Anvers', 'region': 'Flandre'}, 2145: {'province': 'Anvers', 'region': 'Flandre'}, 2146: {'province': 'Anvers', 'region': 'Flandre'}, 2147: {'province': 'Anvers', 'region': 'Flandre'}, 2148: {'province': 'Anvers', 'region': 'Flandre'}, 2149: {'province': 'Anvers', 'region': 'Flandre'}, 2150: {'province': 'Anvers', 'region': 'Flandre'}, 2151: {'province': 'Anvers', 'region': 'Flandre'}, 2152: {'province': 'Anvers', 'region': 'Flandre'}, 2153: {'province': 'Anvers', 'region': 'Flandre'}, 2154: {'province': 'Anvers', 'region': 'Flandre'}, 2155: {'province': 'Anvers', 'region': 'Flandre'}, 2156: {'province': 'Anvers', 'region': 'Flandre'}, 2157: {'province': 'Anvers', 'region': 'Flandre'}, 2158: {'province': 'Anvers', 'region': 'Flandre'}, 2159: {'province': 'Anvers', 'region': 'Flandre'}, 2160: {'province': 'Anvers', 'region': 'Flandre'}, 2161: {'province': 'Anvers', 'region': 'Flandre'}, 2162: {'province': 'Anvers', 'region': 'Flandre'}, 2163: {'province': 'Anvers', 'region': 'Flandre'}, 2164: {'province': 'Anvers', 'region': 'Flandre'}, 2165: {'province': 'Anvers', 'region': 'Flandre'}, 2166: {'province': 'Anvers', 'region': 'Flandre'}, 2167: {'province': 'Anvers', 'region': 'Flandre'}, 2168: {'province': 'Anvers', 'region': 'Flandre'}, 2169: {'province': 'Anvers', 'region': 'Flandre'}, 2170: {'province': 'Anvers', 'region': 'Flandre'}, 2171: {'province': 'Anvers', 'region': 'Flandre'}, 2172: {'province': 'Anvers', 'region': 'Flandre'}, 2173: {'province': 'Anvers', 'region': 'Flandre'}, 2174: {'province': 'Anvers', 'region': 'Flandre'}, 2175: {'province': 'Anvers', 'region': 'Flandre'}, 2176: {'province': 'Anvers', 'region': 'Flandre'}, 2177: {'province': 'Anvers', 'region': 'Flandre'}, 2178: {'province': 'Anvers', 'region': 'Flandre'}, 2179: {'province': 'Anvers', 'region': 'Flandre'}, 2180: {'province': 'Anvers', 'region': 'Flandre'}, 2181: {'province': 'Anvers', 'region': 'Flandre'}, 2182: {'province': 'Anvers', 'region': 'Flandre'}, 2183: {'province': 'Anvers', 'region': 'Flandre'}, 2184: {'province': 'Anvers', 'region': 'Flandre'}, 2185: {'province': 'Anvers', 'region': 'Flandre'}, 2186: {'province': 'Anvers', 'region': 'Flandre'}, 2187: {'province': 'Anvers', 'region': 'Flandre'}, 2188: {'province': 'Anvers', 'region': 'Flandre'}, 2189: {'province': 'Anvers', 'region': 'Flandre'}, 2190: {'province': 'Anvers', 'region': 'Flandre'}, 2191: {'province': 'Anvers', 'region': 'Flandre'}, 2192: {'province': 'Anvers', 'region': 'Flandre'}, 2193: {'province': 'Anvers', 'region': 'Flandre'}, 2194: {'province': 'Anvers', 'region': 'Flandre'}, 2195: {'province': 'Anvers', 'region': 'Flandre'}, 2196: {'province': 'Anvers', 'region': 'Flandre'}, 2197: {'province': 'Anvers', 'region': 'Flandre'}, 2198: {'province': 'Anvers', 'region': 'Flandre'}, 2199: {'province': 'Anvers', 'region': 'Flandre'}, 2200: {'province': 'Anvers', 'region': 'Flandre'}, 2201: {'province': 'Anvers', 'region': 'Flandre'}, 2202: {'province': 'Anvers', 'region': 'Flandre'}, 2203: {'province': 'Anvers', 'region': 'Flandre'}, 2204: {'province': 'Anvers', 'region': 'Flandre'}, 2205: {'province': 'Anvers', 'region': 'Flandre'}, 2206: {'province': 'Anvers', 'region': 'Flandre'}, 2207: {'province': 'Anvers', 'region': 'Flandre'}, 2208: {'province': 'Anvers', 'region': 'Flandre'}, 2209: {'province': 'Anvers', 'region': 'Flandre'}, 2210: {'province': 'Anvers', 'region': 'Flandre'}, 2211: {'province': 'Anvers', 'region': 'Flandre'}, 2212: {'province': 'Anvers', 'region': 'Flandre'}, 2213: {'province': 'Anvers', 'region': 'Flandre'}, 2214: {'province': 'Anvers', 'region': 'Flandre'}, 2215: {'province': 'Anvers', 'region': 'Flandre'}, 2216: {'province': 'Anvers', 'region': 'Flandre'}, 2217: {'province': 'Anvers', 'region': 'Flandre'}, 2218: {'province': 'Anvers', 'region': 'Flandre'}, 2219: {'province': 'Anvers', 'region': 'Flandre'}, 2220: {'province': 'Anvers', 'region': 'Flandre'}, 2221: {'province': 'Anvers', 'region': 'Flandre'}, 2222: {'province': 'Anvers', 'region': 'Flandre'}, 2223: {'province': 'Anvers', 'region': 'Flandre'}, 2224: {'province': 'Anvers', 'region': 'Flandre'}, 2225: {'province': 'Anvers', 'region': 'Flandre'}, 2226: {'province': 'Anvers', 'region': 'Flandre'}, 2227: {'province': 'Anvers', 'region': 'Flandre'}, 2228: {'province': 'Anvers', 'region': 'Flandre'}, 2229: {'province': 'Anvers', 'region': 'Flandre'}, 2230: {'province': 'Anvers', 'region': 'Flandre'}, 2231: {'province': 'Anvers', 'region': 'Flandre'}, 2232: {'province': 'Anvers', 'region': 'Flandre'}, 2233: {'province': 'Anvers', 'region': 'Flandre'}, 2234: {'province': 'Anvers', 'region': 'Flandre'}, 2235: {'province': 'Anvers', 'region': 'Flandre'}, 2236: {'province': 'Anvers', 'region': 'Flandre'}, 2237: {'province': 'Anvers', 'region': 'Flandre'}, 2238: {'province': 'Anvers', 'region': 'Flandre'}, 2239: {'province': 'Anvers', 'region': 'Flandre'}, 2240: {'province': 'Anvers', 'region': 'Flandre'}, 2241: {'province': 'Anvers', 'region': 'Flandre'}, 2242: {'province': 'Anvers', 'region': 'Flandre'}, 2243: {'province': 'Anvers', 'region': 'Flandre'}, 2244: {'province': 'Anvers', 'region': 'Flandre'}, 2245: {'province': 'Anvers', 'region': 'Flandre'}, 2246: {'province': 'Anvers', 'region': 'Flandre'}, 2247: {'province': 'Anvers', 'region': 'Flandre'}, 2248: {'province': 'Anvers', 'region': 'Flandre'}, 2249: {'province': 'Anvers', 'region': 'Flandre'}, 2250: {'province': 'Anvers', 'region': 'Flandre'}, 2251: {'province': 'Anvers', 'region': 'Flandre'}, 2252: {'province': 'Anvers', 'region': 'Flandre'}, 2253: {'province': 'Anvers', 'region': 'Flandre'}, 2254: {'province': 'Anvers', 'region': 'Flandre'}, 2255: {'province': 'Anvers', 'region': 'Flandre'}, 2256: {'province': 'Anvers', 'region': 'Flandre'}, 2257: {'province': 'Anvers', 'region': 'Flandre'}, 2258: {'province': 'Anvers', 'region': 'Flandre'}, 2259: {'province': 'Anvers', 'region': 'Flandre'}, 2260: {'province': 'Anvers', 'region': 'Flandre'}, 2261: {'province': 'Anvers', 'region': 'Flandre'}, 2262: {'province': 'Anvers', 'region': 'Flandre'}, 2263: {'province': 'Anvers', 'region': 'Flandre'}, 2264: {'province': 'Anvers', 'region': 'Flandre'}, 2265: {'province': 'Anvers', 'region': 'Flandre'}, 2266: {'province': 'Anvers', 'region': 'Flandre'}, 2267: {'province': 'Anvers', 'region': 'Flandre'}, 2268: {'province': 'Anvers', 'region': 'Flandre'}, 2269: {'province': 'Anvers', 'region': 'Flandre'}, 2270: {'province': 'Anvers', 'region': 'Flandre'}, 2271: {'province': 'Anvers', 'region': 'Flandre'}, 2272: {'province': 'Anvers', 'region': 'Flandre'}, 2273: {'province': 'Anvers', 'region': 'Flandre'}, 2274: {'province': 'Anvers', 'region': 'Flandre'}, 2275: {'province': 'Anvers', 'region': 'Flandre'}, 2276: {'province': 'Anvers', 'region': 'Flandre'}, 2277: {'province': 'Anvers', 'region': 'Flandre'}, 2278: {'province': 'Anvers', 'region': 'Flandre'}, 2279: {'province': 'Anvers', 'region': 'Flandre'}, 2280: {'province': 'Anvers', 'region': 'Flandre'}, 2281: {'province': 'Anvers', 'region': 'Flandre'}, 2282: {'province': 'Anvers', 'region': 'Flandre'}, 2283: {'province': 'Anvers', 'region': 'Flandre'}, 2284: {'province': 'Anvers', 'region': 'Flandre'}, 2285: {'province': 'Anvers', 'region': 'Flandre'}, 2286: {'province': 'Anvers', 'region': 'Flandre'}, 2287: {'province': 'Anvers', 'region': 'Flandre'}, 2288: {'province': 'Anvers', 'region': 'Flandre'}, 2289: {'province': 'Anvers', 'region': 'Flandre'}, 2290: {'province': 'Anvers', 'region': 'Flandre'}, 2291: {'province': 'Anvers', 'region': 'Flandre'}, 2292: {'province': 'Anvers', 'region': 'Flandre'}, 2293: {'province': 'Anvers', 'region': 'Flandre'}, 2294: {'province': 'Anvers', 'region': 'Flandre'}, 2295: {'province': 'Anvers', 'region': 'Flandre'}, 2296: {'province': 'Anvers', 'region': 'Flandre'}, 2297: {'province': 'Anvers', 'region': 'Flandre'}, 2298: {'province': 'Anvers', 'region': 'Flandre'}, 2299: {'province': 'Anvers', 'region': 'Flandre'}, 2300: {'province': 'Anvers', 'region': 'Flandre'}, 2301: {'province': 'Anvers', 'region': 'Flandre'}, 2302: {'province': 'Anvers', 'region': 'Flandre'}, 2303: {'province': 'Anvers', 'region': 'Flandre'}, 2304: {'province': 'Anvers', 'region': 'Flandre'}, 2305: {'province': 'Anvers', 'region': 'Flandre'}, 2306: {'province': 'Anvers', 'region': 'Flandre'}, 2307: {'province': 'Anvers', 'region': 'Flandre'}, 2308: {'province': 'Anvers', 'region': 'Flandre'}, 2309: {'province': 'Anvers', 'region': 'Flandre'}, 2310: {'province': 'Anvers', 'region': 'Flandre'}, 2311: {'province': 'Anvers', 'region': 'Flandre'}, 2312: {'province': 'Anvers', 'region': 'Flandre'}, 2313: {'province': 'Anvers', 'region': 'Flandre'}, 2314: {'province': 'Anvers', 'region': 'Flandre'}, 2315: {'province': 'Anvers', 'region': 'Flandre'}, 2316: {'province': 'Anvers', 'region': 'Flandre'}, 2317: {'province': 'Anvers', 'region': 'Flandre'}, 2318: {'province': 'Anvers', 'region': 'Flandre'}, 2319: {'province': 'Anvers', 'region': 'Flandre'}, 2320: {'province': 'Anvers', 'region': 'Flandre'}, 2321: {'province': 'Anvers', 'region': 'Flandre'}, 2322: {'province': 'Anvers', 'region': 'Flandre'}, 2323: {'province': 'Anvers', 'region': 'Flandre'}, 2324: {'province': 'Anvers', 'region': 'Flandre'}, 2325: {'province': 'Anvers', 'region': 'Flandre'}, 2326: {'province': 'Anvers', 'region': 'Flandre'}, 2327: {'province': 'Anvers', 'region': 'Flandre'}, 2328: {'province': 'Anvers', 'region': 'Flandre'}, 2329: {'province': 'Anvers', 'region': 'Flandre'}, 2330: {'province': 'Anvers', 'region': 'Flandre'}, 2331: {'province': 'Anvers', 'region': 'Flandre'}, 2332: {'province': 'Anvers', 'region': 'Flandre'}, 2333: {'province': 'Anvers', 'region': 'Flandre'}, 2334: {'province': 'Anvers', 'region': 'Flandre'}, 2335: {'province': 'Anvers', 'region': 'Flandre'}, 2336: {'province': 'Anvers', 'region': 'Flandre'}, 2337: {'province': 'Anvers', 'region': 'Flandre'}, 2338: {'province': 'Anvers', 'region': 'Flandre'}, 2339: {'province': 'Anvers', 'region': 'Flandre'}, 2340: {'province': 'Anvers', 'region': 'Flandre'}, 2341: {'province': 'Anvers', 'region': 'Flandre'}, 2342: {'province': 'Anvers', 'region': 'Flandre'}, 2343: {'province': 'Anvers', 'region': 'Flandre'}, 2344: {'province': 'Anvers', 'region': 'Flandre'}, 2345: {'province': 'Anvers', 'region': 'Flandre'}, 2346: {'province': 'Anvers', 'region': 'Flandre'}, 2347: {'province': 'Anvers', 'region': 'Flandre'}, 2348: {'province': 'Anvers', 'region': 'Flandre'}, 2349: {'province': 'Anvers', 'region': 'Flandre'}, 2350: {'province': 'Anvers', 'region': 'Flandre'}, 2351: {'province': 'Anvers', 'region': 'Flandre'}, 2352: {'province': 'Anvers', 'region': 'Flandre'}, 2353: {'province': 'Anvers', 'region': 'Flandre'}, 2354: {'province': 'Anvers', 'region': 'Flandre'}, 2355: {'province': 'Anvers', 'region': 'Flandre'}, 2356: {'province': 'Anvers', 'region': 'Flandre'}, 2357: {'province': 'Anvers', 'region': 'Flandre'}, 2358: {'province': 'Anvers', 'region': 'Flandre'}, 2359: {'province': 'Anvers', 'region': 'Flandre'}, 2360: {'province': 'Anvers', 'region': 'Flandre'}, 2361: {'province': 'Anvers', 'region': 'Flandre'}, 2362: {'province': 'Anvers', 'region': 'Flandre'}, 2363: {'province': 'Anvers', 'region': 'Flandre'}, 2364: {'province': 'Anvers', 'region': 'Flandre'}, 2365: {'province': 'Anvers', 'region': 'Flandre'}, 2366: {'province': 'Anvers', 'region': 'Flandre'}, 2367: {'province': 'Anvers', 'region': 'Flandre'}, 2368: {'province': 'Anvers', 'region': 'Flandre'}, 2369: {'province': 'Anvers', 'region': 'Flandre'}, 2370: {'province': 'Anvers', 'region': 'Flandre'}, 2371: {'province': 'Anvers', 'region': 'Flandre'}, 2372: {'province': 'Anvers', 'region': 'Flandre'}, 2373: {'province': 'Anvers', 'region': 'Flandre'}, 2374: {'province': 'Anvers', 'region': 'Flandre'}, 2375: {'province': 'Anvers', 'region': 'Flandre'}, 2376: {'province': 'Anvers', 'region': 'Flandre'}, 2377: {'province': 'Anvers', 'region': 'Flandre'}, 2378: {'province': 'Anvers', 'region': 'Flandre'}, 2379: {'province': 'Anvers', 'region': 'Flandre'}, 2380: {'province': 'Anvers', 'region': 'Flandre'}, 2381: {'province': 'Anvers', 'region': 'Flandre'}, 2382: {'province': 'Anvers', 'region': 'Flandre'}, 2383: {'province': 'Anvers', 'region': 'Flandre'}, 2384: {'province': 'Anvers', 'region': 'Flandre'}, 2385: {'province': 'Anvers', 'region': 'Flandre'}, 2386: {'province': 'Anvers', 'region': 'Flandre'}, 2387: {'province': 'Anvers', 'region': 'Flandre'}, 2388: {'province': 'Anvers', 'region': 'Flandre'}, 2389: {'province': 'Anvers', 'region': 'Flandre'}, 2390: {'province': 'Anvers', 'region': 'Flandre'}, 2391: {'province': 'Anvers', 'region': 'Flandre'}, 2392: {'province': 'Anvers', 'region': 'Flandre'}, 2393: {'province': 'Anvers', 'region': 'Flandre'}, 2394: {'province': 'Anvers', 'region': 'Flandre'}, 2395: {'province': 'Anvers', 'region': 'Flandre'}, 2396: {'province': 'Anvers', 'region': 'Flandre'}, 2397: {'province': 'Anvers', 'region': 'Flandre'}, 2398: {'province': 'Anvers', 'region': 'Flandre'}, 2399: {'province': 'Anvers', 'region': 'Flandre'}, 2400: {'province': 'Anvers', 'region': 'Flandre'}, 2401: {'province': 'Anvers', 'region': 'Flandre'}, 2402: {'province': 'Anvers', 'region': 'Flandre'}, 2403: {'province': 'Anvers', 'region': 'Flandre'}, 2404: {'province': 'Anvers', 'region': 'Flandre'}, 2405: {'province': 'Anvers', 'region': 'Flandre'}, 2406: {'province': 'Anvers', 'region': 'Flandre'}, 2407: {'province': 'Anvers', 'region': 'Flandre'}, 2408: {'province': 'Anvers', 'region': 'Flandre'}, 2409: {'province': 'Anvers', 'region': 'Flandre'}, 2410: {'province': 'Anvers', 'region': 'Flandre'}, 2411: {'province': 'Anvers', 'region': 'Flandre'}, 2412: {'province': 'Anvers', 'region': 'Flandre'}, 2413: {'province': 'Anvers', 'region': 'Flandre'}, 2414: {'province': 'Anvers', 'region': 'Flandre'}, 2415: {'province': 'Anvers', 'region': 'Flandre'}, 2416: {'province': 'Anvers', 'region': 'Flandre'}, 2417: {'province': 'Anvers', 'region': 'Flandre'}, 2418: {'province': 'Anvers', 'region': 'Flandre'}, 2419: {'province': 'Anvers', 'region': 'Flandre'}, 2420: {'province': 'Anvers', 'region': 'Flandre'}, 2421: {'province': 'Anvers', 'region': 'Flandre'}, 2422: {'province': 'Anvers', 'region': 'Flandre'}, 2423: {'province': 'Anvers', 'region': 'Flandre'}, 2424: {'province': 'Anvers', 'region': 'Flandre'}, 2425: {'province': 'Anvers', 'region': 'Flandre'}, 2426: {'province': 'Anvers', 'region': 'Flandre'}, 2427: {'province': 'Anvers', 'region': 'Flandre'}, 2428: {'province': 'Anvers', 'region': 'Flandre'}, 2429: {'province': 'Anvers', 'region': 'Flandre'}, 2430: {'province': 'Anvers', 'region': 'Flandre'}, 2431: {'province': 'Anvers', 'region': 'Flandre'}, 2432: {'province': 'Anvers', 'region': 'Flandre'}, 2433: {'province': 'Anvers', 'region': 'Flandre'}, 2434: {'province': 'Anvers', 'region': 'Flandre'}, 2435: {'province': 'Anvers', 'region': 'Flandre'}, 2436: {'province': 'Anvers', 'region': 'Flandre'}, 2437: {'province': 'Anvers', 'region': 'Flandre'}, 2438: {'province': 'Anvers', 'region': 'Flandre'}, 2439: {'province': 'Anvers', 'region': 'Flandre'}, 2440: {'province': 'Anvers', 'region': 'Flandre'}, 2441: {'province': 'Anvers', 'region': 'Flandre'}, 2442: {'province': 'Anvers', 'region': 'Flandre'}, 2443: {'province': 'Anvers', 'region': 'Flandre'}, 2444: {'province': 'Anvers', 'region': 'Flandre'}, 2445: {'province': 'Anvers', 'region': 'Flandre'}, 2446: {'province': 'Anvers', 'region': 'Flandre'}, 2447: {'province': 'Anvers', 'region': 'Flandre'}, 2448: {'province': 'Anvers', 'region': 'Flandre'}, 2449: {'province': 'Anvers', 'region': 'Flandre'}, 2450: {'province': 'Anvers', 'region': 'Flandre'}, 2451: {'province': 'Anvers', 'region': 'Flandre'}, 2452: {'province': 'Anvers', 'region': 'Flandre'}, 2453: {'province': 'Anvers', 'region': 'Flandre'}, 2454: {'province': 'Anvers', 'region': 'Flandre'}, 2455: {'province': 'Anvers', 'region': 'Flandre'}, 2456: {'province': 'Anvers', 'region': 'Flandre'}, 2457: {'province': 'Anvers', 'region': 'Flandre'}, 2458: {'province': 'Anvers', 'region': 'Flandre'}, 2459: {'province': 'Anvers', 'region': 'Flandre'}, 2460: {'province': 'Anvers', 'region': 'Flandre'}, 2461: {'province': 'Anvers', 'region': 'Flandre'}, 2462: {'province': 'Anvers', 'region': 'Flandre'}, 2463: {'province': 'Anvers', 'region': 'Flandre'}, 2464: {'province': 'Anvers', 'region': 'Flandre'}, 2465: {'province': 'Anvers', 'region': 'Flandre'}, 2466: {'province': 'Anvers', 'region': 'Flandre'}, 2467: {'province': 'Anvers', 'region': 'Flandre'}, 2468: {'province': 'Anvers', 'region': 'Flandre'}, 2469: {'province': 'Anvers', 'region': 'Flandre'}, 2470: {'province': 'Anvers', 'region': 'Flandre'}, 2471: {'province': 'Anvers', 'region': 'Flandre'}, 2472: {'province': 'Anvers', 'region': 'Flandre'}, 2473: {'province': 'Anvers', 'region': 'Flandre'}, 2474: {'province': 'Anvers', 'region': 'Flandre'}, 2475: {'province': 'Anvers', 'region': 'Flandre'}, 2476: {'province': 'Anvers', 'region': 'Flandre'}, 2477: {'province': 'Anvers', 'region': 'Flandre'}, 2478: {'province': 'Anvers', 'region': 'Flandre'}, 2479: {'province': 'Anvers', 'region': 'Flandre'}, 2480: {'province': 'Anvers', 'region': 'Flandre'}, 2481: {'province': 'Anvers', 'region': 'Flandre'}, 2482: {'province': 'Anvers', 'region': 'Flandre'}, 2483: {'province': 'Anvers', 'region': 'Flandre'}, 2484: {'province': 'Anvers', 'region': 'Flandre'}, 2485: {'province': 'Anvers', 'region': 'Flandre'}, 2486: {'province': 'Anvers', 'region': 'Flandre'}, 2487: {'province': 'Anvers', 'region': 'Flandre'}, 2488: {'province': 'Anvers', 'region': 'Flandre'}, 2489: {'province': 'Anvers', 'region': 'Flandre'}, 2490: {'province': 'Anvers', 'region': 'Flandre'}, 2491: {'province': 'Anvers', 'region': 'Flandre'}, 2492: {'province': 'Anvers', 'region': 'Flandre'}, 2493: {'province': 'Anvers', 'region': 'Flandre'}, 2494: {'province': 'Anvers', 'region': 'Flandre'}, 2495: {'province': 'Anvers', 'region': 'Flandre'}, 2496: {'province': 'Anvers', 'region': 'Flandre'}, 2497: {'province': 'Anvers', 'region': 'Flandre'}, 2498: {'province': 'Anvers', 'region': 'Flandre'}, 2499: {'province': 'Anvers', 'region': 'Flandre'}, 2500: {'province': 'Anvers', 'region': 'Flandre'}, 2501: {'province': 'Anvers', 'region': 'Flandre'}, 2502: {'province': 'Anvers', 'region': 'Flandre'}, 2503: {'province': 'Anvers', 'region': 'Flandre'}, 2504: {'province': 'Anvers', 'region': 'Flandre'}, 2505: {'province': 'Anvers', 'region': 'Flandre'}, 2506: {'province': 'Anvers', 'region': 'Flandre'}, 2507: {'province': 'Anvers', 'region': 'Flandre'}, 2508: {'province': 'Anvers', 'region': 'Flandre'}, 2509: {'province': 'Anvers', 'region': 'Flandre'}, 2510: {'province': 'Anvers', 'region': 'Flandre'}, 2511: {'province': 'Anvers', 'region': 'Flandre'}, 2512: {'province': 'Anvers', 'region': 'Flandre'}, 2513: {'province': 'Anvers', 'region': 'Flandre'}, 2514: {'province': 'Anvers', 'region': 'Flandre'}, 2515: {'province': 'Anvers', 'region': 'Flandre'}, 2516: {'province': 'Anvers', 'region': 'Flandre'}, 2517: {'province': 'Anvers', 'region': 'Flandre'}, 2518: {'province': 'Anvers', 'region': 'Flandre'}, 2519: {'province': 'Anvers', 'region': 'Flandre'}, 2520: {'province': 'Anvers', 'region': 'Flandre'}, 2521: {'province': 'Anvers', 'region': 'Flandre'}, 2522: {'province': 'Anvers', 'region': 'Flandre'}, 2523: {'province': 'Anvers', 'region': 'Flandre'}, 2524: {'province': 'Anvers', 'region': 'Flandre'}, 2525: {'province': 'Anvers', 'region': 'Flandre'}, 2526: {'province': 'Anvers', 'region': 'Flandre'}, 2527: {'province': 'Anvers', 'region': 'Flandre'}, 2528: {'province': 'Anvers', 'region': 'Flandre'}, 2529: {'province': 'Anvers', 'region': 'Flandre'}, 2530: {'province': 'Anvers', 'region': 'Flandre'}, 2531: {'province': 'Anvers', 'region': 'Flandre'}, 2532: {'province': 'Anvers', 'region': 'Flandre'}, 2533: {'province': 'Anvers', 'region': 'Flandre'}, 2534: {'province': 'Anvers', 'region': 'Flandre'}, 2535: {'province': 'Anvers', 'region': 'Flandre'}, 2536: {'province': 'Anvers', 'region': 'Flandre'}, 2537: {'province': 'Anvers', 'region': 'Flandre'}, 2538: {'province': 'Anvers', 'region': 'Flandre'}, 2539: {'province': 'Anvers', 'region': 'Flandre'}, 2540: {'province': 'Anvers', 'region': 'Flandre'}, 2541: {'province': 'Anvers', 'region': 'Flandre'}, 2542: {'province': 'Anvers', 'region': 'Flandre'}, 2543: {'province': 'Anvers', 'region': 'Flandre'}, 2544: {'province': 'Anvers', 'region': 'Flandre'}, 2545: {'province': 'Anvers', 'region': 'Flandre'}, 2546: {'province': 'Anvers', 'region': 'Flandre'}, 2547: {'province': 'Anvers', 'region': 'Flandre'}, 2548: {'province': 'Anvers', 'region': 'Flandre'}, 2549: {'province': 'Anvers', 'region': 'Flandre'}, 2550: {'province': 'Anvers', 'region': 'Flandre'}, 2551: {'province': 'Anvers', 'region': 'Flandre'}, 2552: {'province': 'Anvers', 'region': 'Flandre'}, 2553: {'province': 'Anvers', 'region': 'Flandre'}, 2554: {'province': 'Anvers', 'region': 'Flandre'}, 2555: {'province': 'Anvers', 'region': 'Flandre'}, 2556: {'province': 'Anvers', 'region': 'Flandre'}, 2557: {'province': 'Anvers', 'region': 'Flandre'}, 2558: {'province': 'Anvers', 'region': 'Flandre'}, 2559: {'province': 'Anvers', 'region': 'Flandre'}, 2560: {'province': 'Anvers', 'region': 'Flandre'}, 2561: {'province': 'Anvers', 'region': 'Flandre'}, 2562: {'province': 'Anvers', 'region': 'Flandre'}, 2563: {'province': 'Anvers', 'region': 'Flandre'}, 2564: {'province': 'Anvers', 'region': 'Flandre'}, 2565: {'province': 'Anvers', 'region': 'Flandre'}, 2566: {'province': 'Anvers', 'region': 'Flandre'}, 2567: {'province': 'Anvers', 'region': 'Flandre'}, 2568: {'province': 'Anvers', 'region': 'Flandre'}, 2569: {'province': 'Anvers', 'region': 'Flandre'}, 2570: {'province': 'Anvers', 'region': 'Flandre'}, 2571: {'province': 'Anvers', 'region': 'Flandre'}, 2572: {'province': 'Anvers', 'region': 'Flandre'}, 2573: {'province': 'Anvers', 'region': 'Flandre'}, 2574: {'province': 'Anvers', 'region': 'Flandre'}, 2575: {'province': 'Anvers', 'region': 'Flandre'}, 2576: {'province': 'Anvers', 'region': 'Flandre'}, 2577: {'province': 'Anvers', 'region': 'Flandre'}, 2578: {'province': 'Anvers', 'region': 'Flandre'}, 2579: {'province': 'Anvers', 'region': 'Flandre'}, 2580: {'province': 'Anvers', 'region': 'Flandre'}, 2581: {'province': 'Anvers', 'region': 'Flandre'}, 2582: {'province': 'Anvers', 'region': 'Flandre'}, 2583: {'province': 'Anvers', 'region': 'Flandre'}, 2584: {'province': 'Anvers', 'region': 'Flandre'}, 2585: {'province': 'Anvers', 'region': 'Flandre'}, 2586: {'province': 'Anvers', 'region': 'Flandre'}, 2587: {'province': 'Anvers', 'region': 'Flandre'}, 2588: {'province': 'Anvers', 'region': 'Flandre'}, 2589: {'province': 'Anvers', 'region': 'Flandre'}, 2590: {'province': 'Anvers', 'region': 'Flandre'}, 2591: {'province': 'Anvers', 'region': 'Flandre'}, 2592: {'province': 'Anvers', 'region': 'Flandre'}, 2593: {'province': 'Anvers', 'region': 'Flandre'}, 2594: {'province': 'Anvers', 'region': 'Flandre'}, 2595: {'province': 'Anvers', 'region': 'Flandre'}, 2596: {'province': 'Anvers', 'region': 'Flandre'}, 2597: {'province': 'Anvers', 'region': 'Flandre'}, 2598: {'province': 'Anvers', 'region': 'Flandre'}, 2599: {'province': 'Anvers', 'region': 'Flandre'}, 2600: {'province': 'Anvers', 'region': 'Flandre'}, 2601: {'province': 'Anvers', 'region': 'Flandre'}, 2602: {'province': 'Anvers', 'region': 'Flandre'}, 2603: {'province': 'Anvers', 'region': 'Flandre'}, 2604: {'province': 'Anvers', 'region': 'Flandre'}, 2605: {'province': 'Anvers', 'region': 'Flandre'}, 2606: {'province': 'Anvers', 'region': 'Flandre'}, 2607: {'province': 'Anvers', 'region': 'Flandre'}, 2608: {'province': 'Anvers', 'region': 'Flandre'}, 2609: {'province': 'Anvers', 'region': 'Flandre'}, 2610: {'province': 'Anvers', 'region': 'Flandre'}, 2611: {'province': 'Anvers', 'region': 'Flandre'}, 2612: {'province': 'Anvers', 'region': 'Flandre'}, 2613: {'province': 'Anvers', 'region': 'Flandre'}, 2614: {'province': 'Anvers', 'region': 'Flandre'}, 2615: {'province': 'Anvers', 'region': 'Flandre'}, 2616: {'province': 'Anvers', 'region': 'Flandre'}, 2617: {'province': 'Anvers', 'region': 'Flandre'}, 2618: {'province': 'Anvers', 'region': 'Flandre'}, 2619: {'province': 'Anvers', 'region': 'Flandre'}, 2620: {'province': 'Anvers', 'region': 'Flandre'}, 2621: {'province': 'Anvers', 'region': 'Flandre'}, 2622: {'province': 'Anvers', 'region': 'Flandre'}, 2623: {'province': 'Anvers', 'region': 'Flandre'}, 2624: {'province': 'Anvers', 'region': 'Flandre'}, 2625: {'province': 'Anvers', 'region': 'Flandre'}, 2626: {'province': 'Anvers', 'region': 'Flandre'}, 2627: {'province': 'Anvers', 'region': 'Flandre'}, 2628: {'province': 'Anvers', 'region': 'Flandre'}, 2629: {'province': 'Anvers', 'region': 'Flandre'}, 2630: {'province': 'Anvers', 'region': 'Flandre'}, 2631: {'province': 'Anvers', 'region': 'Flandre'}, 2632: {'province': 'Anvers', 'region': 'Flandre'}, 2633: {'province': 'Anvers', 'region': 'Flandre'}, 2634: {'province': 'Anvers', 'region': 'Flandre'}, 2635: {'province': 'Anvers', 'region': 'Flandre'}, 2636: {'province': 'Anvers', 'region': 'Flandre'}, 2637: {'province': 'Anvers', 'region': 'Flandre'}, 2638: {'province': 'Anvers', 'region': 'Flandre'}, 2639: {'province': 'Anvers', 'region': 'Flandre'}, 2640: {'province': 'Anvers', 'region': 'Flandre'}, 2641: {'province': 'Anvers', 'region': 'Flandre'}, 2642: {'province': 'Anvers', 'region': 'Flandre'}, 2643: {'province': 'Anvers', 'region': 'Flandre'}, 2644: {'province': 'Anvers', 'region': 'Flandre'}, 2645: {'province': 'Anvers', 'region': 'Flandre'}, 2646: {'province': 'Anvers', 'region': 'Flandre'}, 2647: {'province': 'Anvers', 'region': 'Flandre'}, 2648: {'province': 'Anvers', 'region': 'Flandre'}, 2649: {'province': 'Anvers', 'region': 'Flandre'}, 2650: {'province': 'Anvers', 'region': 'Flandre'}, 2651: {'province': 'Anvers', 'region': 'Flandre'}, 2652: {'province': 'Anvers', 'region': 'Flandre'}, 2653: {'province': 'Anvers', 'region': 'Flandre'}, 2654: {'province': 'Anvers', 'region': 'Flandre'}, 2655: {'province': 'Anvers', 'region': 'Flandre'}, 2656: {'province': 'Anvers', 'region': 'Flandre'}, 2657: {'province': 'Anvers', 'region': 'Flandre'}, 2658: {'province': 'Anvers', 'region': 'Flandre'}, 2659: {'province': 'Anvers', 'region': 'Flandre'}, 2660: {'province': 'Anvers', 'region': 'Flandre'}, 2661: {'province': 'Anvers', 'region': 'Flandre'}, 2662: {'province': 'Anvers', 'region': 'Flandre'}, 2663: {'province': 'Anvers', 'region': 'Flandre'}, 2664: {'province': 'Anvers', 'region': 'Flandre'}, 2665: {'province': 'Anvers', 'region': 'Flandre'}, 2666: {'province': 'Anvers', 'region': 'Flandre'}, 2667: {'province': 'Anvers', 'region': 'Flandre'}, 2668: {'province': 'Anvers', 'region': 'Flandre'}, 2669: {'province': 'Anvers', 'region': 'Flandre'}, 2670: {'province': 'Anvers', 'region': 'Flandre'}, 2671: {'province': 'Anvers', 'region': 'Flandre'}, 2672: {'province': 'Anvers', 'region': 'Flandre'}, 2673: {'province': 'Anvers', 'region': 'Flandre'}, 2674: {'province': 'Anvers', 'region': 'Flandre'}, 2675: {'province': 'Anvers', 'region': 'Flandre'}, 2676: {'province': 'Anvers', 'region': 'Flandre'}, 2677: {'province': 'Anvers', 'region': 'Flandre'}, 2678: {'province': 'Anvers', 'region': 'Flandre'}, 2679: {'province': 'Anvers', 'region': 'Flandre'}, 2680: {'province': 'Anvers', 'region': 'Flandre'}, 2681: {'province': 'Anvers', 'region': 'Flandre'}, 2682: {'province': 'Anvers', 'region': 'Flandre'}, 2683: {'province': 'Anvers', 'region': 'Flandre'}, 2684: {'province': 'Anvers', 'region': 'Flandre'}, 2685: {'province': 'Anvers', 'region': 'Flandre'}, 2686: {'province': 'Anvers', 'region': 'Flandre'}, 2687: {'province': 'Anvers', 'region': 'Flandre'}, 2688: {'province': 'Anvers', 'region': 'Flandre'}, 2689: {'province': 'Anvers', 'region': 'Flandre'}, 2690: {'province': 'Anvers', 'region': 'Flandre'}, 2691: {'province': 'Anvers', 'region': 'Flandre'}, 2692: {'province': 'Anvers', 'region': 'Flandre'}, 2693: {'province': 'Anvers', 'region': 'Flandre'}, 2694: {'province': 'Anvers', 'region': 'Flandre'}, 2695: {'province': 'Anvers', 'region': 'Flandre'}, 2696: {'province': 'Anvers', 'region': 'Flandre'}, 2697: {'province': 'Anvers', 'region': 'Flandre'}, 2698: {'province': 'Anvers', 'region': 'Flandre'}, 2699: {'province': 'Anvers', 'region': 'Flandre'}, 2700: {'province': 'Anvers', 'region': 'Flandre'}, 2701: {'province': 'Anvers', 'region': 'Flandre'}, 2702: {'province': 'Anvers', 'region': 'Flandre'}, 2703: {'province': 'Anvers', 'region': 'Flandre'}, 2704: {'province': 'Anvers', 'region': 'Flandre'}, 2705: {'province': 'Anvers', 'region': 'Flandre'}, 2706: {'province': 'Anvers', 'region': 'Flandre'}, 2707: {'province': 'Anvers', 'region': 'Flandre'}, 2708: {'province': 'Anvers', 'region': 'Flandre'}, 2709: {'province': 'Anvers', 'region': 'Flandre'}, 2710: {'province': 'Anvers', 'region': 'Flandre'}, 2711: {'province': 'Anvers', 'region': 'Flandre'}, 2712: {'province': 'Anvers', 'region': 'Flandre'}, 2713: {'province': 'Anvers', 'region': 'Flandre'}, 2714: {'province': 'Anvers', 'region': 'Flandre'}, 2715: {'province': 'Anvers', 'region': 'Flandre'}, 2716: {'province': 'Anvers', 'region': 'Flandre'}, 2717: {'province': 'Anvers', 'region': 'Flandre'}, 2718: {'province': 'Anvers', 'region': 'Flandre'}, 2719: {'province': 'Anvers', 'region': 'Flandre'}, 2720: {'province': 'Anvers', 'region': 'Flandre'}, 2721: {'province': 'Anvers', 'region': 'Flandre'}, 2722: {'province': 'Anvers', 'region': 'Flandre'}, 2723: {'province': 'Anvers', 'region': 'Flandre'}, 2724: {'province': 'Anvers', 'region': 'Flandre'}, 2725: {'province': 'Anvers', 'region': 'Flandre'}, 2726: {'province': 'Anvers', 'region': 'Flandre'}, 2727: {'province': 'Anvers', 'region': 'Flandre'}, 2728: {'province': 'Anvers', 'region': 'Flandre'}, 2729: {'province': 'Anvers', 'region': 'Flandre'}, 2730: {'province': 'Anvers', 'region': 'Flandre'}, 2731: {'province': 'Anvers', 'region': 'Flandre'}, 2732: {'province': 'Anvers', 'region': 'Flandre'}, 2733: {'province': 'Anvers', 'region': 'Flandre'}, 2734: {'province': 'Anvers', 'region': 'Flandre'}, 2735: {'province': 'Anvers', 'region': 'Flandre'}, 2736: {'province': 'Anvers', 'region': 'Flandre'}, 2737: {'province': 'Anvers', 'region': 'Flandre'}, 2738: {'province': 'Anvers', 'region': 'Flandre'}, 2739: {'province': 'Anvers', 'region': 'Flandre'}, 2740: {'province': 'Anvers', 'region': 'Flandre'}, 2741: {'province': 'Anvers', 'region': 'Flandre'}, 2742: {'province': 'Anvers', 'region': 'Flandre'}, 2743: {'province': 'Anvers', 'region': 'Flandre'}, 2744: {'province': 'Anvers', 'region': 'Flandre'}, 2745: {'province': 'Anvers', 'region': 'Flandre'}, 2746: {'province': 'Anvers', 'region': 'Flandre'}, 2747: {'province': 'Anvers', 'region': 'Flandre'}, 2748: {'province': 'Anvers', 'region': 'Flandre'}, 2749: {'province': 'Anvers', 'region': 'Flandre'}, 2750: {'province': 'Anvers', 'region': 'Flandre'}, 2751: {'province': 'Anvers', 'region': 'Flandre'}, 2752: {'province': 'Anvers', 'region': 'Flandre'}, 2753: {'province': 'Anvers', 'region': 'Flandre'}, 2754: {'province': 'Anvers', 'region': 'Flandre'}, 2755: {'province': 'Anvers', 'region': 'Flandre'}, 2756: {'province': 'Anvers', 'region': 'Flandre'}, 2757: {'province': 'Anvers', 'region': 'Flandre'}, 2758: {'province': 'Anvers', 'region': 'Flandre'}, 2759: {'province': 'Anvers', 'region': 'Flandre'}, 2760: {'province': 'Anvers', 'region': 'Flandre'}, 2761: {'province': 'Anvers', 'region': 'Flandre'}, 2762: {'province': 'Anvers', 'region': 'Flandre'}, 2763: {'province': 'Anvers', 'region': 'Flandre'}, 2764: {'province': 'Anvers', 'region': 'Flandre'}, 2765: {'province': 'Anvers', 'region': 'Flandre'}, 2766: {'province': 'Anvers', 'region': 'Flandre'}, 2767: {'province': 'Anvers', 'region': 'Flandre'}, 2768: {'province': 'Anvers', 'region': 'Flandre'}, 2769: {'province': 'Anvers', 'region': 'Flandre'}, 2770: {'province': 'Anvers', 'region': 'Flandre'}, 2771: {'province': 'Anvers', 'region': 'Flandre'}, 2772: {'province': 'Anvers', 'region': 'Flandre'}, 2773: {'province': 'Anvers', 'region': 'Flandre'}, 2774: {'province': 'Anvers', 'region': 'Flandre'}, 2775: {'province': 'Anvers', 'region': 'Flandre'}, 2776: {'province': 'Anvers', 'region': 'Flandre'}, 2777: {'province': 'Anvers', 'region': 'Flandre'}, 2778: {'province': 'Anvers', 'region': 'Flandre'}, 2779: {'province': 'Anvers', 'region': 'Flandre'}, 2780: {'province': 'Anvers', 'region': 'Flandre'}, 2781: {'province': 'Anvers', 'region': 'Flandre'}, 2782: {'province': 'Anvers', 'region': 'Flandre'}, 2783: {'province': 'Anvers', 'region': 'Flandre'}, 2784: {'province': 'Anvers', 'region': 'Flandre'}, 2785: {'province': 'Anvers', 'region': 'Flandre'}, 2786: {'province': 'Anvers', 'region': 'Flandre'}, 2787: {'province': 'Anvers', 'region': 'Flandre'}, 2788: {'province': 'Anvers', 'region': 'Flandre'}, 2789: {'province': 'Anvers', 'region': 'Flandre'}, 2790: {'province': 'Anvers', 'region': 'Flandre'}, 2791: {'province': 'Anvers', 'region': 'Flandre'}, 2792: {'province': 'Anvers', 'region': 'Flandre'}, 2793: {'province': 'Anvers', 'region': 'Flandre'}, 2794: {'province': 'Anvers', 'region': 'Flandre'}, 2795: {'province': 'Anvers', 'region': 'Flandre'}, 2796: {'province': 'Anvers', 'region': 'Flandre'}, 2797: {'province': 'Anvers', 'region': 'Flandre'}, 2798: {'province': 'Anvers', 'region': 'Flandre'}, 2799: {'province': 'Anvers', 'region': 'Flandre'}, 2800: {'province': 'Anvers', 'region': 'Flandre'}, 2801: {'province': 'Anvers', 'region': 'Flandre'}, 2802: {'province': 'Anvers', 'region': 'Flandre'}, 2803: {'province': 'Anvers', 'region': 'Flandre'}, 2804: {'province': 'Anvers', 'region': 'Flandre'}, 2805: {'province': 'Anvers', 'region': 'Flandre'}, 2806: {'province': 'Anvers', 'region': 'Flandre'}, 2807: {'province': 'Anvers', 'region': 'Flandre'}, 2808: {'province': 'Anvers', 'region': 'Flandre'}, 2809: {'province': 'Anvers', 'region': 'Flandre'}, 2810: {'province': 'Anvers', 'region': 'Flandre'}, 2811: {'province': 'Anvers', 'region': 'Flandre'}, 2812: {'province': 'Anvers', 'region': 'Flandre'}, 2813: {'province': 'Anvers', 'region': 'Flandre'}, 2814: {'province': 'Anvers', 'region': 'Flandre'}, 2815: {'province': 'Anvers', 'region': 'Flandre'}, 2816: {'province': 'Anvers', 'region': 'Flandre'}, 2817: {'province': 'Anvers', 'region': 'Flandre'}, 2818: {'province': 'Anvers', 'region': 'Flandre'}, 2819: {'province': 'Anvers', 'region': 'Flandre'}, 2820: {'province': 'Anvers', 'region': 'Flandre'}, 2821: {'province': 'Anvers', 'region': 'Flandre'}, 2822: {'province': 'Anvers', 'region': 'Flandre'}, 2823: {'province': 'Anvers', 'region': 'Flandre'}, 2824: {'province': 'Anvers', 'region': 'Flandre'}, 2825: {'province': 'Anvers', 'region': 'Flandre'}, 2826: {'province': 'Anvers', 'region': 'Flandre'}, 2827: {'province': 'Anvers', 'region': 'Flandre'}, 2828: {'province': 'Anvers', 'region': 'Flandre'}, 2829: {'province': 'Anvers', 'region': 'Flandre'}, 2830: {'province': 'Anvers', 'region': 'Flandre'}, 2831: {'province': 'Anvers', 'region': 'Flandre'}, 2832: {'province': 'Anvers', 'region': 'Flandre'}, 2833: {'province': 'Anvers', 'region': 'Flandre'}, 2834: {'province': 'Anvers', 'region': 'Flandre'}, 2835: {'province': 'Anvers', 'region': 'Flandre'}, 2836: {'province': 'Anvers', 'region': 'Flandre'}, 2837: {'province': 'Anvers', 'region': 'Flandre'}, 2838: {'province': 'Anvers', 'region': 'Flandre'}, 2839: {'province': 'Anvers', 'region': 'Flandre'}, 2840: {'province': 'Anvers', 'region': 'Flandre'}, 2841: {'province': 'Anvers', 'region': 'Flandre'}, 2842: {'province': 'Anvers', 'region': 'Flandre'}, 2843: {'province': 'Anvers', 'region': 'Flandre'}, 2844: {'province': 'Anvers', 'region': 'Flandre'}, 2845: {'province': 'Anvers', 'region': 'Flandre'}, 2846: {'province': 'Anvers', 'region': 'Flandre'}, 2847: {'province': 'Anvers', 'region': 'Flandre'}, 2848: {'province': 'Anvers', 'region': 'Flandre'}, 2849: {'province': 'Anvers', 'region': 'Flandre'}, 2850: {'province': 'Anvers', 'region': 'Flandre'}, 2851: {'province': 'Anvers', 'region': 'Flandre'}, 2852: {'province': 'Anvers', 'region': 'Flandre'}, 2853: {'province': 'Anvers', 'region': 'Flandre'}, 2854: {'province': 'Anvers', 'region': 'Flandre'}, 2855: {'province': 'Anvers', 'region': 'Flandre'}, 2856: {'province': 'Anvers', 'region': 'Flandre'}, 2857: {'province': 'Anvers', 'region': 'Flandre'}, 2858: {'province': 'Anvers', 'region': 'Flandre'}, 2859: {'province': 'Anvers', 'region': 'Flandre'}, 2860: {'province': 'Anvers', 'region': 'Flandre'}, 2861: {'province': 'Anvers', 'region': 'Flandre'}, 2862: {'province': 'Anvers', 'region': 'Flandre'}, 2863: {'province': 'Anvers', 'region': 'Flandre'}, 2864: {'province': 'Anvers', 'region': 'Flandre'}, 2865: {'province': 'Anvers', 'region': 'Flandre'}, 2866: {'province': 'Anvers', 'region': 'Flandre'}, 2867: {'province': 'Anvers', 'region': 'Flandre'}, 2868: {'province': 'Anvers', 'region': 'Flandre'}, 2869: {'province': 'Anvers', 'region': 'Flandre'}, 2870: {'province': 'Anvers', 'region': 'Flandre'}, 2871: {'province': 'Anvers', 'region': 'Flandre'}, 2872: {'province': 'Anvers', 'region': 'Flandre'}, 2873: {'province': 'Anvers', 'region': 'Flandre'}, 2874: {'province': 'Anvers', 'region': 'Flandre'}, 2875: {'province': 'Anvers', 'region': 'Flandre'}, 2876: {'province': 'Anvers', 'region': 'Flandre'}, 2877: {'province': 'Anvers', 'region': 'Flandre'}, 2878: {'province': 'Anvers', 'region': 'Flandre'}, 2879: {'province': 'Anvers', 'region': 'Flandre'}, 2880: {'province': 'Anvers', 'region': 'Flandre'}, 2881: {'province': 'Anvers', 'region': 'Flandre'}, 2882: {'province': 'Anvers', 'region': 'Flandre'}, 2883: {'province': 'Anvers', 'region': 'Flandre'}, 2884: {'province': 'Anvers', 'region': 'Flandre'}, 2885: {'province': 'Anvers', 'region': 'Flandre'}, 2886: {'province': 'Anvers', 'region': 'Flandre'}, 2887: {'province': 'Anvers', 'region': 'Flandre'}, 2888: {'province': 'Anvers', 'region': 'Flandre'}, 2889: {'province': 'Anvers', 'region': 'Flandre'}, 2890: {'province': 'Anvers', 'region': 'Flandre'}, 2891: {'province': 'Anvers', 'region': 'Flandre'}, 2892: {'province': 'Anvers', 'region': 'Flandre'}, 2893: {'province': 'Anvers', 'region': 'Flandre'}, 2894: {'province': 'Anvers', 'region': 'Flandre'}, 2895: {'province': 'Anvers', 'region': 'Flandre'}, 2896: {'province': 'Anvers', 'region': 'Flandre'}, 2897: {'province': 'Anvers', 'region': 'Flandre'}, 2898: {'province': 'Anvers', 'region': 'Flandre'}, 2899: {'province': 'Anvers', 'region': 'Flandre'}, 2900: {'province': 'Anvers', 'region': 'Flandre'}, 2901: {'province': 'Anvers', 'region': 'Flandre'}, 2902: {'province': 'Anvers', 'region': 'Flandre'}, 2903: {'province': 'Anvers', 'region': 'Flandre'}, 2904: {'province': 'Anvers', 'region': 'Flandre'}, 2905: {'province': 'Anvers', 'region': 'Flandre'}, 2906: {'province': 'Anvers', 'region': 'Flandre'}, 2907: {'province': 'Anvers', 'region': 'Flandre'}, 2908: {'province': 'Anvers', 'region': 'Flandre'}, 2909: {'province': 'Anvers', 'region': 'Flandre'}, 2910: {'province': 'Anvers', 'region': 'Flandre'}, 2911: {'province': 'Anvers', 'region': 'Flandre'}, 2912: {'province': 'Anvers', 'region': 'Flandre'}, 2913: {'province': 'Anvers', 'region': 'Flandre'}, 2914: {'province': 'Anvers', 'region': 'Flandre'}, 2915: {'province': 'Anvers', 'region': 'Flandre'}, 2916: {'province': 'Anvers', 'region': 'Flandre'}, 2917: {'province': 'Anvers', 'region': 'Flandre'}, 2918: {'province': 'Anvers', 'region': 'Flandre'}, 2919: {'province': 'Anvers', 'region': 'Flandre'}, 2920: {'province': 'Anvers', 'region': 'Flandre'}, 2921: {'province': 'Anvers', 'region': 'Flandre'}, 2922: {'province': 'Anvers', 'region': 'Flandre'}, 2923: {'province': 'Anvers', 'region': 'Flandre'}, 2924: {'province': 'Anvers', 'region': 'Flandre'}, 2925: {'province': 'Anvers', 'region': 'Flandre'}, 2926: {'province': 'Anvers', 'region': 'Flandre'}, 2927: {'province': 'Anvers', 'region': 'Flandre'}, 2928: {'province': 'Anvers', 'region': 'Flandre'}, 2929: {'province': 'Anvers', 'region': 'Flandre'}, 2930: {'province': 'Anvers', 'region': 'Flandre'}, 2931: {'province': 'Anvers', 'region': 'Flandre'}, 2932: {'province': 'Anvers', 'region': 'Flandre'}, 2933: {'province': 'Anvers', 'region': 'Flandre'}, 2934: {'province': 'Anvers', 'region': 'Flandre'}, 2935: {'province': 'Anvers', 'region': 'Flandre'}, 2936: {'province': 'Anvers', 'region': 'Flandre'}, 2937: {'province': 'Anvers', 'region': 'Flandre'}, 2938: {'province': 'Anvers', 'region': 'Flandre'}, 2939: {'province': 'Anvers', 'region': 'Flandre'}, 2940: {'province': 'Anvers', 'region': 'Flandre'}, 2941: {'province': 'Anvers', 'region': 'Flandre'}, 2942: {'province': 'Anvers', 'region': 'Flandre'}, 2943: {'province': 'Anvers', 'region': 'Flandre'}, 2944: {'province': 'Anvers', 'region': 'Flandre'}, 2945: {'province': 'Anvers', 'region': 'Flandre'}, 2946: {'province': 'Anvers', 'region': 'Flandre'}, 2947: {'province': 'Anvers', 'region': 'Flandre'}, 2948: {'province': 'Anvers', 'region': 'Flandre'}, 2949: {'province': 'Anvers', 'region': 'Flandre'}, 2950: {'province': 'Anvers', 'region': 'Flandre'}, 2951: {'province': 'Anvers', 'region': 'Flandre'}, 2952: {'province': 'Anvers', 'region': 'Flandre'}, 2953: {'province': 'Anvers', 'region': 'Flandre'}, 2954: {'province': 'Anvers', 'region': 'Flandre'}, 2955: {'province': 'Anvers', 'region': 'Flandre'}, 2956: {'province': 'Anvers', 'region': 'Flandre'}, 2957: {'province': 'Anvers', 'region': 'Flandre'}, 2958: {'province': 'Anvers', 'region': 'Flandre'}, 2959: {'province': 'Anvers', 'region': 'Flandre'}, 2960: {'province': 'Anvers', 'region': 'Flandre'}, 2961: {'province': 'Anvers', 'region': 'Flandre'}, 2962: {'province': 'Anvers', 'region': 'Flandre'}, 2963: {'province': 'Anvers', 'region': 'Flandre'}, 2964: {'province': 'Anvers', 'region': 'Flandre'}, 2965: {'province': 'Anvers', 'region': 'Flandre'}, 2966: {'province': 'Anvers', 'region': 'Flandre'}, 2967: {'province': 'Anvers', 'region': 'Flandre'}, 2968: {'province': 'Anvers', 'region': 'Flandre'}, 2969: {'province': 'Anvers', 'region': 'Flandre'}, 2970: {'province': 'Anvers', 'region': 'Flandre'}, 2971: {'province': 'Anvers', 'region': 'Flandre'}, 2972: {'province': 'Anvers', 'region': 'Flandre'}, 2973: {'province': 'Anvers', 'region': 'Flandre'}, 2974: {'province': 'Anvers', 'region': 'Flandre'}, 2975: {'province': 'Anvers', 'region': 'Flandre'}, 2976: {'province': 'Anvers', 'region': 'Flandre'}, 2977: {'province': 'Anvers', 'region': 'Flandre'}, 2978: {'province': 'Anvers', 'region': 'Flandre'}, 2979: {'province': 'Anvers', 'region': 'Flandre'}, 2980: {'province': 'Anvers', 'region': 'Flandre'}, 2981: {'province': 'Anvers', 'region': 'Flandre'}, 2982: {'province': 'Anvers', 'region': 'Flandre'}, 2983: {'province': 'Anvers', 'region': 'Flandre'}, 2984: {'province': 'Anvers', 'region': 'Flandre'}, 2985: {'province': 'Anvers', 'region': 'Flandre'}, 2986: {'province': 'Anvers', 'region': 'Flandre'}, 2987: {'province': 'Anvers', 'region': 'Flandre'}, 2988: {'province': 'Anvers', 'region': 'Flandre'}, 2989: {'province': 'Anvers', 'region': 'Flandre'}, 2990: {'province': 'Anvers', 'region': 'Flandre'}, 2991: {'province': 'Anvers', 'region': 'Flandre'}, 2992: {'province': 'Anvers', 'region': 'Flandre'}, 2993: {'province': 'Anvers', 'region': 'Flandre'}, 2994: {'province': 'Anvers', 'region': 'Flandre'}, 2995: {'province': 'Anvers', 'region': 'Flandre'}, 2996: {'province': 'Anvers', 'region': 'Flandre'}, 2997: {'province': 'Anvers', 'region': 'Flandre'}, 2998: {'province': 'Anvers', 'region': 'Flandre'}, 2999: {'province': 'Anvers', 'region': 'Flandre'}, 3500: {'province': 'Limbourg', 'region': 'Flandre'}, 3501: {'province': 'Limbourg', 'region': 'Flandre'}, 3502: {'province': 'Limbourg', 'region': 'Flandre'}, 3503: {'province': 'Limbourg', 'region': 'Flandre'}, 3504: {'province': 'Limbourg', 'region': 'Flandre'}, 3505: {'province': 'Limbourg', 'region': 'Flandre'}, 3506: {'province': 'Limbourg', 'region': 'Flandre'}, 3507: {'province': 'Limbourg', 'region': 'Flandre'}, 3508: {'province': 'Limbourg', 'region': 'Flandre'}, 3509: {'province': 'Limbourg', 'region': 'Flandre'}, 3510: {'province': 'Limbourg', 'region': 'Flandre'}, 3511: {'province': 'Limbourg', 'region': 'Flandre'}, 3512: {'province': 'Limbourg', 'region': 'Flandre'}, 3513: {'province': 'Limbourg', 'region': 'Flandre'}, 3514: {'province': 'Limbourg', 'region': 'Flandre'}, 3515: {'province': 'Limbourg', 'region': 'Flandre'}, 3516: {'province': 'Limbourg', 'region': 'Flandre'}, 3517: {'province': 'Limbourg', 'region': 'Flandre'}, 3518: {'province': 'Limbourg', 'region': 'Flandre'}, 3519: {'province': 'Limbourg', 'region': 'Flandre'}, 3520: {'province': 'Limbourg', 'region': 'Flandre'}, 3521: {'province': 'Limbourg', 'region': 'Flandre'}, 3522: {'province': 'Limbourg', 'region': 'Flandre'}, 3523: {'province': 'Limbourg', 'region': 'Flandre'}, 3524: {'province': 'Limbourg', 'region': 'Flandre'}, 3525: {'province': 'Limbourg', 'region': 'Flandre'}, 3526: {'province': 'Limbourg', 'region': 'Flandre'}, 3527: {'province': 'Limbourg', 'region': 'Flandre'}, 3528: {'province': 'Limbourg', 'region': 'Flandre'}, 3529: {'province': 'Limbourg', 'region': 'Flandre'}, 3530: {'province': 'Limbourg', 'region': 'Flandre'}, 3531: {'province': 'Limbourg', 'region': 'Flandre'}, 3532: {'province': 'Limbourg', 'region': 'Flandre'}, 3533: {'province': 'Limbourg', 'region': 'Flandre'}, 3534: {'province': 'Limbourg', 'region': 'Flandre'}, 3535: {'province': 'Limbourg', 'region': 'Flandre'}, 3536: {'province': 'Limbourg', 'region': 'Flandre'}, 3537: {'province': 'Limbourg', 'region': 'Flandre'}, 3538: {'province': 'Limbourg', 'region': 'Flandre'}, 3539: {'province': 'Limbourg', 'region': 'Flandre'}, 3540: {'province': 'Limbourg', 'region': 'Flandre'}, 3541: {'province': 'Limbourg', 'region': 'Flandre'}, 3542: {'province': 'Limbourg', 'region': 'Flandre'}, 3543: {'province': 'Limbourg', 'region': 'Flandre'}, 3544: {'province': 'Limbourg', 'region': 'Flandre'}, 3545: {'province': 'Limbourg', 'region': 'Flandre'}, 3546: {'province': 'Limbourg', 'region': 'Flandre'}, 3547: {'province': 'Limbourg', 'region': 'Flandre'}, 3548: {'province': 'Limbourg', 'region': 'Flandre'}, 3549: {'province': 'Limbourg', 'region': 'Flandre'}, 3550: {'province': 'Limbourg', 'region': 'Flandre'}, 3551: {'province': 'Limbourg', 'region': 'Flandre'}, 3552: {'province': 'Limbourg', 'region': 'Flandre'}, 3553: {'province': 'Limbourg', 'region': 'Flandre'}, 3554: {'province': 'Limbourg', 'region': 'Flandre'}, 3555: {'province': 'Limbourg', 'region': 'Flandre'}, 3556: {'province': 'Limbourg', 'region': 'Flandre'}, 3557: {'province': 'Limbourg', 'region': 'Flandre'}, 3558: {'province': 'Limbourg', 'region': 'Flandre'}, 3559: {'province': 'Limbourg', 'region': 'Flandre'}, 3560: {'province': 'Limbourg', 'region': 'Flandre'}, 3561: {'province': 'Limbourg', 'region': 'Flandre'}, 3562: {'province': 'Limbourg', 'region': 'Flandre'}, 3563: {'province': 'Limbourg', 'region': 'Flandre'}, 3564: {'province': 'Limbourg', 'region': 'Flandre'}, 3565: {'province': 'Limbourg', 'region': 'Flandre'}, 3566: {'province': 'Limbourg', 'region': 'Flandre'}, 3567: {'province': 'Limbourg', 'region': 'Flandre'}, 3568: {'province': 'Limbourg', 'region': 'Flandre'}, 3569: {'province': 'Limbourg', 'region': 'Flandre'}, 3570: {'province': 'Limbourg', 'region': 'Flandre'}, 3571: {'province': 'Limbourg', 'region': 'Flandre'}, 3572: {'province': 'Limbourg', 'region': 'Flandre'}, 3573: {'province': 'Limbourg', 'region': 'Flandre'}, 3574: {'province': 'Limbourg', 'region': 'Flandre'}, 3575: {'province': 'Limbourg', 'region': 'Flandre'}, 3576: {'province': 'Limbourg', 'region': 'Flandre'}, 3577: {'province': 'Limbourg', 'region': 'Flandre'}, 3578: {'province': 'Limbourg', 'region': 'Flandre'}, 3579: {'province': 'Limbourg', 'region': 'Flandre'}, 3580: {'province': 'Limbourg', 'region': 'Flandre'}, 3581: {'province': 'Limbourg', 'region': 'Flandre'}, 3582: {'province': 'Limbourg', 'region': 'Flandre'}, 3583: {'province': 'Limbourg', 'region': 'Flandre'}, 3584: {'province': 'Limbourg', 'region': 'Flandre'}, 3585: {'province': 'Limbourg', 'region': 'Flandre'}, 3586: {'province': 'Limbourg', 'region': 'Flandre'}, 3587: {'province': 'Limbourg', 'region': 'Flandre'}, 3588: {'province': 'Limbourg', 'region': 'Flandre'}, 3589: {'province': 'Limbourg', 'region': 'Flandre'}, 3590: {'province': 'Limbourg', 'region': 'Flandre'}, 3591: {'province': 'Limbourg', 'region': 'Flandre'}, 3592: {'province': 'Limbourg', 'region': 'Flandre'}, 3593: {'province': 'Limbourg', 'region': 'Flandre'}, 3594: {'province': 'Limbourg', 'region': 'Flandre'}, 3595: {'province': 'Limbourg', 'region': 'Flandre'}, 3596: {'province': 'Limbourg', 'region': 'Flandre'}, 3597: {'province': 'Limbourg', 'region': 'Flandre'}, 3598: {'province': 'Limbourg', 'region': 'Flandre'}, 3599: {'province': 'Limbourg', 'region': 'Flandre'}, 3600: {'province': 'Limbourg', 'region': 'Flandre'}, 3601: {'province': 'Limbourg', 'region': 'Flandre'}, 3602: {'province': 'Limbourg', 'region': 'Flandre'}, 3603: {'province': 'Limbourg', 'region': 'Flandre'}, 3604: {'province': 'Limbourg', 'region': 'Flandre'}, 3605: {'province': 'Limbourg', 'region': 'Flandre'}, 3606: {'province': 'Limbourg', 'region': 'Flandre'}, 3607: {'province': 'Limbourg', 'region': 'Flandre'}, 3608: {'province': 'Limbourg', 'region': 'Flandre'}, 3609: {'province': 'Limbourg', 'region': 'Flandre'}, 3610: {'province': 'Limbourg', 'region': 'Flandre'}, 3611: {'province': 'Limbourg', 'region': 'Flandre'}, 3612: {'province': 'Limbourg', 'region': 'Flandre'}, 3613: {'province': 'Limbourg', 'region': 'Flandre'}, 3614: {'province': 'Limbourg', 'region': 'Flandre'}, 3615: {'province': 'Limbourg', 'region': 'Flandre'}, 3616: {'province': 'Limbourg', 'region': 'Flandre'}, 3617: {'province': 'Limbourg', 'region': 'Flandre'}, 3618: {'province': 'Limbourg', 'region': 'Flandre'}, 3619: {'province': 'Limbourg', 'region': 'Flandre'}, 3620: {'province': 'Limbourg', 'region': 'Flandre'}, 3621: {'province': 'Limbourg', 'region': 'Flandre'}, 3622: {'province': 'Limbourg', 'region': 'Flandre'}, 3623: {'province': 'Limbourg', 'region': 'Flandre'}, 3624: {'province': 'Limbourg', 'region': 'Flandre'}, 3625: {'province': 'Limbourg', 'region': 'Flandre'}, 3626: {'province': 'Limbourg', 'region': 'Flandre'}, 3627: {'province': 'Limbourg', 'region': 'Flandre'}, 3628: {'province': 'Limbourg', 'region': 'Flandre'}, 3629: {'province': 'Limbourg', 'region': 'Flandre'}, 3630: {'province': 'Limbourg', 'region': 'Flandre'}, 3631: {'province': 'Limbourg', 'region': 'Flandre'}, 3632: {'province': 'Limbourg', 'region': 'Flandre'}, 3633: {'province': 'Limbourg', 'region': 'Flandre'}, 3634: {'province': 'Limbourg', 'region': 'Flandre'}, 3635: {'province': 'Limbourg', 'region': 'Flandre'}, 3636: {'province': 'Limbourg', 'region': 'Flandre'}, 3637: {'province': 'Limbourg', 'region': 'Flandre'}, 3638: {'province': 'Limbourg', 'region': 'Flandre'}, 3639: {'province': 'Limbourg', 'region': 'Flandre'}, 3640: {'province': 'Limbourg', 'region': 'Flandre'}, 3641: {'province': 'Limbourg', 'region': 'Flandre'}, 3642: {'province': 'Limbourg', 'region': 'Flandre'}, 3643: {'province': 'Limbourg', 'region': 'Flandre'}, 3644: {'province': 'Limbourg', 'region': 'Flandre'}, 3645: {'province': 'Limbourg', 'region': 'Flandre'}, 3646: {'province': 'Limbourg', 'region': 'Flandre'}, 3647: {'province': 'Limbourg', 'region': 'Flandre'}, 3648: {'province': 'Limbourg', 'region': 'Flandre'}, 3649: {'province': 'Limbourg', 'region': 'Flandre'}, 3650: {'province': 'Limbourg', 'region': 'Flandre'}, 3651: {'province': 'Limbourg', 'region': 'Flandre'}, 3652: {'province': 'Limbourg', 'region': 'Flandre'}, 3653: {'province': 'Limbourg', 'region': 'Flandre'}, 3654: {'province': 'Limbourg', 'region': 'Flandre'}, 3655: {'province': 'Limbourg', 'region': 'Flandre'}, 3656: {'province': 'Limbourg', 'region': 'Flandre'}, 3657: {'province': 'Limbourg', 'region': 'Flandre'}, 3658: {'province': 'Limbourg', 'region': 'Flandre'}, 3659: {'province': 'Limbourg', 'region': 'Flandre'}, 3660: {'province': 'Limbourg', 'region': 'Flandre'}, 3661: {'province': 'Limbourg', 'region': 'Flandre'}, 3662: {'province': 'Limbourg', 'region': 'Flandre'}, 3663: {'province': 'Limbourg', 'region': 'Flandre'}, 3664: {'province': 'Limbourg', 'region': 'Flandre'}, 3665: {'province': 'Limbourg', 'region': 'Flandre'}, 3666: {'province': 'Limbourg', 'region': 'Flandre'}, 3667: {'province': 'Limbourg', 'region': 'Flandre'}, 3668: {'province': 'Limbourg', 'region': 'Flandre'}, 3669: {'province': 'Limbourg', 'region': 'Flandre'}, 3670: {'province': 'Limbourg', 'region': 'Flandre'}, 3671: {'province': 'Limbourg', 'region': 'Flandre'}, 3672: {'province': 'Limbourg', 'region': 'Flandre'}, 3673: {'province': 'Limbourg', 'region': 'Flandre'}, 3674: {'province': 'Limbourg', 'region': 'Flandre'}, 3675: {'province': 'Limbourg', 'region': 'Flandre'}, 3676: {'province': 'Limbourg', 'region': 'Flandre'}, 3677: {'province': 'Limbourg', 'region': 'Flandre'}, 3678: {'province': 'Limbourg', 'region': 'Flandre'}, 3679: {'province': 'Limbourg', 'region': 'Flandre'}, 3680: {'province': 'Limbourg', 'region': 'Flandre'}, 3681: {'province': 'Limbourg', 'region': 'Flandre'}, 3682: {'province': 'Limbourg', 'region': 'Flandre'}, 3683: {'province': 'Limbourg', 'region': 'Flandre'}, 3684: {'province': 'Limbourg', 'region': 'Flandre'}, 3685: {'province': 'Limbourg', 'region': 'Flandre'}, 3686: {'province': 'Limbourg', 'region': 'Flandre'}, 3687: {'province': 'Limbourg', 'region': 'Flandre'}, 3688: {'province': 'Limbourg', 'region': 'Flandre'}, 3689: {'province': 'Limbourg', 'region': 'Flandre'}, 3690: {'province': 'Limbourg', 'region': 'Flandre'}, 3691: {'province': 'Limbourg', 'region': 'Flandre'}, 3692: {'province': 'Limbourg', 'region': 'Flandre'}, 3693: {'province': 'Limbourg', 'region': 'Flandre'}, 3694: {'province': 'Limbourg', 'region': 'Flandre'}, 3695: {'province': 'Limbourg', 'region': 'Flandre'}, 3696: {'province': 'Limbourg', 'region': 'Flandre'}, 3697: {'province': 'Limbourg', 'region': 'Flandre'}, 3698: {'province': 'Limbourg', 'region': 'Flandre'}, 3699: {'province': 'Limbourg', 'region': 'Flandre'}, 3700: {'province': 'Limbourg', 'region': 'Flandre'}, 3701: {'province': 'Limbourg', 'region': 'Flandre'}, 3702: {'province': 'Limbourg', 'region': 'Flandre'}, 3703: {'province': 'Limbourg', 'region': 'Flandre'}, 3704: {'province': 'Limbourg', 'region': 'Flandre'}, 3705: {'province': 'Limbourg', 'region': 'Flandre'}, 3706: {'province': 'Limbourg', 'region': 'Flandre'}, 3707: {'province': 'Limbourg', 'region': 'Flandre'}, 3708: {'province': 'Limbourg', 'region': 'Flandre'}, 3709: {'province': 'Limbourg', 'region': 'Flandre'}, 3710: {'province': 'Limbourg', 'region': 'Flandre'}, 3711: {'province': 'Limbourg', 'region': 'Flandre'}, 3712: {'province': 'Limbourg', 'region': 'Flandre'}, 3713: {'province': 'Limbourg', 'region': 'Flandre'}, 3714: {'province': 'Limbourg', 'region': 'Flandre'}, 3715: {'province': 'Limbourg', 'region': 'Flandre'}, 3716: {'province': 'Limbourg', 'region': 'Flandre'}, 3717: {'province': 'Limbourg', 'region': 'Flandre'}, 3718: {'province': 'Limbourg', 'region': 'Flandre'}, 3719: {'province': 'Limbourg', 'region': 'Flandre'}, 3720: {'province': 'Limbourg', 'region': 'Flandre'}, 3721: {'province': 'Limbourg', 'region': 'Flandre'}, 3722: {'province': 'Limbourg', 'region': 'Flandre'}, 3723: {'province': 'Limbourg', 'region': 'Flandre'}, 3724: {'province': 'Limbourg', 'region': 'Flandre'}, 3725: {'province': 'Limbourg', 'region': 'Flandre'}, 3726: {'province': 'Limbourg', 'region': 'Flandre'}, 3727: {'province': 'Limbourg', 'region': 'Flandre'}, 3728: {'province': 'Limbourg', 'region': 'Flandre'}, 3729: {'province': 'Limbourg', 'region': 'Flandre'}, 3730: {'province': 'Limbourg', 'region': 'Flandre'}, 3731: {'province': 'Limbourg', 'region': 'Flandre'}, 3732: {'province': 'Limbourg', 'region': 'Flandre'}, 3733: {'province': 'Limbourg', 'region': 'Flandre'}, 3734: {'province': 'Limbourg', 'region': 'Flandre'}, 3735: {'province': 'Limbourg', 'region': 'Flandre'}, 3736: {'province': 'Limbourg', 'region': 'Flandre'}, 3737: {'province': 'Limbourg', 'region': 'Flandre'}, 3738: {'province': 'Limbourg', 'region': 'Flandre'}, 3739: {'province': 'Limbourg', 'region': 'Flandre'}, 3740: {'province': 'Limbourg', 'region': 'Flandre'}, 3741: {'province': 'Limbourg', 'region': 'Flandre'}, 3742: {'province': 'Limbourg', 'region': 'Flandre'}, 3743: {'province': 'Limbourg', 'region': 'Flandre'}, 3744: {'province': 'Limbourg', 'region': 'Flandre'}, 3745: {'province': 'Limbourg', 'region': 'Flandre'}, 3746: {'province': 'Limbourg', 'region': 'Flandre'}, 3747: {'province': 'Limbourg', 'region': 'Flandre'}, 3748: {'province': 'Limbourg', 'region': 'Flandre'}, 3749: {'province': 'Limbourg', 'region': 'Flandre'}, 3750: {'province': 'Limbourg', 'region': 'Flandre'}, 3751: {'province': 'Limbourg', 'region': 'Flandre'}, 3752: {'province': 'Limbourg', 'region': 'Flandre'}, 3753: {'province': 'Limbourg', 'region': 'Flandre'}, 3754: {'province': 'Limbourg', 'region': 'Flandre'}, 3755: {'province': 'Limbourg', 'region': 'Flandre'}, 3756: {'province': 'Limbourg', 'region': 'Flandre'}, 3757: {'province': 'Limbourg', 'region': 'Flandre'}, 3758: {'province': 'Limbourg', 'region': 'Flandre'}, 3759: {'province': 'Limbourg', 'region': 'Flandre'}, 3760: {'province': 'Limbourg', 'region': 'Flandre'}, 3761: {'province': 'Limbourg', 'region': 'Flandre'}, 3762: {'province': 'Limbourg', 'region': 'Flandre'}, 3763: {'province': 'Limbourg', 'region': 'Flandre'}, 3764: {'province': 'Limbourg', 'region': 'Flandre'}, 3765: {'province': 'Limbourg', 'region': 'Flandre'}, 3766: {'province': 'Limbourg', 'region': 'Flandre'}, 3767: {'province': 'Limbourg', 'region': 'Flandre'}, 3768: {'province': 'Limbourg', 'region': 'Flandre'}, 3769: {'province': 'Limbourg', 'region': 'Flandre'}, 3770: {'province': 'Limbourg', 'region': 'Flandre'}, 3771: {'province': 'Limbourg', 'region': 'Flandre'}, 3772: {'province': 'Limbourg', 'region': 'Flandre'}, 3773: {'province': 'Limbourg', 'region': 'Flandre'}, 3774: {'province': 'Limbourg', 'region': 'Flandre'}, 3775: {'province': 'Limbourg', 'region': 'Flandre'}, 3776: {'province': 'Limbourg', 'region': 'Flandre'}, 3777: {'province': 'Limbourg', 'region': 'Flandre'}, 3778: {'province': 'Limbourg', 'region': 'Flandre'}, 3779: {'province': 'Limbourg', 'region': 'Flandre'}, 3780: {'province': 'Limbourg', 'region': 'Flandre'}, 3781: {'province': 'Limbourg', 'region': 'Flandre'}, 3782: {'province': 'Limbourg', 'region': 'Flandre'}, 3783: {'province': 'Limbourg', 'region': 'Flandre'}, 3784: {'province': 'Limbourg', 'region': 'Flandre'}, 3785: {'province': 'Limbourg', 'region': 'Flandre'}, 3786: {'province': 'Limbourg', 'region': 'Flandre'}, 3787: {'province': 'Limbourg', 'region': 'Flandre'}, 3788: {'province': 'Limbourg', 'region': 'Flandre'}, 3789: {'province': 'Limbourg', 'region': 'Flandre'}, 3790: {'province': 'Limbourg', 'region': 'Flandre'}, 3791: {'province': 'Limbourg', 'region': 'Flandre'}, 3792: {'province': 'Limbourg', 'region': 'Flandre'}, 3793: {'province': 'Limbourg', 'region': 'Flandre'}, 3794: {'province': 'Limbourg', 'region': 'Flandre'}, 3795: {'province': 'Limbourg', 'region': 'Flandre'}, 3796: {'province': 'Limbourg', 'region': 'Flandre'}, 3797: {'province': 'Limbourg', 'region': 'Flandre'}, 3798: {'province': 'Limbourg', 'region': 'Flandre'}, 3799: {'province': 'Limbourg', 'region': 'Flandre'}, 3800: {'province': 'Limbourg', 'region': 'Flandre'}, 3801: {'province': 'Limbourg', 'region': 'Flandre'}, 3802: {'province': 'Limbourg', 'region': 'Flandre'}, 3803: {'province': 'Limbourg', 'region': 'Flandre'}, 3804: {'province': 'Limbourg', 'region': 'Flandre'}, 3805: {'province': 'Limbourg', 'region': 'Flandre'}, 3806: {'province': 'Limbourg', 'region': 'Flandre'}, 3807: {'province': 'Limbourg', 'region': 'Flandre'}, 3808: {'province': 'Limbourg', 'region': 'Flandre'}, 3809: {'province': 'Limbourg', 'region': 'Flandre'}, 3810: {'province': 'Limbourg', 'region': 'Flandre'}, 3811: {'province': 'Limbourg', 'region': 'Flandre'}, 3812: {'province': 'Limbourg', 'region': 'Flandre'}, 3813: {'province': 'Limbourg', 'region': 'Flandre'}, 3814: {'province': 'Limbourg', 'region': 'Flandre'}, 3815: {'province': 'Limbourg', 'region': 'Flandre'}, 3816: {'province': 'Limbourg', 'region': 'Flandre'}, 3817: {'province': 'Limbourg', 'region': 'Flandre'}, 3818: {'province': 'Limbourg', 'region': 'Flandre'}, 3819: {'province': 'Limbourg', 'region': 'Flandre'}, 3820: {'province': 'Limbourg', 'region': 'Flandre'}, 3821: {'province': 'Limbourg', 'region': 'Flandre'}, 3822: {'province': 'Limbourg', 'region': 'Flandre'}, 3823: {'province': 'Limbourg', 'region': 'Flandre'}, 3824: {'province': 'Limbourg', 'region': 'Flandre'}, 3825: {'province': 'Limbourg', 'region': 'Flandre'}, 3826: {'province': 'Limbourg', 'region': 'Flandre'}, 3827: {'province': 'Limbourg', 'region': 'Flandre'}, 3828: {'province': 'Limbourg', 'region': 'Flandre'}, 3829: {'province': 'Limbourg', 'region': 'Flandre'}, 3830: {'province': 'Limbourg', 'region': 'Flandre'}, 3831: {'province': 'Limbourg', 'region': 'Flandre'}, 3832: {'province': 'Limbourg', 'region': 'Flandre'}, 3833: {'province': 'Limbourg', 'region': 'Flandre'}, 3834: {'province': 'Limbourg', 'region': 'Flandre'}, 3835: {'province': 'Limbourg', 'region': 'Flandre'}, 3836: {'province': 'Limbourg', 'region': 'Flandre'}, 3837: {'province': 'Limbourg', 'region': 'Flandre'}, 3838: {'province': 'Limbourg', 'region': 'Flandre'}, 3839: {'province': 'Limbourg', 'region': 'Flandre'}, 3840: {'province': 'Limbourg', 'region': 'Flandre'}, 3841: {'province': 'Limbourg', 'region': 'Flandre'}, 3842: {'province': 'Limbourg', 'region': 'Flandre'}, 3843: {'province': 'Limbourg', 'region': 'Flandre'}, 3844: {'province': 'Limbourg', 'region': 'Flandre'}, 3845: {'province': 'Limbourg', 'region': 'Flandre'}, 3846: {'province': 'Limbourg', 'region': 'Flandre'}, 3847: {'province': 'Limbourg', 'region': 'Flandre'}, 3848: {'province': 'Limbourg', 'region': 'Flandre'}, 3849: {'province': 'Limbourg', 'region': 'Flandre'}, 3850: {'province': 'Limbourg', 'region': 'Flandre'}, 3851: {'province': 'Limbourg', 'region': 'Flandre'}, 3852: {'province': 'Limbourg', 'region': 'Flandre'}, 3853: {'province': 'Limbourg', 'region': 'Flandre'}, 3854: {'province': 'Limbourg', 'region': 'Flandre'}, 3855: {'province': 'Limbourg', 'region': 'Flandre'}, 3856: {'province': 'Limbourg', 'region': 'Flandre'}, 3857: {'province': 'Limbourg', 'region': 'Flandre'}, 3858: {'province': 'Limbourg', 'region': 'Flandre'}, 3859: {'province': 'Limbourg', 'region': 'Flandre'}, 3860: {'province': 'Limbourg', 'region': 'Flandre'}, 3861: {'province': 'Limbourg', 'region': 'Flandre'}, 3862: {'province': 'Limbourg', 'region': 'Flandre'}, 3863: {'province': 'Limbourg', 'region': 'Flandre'}, 3864: {'province': 'Limbourg', 'region': 'Flandre'}, 3865: {'province': 'Limbourg', 'region': 'Flandre'}, 3866: {'province': 'Limbourg', 'region': 'Flandre'}, 3867: {'province': 'Limbourg', 'region': 'Flandre'}, 3868: {'province': 'Limbourg', 'region': 'Flandre'}, 3869: {'province': 'Limbourg', 'region': 'Flandre'}, 3870: {'province': 'Limbourg', 'region': 'Flandre'}, 3871: {'province': 'Limbourg', 'region': 'Flandre'}, 3872: {'province': 'Limbourg', 'region': 'Flandre'}, 3873: {'province': 'Limbourg', 'region': 'Flandre'}, 3874: {'province': 'Limbourg', 'region': 'Flandre'}, 3875: {'province': 'Limbourg', 'region': 'Flandre'}, 3876: {'province': 'Limbourg', 'region': 'Flandre'}, 3877: {'province': 'Limbourg', 'region': 'Flandre'}, 3878: {'province': 'Limbourg', 'region': 'Flandre'}, 3879: {'province': 'Limbourg', 'region': 'Flandre'}, 3880: {'province': 'Limbourg', 'region': 'Flandre'}, 3881: {'province': 'Limbourg', 'region': 'Flandre'}, 3882: {'province': 'Limbourg', 'region': 'Flandre'}, 3883: {'province': 'Limbourg', 'region': 'Flandre'}, 3884: {'province': 'Limbourg', 'region': 'Flandre'}, 3885: {'province': 'Limbourg', 'region': 'Flandre'}, 3886: {'province': 'Limbourg', 'region': 'Flandre'}, 3887: {'province': 'Limbourg', 'region': 'Flandre'}, 3888: {'province': 'Limbourg', 'region': 'Flandre'}, 3889: {'province': 'Limbourg', 'region': 'Flandre'}, 3890: {'province': 'Limbourg', 'region': 'Flandre'}, 3891: {'province': 'Limbourg', 'region': 'Flandre'}, 3892: {'province': 'Limbourg', 'region': 'Flandre'}, 3893: {'province': 'Limbourg', 'region': 'Flandre'}, 3894: {'province': 'Limbourg', 'region': 'Flandre'}, 3895: {'province': 'Limbourg', 'region': 'Flandre'}, 3896: {'province': 'Limbourg', 'region': 'Flandre'}, 3897: {'province': 'Limbourg', 'region': 'Flandre'}, 3898: {'province': 'Limbourg', 'region': 'Flandre'}, 3899: {'province': 'Limbourg', 'region': 'Flandre'}, 3900: {'province': 'Limbourg', 'region': 'Flandre'}, 3901: {'province': 'Limbourg', 'region': 'Flandre'}, 3902: {'province': 'Limbourg', 'region': 'Flandre'}, 3903: {'province': 'Limbourg', 'region': 'Flandre'}, 3904: {'province': 'Limbourg', 'region': 'Flandre'}, 3905: {'province': 'Limbourg', 'region': 'Flandre'}, 3906: {'province': 'Limbourg', 'region': 'Flandre'}, 3907: {'province': 'Limbourg', 'region': 'Flandre'}, 3908: {'province': 'Limbourg', 'region': 'Flandre'}, 3909: {'province': 'Limbourg', 'region': 'Flandre'}, 3910: {'province': 'Limbourg', 'region': 'Flandre'}, 3911: {'province': 'Limbourg', 'region': 'Flandre'}, 3912: {'province': 'Limbourg', 'region': 'Flandre'}, 3913: {'province': 'Limbourg', 'region': 'Flandre'}, 3914: {'province': 'Limbourg', 'region': 'Flandre'}, 3915: {'province': 'Limbourg', 'region': 'Flandre'}, 3916: {'province': 'Limbourg', 'region': 'Flandre'}, 3917: {'province': 'Limbourg', 'region': 'Flandre'}, 3918: {'province': 'Limbourg', 'region': 'Flandre'}, 3919: {'province': 'Limbourg', 'region': 'Flandre'}, 3920: {'province': 'Limbourg', 'region': 'Flandre'}, 3921: {'province': 'Limbourg', 'region': 'Flandre'}, 3922: {'province': 'Limbourg', 'region': 'Flandre'}, 3923: {'province': 'Limbourg', 'region': 'Flandre'}, 3924: {'province': 'Limbourg', 'region': 'Flandre'}, 3925: {'province': 'Limbourg', 'region': 'Flandre'}, 3926: {'province': 'Limbourg', 'region': 'Flandre'}, 3927: {'province': 'Limbourg', 'region': 'Flandre'}, 3928: {'province': 'Limbourg', 'region': 'Flandre'}, 3929: {'province': 'Limbourg', 'region': 'Flandre'}, 3930: {'province': 'Limbourg', 'region': 'Flandre'}, 3931: {'province': 'Limbourg', 'region': 'Flandre'}, 3932: {'province': 'Limbourg', 'region': 'Flandre'}, 3933: {'province': 'Limbourg', 'region': 'Flandre'}, 3934: {'province': 'Limbourg', 'region': 'Flandre'}, 3935: {'province': 'Limbourg', 'region': 'Flandre'}, 3936: {'province': 'Limbourg', 'region': 'Flandre'}, 3937: {'province': 'Limbourg', 'region': 'Flandre'}, 3938: {'province': 'Limbourg', 'region': 'Flandre'}, 3939: {'province': 'Limbourg', 'region': 'Flandre'}, 3940: {'province': 'Limbourg', 'region': 'Flandre'}, 3941: {'province': 'Limbourg', 'region': 'Flandre'}, 3942: {'province': 'Limbourg', 'region': 'Flandre'}, 3943: {'province': 'Limbourg', 'region': 'Flandre'}, 3944: {'province': 'Limbourg', 'region': 'Flandre'}, 3945: {'province': 'Limbourg', 'region': 'Flandre'}, 3946: {'province': 'Limbourg', 'region': 'Flandre'}, 3947: {'province': 'Limbourg', 'region': 'Flandre'}, 3948: {'province': 'Limbourg', 'region': 'Flandre'}, 3949: {'province': 'Limbourg', 'region': 'Flandre'}, 3950: {'province': 'Limbourg', 'region': 'Flandre'}, 3951: {'province': 'Limbourg', 'region': 'Flandre'}, 3952: {'province': 'Limbourg', 'region': 'Flandre'}, 3953: {'province': 'Limbourg', 'region': 'Flandre'}, 3954: {'province': 'Limbourg', 'region': 'Flandre'}, 3955: {'province': 'Limbourg', 'region': 'Flandre'}, 3956: {'province': 'Limbourg', 'region': 'Flandre'}, 3957: {'province': 'Limbourg', 'region': 'Flandre'}, 3958: {'province': 'Limbourg', 'region': 'Flandre'}, 3959: {'province': 'Limbourg', 'region': 'Flandre'}, 3960: {'province': 'Limbourg', 'region': 'Flandre'}, 3961: {'province': 'Limbourg', 'region': 'Flandre'}, 3962: {'province': 'Limbourg', 'region': 'Flandre'}, 3963: {'province': 'Limbourg', 'region': 'Flandre'}, 3964: {'province': 'Limbourg', 'region': 'Flandre'}, 3965: {'province': 'Limbourg', 'region': 'Flandre'}, 3966: {'province': 'Limbourg', 'region': 'Flandre'}, 3967: {'province': 'Limbourg', 'region': 'Flandre'}, 3968: {'province': 'Limbourg', 'region': 'Flandre'}, 3969: {'province': 'Limbourg', 'region': 'Flandre'}, 3970: {'province': 'Limbourg', 'region': 'Flandre'}, 3971: {'province': 'Limbourg', 'region': 'Flandre'}, 3972: {'province': 'Limbourg', 'region': 'Flandre'}, 3973: {'province': 'Limbourg', 'region': 'Flandre'}, 3974: {'province': 'Limbourg', 'region': 'Flandre'}, 3975: {'province': 'Limbourg', 'region': 'Flandre'}, 3976: {'province': 'Limbourg', 'region': 'Flandre'}, 3977: {'province': 'Limbourg', 'region': 'Flandre'}, 3978: {'province': 'Limbourg', 'region': 'Flandre'}, 3979: {'province': 'Limbourg', 'region': 'Flandre'}, 3980: {'province': 'Limbourg', 'region': 'Flandre'}, 3981: {'province': 'Limbourg', 'region': 'Flandre'}, 3982: {'province': 'Limbourg', 'region': 'Flandre'}, 3983: {'province': 'Limbourg', 'region': 'Flandre'}, 3984: {'province': 'Limbourg', 'region': 'Flandre'}, 3985: {'province': 'Limbourg', 'region': 'Flandre'}, 3986: {'province': 'Limbourg', 'region': 'Flandre'}, 3987: {'province': 'Limbourg', 'region': 'Flandre'}, 3988: {'province': 'Limbourg', 'region': 'Flandre'}, 3989: {'province': 'Limbourg', 'region': 'Flandre'}, 3990: {'province': 'Limbourg', 'region': 'Flandre'}, 3991: {'province': 'Limbourg', 'region': 'Flandre'}, 3992: {'province': 'Limbourg', 'region': 'Flandre'}, 3993: {'province': 'Limbourg', 'region': 'Flandre'}, 3994: {'province': 'Limbourg', 'region': 'Flandre'}, 3995: {'province': 'Limbourg', 'region': 'Flandre'}, 3996: {'province': 'Limbourg', 'region': 'Flandre'}, 3997: {'province': 'Limbourg', 'region': 'Flandre'}, 3998: {'province': 'Limbourg', 'region': 'Flandre'}, 3999: {'province': 'Limbourg', 'region': 'Flandre'}, 4000: {'province': 'Liège', 'region': 'Wallonie'}, 4001: {'province': 'Liège', 'region': 'Wallonie'}, 4002: {'province': 'Liège', 'region': 'Wallonie'}, 4003: {'province': 'Liège', 'region': 'Wallonie'}, 4004: {'province': 'Liège', 'region': 'Wallonie'}, 4005: {'province': 'Liège', 'region': 'Wallonie'}, 4006: {'province': 'Liège', 'region': 'Wallonie'}, 4007: {'province': 'Liège', 'region': 'Wallonie'}, 4008: {'province': 'Liège', 'region': 'Wallonie'}, 4009: {'province': 'Liège', 'region': 'Wallonie'}, 4010: {'province': 'Liège', 'region': 'Wallonie'}, 4011: {'province': 'Liège', 'region': 'Wallonie'}, 4012: {'province': 'Liège', 'region': 'Wallonie'}, 4013: {'province': 'Liège', 'region': 'Wallonie'}, 4014: {'province': 'Liège', 'region': 'Wallonie'}, 4015: {'province': 'Liège', 'region': 'Wallonie'}, 4016: {'province': 'Liège', 'region': 'Wallonie'}, 4017: {'province': 'Liège', 'region': 'Wallonie'}, 4018: {'province': 'Liège', 'region': 'Wallonie'}, 4019: {'province': 'Liège', 'region': 'Wallonie'}, 4020: {'province': 'Liège', 'region': 'Wallonie'}, 4021: {'province': 'Liège', 'region': 'Wallonie'}, 4022: {'province': 'Liège', 'region': 'Wallonie'}, 4023: {'province': 'Liège', 'region': 'Wallonie'}, 4024: {'province': 'Liège', 'region': 'Wallonie'}, 4025: {'province': 'Liège', 'region': 'Wallonie'}, 4026: {'province': 'Liège', 'region': 'Wallonie'}, 4027: {'province': 'Liège', 'region': 'Wallonie'}, 4028: {'province': 'Liège', 'region': 'Wallonie'}, 4029: {'province': 'Liège', 'region': 'Wallonie'}, 4030: {'province': 'Liège', 'region': 'Wallonie'}, 4031: {'province': 'Liège', 'region': 'Wallonie'}, 4032: {'province': 'Liège', 'region': 'Wallonie'}, 4033: {'province': 'Liège', 'region': 'Wallonie'}, 4034: {'province': 'Liège', 'region': 'Wallonie'}, 4035: {'province': 'Liège', 'region': 'Wallonie'}, 4036: {'province': 'Liège', 'region': 'Wallonie'}, 4037: {'province': 'Liège', 'region': 'Wallonie'}, 4038: {'province': 'Liège', 'region': 'Wallonie'}, 4039: {'province': 'Liège', 'region': 'Wallonie'}, 4040: {'province': 'Liège', 'region': 'Wallonie'}, 4041: {'province': 'Liège', 'region': 'Wallonie'}, 4042: {'province': 'Liège', 'region': 'Wallonie'}, 4043: {'province': 'Liège', 'region': 'Wallonie'}, 4044: {'province': 'Liège', 'region': 'Wallonie'}, 4045: {'province': 'Liège', 'region': 'Wallonie'}, 4046: {'province': 'Liège', 'region': 'Wallonie'}, 4047: {'province': 'Liège', 'region': 'Wallonie'}, 4048: {'province': 'Liège', 'region': 'Wallonie'}, 4049: {'province': 'Liège', 'region': 'Wallonie'}, 4050: {'province': 'Liège', 'region': 'Wallonie'}, 4051: {'province': 'Liège', 'region': 'Wallonie'}, 4052: {'province': 'Liège', 'region': 'Wallonie'}, 4053: {'province': 'Liège', 'region': 'Wallonie'}, 4054: {'province': 'Liège', 'region': 'Wallonie'}, 4055: {'province': 'Liège', 'region': 'Wallonie'}, 4056: {'province': 'Liège', 'region': 'Wallonie'}, 4057: {'province': 'Liège', 'region': 'Wallonie'}, 4058: {'province': 'Liège', 'region': 'Wallonie'}, 4059: {'province': 'Liège', 'region': 'Wallonie'}, 4060: {'province': 'Liège', 'region': 'Wallonie'}, 4061: {'province': 'Liège', 'region': 'Wallonie'}, 4062: {'province': 'Liège', 'region': 'Wallonie'}, 4063: {'province': 'Liège', 'region': 'Wallonie'}, 4064: {'province': 'Liège', 'region': 'Wallonie'}, 4065: {'province': 'Liège', 'region': 'Wallonie'}, 4066: {'province': 'Liège', 'region': 'Wallonie'}, 4067: {'province': 'Liège', 'region': 'Wallonie'}, 4068: {'province': 'Liège', 'region': 'Wallonie'}, 4069: {'province': 'Liège', 'region': 'Wallonie'}, 4070: {'province': 'Liège', 'region': 'Wallonie'}, 4071: {'province': 'Liège', 'region': 'Wallonie'}, 4072: {'province': 'Liège', 'region': 'Wallonie'}, 4073: {'province': 'Liège', 'region': 'Wallonie'}, 4074: {'province': 'Liège', 'region': 'Wallonie'}, 4075: {'province': 'Liège', 'region': 'Wallonie'}, 4076: {'province': 'Liège', 'region': 'Wallonie'}, 4077: {'province': 'Liège', 'region': 'Wallonie'}, 4078: {'province': 'Liège', 'region': 'Wallonie'}, 4079: {'province': 'Liège', 'region': 'Wallonie'}, 4080: {'province': 'Liège', 'region': 'Wallonie'}, 4081: {'province': 'Liège', 'region': 'Wallonie'}, 4082: {'province': 'Liège', 'region': 'Wallonie'}, 4083: {'province': 'Liège', 'region': 'Wallonie'}, 4084: {'province': 'Liège', 'region': 'Wallonie'}, 4085: {'province': 'Liège', 'region': 'Wallonie'}, 4086: {'province': 'Liège', 'region': 'Wallonie'}, 4087: {'province': 'Liège', 'region': 'Wallonie'}, 4088: {'province': 'Liège', 'region': 'Wallonie'}, 4089: {'province': 'Liège', 'region': 'Wallonie'}, 4090: {'province': 'Liège', 'region': 'Wallonie'}, 4091: {'province': 'Liège', 'region': 'Wallonie'}, 4092: {'province': 'Liège', 'region': 'Wallonie'}, 4093: {'province': 'Liège', 'region': 'Wallonie'}, 4094: {'province': 'Liège', 'region': 'Wallonie'}, 4095: {'province': 'Liège', 'region': 'Wallonie'}, 4096: {'province': 'Liège', 'region': 'Wallonie'}, 4097: {'province': 'Liège', 'region': 'Wallonie'}, 4098: {'province': 'Liège', 'region': 'Wallonie'}, 4099: {'province': 'Liège', 'region': 'Wallonie'}, 4100: {'province': 'Liège', 'region': 'Wallonie'}, 4101: {'province': 'Liège', 'region': 'Wallonie'}, 4102: {'province': 'Liège', 'region': 'Wallonie'}, 4103: {'province': 'Liège', 'region': 'Wallonie'}, 4104: {'province': 'Liège', 'region': 'Wallonie'}, 4105: {'province': 'Liège', 'region': 'Wallonie'}, 4106: {'province': 'Liège', 'region': 'Wallonie'}, 4107: {'province': 'Liège', 'region': 'Wallonie'}, 4108: {'province': 'Liège', 'region': 'Wallonie'}, 4109: {'province': 'Liège', 'region': 'Wallonie'}, 4110: {'province': 'Liège', 'region': 'Wallonie'}, 4111: {'province': 'Liège', 'region': 'Wallonie'}, 4112: {'province': 'Liège', 'region': 'Wallonie'}, 4113: {'province': 'Liège', 'region': 'Wallonie'}, 4114: {'province': 'Liège', 'region': 'Wallonie'}, 4115: {'province': 'Liège', 'region': 'Wallonie'}, 4116: {'province': 'Liège', 'region': 'Wallonie'}, 4117: {'province': 'Liège', 'region': 'Wallonie'}, 4118: {'province': 'Liège', 'region': 'Wallonie'}, 4119: {'province': 'Liège', 'region': 'Wallonie'}, 4120: {'province': 'Liège', 'region': 'Wallonie'}, 4121: {'province': 'Liège', 'region': 'Wallonie'}, 4122: {'province': 'Liège', 'region': 'Wallonie'}, 4123: {'province': 'Liège', 'region': 'Wallonie'}, 4124: {'province': 'Liège', 'region': 'Wallonie'}, 4125: {'province': 'Liège', 'region': 'Wallonie'}, 4126: {'province': 'Liège', 'region': 'Wallonie'}, 4127: {'province': 'Liège', 'region': 'Wallonie'}, 4128: {'province': 'Liège', 'region': 'Wallonie'}, 4129: {'province': 'Liège', 'region': 'Wallonie'}, 4130: {'province': 'Liège', 'region': 'Wallonie'}, 4131: {'province': 'Liège', 'region': 'Wallonie'}, 4132: {'province': 'Liège', 'region': 'Wallonie'}, 4133: {'province': 'Liège', 'region': 'Wallonie'}, 4134: {'province': 'Liège', 'region': 'Wallonie'}, 4135: {'province': 'Liège', 'region': 'Wallonie'}, 4136: {'province': 'Liège', 'region': 'Wallonie'}, 4137: {'province': 'Liège', 'region': 'Wallonie'}, 4138: {'province': 'Liège', 'region': 'Wallonie'}, 4139: {'province': 'Liège', 'region': 'Wallonie'}, 4140: {'province': 'Liège', 'region': 'Wallonie'}, 4141: {'province': 'Liège', 'region': 'Wallonie'}, 4142: {'province': 'Liège', 'region': 'Wallonie'}, 4143: {'province': 'Liège', 'region': 'Wallonie'}, 4144: {'province': 'Liège', 'region': 'Wallonie'}, 4145: {'province': 'Liège', 'region': 'Wallonie'}, 4146: {'province': 'Liège', 'region': 'Wallonie'}, 4147: {'province': 'Liège', 'region': 'Wallonie'}, 4148: {'province': 'Liège', 'region': 'Wallonie'}, 4149: {'province': 'Liège', 'region': 'Wallonie'}, 4150: {'province': 'Liège', 'region': 'Wallonie'}, 4151: {'province': 'Liège', 'region': 'Wallonie'}, 4152: {'province': 'Liège', 'region': 'Wallonie'}, 4153: {'province': 'Liège', 'region': 'Wallonie'}, 4154: {'province': 'Liège', 'region': 'Wallonie'}, 4155: {'province': 'Liège', 'region': 'Wallonie'}, 4156: {'province': 'Liège', 'region': 'Wallonie'}, 4157: {'province': 'Liège', 'region': 'Wallonie'}, 4158: {'province': 'Liège', 'region': 'Wallonie'}, 4159: {'province': 'Liège', 'region': 'Wallonie'}, 4160: {'province': 'Liège', 'region': 'Wallonie'}, 4161: {'province': 'Liège', 'region': 'Wallonie'}, 4162: {'province': 'Liège', 'region': 'Wallonie'}, 4163: {'province': 'Liège', 'region': 'Wallonie'}, 4164: {'province': 'Liège', 'region': 'Wallonie'}, 4165: {'province': 'Liège', 'region': 'Wallonie'}, 4166: {'province': 'Liège', 'region': 'Wallonie'}, 4167: {'province': 'Liège', 'region': 'Wallonie'}, 4168: {'province': 'Liège', 'region': 'Wallonie'}, 4169: {'province': 'Liège', 'region': 'Wallonie'}, 4170: {'province': 'Liège', 'region': 'Wallonie'}, 4171: {'province': 'Liège', 'region': 'Wallonie'}, 4172: {'province': 'Liège', 'region': 'Wallonie'}, 4173: {'province': 'Liège', 'region': 'Wallonie'}, 4174: {'province': 'Liège', 'region': 'Wallonie'}, 4175: {'province': 'Liège', 'region': 'Wallonie'}, 4176: {'province': 'Liège', 'region': 'Wallonie'}, 4177: {'province': 'Liège', 'region': 'Wallonie'}, 4178: {'province': 'Liège', 'region': 'Wallonie'}, 4179: {'province': 'Liège', 'region': 'Wallonie'}, 4180: {'province': 'Liège', 'region': 'Wallonie'}, 4181: {'province': 'Liège', 'region': 'Wallonie'}, 4182: {'province': 'Liège', 'region': 'Wallonie'}, 4183: {'province': 'Liège', 'region': 'Wallonie'}, 4184: {'province': 'Liège', 'region': 'Wallonie'}, 4185: {'province': 'Liège', 'region': 'Wallonie'}, 4186: {'province': 'Liège', 'region': 'Wallonie'}, 4187: {'province': 'Liège', 'region': 'Wallonie'}, 4188: {'province': 'Liège', 'region': 'Wallonie'}, 4189: {'province': 'Liège', 'region': 'Wallonie'}, 4190: {'province': 'Liège', 'region': 'Wallonie'}, 4191: {'province': 'Liège', 'region': 'Wallonie'}, 4192: {'province': 'Liège', 'region': 'Wallonie'}, 4193: {'province': 'Liège', 'region': 'Wallonie'}, 4194: {'province': 'Liège', 'region': 'Wallonie'}, 4195: {'province': 'Liège', 'region': 'Wallonie'}, 4196: {'province': 'Liège', 'region': 'Wallonie'}, 4197: {'province': 'Liège', 'region': 'Wallonie'}, 4198: {'province': 'Liège', 'region': 'Wallonie'}, 4199: {'province': 'Liège', 'region': 'Wallonie'}, 4200: {'province': 'Liège', 'region': 'Wallonie'}, 4201: {'province': 'Liège', 'region': 'Wallonie'}, 4202: {'province': 'Liège', 'region': 'Wallonie'}, 4203: {'province': 'Liège', 'region': 'Wallonie'}, 4204: {'province': 'Liège', 'region': 'Wallonie'}, 4205: {'province': 'Liège', 'region': 'Wallonie'}, 4206: {'province': 'Liège', 'region': 'Wallonie'}, 4207: {'province': 'Liège', 'region': 'Wallonie'}, 4208: {'province': 'Liège', 'region': 'Wallonie'}, 4209: {'province': 'Liège', 'region': 'Wallonie'}, 4210: {'province': 'Liège', 'region': 'Wallonie'}, 4211: {'province': 'Liège', 'region': 'Wallonie'}, 4212: {'province': 'Liège', 'region': 'Wallonie'}, 4213: {'province': 'Liège', 'region': 'Wallonie'}, 4214: {'province': 'Liège', 'region': 'Wallonie'}, 4215: {'province': 'Liège', 'region': 'Wallonie'}, 4216: {'province': 'Liège', 'region': 'Wallonie'}, 4217: {'province': 'Liège', 'region': 'Wallonie'}, 4218: {'province': 'Liège', 'region': 'Wallonie'}, 4219: {'province': 'Liège', 'region': 'Wallonie'}, 4220: {'province': 'Liège', 'region': 'Wallonie'}, 4221: {'province': 'Liège', 'region': 'Wallonie'}, 4222: {'province': 'Liège', 'region': 'Wallonie'}, 4223: {'province': 'Liège', 'region': 'Wallonie'}, 4224: {'province': 'Liège', 'region': 'Wallonie'}, 4225: {'province': 'Liège', 'region': 'Wallonie'}, 4226: {'province': 'Liège', 'region': 'Wallonie'}, 4227: {'province': 'Liège', 'region': 'Wallonie'}, 4228: {'province': 'Liège', 'region': 'Wallonie'}, 4229: {'province': 'Liège', 'region': 'Wallonie'}, 4230: {'province': 'Liège', 'region': 'Wallonie'}, 4231: {'province': 'Liège', 'region': 'Wallonie'}, 4232: {'province': 'Liège', 'region': 'Wallonie'}, 4233: {'province': 'Liège', 'region': 'Wallonie'}, 4234: {'province': 'Liège', 'region': 'Wallonie'}, 4235: {'province': 'Liège', 'region': 'Wallonie'}, 4236: {'province': 'Liège', 'region': 'Wallonie'}, 4237: {'province': 'Liège', 'region': 'Wallonie'}, 4238: {'province': 'Liège', 'region': 'Wallonie'}, 4239: {'province': 'Liège', 'region': 'Wallonie'}, 4240: {'province': 'Liège', 'region': 'Wallonie'}, 4241: {'province': 'Liège', 'region': 'Wallonie'}, 4242: {'province': 'Liège', 'region': 'Wallonie'}, 4243: {'province': 'Liège', 'region': 'Wallonie'}, 4244: {'province': 'Liège', 'region': 'Wallonie'}, 4245: {'province': 'Liège', 'region': 'Wallonie'}, 4246: {'province': 'Liège', 'region': 'Wallonie'}, 4247: {'province': 'Liège', 'region': 'Wallonie'}, 4248: {'province': 'Liège', 'region': 'Wallonie'}, 4249: {'province': 'Liège', 'region': 'Wallonie'}, 4250: {'province': 'Liège', 'region': 'Wallonie'}, 4251: {'province': 'Liège', 'region': 'Wallonie'}, 4252: {'province': 'Liège', 'region': 'Wallonie'}, 4253: {'province': 'Liège', 'region': 'Wallonie'}, 4254: {'province': 'Liège', 'region': 'Wallonie'}, 4255: {'province': 'Liège', 'region': 'Wallonie'}, 4256: {'province': 'Liège', 'region': 'Wallonie'}, 4257: {'province': 'Liège', 'region': 'Wallonie'}, 4258: {'province': 'Liège', 'region': 'Wallonie'}, 4259: {'province': 'Liège', 'region': 'Wallonie'}, 4260: {'province': 'Liège', 'region': 'Wallonie'}, 4261: {'province': 'Liège', 'region': 'Wallonie'}, 4262: {'province': 'Liège', 'region': 'Wallonie'}, 4263: {'province': 'Liège', 'region': 'Wallonie'}, 4264: {'province': 'Liège', 'region': 'Wallonie'}, 4265: {'province': 'Liège', 'region': 'Wallonie'}, 4266: {'province': 'Liège', 'region': 'Wallonie'}, 4267: {'province': 'Liège', 'region': 'Wallonie'}, 4268: {'province': 'Liège', 'region': 'Wallonie'}, 4269: {'province': 'Liège', 'region': 'Wallonie'}, 4270: {'province': 'Liège', 'region': 'Wallonie'}, 4271: {'province': 'Liège', 'region': 'Wallonie'}, 4272: {'province': 'Liège', 'region': 'Wallonie'}, 4273: {'province': 'Liège', 'region': 'Wallonie'}, 4274: {'province': 'Liège', 'region': 'Wallonie'}, 4275: {'province': 'Liège', 'region': 'Wallonie'}, 4276: {'province': 'Liège', 'region': 'Wallonie'}, 4277: {'province': 'Liège', 'region': 'Wallonie'}, 4278: {'province': 'Liège', 'region': 'Wallonie'}, 4279: {'province': 'Liège', 'region': 'Wallonie'}, 4280: {'province': 'Liège', 'region': 'Wallonie'}, 4281: {'province': 'Liège', 'region': 'Wallonie'}, 4282: {'province': 'Liège', 'region': 'Wallonie'}, 4283: {'province': 'Liège', 'region': 'Wallonie'}, 4284: {'province': 'Liège', 'region': 'Wallonie'}, 4285: {'province': 'Liège', 'region': 'Wallonie'}, 4286: {'province': 'Liège', 'region': 'Wallonie'}, 4287: {'province': 'Liège', 'region': 'Wallonie'}, 4288: {'province': 'Liège', 'region': 'Wallonie'}, 4289: {'province': 'Liège', 'region': 'Wallonie'}, 4290: {'province': 'Liège', 'region': 'Wallonie'}, 4291: {'province': 'Liège', 'region': 'Wallonie'}, 4292: {'province': 'Liège', 'region': 'Wallonie'}, 4293: {'province': 'Liège', 'region': 'Wallonie'}, 4294: {'province': 'Liège', 'region': 'Wallonie'}, 4295: {'province': 'Liège', 'region': 'Wallonie'}, 4296: {'province': 'Liège', 'region': 'Wallonie'}, 4297: {'province': 'Liège', 'region': 'Wallonie'}, 4298: {'province': 'Liège', 'region': 'Wallonie'}, 4299: {'province': 'Liège', 'region': 'Wallonie'}, 4300: {'province': 'Liège', 'region': 'Wallonie'}, 4301: {'province': 'Liège', 'region': 'Wallonie'}, 4302: {'province': 'Liège', 'region': 'Wallonie'}, 4303: {'province': 'Liège', 'region': 'Wallonie'}, 4304: {'province': 'Liège', 'region': 'Wallonie'}, 4305: {'province': 'Liège', 'region': 'Wallonie'}, 4306: {'province': 'Liège', 'region': 'Wallonie'}, 4307: {'province': 'Liège', 'region': 'Wallonie'}, 4308: {'province': 'Liège', 'region': 'Wallonie'}, 4309: {'province': 'Liège', 'region': 'Wallonie'}, 4310: {'province': 'Liège', 'region': 'Wallonie'}, 4311: {'province': 'Liège', 'region': 'Wallonie'}, 4312: {'province': 'Liège', 'region': 'Wallonie'}, 4313: {'province': 'Liège', 'region': 'Wallonie'}, 4314: {'province': 'Liège', 'region': 'Wallonie'}, 4315: {'province': 'Liège', 'region': 'Wallonie'}, 4316: {'province': 'Liège', 'region': 'Wallonie'}, 4317: {'province': 'Liège', 'region': 'Wallonie'}, 4318: {'province': 'Liège', 'region': 'Wallonie'}, 4319: {'province': 'Liège', 'region': 'Wallonie'}, 4320: {'province': 'Liège', 'region': 'Wallonie'}, 4321: {'province': 'Liège', 'region': 'Wallonie'}, 4322: {'province': 'Liège', 'region': 'Wallonie'}, 4323: {'province': 'Liège', 'region': 'Wallonie'}, 4324: {'province': 'Liège', 'region': 'Wallonie'}, 4325: {'province': 'Liège', 'region': 'Wallonie'}, 4326: {'province': 'Liège', 'region': 'Wallonie'}, 4327: {'province': 'Liège', 'region': 'Wallonie'}, 4328: {'province': 'Liège', 'region': 'Wallonie'}, 4329: {'province': 'Liège', 'region': 'Wallonie'}, 4330: {'province': 'Liège', 'region': 'Wallonie'}, 4331: {'province': 'Liège', 'region': 'Wallonie'}, 4332: {'province': 'Liège', 'region': 'Wallonie'}, 4333: {'province': 'Liège', 'region': 'Wallonie'}, 4334: {'province': 'Liège', 'region': 'Wallonie'}, 4335: {'province': 'Liège', 'region': 'Wallonie'}, 4336: {'province': 'Liège', 'region': 'Wallonie'}, 4337: {'province': 'Liège', 'region': 'Wallonie'}, 4338: {'province': 'Liège', 'region': 'Wallonie'}, 4339: {'province': 'Liège', 'region': 'Wallonie'}, 4340: {'province': 'Liège', 'region': 'Wallonie'}, 4341: {'province': 'Liège', 'region': 'Wallonie'}, 4342: {'province': 'Liège', 'region': 'Wallonie'}, 4343: {'province': 'Liège', 'region': 'Wallonie'}, 4344: {'province': 'Liège', 'region': 'Wallonie'}, 4345: {'province': 'Liège', 'region': 'Wallonie'}, 4346: {'province': 'Liège', 'region': 'Wallonie'}, 4347: {'province': 'Liège', 'region': 'Wallonie'}, 4348: {'province': 'Liège', 'region': 'Wallonie'}, 4349: {'province': 'Liège', 'region': 'Wallonie'}, 4350: {'province': 'Liège', 'region': 'Wallonie'}, 4351: {'province': 'Liège', 'region': 'Wallonie'}, 4352: {'province': 'Liège', 'region': 'Wallonie'}, 4353: {'province': 'Liège', 'region': 'Wallonie'}, 4354: {'province': 'Liège', 'region': 'Wallonie'}, 4355: {'province': 'Liège', 'region': 'Wallonie'}, 4356: {'province': 'Liège', 'region': 'Wallonie'}, 4357: {'province': 'Liège', 'region': 'Wallonie'}, 4358: {'province': 'Liège', 'region': 'Wallonie'}, 4359: {'province': 'Liège', 'region': 'Wallonie'}, 4360: {'province': 'Liège', 'region': 'Wallonie'}, 4361: {'province': 'Liège', 'region': 'Wallonie'}, 4362: {'province': 'Liège', 'region': 'Wallonie'}, 4363: {'province': 'Liège', 'region': 'Wallonie'}, 4364: {'province': 'Liège', 'region': 'Wallonie'}, 4365: {'province': 'Liège', 'region': 'Wallonie'}, 4366: {'province': 'Liège', 'region': 'Wallonie'}, 4367: {'province': 'Liège', 'region': 'Wallonie'}, 4368: {'province': 'Liège', 'region': 'Wallonie'}, 4369: {'province': 'Liège', 'region': 'Wallonie'}, 4370: {'province': 'Liège', 'region': 'Wallonie'}, 4371: {'province': 'Liège', 'region': 'Wallonie'}, 4372: {'province': 'Liège', 'region': 'Wallonie'}, 4373: {'province': 'Liège', 'region': 'Wallonie'}, 4374: {'province': 'Liège', 'region': 'Wallonie'}, 4375: {'province': 'Liège', 'region': 'Wallonie'}, 4376: {'province': 'Liège', 'region': 'Wallonie'}, 4377: {'province': 'Liège', 'region': 'Wallonie'}, 4378: {'province': 'Liège', 'region': 'Wallonie'}, 4379: {'province': 'Liège', 'region': 'Wallonie'}, 4380: {'province': 'Liège', 'region': 'Wallonie'}, 4381: {'province': 'Liège', 'region': 'Wallonie'}, 4382: {'province': 'Liège', 'region': 'Wallonie'}, 4383: {'province': 'Liège', 'region': 'Wallonie'}, 4384: {'province': 'Liège', 'region': 'Wallonie'}, 4385: {'province': 'Liège', 'region': 'Wallonie'}, 4386: {'province': 'Liège', 'region': 'Wallonie'}, 4387: {'province': 'Liège', 'region': 'Wallonie'}, 4388: {'province': 'Liège', 'region': 'Wallonie'}, 4389: {'province': 'Liège', 'region': 'Wallonie'}, 4390: {'province': 'Liège', 'region': 'Wallonie'}, 4391: {'province': 'Liège', 'region': 'Wallonie'}, 4392: {'province': 'Liège', 'region': 'Wallonie'}, 4393: {'province': 'Liège', 'region': 'Wallonie'}, 4394: {'province': 'Liège', 'region': 'Wallonie'}, 4395: {'province': 'Liège', 'region': 'Wallonie'}, 4396: {'province': 'Liège', 'region': 'Wallonie'}, 4397: {'province': 'Liège', 'region': 'Wallonie'}, 4398: {'province': 'Liège', 'region': 'Wallonie'}, 4399: {'province': 'Liège', 'region': 'Wallonie'}, 4400: {'province': 'Liège', 'region': 'Wallonie'}, 4401: {'province': 'Liège', 'region': 'Wallonie'}, 4402: {'province': 'Liège', 'region': 'Wallonie'}, 4403: {'province': 'Liège', 'region': 'Wallonie'}, 4404: {'province': 'Liège', 'region': 'Wallonie'}, 4405: {'province': 'Liège', 'region': 'Wallonie'}, 4406: {'province': 'Liège', 'region': 'Wallonie'}, 4407: {'province': 'Liège', 'region': 'Wallonie'}, 4408: {'province': 'Liège', 'region': 'Wallonie'}, 4409: {'province': 'Liège', 'region': 'Wallonie'}, 4410: {'province': 'Liège', 'region': 'Wallonie'}, 4411: {'province': 'Liège', 'region': 'Wallonie'}, 4412: {'province': 'Liège', 'region': 'Wallonie'}, 4413: {'province': 'Liège', 'region': 'Wallonie'}, 4414: {'province': 'Liège', 'region': 'Wallonie'}, 4415: {'province': 'Liège', 'region': 'Wallonie'}, 4416: {'province': 'Liège', 'region': 'Wallonie'}, 4417: {'province': 'Liège', 'region': 'Wallonie'}, 4418: {'province': 'Liège', 'region': 'Wallonie'}, 4419: {'province': 'Liège', 'region': 'Wallonie'}, 4420: {'province': 'Liège', 'region': 'Wallonie'}, 4421: {'province': 'Liège', 'region': 'Wallonie'}, 4422: {'province': 'Liège', 'region': 'Wallonie'}, 4423: {'province': 'Liège', 'region': 'Wallonie'}, 4424: {'province': 'Liège', 'region': 'Wallonie'}, 4425: {'province': 'Liège', 'region': 'Wallonie'}, 4426: {'province': 'Liège', 'region': 'Wallonie'}, 4427: {'province': 'Liège', 'region': 'Wallonie'}, 4428: {'province': 'Liège', 'region': 'Wallonie'}, 4429: {'province': 'Liège', 'region': 'Wallonie'}, 4430: {'province': 'Liège', 'region': 'Wallonie'}, 4431: {'province': 'Liège', 'region': 'Wallonie'}, 4432: {'province': 'Liège', 'region': 'Wallonie'}, 4433: {'province': 'Liège', 'region': 'Wallonie'}, 4434: {'province': 'Liège', 'region': 'Wallonie'}, 4435: {'province': 'Liège', 'region': 'Wallonie'}, 4436: {'province': 'Liège', 'region': 'Wallonie'}, 4437: {'province': 'Liège', 'region': 'Wallonie'}, 4438: {'province': 'Liège', 'region': 'Wallonie'}, 4439: {'province': 'Liège', 'region': 'Wallonie'}, 4440: {'province': 'Liège', 'region': 'Wallonie'}, 4441: {'province': 'Liège', 'region': 'Wallonie'}, 4442: {'province': 'Liège', 'region': 'Wallonie'}, 4443: {'province': 'Liège', 'region': 'Wallonie'}, 4444: {'province': 'Liège', 'region': 'Wallonie'}, 4445: {'province': 'Liège', 'region': 'Wallonie'}, 4446: {'province': 'Liège', 'region': 'Wallonie'}, 4447: {'province': 'Liège', 'region': 'Wallonie'}, 4448: {'province': 'Liège', 'region': 'Wallonie'}, 4449: {'province': 'Liège', 'region': 'Wallonie'}, 4450: {'province': 'Liège', 'region': 'Wallonie'}, 4451: {'province': 'Liège', 'region': 'Wallonie'}, 4452: {'province': 'Liège', 'region': 'Wallonie'}, 4453: {'province': 'Liège', 'region': 'Wallonie'}, 4454: {'province': 'Liège', 'region': 'Wallonie'}, 4455: {'province': 'Liège', 'region': 'Wallonie'}, 4456: {'province': 'Liège', 'region': 'Wallonie'}, 4457: {'province': 'Liège', 'region': 'Wallonie'}, 4458: {'province': 'Liège', 'region': 'Wallonie'}, 4459: {'province': 'Liège', 'region': 'Wallonie'}, 4460: {'province': 'Liège', 'region': 'Wallonie'}, 4461: {'province': 'Liège', 'region': 'Wallonie'}, 4462: {'province': 'Liège', 'region': 'Wallonie'}, 4463: {'province': 'Liège', 'region': 'Wallonie'}, 4464: {'province': 'Liège', 'region': 'Wallonie'}, 4465: {'province': 'Liège', 'region': 'Wallonie'}, 4466: {'province': 'Liège', 'region': 'Wallonie'}, 4467: {'province': 'Liège', 'region': 'Wallonie'}, 4468: {'province': 'Liège', 'region': 'Wallonie'}, 4469: {'province': 'Liège', 'region': 'Wallonie'}, 4470: {'province': 'Liège', 'region': 'Wallonie'}, 4471: {'province': 'Liège', 'region': 'Wallonie'}, 4472: {'province': 'Liège', 'region': 'Wallonie'}, 4473: {'province': 'Liège', 'region': 'Wallonie'}, 4474: {'province': 'Liège', 'region': 'Wallonie'}, 4475: {'province': 'Liège', 'region': 'Wallonie'}, 4476: {'province': 'Liège', 'region': 'Wallonie'}, 4477: {'province': 'Liège', 'region': 'Wallonie'}, 4478: {'province': 'Liège', 'region': 'Wallonie'}, 4479: {'province': 'Liège', 'region': 'Wallonie'}, 4480: {'province': 'Liège', 'region': 'Wallonie'}, 4481: {'province': 'Liège', 'region': 'Wallonie'}, 4482: {'province': 'Liège', 'region': 'Wallonie'}, 4483: {'province': 'Liège', 'region': 'Wallonie'}, 4484: {'province': 'Liège', 'region': 'Wallonie'}, 4485: {'province': 'Liège', 'region': 'Wallonie'}, 4486: {'province': 'Liège', 'region': 'Wallonie'}, 4487: {'province': 'Liège', 'region': 'Wallonie'}, 4488: {'province': 'Liège', 'region': 'Wallonie'}, 4489: {'province': 'Liège', 'region': 'Wallonie'}, 4490: {'province': 'Liège', 'region': 'Wallonie'}, 4491: {'province': 'Liège', 'region': 'Wallonie'}, 4492: {'province': 'Liège', 'region': 'Wallonie'}, 4493: {'province': 'Liège', 'region': 'Wallonie'}, 4494: {'province': 'Liège', 'region': 'Wallonie'}, 4495: {'province': 'Liège', 'region': 'Wallonie'}, 4496: {'province': 'Liège', 'region': 'Wallonie'}, 4497: {'province': 'Liège', 'region': 'Wallonie'}, 4498: {'province': 'Liège', 'region': 'Wallonie'}, 4499: {'province': 'Liège', 'region': 'Wallonie'}, 4500: {'province': 'Liège', 'region': 'Wallonie'}, 4501: {'province': 'Liège', 'region': 'Wallonie'}, 4502: {'province': 'Liège', 'region': 'Wallonie'}, 4503: {'province': 'Liège', 'region': 'Wallonie'}, 4504: {'province': 'Liège', 'region': 'Wallonie'}, 4505: {'province': 'Liège', 'region': 'Wallonie'}, 4506: {'province': 'Liège', 'region': 'Wallonie'}, 4507: {'province': 'Liège', 'region': 'Wallonie'}, 4508: {'province': 'Liège', 'region': 'Wallonie'}, 4509: {'province': 'Liège', 'region': 'Wallonie'}, 4510: {'province': 'Liège', 'region': 'Wallonie'}, 4511: {'province': 'Liège', 'region': 'Wallonie'}, 4512: {'province': 'Liège', 'region': 'Wallonie'}, 4513: {'province': 'Liège', 'region': 'Wallonie'}, 4514: {'province': 'Liège', 'region': 'Wallonie'}, 4515: {'province': 'Liège', 'region': 'Wallonie'}, 4516: {'province': 'Liège', 'region': 'Wallonie'}, 4517: {'province': 'Liège', 'region': 'Wallonie'}, 4518: {'province': 'Liège', 'region': 'Wallonie'}, 4519: {'province': 'Liège', 'region': 'Wallonie'}, 4520: {'province': 'Liège', 'region': 'Wallonie'}, 4521: {'province': 'Liège', 'region': 'Wallonie'}, 4522: {'province': 'Liège', 'region': 'Wallonie'}, 4523: {'province': 'Liège', 'region': 'Wallonie'}, 4524: {'province': 'Liège', 'region': 'Wallonie'}, 4525: {'province': 'Liège', 'region': 'Wallonie'}, 4526: {'province': 'Liège', 'region': 'Wallonie'}, 4527: {'province': 'Liège', 'region': 'Wallonie'}, 4528: {'province': 'Liège', 'region': 'Wallonie'}, 4529: {'province': 'Liège', 'region': 'Wallonie'}, 4530: {'province': 'Liège', 'region': 'Wallonie'}, 4531: {'province': 'Liège', 'region': 'Wallonie'}, 4532: {'province': 'Liège', 'region': 'Wallonie'}, 4533: {'province': 'Liège', 'region': 'Wallonie'}, 4534: {'province': 'Liège', 'region': 'Wallonie'}, 4535: {'province': 'Liège', 'region': 'Wallonie'}, 4536: {'province': 'Liège', 'region': 'Wallonie'}, 4537: {'province': 'Liège', 'region': 'Wallonie'}, 4538: {'province': 'Liège', 'region': 'Wallonie'}, 4539: {'province': 'Liège', 'region': 'Wallonie'}, 4540: {'province': 'Liège', 'region': 'Wallonie'}, 4541: {'province': 'Liège', 'region': 'Wallonie'}, 4542: {'province': 'Liège', 'region': 'Wallonie'}, 4543: {'province': 'Liège', 'region': 'Wallonie'}, 4544: {'province': 'Liège', 'region': 'Wallonie'}, 4545: {'province': 'Liège', 'region': 'Wallonie'}, 4546: {'province': 'Liège', 'region': 'Wallonie'}, 4547: {'province': 'Liège', 'region': 'Wallonie'}, 4548: {'province': 'Liège', 'region': 'Wallonie'}, 4549: {'province': 'Liège', 'region': 'Wallonie'}, 4550: {'province': 'Liège', 'region': 'Wallonie'}, 4551: {'province': 'Liège', 'region': 'Wallonie'}, 4552: {'province': 'Liège', 'region': 'Wallonie'}, 4553: {'province': 'Liège', 'region': 'Wallonie'}, 4554: {'province': 'Liège', 'region': 'Wallonie'}, 4555: {'province': 'Liège', 'region': 'Wallonie'}, 4556: {'province': 'Liège', 'region': 'Wallonie'}, 4557: {'province': 'Liège', 'region': 'Wallonie'}, 4558: {'province': 'Liège', 'region': 'Wallonie'}, 4559: {'province': 'Liège', 'region': 'Wallonie'}, 4560: {'province': 'Liège', 'region': 'Wallonie'}, 4561: {'province': 'Liège', 'region': 'Wallonie'}, 4562: {'province': 'Liège', 'region': 'Wallonie'}, 4563: {'province': 'Liège', 'region': 'Wallonie'}, 4564: {'province': 'Liège', 'region': 'Wallonie'}, 4565: {'province': 'Liège', 'region': 'Wallonie'}, 4566: {'province': 'Liège', 'region': 'Wallonie'}, 4567: {'province': 'Liège', 'region': 'Wallonie'}, 4568: {'province': 'Liège', 'region': 'Wallonie'}, 4569: {'province': 'Liège', 'region': 'Wallonie'}, 4570: {'province': 'Liège', 'region': 'Wallonie'}, 4571: {'province': 'Liège', 'region': 'Wallonie'}, 4572: {'province': 'Liège', 'region': 'Wallonie'}, 4573: {'province': 'Liège', 'region': 'Wallonie'}, 4574: {'province': 'Liège', 'region': 'Wallonie'}, 4575: {'province': 'Liège', 'region': 'Wallonie'}, 4576: {'province': 'Liège', 'region': 'Wallonie'}, 4577: {'province': 'Liège', 'region': 'Wallonie'}, 4578: {'province': 'Liège', 'region': 'Wallonie'}, 4579: {'province': 'Liège', 'region': 'Wallonie'}, 4580: {'province': 'Liège', 'region': 'Wallonie'}, 4581: {'province': 'Liège', 'region': 'Wallonie'}, 4582: {'province': 'Liège', 'region': 'Wallonie'}, 4583: {'province': 'Liège', 'region': 'Wallonie'}, 4584: {'province': 'Liège', 'region': 'Wallonie'}, 4585: {'province': 'Liège', 'region': 'Wallonie'}, 4586: {'province': 'Liège', 'region': 'Wallonie'}, 4587: {'province': 'Liège', 'region': 'Wallonie'}, 4588: {'province': 'Liège', 'region': 'Wallonie'}, 4589: {'province': 'Liège', 'region': 'Wallonie'}, 4590: {'province': 'Liège', 'region': 'Wallonie'}, 4591: {'province': 'Liège', 'region': 'Wallonie'}, 4592: {'province': 'Liège', 'region': 'Wallonie'}, 4593: {'province': 'Liège', 'region': 'Wallonie'}, 4594: {'province': 'Liège', 'region': 'Wallonie'}, 4595: {'province': 'Liège', 'region': 'Wallonie'}, 4596: {'province': 'Liège', 'region': 'Wallonie'}, 4597: {'province': 'Liège', 'region': 'Wallonie'}, 4598: {'province': 'Liège', 'region': 'Wallonie'}, 4599: {'province': 'Liège', 'region': 'Wallonie'}, 4600: {'province': 'Liège', 'region': 'Wallonie'}, 4601: {'province': 'Liège', 'region': 'Wallonie'}, 4602: {'province': 'Liège', 'region': 'Wallonie'}, 4603: {'province': 'Liège', 'region': 'Wallonie'}, 4604: {'province': 'Liège', 'region': 'Wallonie'}, 4605: {'province': 'Liège', 'region': 'Wallonie'}, 4606: {'province': 'Liège', 'region': 'Wallonie'}, 4607: {'province': 'Liège', 'region': 'Wallonie'}, 4608: {'province': 'Liège', 'region': 'Wallonie'}, 4609: {'province': 'Liège', 'region': 'Wallonie'}, 4610: {'province': 'Liège', 'region': 'Wallonie'}, 4611: {'province': 'Liège', 'region': 'Wallonie'}, 4612: {'province': 'Liège', 'region': 'Wallonie'}, 4613: {'province': 'Liège', 'region': 'Wallonie'}, 4614: {'province': 'Liège', 'region': 'Wallonie'}, 4615: {'province': 'Liège', 'region': 'Wallonie'}, 4616: {'province': 'Liège', 'region': 'Wallonie'}, 4617: {'province': 'Liège', 'region': 'Wallonie'}, 4618: {'province': 'Liège', 'region': 'Wallonie'}, 4619: {'province': 'Liège', 'region': 'Wallonie'}, 4620: {'province': 'Liège', 'region': 'Wallonie'}, 4621: {'province': 'Liège', 'region': 'Wallonie'}, 4622: {'province': 'Liège', 'region': 'Wallonie'}, 4623: {'province': 'Liège', 'region': 'Wallonie'}, 4624: {'province': 'Liège', 'region': 'Wallonie'}, 4625: {'province': 'Liège', 'region': 'Wallonie'}, 4626: {'province': 'Liège', 'region': 'Wallonie'}, 4627: {'province': 'Liège', 'region': 'Wallonie'}, 4628: {'province': 'Liège', 'region': 'Wallonie'}, 4629: {'province': 'Liège', 'region': 'Wallonie'}, 4630: {'province': 'Liège', 'region': 'Wallonie'}, 4631: {'province': 'Liège', 'region': 'Wallonie'}, 4632: {'province': 'Liège', 'region': 'Wallonie'}, 4633: {'province': 'Liège', 'region': 'Wallonie'}, 4634: {'province': 'Liège', 'region': 'Wallonie'}, 4635: {'province': 'Liège', 'region': 'Wallonie'}, 4636: {'province': 'Liège', 'region': 'Wallonie'}, 4637: {'province': 'Liège', 'region': 'Wallonie'}, 4638: {'province': 'Liège', 'region': 'Wallonie'}, 4639: {'province': 'Liège', 'region': 'Wallonie'}, 4640: {'province': 'Liège', 'region': 'Wallonie'}, 4641: {'province': 'Liège', 'region': 'Wallonie'}, 4642: {'province': 'Liège', 'region': 'Wallonie'}, 4643: {'province': 'Liège', 'region': 'Wallonie'}, 4644: {'province': 'Liège', 'region': 'Wallonie'}, 4645: {'province': 'Liège', 'region': 'Wallonie'}, 4646: {'province': 'Liège', 'region': 'Wallonie'}, 4647: {'province': 'Liège', 'region': 'Wallonie'}, 4648: {'province': 'Liège', 'region': 'Wallonie'}, 4649: {'province': 'Liège', 'region': 'Wallonie'}, 4650: {'province': 'Liège', 'region': 'Wallonie'}, 4651: {'province': 'Liège', 'region': 'Wallonie'}, 4652: {'province': 'Liège', 'region': 'Wallonie'}, 4653: {'province': 'Liège', 'region': 'Wallonie'}, 4654: {'province': 'Liège', 'region': 'Wallonie'}, 4655: {'province': 'Liège', 'region': 'Wallonie'}, 4656: {'province': 'Liège', 'region': 'Wallonie'}, 4657: {'province': 'Liège', 'region': 'Wallonie'}, 4658: {'province': 'Liège', 'region': 'Wallonie'}, 4659: {'province': 'Liège', 'region': 'Wallonie'}, 4660: {'province': 'Liège', 'region': 'Wallonie'}, 4661: {'province': 'Liège', 'region': 'Wallonie'}, 4662: {'province': 'Liège', 'region': 'Wallonie'}, 4663: {'province': 'Liège', 'region': 'Wallonie'}, 4664: {'province': 'Liège', 'region': 'Wallonie'}, 4665: {'province': 'Liège', 'region': 'Wallonie'}, 4666: {'province': 'Liège', 'region': 'Wallonie'}, 4667: {'province': 'Liège', 'region': 'Wallonie'}, 4668: {'province': 'Liège', 'region': 'Wallonie'}, 4669: {'province': 'Liège', 'region': 'Wallonie'}, 4670: {'province': 'Liège', 'region': 'Wallonie'}, 4671: {'province': 'Liège', 'region': 'Wallonie'}, 4672: {'province': 'Liège', 'region': 'Wallonie'}, 4673: {'province': 'Liège', 'region': 'Wallonie'}, 4674: {'province': 'Liège', 'region': 'Wallonie'}, 4675: {'province': 'Liège', 'region': 'Wallonie'}, 4676: {'province': 'Liège', 'region': 'Wallonie'}, 4677: {'province': 'Liège', 'region': 'Wallonie'}, 4678: {'province': 'Liège', 'region': 'Wallonie'}, 4679: {'province': 'Liège', 'region': 'Wallonie'}, 4680: {'province': 'Liège', 'region': 'Wallonie'}, 4681: {'province': 'Liège', 'region': 'Wallonie'}, 4682: {'province': 'Liège', 'region': 'Wallonie'}, 4683: {'province': 'Liège', 'region': 'Wallonie'}, 4684: {'province': 'Liège', 'region': 'Wallonie'}, 4685: {'province': 'Liège', 'region': 'Wallonie'}, 4686: {'province': 'Liège', 'region': 'Wallonie'}, 4687: {'province': 'Liège', 'region': 'Wallonie'}, 4688: {'province': 'Liège', 'region': 'Wallonie'}, 4689: {'province': 'Liège', 'region': 'Wallonie'}, 4690: {'province': 'Liège', 'region': 'Wallonie'}, 4691: {'province': 'Liège', 'region': 'Wallonie'}, 4692: {'province': 'Liège', 'region': 'Wallonie'}, 4693: {'province': 'Liège', 'region': 'Wallonie'}, 4694: {'province': 'Liège', 'region': 'Wallonie'}, 4695: {'province': 'Liège', 'region': 'Wallonie'}, 4696: {'province': 'Liège', 'region': 'Wallonie'}, 4697: {'province': 'Liège', 'region': 'Wallonie'}, 4698: {'province': 'Liège', 'region': 'Wallonie'}, 4699: {'province': 'Liège', 'region': 'Wallonie'}, 4700: {'province': 'Liège', 'region': 'Wallonie'}, 4701: {'province': 'Liège', 'region': 'Wallonie'}, 4702: {'province': 'Liège', 'region': 'Wallonie'}, 4703: {'province': 'Liège', 'region': 'Wallonie'}, 4704: {'province': 'Liège', 'region': 'Wallonie'}, 4705: {'province': 'Liège', 'region': 'Wallonie'}, 4706: {'province': 'Liège', 'region': 'Wallonie'}, 4707: {'province': 'Liège', 'region': 'Wallonie'}, 4708: {'province': 'Liège', 'region': 'Wallonie'}, 4709: {'province': 'Liège', 'region': 'Wallonie'}, 4710: {'province': 'Liège', 'region': 'Wallonie'}, 4711: {'province': 'Liège', 'region': 'Wallonie'}, 4712: {'province': 'Liège', 'region': 'Wallonie'}, 4713: {'province': 'Liège', 'region': 'Wallonie'}, 4714: {'province': 'Liège', 'region': 'Wallonie'}, 4715: {'province': 'Liège', 'region': 'Wallonie'}, 4716: {'province': 'Liège', 'region': 'Wallonie'}, 4717: {'province': 'Liège', 'region': 'Wallonie'}, 4718: {'province': 'Liège', 'region': 'Wallonie'}, 4719: {'province': 'Liège', 'region': 'Wallonie'}, 4720: {'province': 'Liège', 'region': 'Wallonie'}, 4721: {'province': 'Liège', 'region': 'Wallonie'}, 4722: {'province': 'Liège', 'region': 'Wallonie'}, 4723: {'province': 'Liège', 'region': 'Wallonie'}, 4724: {'province': 'Liège', 'region': 'Wallonie'}, 4725: {'province': 'Liège', 'region': 'Wallonie'}, 4726: {'province': 'Liège', 'region': 'Wallonie'}, 4727: {'province': 'Liège', 'region': 'Wallonie'}, 4728: {'province': 'Liège', 'region': 'Wallonie'}, 4729: {'province': 'Liège', 'region': 'Wallonie'}, 4730: {'province': 'Liège', 'region': 'Wallonie'}, 4731: {'province': 'Liège', 'region': 'Wallonie'}, 4732: {'province': 'Liège', 'region': 'Wallonie'}, 4733: {'province': 'Liège', 'region': 'Wallonie'}, 4734: {'province': 'Liège', 'region': 'Wallonie'}, 4735: {'province': 'Liège', 'region': 'Wallonie'}, 4736: {'province': 'Liège', 'region': 'Wallonie'}, 4737: {'province': 'Liège', 'region': 'Wallonie'}, 4738: {'province': 'Liège', 'region': 'Wallonie'}, 4739: {'province': 'Liège', 'region': 'Wallonie'}, 4740: {'province': 'Liège', 'region': 'Wallonie'}, 4741: {'province': 'Liège', 'region': 'Wallonie'}, 4742: {'province': 'Liège', 'region': 'Wallonie'}, 4743: {'province': 'Liège', 'region': 'Wallonie'}, 4744: {'province': 'Liège', 'region': 'Wallonie'}, 4745: {'province': 'Liège', 'region': 'Wallonie'}, 4746: {'province': 'Liège', 'region': 'Wallonie'}, 4747: {'province': 'Liège', 'region': 'Wallonie'}, 4748: {'province': 'Liège', 'region': 'Wallonie'}, 4749: {'province': 'Liège', 'region': 'Wallonie'}, 4750: {'province': 'Liège', 'region': 'Wallonie'}, 4751: {'province': 'Liège', 'region': 'Wallonie'}, 4752: {'province': 'Liège', 'region': 'Wallonie'}, 4753: {'province': 'Liège', 'region': 'Wallonie'}, 4754: {'province': 'Liège', 'region': 'Wallonie'}, 4755: {'province': 'Liège', 'region': 'Wallonie'}, 4756: {'province': 'Liège', 'region': 'Wallonie'}, 4757: {'province': 'Liège', 'region': 'Wallonie'}, 4758: {'province': 'Liège', 'region': 'Wallonie'}, 4759: {'province': 'Liège', 'region': 'Wallonie'}, 4760: {'province': 'Liège', 'region': 'Wallonie'}, 4761: {'province': 'Liège', 'region': 'Wallonie'}, 4762: {'province': 'Liège', 'region': 'Wallonie'}, 4763: {'province': 'Liège', 'region': 'Wallonie'}, 4764: {'province': 'Liège', 'region': 'Wallonie'}, 4765: {'province': 'Liège', 'region': 'Wallonie'}, 4766: {'province': 'Liège', 'region': 'Wallonie'}, 4767: {'province': 'Liège', 'region': 'Wallonie'}, 4768: {'province': 'Liège', 'region': 'Wallonie'}, 4769: {'province': 'Liège', 'region': 'Wallonie'}, 4770: {'province': 'Liège', 'region': 'Wallonie'}, 4771: {'province': 'Liège', 'region': 'Wallonie'}, 4772: {'province': 'Liège', 'region': 'Wallonie'}, 4773: {'province': 'Liège', 'region': 'Wallonie'}, 4774: {'province': 'Liège', 'region': 'Wallonie'}, 4775: {'province': 'Liège', 'region': 'Wallonie'}, 4776: {'province': 'Liège', 'region': 'Wallonie'}, 4777: {'province': 'Liège', 'region': 'Wallonie'}, 4778: {'province': 'Liège', 'region': 'Wallonie'}, 4779: {'province': 'Liège', 'region': 'Wallonie'}, 4780: {'province': 'Liège', 'region': 'Wallonie'}, 4781: {'province': 'Liège', 'region': 'Wallonie'}, 4782: {'province': 'Liège', 'region': 'Wallonie'}, 4783: {'province': 'Liège', 'region': 'Wallonie'}, 4784: {'province': 'Liège', 'region': 'Wallonie'}, 4785: {'province': 'Liège', 'region': 'Wallonie'}, 4786: {'province': 'Liège', 'region': 'Wallonie'}, 4787: {'province': 'Liège', 'region': 'Wallonie'}, 4788: {'province': 'Liège', 'region': 'Wallonie'}, 4789: {'province': 'Liège', 'region': 'Wallonie'}, 4790: {'province': 'Liège', 'region': 'Wallonie'}, 4791: {'province': 'Liège', 'region': 'Wallonie'}, 4792: {'province': 'Liège', 'region': 'Wallonie'}, 4793: {'province': 'Liège', 'region': 'Wallonie'}, 4794: {'province': 'Liège', 'region': 'Wallonie'}, 4795: {'province': 'Liège', 'region': 'Wallonie'}, 4796: {'province': 'Liège', 'region': 'Wallonie'}, 4797: {'province': 'Liège', 'region': 'Wallonie'}, 4798: {'province': 'Liège', 'region': 'Wallonie'}, 4799: {'province': 'Liège', 'region': 'Wallonie'}, 4800: {'province': 'Liège', 'region': 'Wallonie'}, 4801: {'province': 'Liège', 'region': 'Wallonie'}, 4802: {'province': 'Liège', 'region': 'Wallonie'}, 4803: {'province': 'Liège', 'region': 'Wallonie'}, 4804: {'province': 'Liège', 'region': 'Wallonie'}, 4805: {'province': 'Liège', 'region': 'Wallonie'}, 4806: {'province': 'Liège', 'region': 'Wallonie'}, 4807: {'province': 'Liège', 'region': 'Wallonie'}, 4808: {'province': 'Liège', 'region': 'Wallonie'}, 4809: {'province': 'Liège', 'region': 'Wallonie'}, 4810: {'province': 'Liège', 'region': 'Wallonie'}, 4811: {'province': 'Liège', 'region': 'Wallonie'}, 4812: {'province': 'Liège', 'region': 'Wallonie'}, 4813: {'province': 'Liège', 'region': 'Wallonie'}, 4814: {'province': 'Liège', 'region': 'Wallonie'}, 4815: {'province': 'Liège', 'region': 'Wallonie'}, 4816: {'province': 'Liège', 'region': 'Wallonie'}, 4817: {'province': 'Liège', 'region': 'Wallonie'}, 4818: {'province': 'Liège', 'region': 'Wallonie'}, 4819: {'province': 'Liège', 'region': 'Wallonie'}, 4820: {'province': 'Liège', 'region': 'Wallonie'}, 4821: {'province': 'Liège', 'region': 'Wallonie'}, 4822: {'province': 'Liège', 'region': 'Wallonie'}, 4823: {'province': 'Liège', 'region': 'Wallonie'}, 4824: {'province': 'Liège', 'region': 'Wallonie'}, 4825: {'province': 'Liège', 'region': 'Wallonie'}, 4826: {'province': 'Liège', 'region': 'Wallonie'}, 4827: {'province': 'Liège', 'region': 'Wallonie'}, 4828: {'province': 'Liège', 'region': 'Wallonie'}, 4829: {'province': 'Liège', 'region': 'Wallonie'}, 4830: {'province': 'Liège', 'region': 'Wallonie'}, 4831: {'province': 'Liège', 'region': 'Wallonie'}, 4832: {'province': 'Liège', 'region': 'Wallonie'}, 4833: {'province': 'Liège', 'region': 'Wallonie'}, 4834: {'province': 'Liège', 'region': 'Wallonie'}, 4835: {'province': 'Liège', 'region': 'Wallonie'}, 4836: {'province': 'Liège', 'region': 'Wallonie'}, 4837: {'province': 'Liège', 'region': 'Wallonie'}, 4838: {'province': 'Liège', 'region': 'Wallonie'}, 4839: {'province': 'Liège', 'region': 'Wallonie'}, 4840: {'province': 'Liège', 'region': 'Wallonie'}, 4841: {'province': 'Liège', 'region': 'Wallonie'}, 4842: {'province': 'Liège', 'region': 'Wallonie'}, 4843: {'province': 'Liège', 'region': 'Wallonie'}, 4844: {'province': 'Liège', 'region': 'Wallonie'}, 4845: {'province': 'Liège', 'region': 'Wallonie'}, 4846: {'province': 'Liège', 'region': 'Wallonie'}, 4847: {'province': 'Liège', 'region': 'Wallonie'}, 4848: {'province': 'Liège', 'region': 'Wallonie'}, 4849: {'province': 'Liège', 'region': 'Wallonie'}, 4850: {'province': 'Liège', 'region': 'Wallonie'}, 4851: {'province': 'Liège', 'region': 'Wallonie'}, 4852: {'province': 'Liège', 'region': 'Wallonie'}, 4853: {'province': 'Liège', 'region': 'Wallonie'}, 4854: {'province': 'Liège', 'region': 'Wallonie'}, 4855: {'province': 'Liège', 'region': 'Wallonie'}, 4856: {'province': 'Liège', 'region': 'Wallonie'}, 4857: {'province': 'Liège', 'region': 'Wallonie'}, 4858: {'province': 'Liège', 'region': 'Wallonie'}, 4859: {'province': 'Liège', 'region': 'Wallonie'}, 4860: {'province': 'Liège', 'region': 'Wallonie'}, 4861: {'province': 'Liège', 'region': 'Wallonie'}, 4862: {'province': 'Liège', 'region': 'Wallonie'}, 4863: {'province': 'Liège', 'region': 'Wallonie'}, 4864: {'province': 'Liège', 'region': 'Wallonie'}, 4865: {'province': 'Liège', 'region': 'Wallonie'}, 4866: {'province': 'Liège', 'region': 'Wallonie'}, 4867: {'province': 'Liège', 'region': 'Wallonie'}, 4868: {'province': 'Liège', 'region': 'Wallonie'}, 4869: {'province': 'Liège', 'region': 'Wallonie'}, 4870: {'province': 'Liège', 'region': 'Wallonie'}, 4871: {'province': 'Liège', 'region': 'Wallonie'}, 4872: {'province': 'Liège', 'region': 'Wallonie'}, 4873: {'province': 'Liège', 'region': 'Wallonie'}, 4874: {'province': 'Liège', 'region': 'Wallonie'}, 4875: {'province': 'Liège', 'region': 'Wallonie'}, 4876: {'province': 'Liège', 'region': 'Wallonie'}, 4877: {'province': 'Liège', 'region': 'Wallonie'}, 4878: {'province': 'Liège', 'region': 'Wallonie'}, 4879: {'province': 'Liège', 'region': 'Wallonie'}, 4880: {'province': 'Liège', 'region': 'Wallonie'}, 4881: {'province': 'Liège', 'region': 'Wallonie'}, 4882: {'province': 'Liège', 'region': 'Wallonie'}, 4883: {'province': 'Liège', 'region': 'Wallonie'}, 4884: {'province': 'Liège', 'region': 'Wallonie'}, 4885: {'province': 'Liège', 'region': 'Wallonie'}, 4886: {'province': 'Liège', 'region': 'Wallonie'}, 4887: {'province': 'Liège', 'region': 'Wallonie'}, 4888: {'province': 'Liège', 'region': 'Wallonie'}, 4889: {'province': 'Liège', 'region': 'Wallonie'}, 4890: {'province': 'Liège', 'region': 'Wallonie'}, 4891: {'province': 'Liège', 'region': 'Wallonie'}, 4892: {'province': 'Liège', 'region': 'Wallonie'}, 4893: {'province': 'Liège', 'region': 'Wallonie'}, 4894: {'province': 'Liège', 'region': 'Wallonie'}, 4895: {'province': 'Liège', 'region': 'Wallonie'}, 4896: {'province': 'Liège', 'region': 'Wallonie'}, 4897: {'province': 'Liège', 'region': 'Wallonie'}, 4898: {'province': 'Liège', 'region': 'Wallonie'}, 4899: {'province': 'Liège', 'region': 'Wallonie'}, 4900: {'province': 'Liège', 'region': 'Wallonie'}, 4901: {'province': 'Liège', 'region': 'Wallonie'}, 4902: {'province': 'Liège', 'region': 'Wallonie'}, 4903: {'province': 'Liège', 'region': 'Wallonie'}, 4904: {'province': 'Liège', 'region': 'Wallonie'}, 4905: {'province': 'Liège', 'region': 'Wallonie'}, 4906: {'province': 'Liège', 'region': 'Wallonie'}, 4907: {'province': 'Liège', 'region': 'Wallonie'}, 4908: {'province': 'Liège', 'region': 'Wallonie'}, 4909: {'province': 'Liège', 'region': 'Wallonie'}, 4910: {'province': 'Liège', 'region': 'Wallonie'}, 4911: {'province': 'Liège', 'region': 'Wallonie'}, 4912: {'province': 'Liège', 'region': 'Wallonie'}, 4913: {'province': 'Liège', 'region': 'Wallonie'}, 4914: {'province': 'Liège', 'region': 'Wallonie'}, 4915: {'province': 'Liège', 'region': 'Wallonie'}, 4916: {'province': 'Liège', 'region': 'Wallonie'}, 4917: {'province': 'Liège', 'region': 'Wallonie'}, 4918: {'province': 'Liège', 'region': 'Wallonie'}, 4919: {'province': 'Liège', 'region': 'Wallonie'}, 4920: {'province': 'Liège', 'region': 'Wallonie'}, 4921: {'province': 'Liège', 'region': 'Wallonie'}, 4922: {'province': 'Liège', 'region': 'Wallonie'}, 4923: {'province': 'Liège', 'region': 'Wallonie'}, 4924: {'province': 'Liège', 'region': 'Wallonie'}, 4925: {'province': 'Liège', 'region': 'Wallonie'}, 4926: {'province': 'Liège', 'region': 'Wallonie'}, 4927: {'province': 'Liège', 'region': 'Wallonie'}, 4928: {'province': 'Liège', 'region': 'Wallonie'}, 4929: {'province': 'Liège', 'region': 'Wallonie'}, 4930: {'province': 'Liège', 'region': 'Wallonie'}, 4931: {'province': 'Liège', 'region': 'Wallonie'}, 4932: {'province': 'Liège', 'region': 'Wallonie'}, 4933: {'province': 'Liège', 'region': 'Wallonie'}, 4934: {'province': 'Liège', 'region': 'Wallonie'}, 4935: {'province': 'Liège', 'region': 'Wallonie'}, 4936: {'province': 'Liège', 'region': 'Wallonie'}, 4937: {'province': 'Liège', 'region': 'Wallonie'}, 4938: {'province': 'Liège', 'region': 'Wallonie'}, 4939: {'province': 'Liège', 'region': 'Wallonie'}, 4940: {'province': 'Liège', 'region': 'Wallonie'}, 4941: {'province': 'Liège', 'region': 'Wallonie'}, 4942: {'province': 'Liège', 'region': 'Wallonie'}, 4943: {'province': 'Liège', 'region': 'Wallonie'}, 4944: {'province': 'Liège', 'region': 'Wallonie'}, 4945: {'province': 'Liège', 'region': 'Wallonie'}, 4946: {'province': 'Liège', 'region': 'Wallonie'}, 4947: {'province': 'Liège', 'region': 'Wallonie'}, 4948: {'province': 'Liège', 'region': 'Wallonie'}, 4949: {'province': 'Liège', 'region': 'Wallonie'}, 4950: {'province': 'Liège', 'region': 'Wallonie'}, 4951: {'province': 'Liège', 'region': 'Wallonie'}, 4952: {'province': 'Liège', 'region': 'Wallonie'}, 4953: {'province': 'Liège', 'region': 'Wallonie'}, 4954: {'province': 'Liège', 'region': 'Wallonie'}, 4955: {'province': 'Liège', 'region': 'Wallonie'}, 4956: {'province': 'Liège', 'region': 'Wallonie'}, 4957: {'province': 'Liège', 'region': 'Wallonie'}, 4958: {'province': 'Liège', 'region': 'Wallonie'}, 4959: {'province': 'Liège', 'region': 'Wallonie'}, 4960: {'province': 'Liège', 'region': 'Wallonie'}, 4961: {'province': 'Liège', 'region': 'Wallonie'}, 4962: {'province': 'Liège', 'region': 'Wallonie'}, 4963: {'province': 'Liège', 'region': 'Wallonie'}, 4964: {'province': 'Liège', 'region': 'Wallonie'}, 4965: {'province': 'Liège', 'region': 'Wallonie'}, 4966: {'province': 'Liège', 'region': 'Wallonie'}, 4967: {'province': 'Liège', 'region': 'Wallonie'}, 4968: {'province': 'Liège', 'region': 'Wallonie'}, 4969: {'province': 'Liège', 'region': 'Wallonie'}, 4970: {'province': 'Liège', 'region': 'Wallonie'}, 4971: {'province': 'Liège', 'region': 'Wallonie'}, 4972: {'province': 'Liège', 'region': 'Wallonie'}, 4973: {'province': 'Liège', 'region': 'Wallonie'}, 4974: {'province': 'Liège', 'region': 'Wallonie'}, 4975: {'province': 'Liège', 'region': 'Wallonie'}, 4976: {'province': 'Liège', 'region': 'Wallonie'}, 4977: {'province': 'Liège', 'region': 'Wallonie'}, 4978: {'province': 'Liège', 'region': 'Wallonie'}, 4979: {'province': 'Liège', 'region': 'Wallonie'}, 4980: {'province': 'Liège', 'region': 'Wallonie'}, 4981: {'province': 'Liège', 'region': 'Wallonie'}, 4982: {'province': 'Liège', 'region': 'Wallonie'}, 4983: {'province': 'Liège', 'region': 'Wallonie'}, 4984: {'province': 'Liège', 'region': 'Wallonie'}, 4985: {'province': 'Liège', 'region': 'Wallonie'}, 4986: {'province': 'Liège', 'region': 'Wallonie'}, 4987: {'province': 'Liège', 'region': 'Wallonie'}, 4988: {'province': 'Liège', 'region': 'Wallonie'}, 4989: {'province': 'Liège', 'region': 'Wallonie'}, 4990: {'province': 'Liège', 'region': 'Wallonie'}, 4991: {'province': 'Liège', 'region': 'Wallonie'}, 4992: {'province': 'Liège', 'region': 'Wallonie'}, 4993: {'province': 'Liège', 'region': 'Wallonie'}, 4994: {'province': 'Liège', 'region': 'Wallonie'}, 4995: {'province': 'Liège', 'region': 'Wallonie'}, 4996: {'province': 'Liège', 'region': 'Wallonie'}, 4997: {'province': 'Liège', 'region': 'Wallonie'}, 4998: {'province': 'Liège', 'region': 'Wallonie'}, 4999: {'province': 'Liège', 'region': 'Wallonie'}, 5000: {'province': 'Namur', 'region': 'Wallonie'}, 5001: {'province': 'Namur', 'region': 'Wallonie'}, 5002: {'province': 'Namur', 'region': 'Wallonie'}, 5003: {'province': 'Namur', 'region': 'Wallonie'}, 5004: {'province': 'Namur', 'region': 'Wallonie'}, 5005: {'province': 'Namur', 'region': 'Wallonie'}, 5006: {'province': 'Namur', 'region': 'Wallonie'}, 5007: {'province': 'Namur', 'region': 'Wallonie'}, 5008: {'province': 'Namur', 'region': 'Wallonie'}, 5009: {'province': 'Namur', 'region': 'Wallonie'}, 5010: {'province': 'Namur', 'region': 'Wallonie'}, 5011: {'province': 'Namur', 'region': 'Wallonie'}, 5012: {'province': 'Namur', 'region': 'Wallonie'}, 5013: {'province': 'Namur', 'region': 'Wallonie'}, 5014: {'province': 'Namur', 'region': 'Wallonie'}, 5015: {'province': 'Namur', 'region': 'Wallonie'}, 5016: {'province': 'Namur', 'region': 'Wallonie'}, 5017: {'province': 'Namur', 'region': 'Wallonie'}, 5018: {'province': 'Namur', 'region': 'Wallonie'}, 5019: {'province': 'Namur', 'region': 'Wallonie'}, 5020: {'province': 'Namur', 'region': 'Wallonie'}, 5021: {'province': 'Namur', 'region': 'Wallonie'}, 5022: {'province': 'Namur', 'region': 'Wallonie'}, 5023: {'province': 'Namur', 'region': 'Wallonie'}, 5024: {'province': 'Namur', 'region': 'Wallonie'}, 5025: {'province': 'Namur', 'region': 'Wallonie'}, 5026: {'province': 'Namur', 'region': 'Wallonie'}, 5027: {'province': 'Namur', 'region': 'Wallonie'}, 5028: {'province': 'Namur', 'region': 'Wallonie'}, 5029: {'province': 'Namur', 'region': 'Wallonie'}, 5030: {'province': 'Namur', 'region': 'Wallonie'}, 5031: {'province': 'Namur', 'region': 'Wallonie'}, 5032: {'province': 'Namur', 'region': 'Wallonie'}, 5033: {'province': 'Namur', 'region': 'Wallonie'}, 5034: {'province': 'Namur', 'region': 'Wallonie'}, 5035: {'province': 'Namur', 'region': 'Wallonie'}, 5036: {'province': 'Namur', 'region': 'Wallonie'}, 5037: {'province': 'Namur', 'region': 'Wallonie'}, 5038: {'province': 'Namur', 'region': 'Wallonie'}, 5039: {'province': 'Namur', 'region': 'Wallonie'}, 5040: {'province': 'Namur', 'region': 'Wallonie'}, 5041: {'province': 'Namur', 'region': 'Wallonie'}, 5042: {'province': 'Namur', 'region': 'Wallonie'}, 5043: {'province': 'Namur', 'region': 'Wallonie'}, 5044: {'province': 'Namur', 'region': 'Wallonie'}, 5045: {'province': 'Namur', 'region': 'Wallonie'}, 5046: {'province': 'Namur', 'region': 'Wallonie'}, 5047: {'province': 'Namur', 'region': 'Wallonie'}, 5048: {'province': 'Namur', 'region': 'Wallonie'}, 5049: {'province': 'Namur', 'region': 'Wallonie'}, 5050: {'province': 'Namur', 'region': 'Wallonie'}, 5051: {'province': 'Namur', 'region': 'Wallonie'}, 5052: {'province': 'Namur', 'region': 'Wallonie'}, 5053: {'province': 'Namur', 'region': 'Wallonie'}, 5054: {'province': 'Namur', 'region': 'Wallonie'}, 5055: {'province': 'Namur', 'region': 'Wallonie'}, 5056: {'province': 'Namur', 'region': 'Wallonie'}, 5057: {'province': 'Namur', 'region': 'Wallonie'}, 5058: {'province': 'Namur', 'region': 'Wallonie'}, 5059: {'province': 'Namur', 'region': 'Wallonie'}, 5060: {'province': 'Namur', 'region': 'Wallonie'}, 5061: {'province': 'Namur', 'region': 'Wallonie'}, 5062: {'province': 'Namur', 'region': 'Wallonie'}, 5063: {'province': 'Namur', 'region': 'Wallonie'}, 5064: {'province': 'Namur', 'region': 'Wallonie'}, 5065: {'province': 'Namur', 'region': 'Wallonie'}, 5066: {'province': 'Namur', 'region': 'Wallonie'}, 5067: {'province': 'Namur', 'region': 'Wallonie'}, 5068: {'province': 'Namur', 'region': 'Wallonie'}, 5069: {'province': 'Namur', 'region': 'Wallonie'}, 5070: {'province': 'Namur', 'region': 'Wallonie'}, 5071: {'province': 'Namur', 'region': 'Wallonie'}, 5072: {'province': 'Namur', 'region': 'Wallonie'}, 5073: {'province': 'Namur', 'region': 'Wallonie'}, 5074: {'province': 'Namur', 'region': 'Wallonie'}, 5075: {'province': 'Namur', 'region': 'Wallonie'}, 5076: {'province': 'Namur', 'region': 'Wallonie'}, 5077: {'province': 'Namur', 'region': 'Wallonie'}, 5078: {'province': 'Namur', 'region': 'Wallonie'}, 5079: {'province': 'Namur', 'region': 'Wallonie'}, 5080: {'province': 'Namur', 'region': 'Wallonie'}, 5081: {'province': 'Namur', 'region': 'Wallonie'}, 5082: {'province': 'Namur', 'region': 'Wallonie'}, 5083: {'province': 'Namur', 'region': 'Wallonie'}, 5084: {'province': 'Namur', 'region': 'Wallonie'}, 5085: {'province': 'Namur', 'region': 'Wallonie'}, 5086: {'province': 'Namur', 'region': 'Wallonie'}, 5087: {'province': 'Namur', 'region': 'Wallonie'}, 5088: {'province': 'Namur', 'region': 'Wallonie'}, 5089: {'province': 'Namur', 'region': 'Wallonie'}, 5090: {'province': 'Namur', 'region': 'Wallonie'}, 5091: {'province': 'Namur', 'region': 'Wallonie'}, 5092: {'province': 'Namur', 'region': 'Wallonie'}, 5093: {'province': 'Namur', 'region': 'Wallonie'}, 5094: {'province': 'Namur', 'region': 'Wallonie'}, 5095: {'province': 'Namur', 'region': 'Wallonie'}, 5096: {'province': 'Namur', 'region': 'Wallonie'}, 5097: {'province': 'Namur', 'region': 'Wallonie'}, 5098: {'province': 'Namur', 'region': 'Wallonie'}, 5099: {'province': 'Namur', 'region': 'Wallonie'}, 5100: {'province': 'Namur', 'region': 'Wallonie'}, 5101: {'province': 'Namur', 'region': 'Wallonie'}, 5102: {'province': 'Namur', 'region': 'Wallonie'}, 5103: {'province': 'Namur', 'region': 'Wallonie'}, 5104: {'province': 'Namur', 'region': 'Wallonie'}, 5105: {'province': 'Namur', 'region': 'Wallonie'}, 5106: {'province': 'Namur', 'region': 'Wallonie'}, 5107: {'province': 'Namur', 'region': 'Wallonie'}, 5108: {'province': 'Namur', 'region': 'Wallonie'}, 5109: {'province': 'Namur', 'region': 'Wallonie'}, 5110: {'province': 'Namur', 'region': 'Wallonie'}, 5111: {'province': 'Namur', 'region': 'Wallonie'}, 5112: {'province': 'Namur', 'region': 'Wallonie'}, 5113: {'province': 'Namur', 'region': 'Wallonie'}, 5114: {'province': 'Namur', 'region': 'Wallonie'}, 5115: {'province': 'Namur', 'region': 'Wallonie'}, 5116: {'province': 'Namur', 'region': 'Wallonie'}, 5117: {'province': 'Namur', 'region': 'Wallonie'}, 5118: {'province': 'Namur', 'region': 'Wallonie'}, 5119: {'province': 'Namur', 'region': 'Wallonie'}, 5120: {'province': 'Namur', 'region': 'Wallonie'}, 5121: {'province': 'Namur', 'region': 'Wallonie'}, 5122: {'province': 'Namur', 'region': 'Wallonie'}, 5123: {'province': 'Namur', 'region': 'Wallonie'}, 5124: {'province': 'Namur', 'region': 'Wallonie'}, 5125: {'province': 'Namur', 'region': 'Wallonie'}, 5126: {'province': 'Namur', 'region': 'Wallonie'}, 5127: {'province': 'Namur', 'region': 'Wallonie'}, 5128: {'province': 'Namur', 'region': 'Wallonie'}, 5129: {'province': 'Namur', 'region': 'Wallonie'}, 5130: {'province': 'Namur', 'region': 'Wallonie'}, 5131: {'province': 'Namur', 'region': 'Wallonie'}, 5132: {'province': 'Namur', 'region': 'Wallonie'}, 5133: {'province': 'Namur', 'region': 'Wallonie'}, 5134: {'province': 'Namur', 'region': 'Wallonie'}, 5135: {'province': 'Namur', 'region': 'Wallonie'}, 5136: {'province': 'Namur', 'region': 'Wallonie'}, 5137: {'province': 'Namur', 'region': 'Wallonie'}, 5138: {'province': 'Namur', 'region': 'Wallonie'}, 5139: {'province': 'Namur', 'region': 'Wallonie'}, 5140: {'province': 'Namur', 'region': 'Wallonie'}, 5141: {'province': 'Namur', 'region': 'Wallonie'}, 5142: {'province': 'Namur', 'region': 'Wallonie'}, 5143: {'province': 'Namur', 'region': 'Wallonie'}, 5144: {'province': 'Namur', 'region': 'Wallonie'}, 5145: {'province': 'Namur', 'region': 'Wallonie'}, 5146: {'province': 'Namur', 'region': 'Wallonie'}, 5147: {'province': 'Namur', 'region': 'Wallonie'}, 5148: {'province': 'Namur', 'region': 'Wallonie'}, 5149: {'province': 'Namur', 'region': 'Wallonie'}, 5150: {'province': 'Namur', 'region': 'Wallonie'}, 5151: {'province': 'Namur', 'region': 'Wallonie'}, 5152: {'province': 'Namur', 'region': 'Wallonie'}, 5153: {'province': 'Namur', 'region': 'Wallonie'}, 5154: {'province': 'Namur', 'region': 'Wallonie'}, 5155: {'province': 'Namur', 'region': 'Wallonie'}, 5156: {'province': 'Namur', 'region': 'Wallonie'}, 5157: {'province': 'Namur', 'region': 'Wallonie'}, 5158: {'province': 'Namur', 'region': 'Wallonie'}, 5159: {'province': 'Namur', 'region': 'Wallonie'}, 5160: {'province': 'Namur', 'region': 'Wallonie'}, 5161: {'province': 'Namur', 'region': 'Wallonie'}, 5162: {'province': 'Namur', 'region': 'Wallonie'}, 5163: {'province': 'Namur', 'region': 'Wallonie'}, 5164: {'province': 'Namur', 'region': 'Wallonie'}, 5165: {'province': 'Namur', 'region': 'Wallonie'}, 5166: {'province': 'Namur', 'region': 'Wallonie'}, 5167: {'province': 'Namur', 'region': 'Wallonie'}, 5168: {'province': 'Namur', 'region': 'Wallonie'}, 5169: {'province': 'Namur', 'region': 'Wallonie'}, 5170: {'province': 'Namur', 'region': 'Wallonie'}, 5171: {'province': 'Namur', 'region': 'Wallonie'}, 5172: {'province': 'Namur', 'region': 'Wallonie'}, 5173: {'province': 'Namur', 'region': 'Wallonie'}, 5174: {'province': 'Namur', 'region': 'Wallonie'}, 5175: {'province': 'Namur', 'region': 'Wallonie'}, 5176: {'province': 'Namur', 'region': 'Wallonie'}, 5177: {'province': 'Namur', 'region': 'Wallonie'}, 5178: {'province': 'Namur', 'region': 'Wallonie'}, 5179: {'province': 'Namur', 'region': 'Wallonie'}, 5180: {'province': 'Namur', 'region': 'Wallonie'}, 5181: {'province': 'Namur', 'region': 'Wallonie'}, 5182: {'province': 'Namur', 'region': 'Wallonie'}, 5183: {'province': 'Namur', 'region': 'Wallonie'}, 5184: {'province': 'Namur', 'region': 'Wallonie'}, 5185: {'province': 'Namur', 'region': 'Wallonie'}, 5186: {'province': 'Namur', 'region': 'Wallonie'}, 5187: {'province': 'Namur', 'region': 'Wallonie'}, 5188: {'province': 'Namur', 'region': 'Wallonie'}, 5189: {'province': 'Namur', 'region': 'Wallonie'}, 5190: {'province': 'Namur', 'region': 'Wallonie'}, 5191: {'province': 'Namur', 'region': 'Wallonie'}, 5192: {'province': 'Namur', 'region': 'Wallonie'}, 5193: {'province': 'Namur', 'region': 'Wallonie'}, 5194: {'province': 'Namur', 'region': 'Wallonie'}, 5195: {'province': 'Namur', 'region': 'Wallonie'}, 5196: {'province': 'Namur', 'region': 'Wallonie'}, 5197: {'province': 'Namur', 'region': 'Wallonie'}, 5198: {'province': 'Namur', 'region': 'Wallonie'}, 5199: {'province': 'Namur', 'region': 'Wallonie'}, 5200: {'province': 'Namur', 'region': 'Wallonie'}, 5201: {'province': 'Namur', 'region': 'Wallonie'}, 5202: {'province': 'Namur', 'region': 'Wallonie'}, 5203: {'province': 'Namur', 'region': 'Wallonie'}, 5204: {'province': 'Namur', 'region': 'Wallonie'}, 5205: {'province': 'Namur', 'region': 'Wallonie'}, 5206: {'province': 'Namur', 'region': 'Wallonie'}, 5207: {'province': 'Namur', 'region': 'Wallonie'}, 5208: {'province': 'Namur', 'region': 'Wallonie'}, 5209: {'province': 'Namur', 'region': 'Wallonie'}, 5210: {'province': 'Namur', 'region': 'Wallonie'}, 5211: {'province': 'Namur', 'region': 'Wallonie'}, 5212: {'province': 'Namur', 'region': 'Wallonie'}, 5213: {'province': 'Namur', 'region': 'Wallonie'}, 5214: {'province': 'Namur', 'region': 'Wallonie'}, 5215: {'province': 'Namur', 'region': 'Wallonie'}, 5216: {'province': 'Namur', 'region': 'Wallonie'}, 5217: {'province': 'Namur', 'region': 'Wallonie'}, 5218: {'province': 'Namur', 'region': 'Wallonie'}, 5219: {'province': 'Namur', 'region': 'Wallonie'}, 5220: {'province': 'Namur', 'region': 'Wallonie'}, 5221: {'province': 'Namur', 'region': 'Wallonie'}, 5222: {'province': 'Namur', 'region': 'Wallonie'}, 5223: {'province': 'Namur', 'region': 'Wallonie'}, 5224: {'province': 'Namur', 'region': 'Wallonie'}, 5225: {'province': 'Namur', 'region': 'Wallonie'}, 5226: {'province': 'Namur', 'region': 'Wallonie'}, 5227: {'province': 'Namur', 'region': 'Wallonie'}, 5228: {'province': 'Namur', 'region': 'Wallonie'}, 5229: {'province': 'Namur', 'region': 'Wallonie'}, 5230: {'province': 'Namur', 'region': 'Wallonie'}, 5231: {'province': 'Namur', 'region': 'Wallonie'}, 5232: {'province': 'Namur', 'region': 'Wallonie'}, 5233: {'province': 'Namur', 'region': 'Wallonie'}, 5234: {'province': 'Namur', 'region': 'Wallonie'}, 5235: {'province': 'Namur', 'region': 'Wallonie'}, 5236: {'province': 'Namur', 'region': 'Wallonie'}, 5237: {'province': 'Namur', 'region': 'Wallonie'}, 5238: {'province': 'Namur', 'region': 'Wallonie'}, 5239: {'province': 'Namur', 'region': 'Wallonie'}, 5240: {'province': 'Namur', 'region': 'Wallonie'}, 5241: {'province': 'Namur', 'region': 'Wallonie'}, 5242: {'province': 'Namur', 'region': 'Wallonie'}, 5243: {'province': 'Namur', 'region': 'Wallonie'}, 5244: {'province': 'Namur', 'region': 'Wallonie'}, 5245: {'province': 'Namur', 'region': 'Wallonie'}, 5246: {'province': 'Namur', 'region': 'Wallonie'}, 5247: {'province': 'Namur', 'region': 'Wallonie'}, 5248: {'province': 'Namur', 'region': 'Wallonie'}, 5249: {'province': 'Namur', 'region': 'Wallonie'}, 5250: {'province': 'Namur', 'region': 'Wallonie'}, 5251: {'province': 'Namur', 'region': 'Wallonie'}, 5252: {'province': 'Namur', 'region': 'Wallonie'}, 5253: {'province': 'Namur', 'region': 'Wallonie'}, 5254: {'province': 'Namur', 'region': 'Wallonie'}, 5255: {'province': 'Namur', 'region': 'Wallonie'}, 5256: {'province': 'Namur', 'region': 'Wallonie'}, 5257: {'province': 'Namur', 'region': 'Wallonie'}, 5258: {'province': 'Namur', 'region': 'Wallonie'}, 5259: {'province': 'Namur', 'region': 'Wallonie'}, 5260: {'province': 'Namur', 'region': 'Wallonie'}, 5261: {'province': 'Namur', 'region': 'Wallonie'}, 5262: {'province': 'Namur', 'region': 'Wallonie'}, 5263: {'province': 'Namur', 'region': 'Wallonie'}, 5264: {'province': 'Namur', 'region': 'Wallonie'}, 5265: {'province': 'Namur', 'region': 'Wallonie'}, 5266: {'province': 'Namur', 'region': 'Wallonie'}, 5267: {'province': 'Namur', 'region': 'Wallonie'}, 5268: {'province': 'Namur', 'region': 'Wallonie'}, 5269: {'province': 'Namur', 'region': 'Wallonie'}, 5270: {'province': 'Namur', 'region': 'Wallonie'}, 5271: {'province': 'Namur', 'region': 'Wallonie'}, 5272: {'province': 'Namur', 'region': 'Wallonie'}, 5273: {'province': 'Namur', 'region': 'Wallonie'}, 5274: {'province': 'Namur', 'region': 'Wallonie'}, 5275: {'province': 'Namur', 'region': 'Wallonie'}, 5276: {'province': 'Namur', 'region': 'Wallonie'}, 5277: {'province': 'Namur', 'region': 'Wallonie'}, 5278: {'province': 'Namur', 'region': 'Wallonie'}, 5279: {'province': 'Namur', 'region': 'Wallonie'}, 5280: {'province': 'Namur', 'region': 'Wallonie'}, 5281: {'province': 'Namur', 'region': 'Wallonie'}, 5282: {'province': 'Namur', 'region': 'Wallonie'}, 5283: {'province': 'Namur', 'region': 'Wallonie'}, 5284: {'province': 'Namur', 'region': 'Wallonie'}, 5285: {'province': 'Namur', 'region': 'Wallonie'}, 5286: {'province': 'Namur', 'region': 'Wallonie'}, 5287: {'province': 'Namur', 'region': 'Wallonie'}, 5288: {'province': 'Namur', 'region': 'Wallonie'}, 5289: {'province': 'Namur', 'region': 'Wallonie'}, 5290: {'province': 'Namur', 'region': 'Wallonie'}, 5291: {'province': 'Namur', 'region': 'Wallonie'}, 5292: {'province': 'Namur', 'region': 'Wallonie'}, 5293: {'province': 'Namur', 'region': 'Wallonie'}, 5294: {'province': 'Namur', 'region': 'Wallonie'}, 5295: {'province': 'Namur', 'region': 'Wallonie'}, 5296: {'province': 'Namur', 'region': 'Wallonie'}, 5297: {'province': 'Namur', 'region': 'Wallonie'}, 5298: {'province': 'Namur', 'region': 'Wallonie'}, 5299: {'province': 'Namur', 'region': 'Wallonie'}, 5300: {'province': 'Namur', 'region': 'Wallonie'}, 5301: {'province': 'Namur', 'region': 'Wallonie'}, 5302: {'province': 'Namur', 'region': 'Wallonie'}, 5303: {'province': 'Namur', 'region': 'Wallonie'}, 5304: {'province': 'Namur', 'region': 'Wallonie'}, 5305: {'province': 'Namur', 'region': 'Wallonie'}, 5306: {'province': 'Namur', 'region': 'Wallonie'}, 5307: {'province': 'Namur', 'region': 'Wallonie'}, 5308: {'province': 'Namur', 'region': 'Wallonie'}, 5309: {'province': 'Namur', 'region': 'Wallonie'}, 5310: {'province': 'Namur', 'region': 'Wallonie'}, 5311: {'province': 'Namur', 'region': 'Wallonie'}, 5312: {'province': 'Namur', 'region': 'Wallonie'}, 5313: {'province': 'Namur', 'region': 'Wallonie'}, 5314: {'province': 'Namur', 'region': 'Wallonie'}, 5315: {'province': 'Namur', 'region': 'Wallonie'}, 5316: {'province': 'Namur', 'region': 'Wallonie'}, 5317: {'province': 'Namur', 'region': 'Wallonie'}, 5318: {'province': 'Namur', 'region': 'Wallonie'}, 5319: {'province': 'Namur', 'region': 'Wallonie'}, 5320: {'province': 'Namur', 'region': 'Wallonie'}, 5321: {'province': 'Namur', 'region': 'Wallonie'}, 5322: {'province': 'Namur', 'region': 'Wallonie'}, 5323: {'province': 'Namur', 'region': 'Wallonie'}, 5324: {'province': 'Namur', 'region': 'Wallonie'}, 5325: {'province': 'Namur', 'region': 'Wallonie'}, 5326: {'province': 'Namur', 'region': 'Wallonie'}, 5327: {'province': 'Namur', 'region': 'Wallonie'}, 5328: {'province': 'Namur', 'region': 'Wallonie'}, 5329: {'province': 'Namur', 'region': 'Wallonie'}, 5330: {'province': 'Namur', 'region': 'Wallonie'}, 5331: {'province': 'Namur', 'region': 'Wallonie'}, 5332: {'province': 'Namur', 'region': 'Wallonie'}, 5333: {'province': 'Namur', 'region': 'Wallonie'}, 5334: {'province': 'Namur', 'region': 'Wallonie'}, 5335: {'province': 'Namur', 'region': 'Wallonie'}, 5336: {'province': 'Namur', 'region': 'Wallonie'}, 5337: {'province': 'Namur', 'region': 'Wallonie'}, 5338: {'province': 'Namur', 'region': 'Wallonie'}, 5339: {'province': 'Namur', 'region': 'Wallonie'}, 5340: {'province': 'Namur', 'region': 'Wallonie'}, 5341: {'province': 'Namur', 'region': 'Wallonie'}, 5342: {'province': 'Namur', 'region': 'Wallonie'}, 5343: {'province': 'Namur', 'region': 'Wallonie'}, 5344: {'province': 'Namur', 'region': 'Wallonie'}, 5345: {'province': 'Namur', 'region': 'Wallonie'}, 5346: {'province': 'Namur', 'region': 'Wallonie'}, 5347: {'province': 'Namur', 'region': 'Wallonie'}, 5348: {'province': 'Namur', 'region': 'Wallonie'}, 5349: {'province': 'Namur', 'region': 'Wallonie'}, 5350: {'province': 'Namur', 'region': 'Wallonie'}, 5351: {'province': 'Namur', 'region': 'Wallonie'}, 5352: {'province': 'Namur', 'region': 'Wallonie'}, 5353: {'province': 'Namur', 'region': 'Wallonie'}, 5354: {'province': 'Namur', 'region': 'Wallonie'}, 5355: {'province': 'Namur', 'region': 'Wallonie'}, 5356: {'province': 'Namur', 'region': 'Wallonie'}, 5357: {'province': 'Namur', 'region': 'Wallonie'}, 5358: {'province': 'Namur', 'region': 'Wallonie'}, 5359: {'province': 'Namur', 'region': 'Wallonie'}, 5360: {'province': 'Namur', 'region': 'Wallonie'}, 5361: {'province': 'Namur', 'region': 'Wallonie'}, 5362: {'province': 'Namur', 'region': 'Wallonie'}, 5363: {'province': 'Namur', 'region': 'Wallonie'}, 5364: {'province': 'Namur', 'region': 'Wallonie'}, 5365: {'province': 'Namur', 'region': 'Wallonie'}, 5366: {'province': 'Namur', 'region': 'Wallonie'}, 5367: {'province': 'Namur', 'region': 'Wallonie'}, 5368: {'province': 'Namur', 'region': 'Wallonie'}, 5369: {'province': 'Namur', 'region': 'Wallonie'}, 5370: {'province': 'Namur', 'region': 'Wallonie'}, 5371: {'province': 'Namur', 'region': 'Wallonie'}, 5372: {'province': 'Namur', 'region': 'Wallonie'}, 5373: {'province': 'Namur', 'region': 'Wallonie'}, 5374: {'province': 'Namur', 'region': 'Wallonie'}, 5375: {'province': 'Namur', 'region': 'Wallonie'}, 5376: {'province': 'Namur', 'region': 'Wallonie'}, 5377: {'province': 'Namur', 'region': 'Wallonie'}, 5378: {'province': 'Namur', 'region': 'Wallonie'}, 5379: {'province': 'Namur', 'region': 'Wallonie'}, 5380: {'province': 'Namur', 'region': 'Wallonie'}, 5381: {'province': 'Namur', 'region': 'Wallonie'}, 5382: {'province': 'Namur', 'region': 'Wallonie'}, 5383: {'province': 'Namur', 'region': 'Wallonie'}, 5384: {'province': 'Namur', 'region': 'Wallonie'}, 5385: {'province': 'Namur', 'region': 'Wallonie'}, 5386: {'province': 'Namur', 'region': 'Wallonie'}, 5387: {'province': 'Namur', 'region': 'Wallonie'}, 5388: {'province': 'Namur', 'region': 'Wallonie'}, 5389: {'province': 'Namur', 'region': 'Wallonie'}, 5390: {'province': 'Namur', 'region': 'Wallonie'}, 5391: {'province': 'Namur', 'region': 'Wallonie'}, 5392: {'province': 'Namur', 'region': 'Wallonie'}, 5393: {'province': 'Namur', 'region': 'Wallonie'}, 5394: {'province': 'Namur', 'region': 'Wallonie'}, 5395: {'province': 'Namur', 'region': 'Wallonie'}, 5396: {'province': 'Namur', 'region': 'Wallonie'}, 5397: {'province': 'Namur', 'region': 'Wallonie'}, 5398: {'province': 'Namur', 'region': 'Wallonie'}, 5399: {'province': 'Namur', 'region': 'Wallonie'}, 5400: {'province': 'Namur', 'region': 'Wallonie'}, 5401: {'province': 'Namur', 'region': 'Wallonie'}, 5402: {'province': 'Namur', 'region': 'Wallonie'}, 5403: {'province': 'Namur', 'region': 'Wallonie'}, 5404: {'province': 'Namur', 'region': 'Wallonie'}, 5405: {'province': 'Namur', 'region': 'Wallonie'}, 5406: {'province': 'Namur', 'region': 'Wallonie'}, 5407: {'province': 'Namur', 'region': 'Wallonie'}, 5408: {'province': 'Namur', 'region': 'Wallonie'}, 5409: {'province': 'Namur', 'region': 'Wallonie'}, 5410: {'province': 'Namur', 'region': 'Wallonie'}, 5411: {'province': 'Namur', 'region': 'Wallonie'}, 5412: {'province': 'Namur', 'region': 'Wallonie'}, 5413: {'province': 'Namur', 'region': 'Wallonie'}, 5414: {'province': 'Namur', 'region': 'Wallonie'}, 5415: {'province': 'Namur', 'region': 'Wallonie'}, 5416: {'province': 'Namur', 'region': 'Wallonie'}, 5417: {'province': 'Namur', 'region': 'Wallonie'}, 5418: {'province': 'Namur', 'region': 'Wallonie'}, 5419: {'province': 'Namur', 'region': 'Wallonie'}, 5420: {'province': 'Namur', 'region': 'Wallonie'}, 5421: {'province': 'Namur', 'region': 'Wallonie'}, 5422: {'province': 'Namur', 'region': 'Wallonie'}, 5423: {'province': 'Namur', 'region': 'Wallonie'}, 5424: {'province': 'Namur', 'region': 'Wallonie'}, 5425: {'province': 'Namur', 'region': 'Wallonie'}, 5426: {'province': 'Namur', 'region': 'Wallonie'}, 5427: {'province': 'Namur', 'region': 'Wallonie'}, 5428: {'province': 'Namur', 'region': 'Wallonie'}, 5429: {'province': 'Namur', 'region': 'Wallonie'}, 5430: {'province': 'Namur', 'region': 'Wallonie'}, 5431: {'province': 'Namur', 'region': 'Wallonie'}, 5432: {'province': 'Namur', 'region': 'Wallonie'}, 5433: {'province': 'Namur', 'region': 'Wallonie'}, 5434: {'province': 'Namur', 'region': 'Wallonie'}, 5435: {'province': 'Namur', 'region': 'Wallonie'}, 5436: {'province': 'Namur', 'region': 'Wallonie'}, 5437: {'province': 'Namur', 'region': 'Wallonie'}, 5438: {'province': 'Namur', 'region': 'Wallonie'}, 5439: {'province': 'Namur', 'region': 'Wallonie'}, 5440: {'province': 'Namur', 'region': 'Wallonie'}, 5441: {'province': 'Namur', 'region': 'Wallonie'}, 5442: {'province': 'Namur', 'region': 'Wallonie'}, 5443: {'province': 'Namur', 'region': 'Wallonie'}, 5444: {'province': 'Namur', 'region': 'Wallonie'}, 5445: {'province': 'Namur', 'region': 'Wallonie'}, 5446: {'province': 'Namur', 'region': 'Wallonie'}, 5447: {'province': 'Namur', 'region': 'Wallonie'}, 5448: {'province': 'Namur', 'region': 'Wallonie'}, 5449: {'province': 'Namur', 'region': 'Wallonie'}, 5450: {'province': 'Namur', 'region': 'Wallonie'}, 5451: {'province': 'Namur', 'region': 'Wallonie'}, 5452: {'province': 'Namur', 'region': 'Wallonie'}, 5453: {'province': 'Namur', 'region': 'Wallonie'}, 5454: {'province': 'Namur', 'region': 'Wallonie'}, 5455: {'province': 'Namur', 'region': 'Wallonie'}, 5456: {'province': 'Namur', 'region': 'Wallonie'}, 5457: {'province': 'Namur', 'region': 'Wallonie'}, 5458: {'province': 'Namur', 'region': 'Wallonie'}, 5459: {'province': 'Namur', 'region': 'Wallonie'}, 5460: {'province': 'Namur', 'region': 'Wallonie'}, 5461: {'province': 'Namur', 'region': 'Wallonie'}, 5462: {'province': 'Namur', 'region': 'Wallonie'}, 5463: {'province': 'Namur', 'region': 'Wallonie'}, 5464: {'province': 'Namur', 'region': 'Wallonie'}, 5465: {'province': 'Namur', 'region': 'Wallonie'}, 5466: {'province': 'Namur', 'region': 'Wallonie'}, 5467: {'province': 'Namur', 'region': 'Wallonie'}, 5468: {'province': 'Namur', 'region': 'Wallonie'}, 5469: {'province': 'Namur', 'region': 'Wallonie'}, 5470: {'province': 'Namur', 'region': 'Wallonie'}, 5471: {'province': 'Namur', 'region': 'Wallonie'}, 5472: {'province': 'Namur', 'region': 'Wallonie'}, 5473: {'province': 'Namur', 'region': 'Wallonie'}, 5474: {'province': 'Namur', 'region': 'Wallonie'}, 5475: {'province': 'Namur', 'region': 'Wallonie'}, 5476: {'province': 'Namur', 'region': 'Wallonie'}, 5477: {'province': 'Namur', 'region': 'Wallonie'}, 5478: {'province': 'Namur', 'region': 'Wallonie'}, 5479: {'province': 'Namur', 'region': 'Wallonie'}, 5480: {'province': 'Namur', 'region': 'Wallonie'}, 5481: {'province': 'Namur', 'region': 'Wallonie'}, 5482: {'province': 'Namur', 'region': 'Wallonie'}, 5483: {'province': 'Namur', 'region': 'Wallonie'}, 5484: {'province': 'Namur', 'region': 'Wallonie'}, 5485: {'province': 'Namur', 'region': 'Wallonie'}, 5486: {'province': 'Namur', 'region': 'Wallonie'}, 5487: {'province': 'Namur', 'region': 'Wallonie'}, 5488: {'province': 'Namur', 'region': 'Wallonie'}, 5489: {'province': 'Namur', 'region': 'Wallonie'}, 5490: {'province': 'Namur', 'region': 'Wallonie'}, 5491: {'province': 'Namur', 'region': 'Wallonie'}, 5492: {'province': 'Namur', 'region': 'Wallonie'}, 5493: {'province': 'Namur', 'region': 'Wallonie'}, 5494: {'province': 'Namur', 'region': 'Wallonie'}, 5495: {'province': 'Namur', 'region': 'Wallonie'}, 5496: {'province': 'Namur', 'region': 'Wallonie'}, 5497: {'province': 'Namur', 'region': 'Wallonie'}, 5498: {'province': 'Namur', 'region': 'Wallonie'}, 5499: {'province': 'Namur', 'region': 'Wallonie'}, 5500: {'province': 'Namur', 'region': 'Wallonie'}, 5501: {'province': 'Namur', 'region': 'Wallonie'}, 5502: {'province': 'Namur', 'region': 'Wallonie'}, 5503: {'province': 'Namur', 'region': 'Wallonie'}, 5504: {'province': 'Namur', 'region': 'Wallonie'}, 5505: {'province': 'Namur', 'region': 'Wallonie'}, 5506: {'province': 'Namur', 'region': 'Wallonie'}, 5507: {'province': 'Namur', 'region': 'Wallonie'}, 5508: {'province': 'Namur', 'region': 'Wallonie'}, 5509: {'province': 'Namur', 'region': 'Wallonie'}, 5510: {'province': 'Namur', 'region': 'Wallonie'}, 5511: {'province': 'Namur', 'region': 'Wallonie'}, 5512: {'province': 'Namur', 'region': 'Wallonie'}, 5513: {'province': 'Namur', 'region': 'Wallonie'}, 5514: {'province': 'Namur', 'region': 'Wallonie'}, 5515: {'province': 'Namur', 'region': 'Wallonie'}, 5516: {'province': 'Namur', 'region': 'Wallonie'}, 5517: {'province': 'Namur', 'region': 'Wallonie'}, 5518: {'province': 'Namur', 'region': 'Wallonie'}, 5519: {'province': 'Namur', 'region': 'Wallonie'}, 5520: {'province': 'Namur', 'region': 'Wallonie'}, 5521: {'province': 'Namur', 'region': 'Wallonie'}, 5522: {'province': 'Namur', 'region': 'Wallonie'}, 5523: {'province': 'Namur', 'region': 'Wallonie'}, 5524: {'province': 'Namur', 'region': 'Wallonie'}, 5525: {'province': 'Namur', 'region': 'Wallonie'}, 5526: {'province': 'Namur', 'region': 'Wallonie'}, 5527: {'province': 'Namur', 'region': 'Wallonie'}, 5528: {'province': 'Namur', 'region': 'Wallonie'}, 5529: {'province': 'Namur', 'region': 'Wallonie'}, 5530: {'province': 'Namur', 'region': 'Wallonie'}, 5531: {'province': 'Namur', 'region': 'Wallonie'}, 5532: {'province': 'Namur', 'region': 'Wallonie'}, 5533: {'province': 'Namur', 'region': 'Wallonie'}, 5534: {'province': 'Namur', 'region': 'Wallonie'}, 5535: {'province': 'Namur', 'region': 'Wallonie'}, 5536: {'province': 'Namur', 'region': 'Wallonie'}, 5537: {'province': 'Namur', 'region': 'Wallonie'}, 5538: {'province': 'Namur', 'region': 'Wallonie'}, 5539: {'province': 'Namur', 'region': 'Wallonie'}, 5540: {'province': 'Namur', 'region': 'Wallonie'}, 5541: {'province': 'Namur', 'region': 'Wallonie'}, 5542: {'province': 'Namur', 'region': 'Wallonie'}, 5543: {'province': 'Namur', 'region': 'Wallonie'}, 5544: {'province': 'Namur', 'region': 'Wallonie'}, 5545: {'province': 'Namur', 'region': 'Wallonie'}, 5546: {'province': 'Namur', 'region': 'Wallonie'}, 5547: {'province': 'Namur', 'region': 'Wallonie'}, 5548: {'province': 'Namur', 'region': 'Wallonie'}, 5549: {'province': 'Namur', 'region': 'Wallonie'}, 5550: {'province': 'Namur', 'region': 'Wallonie'}, 5551: {'province': 'Namur', 'region': 'Wallonie'}, 5552: {'province': 'Namur', 'region': 'Wallonie'}, 5553: {'province': 'Namur', 'region': 'Wallonie'}, 5554: {'province': 'Namur', 'region': 'Wallonie'}, 5555: {'province': 'Namur', 'region': 'Wallonie'}, 5556: {'province': 'Namur', 'region': 'Wallonie'}, 5557: {'province': 'Namur', 'region': 'Wallonie'}, 5558: {'province': 'Namur', 'region': 'Wallonie'}, 5559: {'province': 'Namur', 'region': 'Wallonie'}, 5560: {'province': 'Namur', 'region': 'Wallonie'}, 5561: {'province': 'Namur', 'region': 'Wallonie'}, 5562: {'province': 'Namur', 'region': 'Wallonie'}, 5563: {'province': 'Namur', 'region': 'Wallonie'}, 5564: {'province': 'Namur', 'region': 'Wallonie'}, 5565: {'province': 'Namur', 'region': 'Wallonie'}, 5566: {'province': 'Namur', 'region': 'Wallonie'}, 5567: {'province': 'Namur', 'region': 'Wallonie'}, 5568: {'province': 'Namur', 'region': 'Wallonie'}, 5569: {'province': 'Namur', 'region': 'Wallonie'}, 5570: {'province': 'Namur', 'region': 'Wallonie'}, 5571: {'province': 'Namur', 'region': 'Wallonie'}, 5572: {'province': 'Namur', 'region': 'Wallonie'}, 5573: {'province': 'Namur', 'region': 'Wallonie'}, 5574: {'province': 'Namur', 'region': 'Wallonie'}, 5575: {'province': 'Namur', 'region': 'Wallonie'}, 5576: {'province': 'Namur', 'region': 'Wallonie'}, 5577: {'province': 'Namur', 'region': 'Wallonie'}, 5578: {'province': 'Namur', 'region': 'Wallonie'}, 5579: {'province': 'Namur', 'region': 'Wallonie'}, 5580: {'province': 'Namur', 'region': 'Wallonie'}, 5581: {'province': 'Namur', 'region': 'Wallonie'}, 5582: {'province': 'Namur', 'region': 'Wallonie'}, 5583: {'province': 'Namur', 'region': 'Wallonie'}, 5584: {'province': 'Namur', 'region': 'Wallonie'}, 5585: {'province': 'Namur', 'region': 'Wallonie'}, 5586: {'province': 'Namur', 'region': 'Wallonie'}, 5587: {'province': 'Namur', 'region': 'Wallonie'}, 5588: {'province': 'Namur', 'region': 'Wallonie'}, 5589: {'province': 'Namur', 'region': 'Wallonie'}, 5590: {'province': 'Namur', 'region': 'Wallonie'}, 5591: {'province': 'Namur', 'region': 'Wallonie'}, 5592: {'province': 'Namur', 'region': 'Wallonie'}, 5593: {'province': 'Namur', 'region': 'Wallonie'}, 5594: {'province': 'Namur', 'region': 'Wallonie'}, 5595: {'province': 'Namur', 'region': 'Wallonie'}, 5596: {'province': 'Namur', 'region': 'Wallonie'}, 5597: {'province': 'Namur', 'region': 'Wallonie'}, 5598: {'province': 'Namur', 'region': 'Wallonie'}, 5599: {'province': 'Namur', 'region': 'Wallonie'}, 5600: {'province': 'Namur', 'region': 'Wallonie'}, 5601: {'province': 'Namur', 'region': 'Wallonie'}, 5602: {'province': 'Namur', 'region': 'Wallonie'}, 5603: {'province': 'Namur', 'region': 'Wallonie'}, 5604: {'province': 'Namur', 'region': 'Wallonie'}, 5605: {'province': 'Namur', 'region': 'Wallonie'}, 5606: {'province': 'Namur', 'region': 'Wallonie'}, 5607: {'province': 'Namur', 'region': 'Wallonie'}, 5608: {'province': 'Namur', 'region': 'Wallonie'}, 5609: {'province': 'Namur', 'region': 'Wallonie'}, 5610: {'province': 'Namur', 'region': 'Wallonie'}, 5611: {'province': 'Namur', 'region': 'Wallonie'}, 5612: {'province': 'Namur', 'region': 'Wallonie'}, 5613: {'province': 'Namur', 'region': 'Wallonie'}, 5614: {'province': 'Namur', 'region': 'Wallonie'}, 5615: {'province': 'Namur', 'region': 'Wallonie'}, 5616: {'province': 'Namur', 'region': 'Wallonie'}, 5617: {'province': 'Namur', 'region': 'Wallonie'}, 5618: {'province': 'Namur', 'region': 'Wallonie'}, 5619: {'province': 'Namur', 'region': 'Wallonie'}, 5620: {'province': 'Namur', 'region': 'Wallonie'}, 5621: {'province': 'Namur', 'region': 'Wallonie'}, 5622: {'province': 'Namur', 'region': 'Wallonie'}, 5623: {'province': 'Namur', 'region': 'Wallonie'}, 5624: {'province': 'Namur', 'region': 'Wallonie'}, 5625: {'province': 'Namur', 'region': 'Wallonie'}, 5626: {'province': 'Namur', 'region': 'Wallonie'}, 5627: {'province': 'Namur', 'region': 'Wallonie'}, 5628: {'province': 'Namur', 'region': 'Wallonie'}, 5629: {'province': 'Namur', 'region': 'Wallonie'}, 5630: {'province': 'Namur', 'region': 'Wallonie'}, 5631: {'province': 'Namur', 'region': 'Wallonie'}, 5632: {'province': 'Namur', 'region': 'Wallonie'}, 5633: {'province': 'Namur', 'region': 'Wallonie'}, 5634: {'province': 'Namur', 'region': 'Wallonie'}, 5635: {'province': 'Namur', 'region': 'Wallonie'}, 5636: {'province': 'Namur', 'region': 'Wallonie'}, 5637: {'province': 'Namur', 'region': 'Wallonie'}, 5638: {'province': 'Namur', 'region': 'Wallonie'}, 5639: {'province': 'Namur', 'region': 'Wallonie'}, 5640: {'province': 'Namur', 'region': 'Wallonie'}, 5641: {'province': 'Namur', 'region': 'Wallonie'}, 5642: {'province': 'Namur', 'region': 'Wallonie'}, 5643: {'province': 'Namur', 'region': 'Wallonie'}, 5644: {'province': 'Namur', 'region': 'Wallonie'}, 5645: {'province': 'Namur', 'region': 'Wallonie'}, 5646: {'province': 'Namur', 'region': 'Wallonie'}, 5647: {'province': 'Namur', 'region': 'Wallonie'}, 5648: {'province': 'Namur', 'region': 'Wallonie'}, 5649: {'province': 'Namur', 'region': 'Wallonie'}, 5650: {'province': 'Namur', 'region': 'Wallonie'}, 5651: {'province': 'Namur', 'region': 'Wallonie'}, 5652: {'province': 'Namur', 'region': 'Wallonie'}, 5653: {'province': 'Namur', 'region': 'Wallonie'}, 5654: {'province': 'Namur', 'region': 'Wallonie'}, 5655: {'province': 'Namur', 'region': 'Wallonie'}, 5656: {'province': 'Namur', 'region': 'Wallonie'}, 5657: {'province': 'Namur', 'region': 'Wallonie'}, 5658: {'province': 'Namur', 'region': 'Wallonie'}, 5659: {'province': 'Namur', 'region': 'Wallonie'}, 5660: {'province': 'Namur', 'region': 'Wallonie'}, 5661: {'province': 'Namur', 'region': 'Wallonie'}, 5662: {'province': 'Namur', 'region': 'Wallonie'}, 5663: {'province': 'Namur', 'region': 'Wallonie'}, 5664: {'province': 'Namur', 'region': 'Wallonie'}, 5665: {'province': 'Namur', 'region': 'Wallonie'}, 5666: {'province': 'Namur', 'region': 'Wallonie'}, 5667: {'province': 'Namur', 'region': 'Wallonie'}, 5668: {'province': 'Namur', 'region': 'Wallonie'}, 5669: {'province': 'Namur', 'region': 'Wallonie'}, 5670: {'province': 'Namur', 'region': 'Wallonie'}, 5671: {'province': 'Namur', 'region': 'Wallonie'}, 5672: {'province': 'Namur', 'region': 'Wallonie'}, 5673: {'province': 'Namur', 'region': 'Wallonie'}, 5674: {'province': 'Namur', 'region': 'Wallonie'}, 5675: {'province': 'Namur', 'region': 'Wallonie'}, 5676: {'province': 'Namur', 'region': 'Wallonie'}, 5677: {'province': 'Namur', 'region': 'Wallonie'}, 5678: {'province': 'Namur', 'region': 'Wallonie'}, 5679: {'province': 'Namur', 'region': 'Wallonie'}, 5680: {'province': 'Namur', 'region': 'Wallonie'}, 5681: {'province': 'Namur', 'region': 'Wallonie'}, 5682: {'province': 'Namur', 'region': 'Wallonie'}, 5683: {'province': 'Namur', 'region': 'Wallonie'}, 5684: {'province': 'Namur', 'region': 'Wallonie'}, 5685: {'province': 'Namur', 'region': 'Wallonie'}, 5686: {'province': 'Namur', 'region': 'Wallonie'}, 5687: {'province': 'Namur', 'region': 'Wallonie'}, 5688: {'province': 'Namur', 'region': 'Wallonie'}, 5689: {'province': 'Namur', 'region': 'Wallonie'}, 5690: {'province': 'Namur', 'region': 'Wallonie'}, 5691: {'province': 'Namur', 'region': 'Wallonie'}, 5692: {'province': 'Namur', 'region': 'Wallonie'}, 5693: {'province': 'Namur', 'region': 'Wallonie'}, 5694: {'province': 'Namur', 'region': 'Wallonie'}, 5695: {'province': 'Namur', 'region': 'Wallonie'}, 5696: {'province': 'Namur', 'region': 'Wallonie'}, 5697: {'province': 'Namur', 'region': 'Wallonie'}, 5698: {'province': 'Namur', 'region': 'Wallonie'}, 5699: {'province': 'Namur', 'region': 'Wallonie'}, 5700: {'province': 'Namur', 'region': 'Wallonie'}, 5701: {'province': 'Namur', 'region': 'Wallonie'}, 5702: {'province': 'Namur', 'region': 'Wallonie'}, 5703: {'province': 'Namur', 'region': 'Wallonie'}, 5704: {'province': 'Namur', 'region': 'Wallonie'}, 5705: {'province': 'Namur', 'region': 'Wallonie'}, 5706: {'province': 'Namur', 'region': 'Wallonie'}, 5707: {'province': 'Namur', 'region': 'Wallonie'}, 5708: {'province': 'Namur', 'region': 'Wallonie'}, 5709: {'province': 'Namur', 'region': 'Wallonie'}, 5710: {'province': 'Namur', 'region': 'Wallonie'}, 5711: {'province': 'Namur', 'region': 'Wallonie'}, 5712: {'province': 'Namur', 'region': 'Wallonie'}, 5713: {'province': 'Namur', 'region': 'Wallonie'}, 5714: {'province': 'Namur', 'region': 'Wallonie'}, 5715: {'province': 'Namur', 'region': 'Wallonie'}, 5716: {'province': 'Namur', 'region': 'Wallonie'}, 5717: {'province': 'Namur', 'region': 'Wallonie'}, 5718: {'province': 'Namur', 'region': 'Wallonie'}, 5719: {'province': 'Namur', 'region': 'Wallonie'}, 5720: {'province': 'Namur', 'region': 'Wallonie'}, 5721: {'province': 'Namur', 'region': 'Wallonie'}, 5722: {'province': 'Namur', 'region': 'Wallonie'}, 5723: {'province': 'Namur', 'region': 'Wallonie'}, 5724: {'province': 'Namur', 'region': 'Wallonie'}, 5725: {'province': 'Namur', 'region': 'Wallonie'}, 5726: {'province': 'Namur', 'region': 'Wallonie'}, 5727: {'province': 'Namur', 'region': 'Wallonie'}, 5728: {'province': 'Namur', 'region': 'Wallonie'}, 5729: {'province': 'Namur', 'region': 'Wallonie'}, 5730: {'province': 'Namur', 'region': 'Wallonie'}, 5731: {'province': 'Namur', 'region': 'Wallonie'}, 5732: {'province': 'Namur', 'region': 'Wallonie'}, 5733: {'province': 'Namur', 'region': 'Wallonie'}, 5734: {'province': 'Namur', 'region': 'Wallonie'}, 5735: {'province': 'Namur', 'region': 'Wallonie'}, 5736: {'province': 'Namur', 'region': 'Wallonie'}, 5737: {'province': 'Namur', 'region': 'Wallonie'}, 5738: {'province': 'Namur', 'region': 'Wallonie'}, 5739: {'province': 'Namur', 'region': 'Wallonie'}, 5740: {'province': 'Namur', 'region': 'Wallonie'}, 5741: {'province': 'Namur', 'region': 'Wallonie'}, 5742: {'province': 'Namur', 'region': 'Wallonie'}, 5743: {'province': 'Namur', 'region': 'Wallonie'}, 5744: {'province': 'Namur', 'region': 'Wallonie'}, 5745: {'province': 'Namur', 'region': 'Wallonie'}, 5746: {'province': 'Namur', 'region': 'Wallonie'}, 5747: {'province': 'Namur', 'region': 'Wallonie'}, 5748: {'province': 'Namur', 'region': 'Wallonie'}, 5749: {'province': 'Namur', 'region': 'Wallonie'}, 5750: {'province': 'Namur', 'region': 'Wallonie'}, 5751: {'province': 'Namur', 'region': 'Wallonie'}, 5752: {'province': 'Namur', 'region': 'Wallonie'}, 5753: {'province': 'Namur', 'region': 'Wallonie'}, 5754: {'province': 'Namur', 'region': 'Wallonie'}, 5755: {'province': 'Namur', 'region': 'Wallonie'}, 5756: {'province': 'Namur', 'region': 'Wallonie'}, 5757: {'province': 'Namur', 'region': 'Wallonie'}, 5758: {'province': 'Namur', 'region': 'Wallonie'}, 5759: {'province': 'Namur', 'region': 'Wallonie'}, 5760: {'province': 'Namur', 'region': 'Wallonie'}, 5761: {'province': 'Namur', 'region': 'Wallonie'}, 5762: {'province': 'Namur', 'region': 'Wallonie'}, 5763: {'province': 'Namur', 'region': 'Wallonie'}, 5764: {'province': 'Namur', 'region': 'Wallonie'}, 5765: {'province': 'Namur', 'region': 'Wallonie'}, 5766: {'province': 'Namur', 'region': 'Wallonie'}, 5767: {'province': 'Namur', 'region': 'Wallonie'}, 5768: {'province': 'Namur', 'region': 'Wallonie'}, 5769: {'province': 'Namur', 'region': 'Wallonie'}, 5770: {'province': 'Namur', 'region': 'Wallonie'}, 5771: {'province': 'Namur', 'region': 'Wallonie'}, 5772: {'province': 'Namur', 'region': 'Wallonie'}, 5773: {'province': 'Namur', 'region': 'Wallonie'}, 5774: {'province': 'Namur', 'region': 'Wallonie'}, 5775: {'province': 'Namur', 'region': 'Wallonie'}, 5776: {'province': 'Namur', 'region': 'Wallonie'}, 5777: {'province': 'Namur', 'region': 'Wallonie'}, 5778: {'province': 'Namur', 'region': 'Wallonie'}, 5779: {'province': 'Namur', 'region': 'Wallonie'}, 5780: {'province': 'Namur', 'region': 'Wallonie'}, 5781: {'province': 'Namur', 'region': 'Wallonie'}, 5782: {'province': 'Namur', 'region': 'Wallonie'}, 5783: {'province': 'Namur', 'region': 'Wallonie'}, 5784: {'province': 'Namur', 'region': 'Wallonie'}, 5785: {'province': 'Namur', 'region': 'Wallonie'}, 5786: {'province': 'Namur', 'region': 'Wallonie'}, 5787: {'province': 'Namur', 'region': 'Wallonie'}, 5788: {'province': 'Namur', 'region': 'Wallonie'}, 5789: {'province': 'Namur', 'region': 'Wallonie'}, 5790: {'province': 'Namur', 'region': 'Wallonie'}, 5791: {'province': 'Namur', 'region': 'Wallonie'}, 5792: {'province': 'Namur', 'region': 'Wallonie'}, 5793: {'province': 'Namur', 'region': 'Wallonie'}, 5794: {'province': 'Namur', 'region': 'Wallonie'}, 5795: {'province': 'Namur', 'region': 'Wallonie'}, 5796: {'province': 'Namur', 'region': 'Wallonie'}, 5797: {'province': 'Namur', 'region': 'Wallonie'}, 5798: {'province': 'Namur', 'region': 'Wallonie'}, 5799: {'province': 'Namur', 'region': 'Wallonie'}, 5800: {'province': 'Namur', 'region': 'Wallonie'}, 5801: {'province': 'Namur', 'region': 'Wallonie'}, 5802: {'province': 'Namur', 'region': 'Wallonie'}, 5803: {'province': 'Namur', 'region': 'Wallonie'}, 5804: {'province': 'Namur', 'region': 'Wallonie'}, 5805: {'province': 'Namur', 'region': 'Wallonie'}, 5806: {'province': 'Namur', 'region': 'Wallonie'}, 5807: {'province': 'Namur', 'region': 'Wallonie'}, 5808: {'province': 'Namur', 'region': 'Wallonie'}, 5809: {'province': 'Namur', 'region': 'Wallonie'}, 5810: {'province': 'Namur', 'region': 'Wallonie'}, 5811: {'province': 'Namur', 'region': 'Wallonie'}, 5812: {'province': 'Namur', 'region': 'Wallonie'}, 5813: {'province': 'Namur', 'region': 'Wallonie'}, 5814: {'province': 'Namur', 'region': 'Wallonie'}, 5815: {'province': 'Namur', 'region': 'Wallonie'}, 5816: {'province': 'Namur', 'region': 'Wallonie'}, 5817: {'province': 'Namur', 'region': 'Wallonie'}, 5818: {'province': 'Namur', 'region': 'Wallonie'}, 5819: {'province': 'Namur', 'region': 'Wallonie'}, 5820: {'province': 'Namur', 'region': 'Wallonie'}, 5821: {'province': 'Namur', 'region': 'Wallonie'}, 5822: {'province': 'Namur', 'region': 'Wallonie'}, 5823: {'province': 'Namur', 'region': 'Wallonie'}, 5824: {'province': 'Namur', 'region': 'Wallonie'}, 5825: {'province': 'Namur', 'region': 'Wallonie'}, 5826: {'province': 'Namur', 'region': 'Wallonie'}, 5827: {'province': 'Namur', 'region': 'Wallonie'}, 5828: {'province': 'Namur', 'region': 'Wallonie'}, 5829: {'province': 'Namur', 'region': 'Wallonie'}, 5830: {'province': 'Namur', 'region': 'Wallonie'}, 5831: {'province': 'Namur', 'region': 'Wallonie'}, 5832: {'province': 'Namur', 'region': 'Wallonie'}, 5833: {'province': 'Namur', 'region': 'Wallonie'}, 5834: {'province': 'Namur', 'region': 'Wallonie'}, 5835: {'province': 'Namur', 'region': 'Wallonie'}, 5836: {'province': 'Namur', 'region': 'Wallonie'}, 5837: {'province': 'Namur', 'region': 'Wallonie'}, 5838: {'province': 'Namur', 'region': 'Wallonie'}, 5839: {'province': 'Namur', 'region': 'Wallonie'}, 5840: {'province': 'Namur', 'region': 'Wallonie'}, 5841: {'province': 'Namur', 'region': 'Wallonie'}, 5842: {'province': 'Namur', 'region': 'Wallonie'}, 5843: {'province': 'Namur', 'region': 'Wallonie'}, 5844: {'province': 'Namur', 'region': 'Wallonie'}, 5845: {'province': 'Namur', 'region': 'Wallonie'}, 5846: {'province': 'Namur', 'region': 'Wallonie'}, 5847: {'province': 'Namur', 'region': 'Wallonie'}, 5848: {'province': 'Namur', 'region': 'Wallonie'}, 5849: {'province': 'Namur', 'region': 'Wallonie'}, 5850: {'province': 'Namur', 'region': 'Wallonie'}, 5851: {'province': 'Namur', 'region': 'Wallonie'}, 5852: {'province': 'Namur', 'region': 'Wallonie'}, 5853: {'province': 'Namur', 'region': 'Wallonie'}, 5854: {'province': 'Namur', 'region': 'Wallonie'}, 5855: {'province': 'Namur', 'region': 'Wallonie'}, 5856: {'province': 'Namur', 'region': 'Wallonie'}, 5857: {'province': 'Namur', 'region': 'Wallonie'}, 5858: {'province': 'Namur', 'region': 'Wallonie'}, 5859: {'province': 'Namur', 'region': 'Wallonie'}, 5860: {'province': 'Namur', 'region': 'Wallonie'}, 5861: {'province': 'Namur', 'region': 'Wallonie'}, 5862: {'province': 'Namur', 'region': 'Wallonie'}, 5863: {'province': 'Namur', 'region': 'Wallonie'}, 5864: {'province': 'Namur', 'region': 'Wallonie'}, 5865: {'province': 'Namur', 'region': 'Wallonie'}, 5866: {'province': 'Namur', 'region': 'Wallonie'}, 5867: {'province': 'Namur', 'region': 'Wallonie'}, 5868: {'province': 'Namur', 'region': 'Wallonie'}, 5869: {'province': 'Namur', 'region': 'Wallonie'}, 5870: {'province': 'Namur', 'region': 'Wallonie'}, 5871: {'province': 'Namur', 'region': 'Wallonie'}, 5872: {'province': 'Namur', 'region': 'Wallonie'}, 5873: {'province': 'Namur', 'region': 'Wallonie'}, 5874: {'province': 'Namur', 'region': 'Wallonie'}, 5875: {'province': 'Namur', 'region': 'Wallonie'}, 5876: {'province': 'Namur', 'region': 'Wallonie'}, 5877: {'province': 'Namur', 'region': 'Wallonie'}, 5878: {'province': 'Namur', 'region': 'Wallonie'}, 5879: {'province': 'Namur', 'region': 'Wallonie'}, 5880: {'province': 'Namur', 'region': 'Wallonie'}, 5881: {'province': 'Namur', 'region': 'Wallonie'}, 5882: {'province': 'Namur', 'region': 'Wallonie'}, 5883: {'province': 'Namur', 'region': 'Wallonie'}, 5884: {'province': 'Namur', 'region': 'Wallonie'}, 5885: {'province': 'Namur', 'region': 'Wallonie'}, 5886: {'province': 'Namur', 'region': 'Wallonie'}, 5887: {'province': 'Namur', 'region': 'Wallonie'}, 5888: {'province': 'Namur', 'region': 'Wallonie'}, 5889: {'province': 'Namur', 'region': 'Wallonie'}, 5890: {'province': 'Namur', 'region': 'Wallonie'}, 5891: {'province': 'Namur', 'region': 'Wallonie'}, 5892: {'province': 'Namur', 'region': 'Wallonie'}, 5893: {'province': 'Namur', 'region': 'Wallonie'}, 5894: {'province': 'Namur', 'region': 'Wallonie'}, 5895: {'province': 'Namur', 'region': 'Wallonie'}, 5896: {'province': 'Namur', 'region': 'Wallonie'}, 5897: {'province': 'Namur', 'region': 'Wallonie'}, 5898: {'province': 'Namur', 'region': 'Wallonie'}, 5899: {'province': 'Namur', 'region': 'Wallonie'}, 5900: {'province': 'Namur', 'region': 'Wallonie'}, 5901: {'province': 'Namur', 'region': 'Wallonie'}, 5902: {'province': 'Namur', 'region': 'Wallonie'}, 5903: {'province': 'Namur', 'region': 'Wallonie'}, 5904: {'province': 'Namur', 'region': 'Wallonie'}, 5905: {'province': 'Namur', 'region': 'Wallonie'}, 5906: {'province': 'Namur', 'region': 'Wallonie'}, 5907: {'province': 'Namur', 'region': 'Wallonie'}, 5908: {'province': 'Namur', 'region': 'Wallonie'}, 5909: {'province': 'Namur', 'region': 'Wallonie'}, 5910: {'province': 'Namur', 'region': 'Wallonie'}, 5911: {'province': 'Namur', 'region': 'Wallonie'}, 5912: {'province': 'Namur', 'region': 'Wallonie'}, 5913: {'province': 'Namur', 'region': 'Wallonie'}, 5914: {'province': 'Namur', 'region': 'Wallonie'}, 5915: {'province': 'Namur', 'region': 'Wallonie'}, 5916: {'province': 'Namur', 'region': 'Wallonie'}, 5917: {'province': 'Namur', 'region': 'Wallonie'}, 5918: {'province': 'Namur', 'region': 'Wallonie'}, 5919: {'province': 'Namur', 'region': 'Wallonie'}, 5920: {'province': 'Namur', 'region': 'Wallonie'}, 5921: {'province': 'Namur', 'region': 'Wallonie'}, 5922: {'province': 'Namur', 'region': 'Wallonie'}, 5923: {'province': 'Namur', 'region': 'Wallonie'}, 5924: {'province': 'Namur', 'region': 'Wallonie'}, 5925: {'province': 'Namur', 'region': 'Wallonie'}, 5926: {'province': 'Namur', 'region': 'Wallonie'}, 5927: {'province': 'Namur', 'region': 'Wallonie'}, 5928: {'province': 'Namur', 'region': 'Wallonie'}, 5929: {'province': 'Namur', 'region': 'Wallonie'}, 5930: {'province': 'Namur', 'region': 'Wallonie'}, 5931: {'province': 'Namur', 'region': 'Wallonie'}, 5932: {'province': 'Namur', 'region': 'Wallonie'}, 5933: {'province': 'Namur', 'region': 'Wallonie'}, 5934: {'province': 'Namur', 'region': 'Wallonie'}, 5935: {'province': 'Namur', 'region': 'Wallonie'}, 5936: {'province': 'Namur', 'region': 'Wallonie'}, 5937: {'province': 'Namur', 'region': 'Wallonie'}, 5938: {'province': 'Namur', 'region': 'Wallonie'}, 5939: {'province': 'Namur', 'region': 'Wallonie'}, 5940: {'province': 'Namur', 'region': 'Wallonie'}, 5941: {'province': 'Namur', 'region': 'Wallonie'}, 5942: {'province': 'Namur', 'region': 'Wallonie'}, 5943: {'province': 'Namur', 'region': 'Wallonie'}, 5944: {'province': 'Namur', 'region': 'Wallonie'}, 5945: {'province': 'Namur', 'region': 'Wallonie'}, 5946: {'province': 'Namur', 'region': 'Wallonie'}, 5947: {'province': 'Namur', 'region': 'Wallonie'}, 5948: {'province': 'Namur', 'region': 'Wallonie'}, 5949: {'province': 'Namur', 'region': 'Wallonie'}, 5950: {'province': 'Namur', 'region': 'Wallonie'}, 5951: {'province': 'Namur', 'region': 'Wallonie'}, 5952: {'province': 'Namur', 'region': 'Wallonie'}, 5953: {'province': 'Namur', 'region': 'Wallonie'}, 5954: {'province': 'Namur', 'region': 'Wallonie'}, 5955: {'province': 'Namur', 'region': 'Wallonie'}, 5956: {'province': 'Namur', 'region': 'Wallonie'}, 5957: {'province': 'Namur', 'region': 'Wallonie'}, 5958: {'province': 'Namur', 'region': 'Wallonie'}, 5959: {'province': 'Namur', 'region': 'Wallonie'}, 5960: {'province': 'Namur', 'region': 'Wallonie'}, 5961: {'province': 'Namur', 'region': 'Wallonie'}, 5962: {'province': 'Namur', 'region': 'Wallonie'}, 5963: {'province': 'Namur', 'region': 'Wallonie'}, 5964: {'province': 'Namur', 'region': 'Wallonie'}, 5965: {'province': 'Namur', 'region': 'Wallonie'}, 5966: {'province': 'Namur', 'region': 'Wallonie'}, 5967: {'province': 'Namur', 'region': 'Wallonie'}, 5968: {'province': 'Namur', 'region': 'Wallonie'}, 5969: {'province': 'Namur', 'region': 'Wallonie'}, 5970: {'province': 'Namur', 'region': 'Wallonie'}, 5971: {'province': 'Namur', 'region': 'Wallonie'}, 5972: {'province': 'Namur', 'region': 'Wallonie'}, 5973: {'province': 'Namur', 'region': 'Wallonie'}, 5974: {'province': 'Namur', 'region': 'Wallonie'}, 5975: {'province': 'Namur', 'region': 'Wallonie'}, 5976: {'province': 'Namur', 'region': 'Wallonie'}, 5977: {'province': 'Namur', 'region': 'Wallonie'}, 5978: {'province': 'Namur', 'region': 'Wallonie'}, 5979: {'province': 'Namur', 'region': 'Wallonie'}, 5980: {'province': 'Namur', 'region': 'Wallonie'}, 5981: {'province': 'Namur', 'region': 'Wallonie'}, 5982: {'province': 'Namur', 'region': 'Wallonie'}, 5983: {'province': 'Namur', 'region': 'Wallonie'}, 5984: {'province': 'Namur', 'region': 'Wallonie'}, 5985: {'province': 'Namur', 'region': 'Wallonie'}, 5986: {'province': 'Namur', 'region': 'Wallonie'}, 5987: {'province': 'Namur', 'region': 'Wallonie'}, 5988: {'province': 'Namur', 'region': 'Wallonie'}, 5989: {'province': 'Namur', 'region': 'Wallonie'}, 5990: {'province': 'Namur', 'region': 'Wallonie'}, 5991: {'province': 'Namur', 'region': 'Wallonie'}, 5992: {'province': 'Namur', 'region': 'Wallonie'}, 5993: {'province': 'Namur', 'region': 'Wallonie'}, 5994: {'province': 'Namur', 'region': 'Wallonie'}, 5995: {'province': 'Namur', 'region': 'Wallonie'}, 5996: {'province': 'Namur', 'region': 'Wallonie'}, 5997: {'province': 'Namur', 'region': 'Wallonie'}, 5998: {'province': 'Namur', 'region': 'Wallonie'}, 5999: {'province': 'Namur', 'region': 'Wallonie'}, 6000: {'province': 'Hainaut', 'region': 'Wallonie'}, 6001: {'province': 'Hainaut', 'region': 'Wallonie'}, 6002: {'province': 'Hainaut', 'region': 'Wallonie'}, 6003: {'province': 'Hainaut', 'region': 'Wallonie'}, 6004: {'province': 'Hainaut', 'region': 'Wallonie'}, 6005: {'province': 'Hainaut', 'region': 'Wallonie'}, 6006: {'province': 'Hainaut', 'region': 'Wallonie'}, 6007: {'province': 'Hainaut', 'region': 'Wallonie'}, 6008: {'province': 'Hainaut', 'region': 'Wallonie'}, 6009: {'province': 'Hainaut', 'region': 'Wallonie'}, 6010: {'province': 'Hainaut', 'region': 'Wallonie'}, 6011: {'province': 'Hainaut', 'region': 'Wallonie'}, 6012: {'province': 'Hainaut', 'region': 'Wallonie'}, 6013: {'province': 'Hainaut', 'region': 'Wallonie'}, 6014: {'province': 'Hainaut', 'region': 'Wallonie'}, 6015: {'province': 'Hainaut', 'region': 'Wallonie'}, 6016: {'province': 'Hainaut', 'region': 'Wallonie'}, 6017: {'province': 'Hainaut', 'region': 'Wallonie'}, 6018: {'province': 'Hainaut', 'region': 'Wallonie'}, 6019: {'province': 'Hainaut', 'region': 'Wallonie'}, 6020: {'province': 'Hainaut', 'region': 'Wallonie'}, 6021: {'province': 'Hainaut', 'region': 'Wallonie'}, 6022: {'province': 'Hainaut', 'region': 'Wallonie'}, 6023: {'province': 'Hainaut', 'region': 'Wallonie'}, 6024: {'province': 'Hainaut', 'region': 'Wallonie'}, 6025: {'province': 'Hainaut', 'region': 'Wallonie'}, 6026: {'province': 'Hainaut', 'region': 'Wallonie'}, 6027: {'province': 'Hainaut', 'region': 'Wallonie'}, 6028: {'province': 'Hainaut', 'region': 'Wallonie'}, 6029: {'province': 'Hainaut', 'region': 'Wallonie'}, 6030: {'province': 'Hainaut', 'region': 'Wallonie'}, 6031: {'province': 'Hainaut', 'region': 'Wallonie'}, 6032: {'province': 'Hainaut', 'region': 'Wallonie'}, 6033: {'province': 'Hainaut', 'region': 'Wallonie'}, 6034: {'province': 'Hainaut', 'region': 'Wallonie'}, 6035: {'province': 'Hainaut', 'region': 'Wallonie'}, 6036: {'province': 'Hainaut', 'region': 'Wallonie'}, 6037: {'province': 'Hainaut', 'region': 'Wallonie'}, 6038: {'province': 'Hainaut', 'region': 'Wallonie'}, 6039: {'province': 'Hainaut', 'region': 'Wallonie'}, 6040: {'province': 'Hainaut', 'region': 'Wallonie'}, 6041: {'province': 'Hainaut', 'region': 'Wallonie'}, 6042: {'province': 'Hainaut', 'region': 'Wallonie'}, 6043: {'province': 'Hainaut', 'region': 'Wallonie'}, 6044: {'province': 'Hainaut', 'region': 'Wallonie'}, 6045: {'province': 'Hainaut', 'region': 'Wallonie'}, 6046: {'province': 'Hainaut', 'region': 'Wallonie'}, 6047: {'province': 'Hainaut', 'region': 'Wallonie'}, 6048: {'province': 'Hainaut', 'region': 'Wallonie'}, 6049: {'province': 'Hainaut', 'region': 'Wallonie'}, 6050: {'province': 'Hainaut', 'region': 'Wallonie'}, 6051: {'province': 'Hainaut', 'region': 'Wallonie'}, 6052: {'province': 'Hainaut', 'region': 'Wallonie'}, 6053: {'province': 'Hainaut', 'region': 'Wallonie'}, 6054: {'province': 'Hainaut', 'region': 'Wallonie'}, 6055: {'province': 'Hainaut', 'region': 'Wallonie'}, 6056: {'province': 'Hainaut', 'region': 'Wallonie'}, 6057: {'province': 'Hainaut', 'region': 'Wallonie'}, 6058: {'province': 'Hainaut', 'region': 'Wallonie'}, 6059: {'province': 'Hainaut', 'region': 'Wallonie'}, 6060: {'province': 'Hainaut', 'region': 'Wallonie'}, 6061: {'province': 'Hainaut', 'region': 'Wallonie'}, 6062: {'province': 'Hainaut', 'region': 'Wallonie'}, 6063: {'province': 'Hainaut', 'region': 'Wallonie'}, 6064: {'province': 'Hainaut', 'region': 'Wallonie'}, 6065: {'province': 'Hainaut', 'region': 'Wallonie'}, 6066: {'province': 'Hainaut', 'region': 'Wallonie'}, 6067: {'province': 'Hainaut', 'region': 'Wallonie'}, 6068: {'province': 'Hainaut', 'region': 'Wallonie'}, 6069: {'province': 'Hainaut', 'region': 'Wallonie'}, 6070: {'province': 'Hainaut', 'region': 'Wallonie'}, 6071: {'province': 'Hainaut', 'region': 'Wallonie'}, 6072: {'province': 'Hainaut', 'region': 'Wallonie'}, 6073: {'province': 'Hainaut', 'region': 'Wallonie'}, 6074: {'province': 'Hainaut', 'region': 'Wallonie'}, 6075: {'province': 'Hainaut', 'region': 'Wallonie'}, 6076: {'province': 'Hainaut', 'region': 'Wallonie'}, 6077: {'province': 'Hainaut', 'region': 'Wallonie'}, 6078: {'province': 'Hainaut', 'region': 'Wallonie'}, 6079: {'province': 'Hainaut', 'region': 'Wallonie'}, 6080: {'province': 'Hainaut', 'region': 'Wallonie'}, 6081: {'province': 'Hainaut', 'region': 'Wallonie'}, 6082: {'province': 'Hainaut', 'region': 'Wallonie'}, 6083: {'province': 'Hainaut', 'region': 'Wallonie'}, 6084: {'province': 'Hainaut', 'region': 'Wallonie'}, 6085: {'province': 'Hainaut', 'region': 'Wallonie'}, 6086: {'province': 'Hainaut', 'region': 'Wallonie'}, 6087: {'province': 'Hainaut', 'region': 'Wallonie'}, 6088: {'province': 'Hainaut', 'region': 'Wallonie'}, 6089: {'province': 'Hainaut', 'region': 'Wallonie'}, 6090: {'province': 'Hainaut', 'region': 'Wallonie'}, 6091: {'province': 'Hainaut', 'region': 'Wallonie'}, 6092: {'province': 'Hainaut', 'region': 'Wallonie'}, 6093: {'province': 'Hainaut', 'region': 'Wallonie'}, 6094: {'province': 'Hainaut', 'region': 'Wallonie'}, 6095: {'province': 'Hainaut', 'region': 'Wallonie'}, 6096: {'province': 'Hainaut', 'region': 'Wallonie'}, 6097: {'province': 'Hainaut', 'region': 'Wallonie'}, 6098: {'province': 'Hainaut', 'region': 'Wallonie'}, 6099: {'province': 'Hainaut', 'region': 'Wallonie'}, 6100: {'province': 'Hainaut', 'region': 'Wallonie'}, 6101: {'province': 'Hainaut', 'region': 'Wallonie'}, 6102: {'province': 'Hainaut', 'region': 'Wallonie'}, 6103: {'province': 'Hainaut', 'region': 'Wallonie'}, 6104: {'province': 'Hainaut', 'region': 'Wallonie'}, 6105: {'province': 'Hainaut', 'region': 'Wallonie'}, 6106: {'province': 'Hainaut', 'region': 'Wallonie'}, 6107: {'province': 'Hainaut', 'region': 'Wallonie'}, 6108: {'province': 'Hainaut', 'region': 'Wallonie'}, 6109: {'province': 'Hainaut', 'region': 'Wallonie'}, 6110: {'province': 'Hainaut', 'region': 'Wallonie'}, 6111: {'province': 'Hainaut', 'region': 'Wallonie'}, 6112: {'province': 'Hainaut', 'region': 'Wallonie'}, 6113: {'province': 'Hainaut', 'region': 'Wallonie'}, 6114: {'province': 'Hainaut', 'region': 'Wallonie'}, 6115: {'province': 'Hainaut', 'region': 'Wallonie'}, 6116: {'province': 'Hainaut', 'region': 'Wallonie'}, 6117: {'province': 'Hainaut', 'region': 'Wallonie'}, 6118: {'province': 'Hainaut', 'region': 'Wallonie'}, 6119: {'province': 'Hainaut', 'region': 'Wallonie'}, 6120: {'province': 'Hainaut', 'region': 'Wallonie'}, 6121: {'province': 'Hainaut', 'region': 'Wallonie'}, 6122: {'province': 'Hainaut', 'region': 'Wallonie'}, 6123: {'province': 'Hainaut', 'region': 'Wallonie'}, 6124: {'province': 'Hainaut', 'region': 'Wallonie'}, 6125: {'province': 'Hainaut', 'region': 'Wallonie'}, 6126: {'province': 'Hainaut', 'region': 'Wallonie'}, 6127: {'province': 'Hainaut', 'region': 'Wallonie'}, 6128: {'province': 'Hainaut', 'region': 'Wallonie'}, 6129: {'province': 'Hainaut', 'region': 'Wallonie'}, 6130: {'province': 'Hainaut', 'region': 'Wallonie'}, 6131: {'province': 'Hainaut', 'region': 'Wallonie'}, 6132: {'province': 'Hainaut', 'region': 'Wallonie'}, 6133: {'province': 'Hainaut', 'region': 'Wallonie'}, 6134: {'province': 'Hainaut', 'region': 'Wallonie'}, 6135: {'province': 'Hainaut', 'region': 'Wallonie'}, 6136: {'province': 'Hainaut', 'region': 'Wallonie'}, 6137: {'province': 'Hainaut', 'region': 'Wallonie'}, 6138: {'province': 'Hainaut', 'region': 'Wallonie'}, 6139: {'province': 'Hainaut', 'region': 'Wallonie'}, 6140: {'province': 'Hainaut', 'region': 'Wallonie'}, 6141: {'province': 'Hainaut', 'region': 'Wallonie'}, 6142: {'province': 'Hainaut', 'region': 'Wallonie'}, 6143: {'province': 'Hainaut', 'region': 'Wallonie'}, 6144: {'province': 'Hainaut', 'region': 'Wallonie'}, 6145: {'province': 'Hainaut', 'region': 'Wallonie'}, 6146: {'province': 'Hainaut', 'region': 'Wallonie'}, 6147: {'province': 'Hainaut', 'region': 'Wallonie'}, 6148: {'province': 'Hainaut', 'region': 'Wallonie'}, 6149: {'province': 'Hainaut', 'region': 'Wallonie'}, 6150: {'province': 'Hainaut', 'region': 'Wallonie'}, 6151: {'province': 'Hainaut', 'region': 'Wallonie'}, 6152: {'province': 'Hainaut', 'region': 'Wallonie'}, 6153: {'province': 'Hainaut', 'region': 'Wallonie'}, 6154: {'province': 'Hainaut', 'region': 'Wallonie'}, 6155: {'province': 'Hainaut', 'region': 'Wallonie'}, 6156: {'province': 'Hainaut', 'region': 'Wallonie'}, 6157: {'province': 'Hainaut', 'region': 'Wallonie'}, 6158: {'province': 'Hainaut', 'region': 'Wallonie'}, 6159: {'province': 'Hainaut', 'region': 'Wallonie'}, 6160: {'province': 'Hainaut', 'region': 'Wallonie'}, 6161: {'province': 'Hainaut', 'region': 'Wallonie'}, 6162: {'province': 'Hainaut', 'region': 'Wallonie'}, 6163: {'province': 'Hainaut', 'region': 'Wallonie'}, 6164: {'province': 'Hainaut', 'region': 'Wallonie'}, 6165: {'province': 'Hainaut', 'region': 'Wallonie'}, 6166: {'province': 'Hainaut', 'region': 'Wallonie'}, 6167: {'province': 'Hainaut', 'region': 'Wallonie'}, 6168: {'province': 'Hainaut', 'region': 'Wallonie'}, 6169: {'province': 'Hainaut', 'region': 'Wallonie'}, 6170: {'province': 'Hainaut', 'region': 'Wallonie'}, 6171: {'province': 'Hainaut', 'region': 'Wallonie'}, 6172: {'province': 'Hainaut', 'region': 'Wallonie'}, 6173: {'province': 'Hainaut', 'region': 'Wallonie'}, 6174: {'province': 'Hainaut', 'region': 'Wallonie'}, 6175: {'province': 'Hainaut', 'region': 'Wallonie'}, 6176: {'province': 'Hainaut', 'region': 'Wallonie'}, 6177: {'province': 'Hainaut', 'region': 'Wallonie'}, 6178: {'province': 'Hainaut', 'region': 'Wallonie'}, 6179: {'province': 'Hainaut', 'region': 'Wallonie'}, 6180: {'province': 'Hainaut', 'region': 'Wallonie'}, 6181: {'province': 'Hainaut', 'region': 'Wallonie'}, 6182: {'province': 'Hainaut', 'region': 'Wallonie'}, 6183: {'province': 'Hainaut', 'region': 'Wallonie'}, 6184: {'province': 'Hainaut', 'region': 'Wallonie'}, 6185: {'province': 'Hainaut', 'region': 'Wallonie'}, 6186: {'province': 'Hainaut', 'region': 'Wallonie'}, 6187: {'province': 'Hainaut', 'region': 'Wallonie'}, 6188: {'province': 'Hainaut', 'region': 'Wallonie'}, 6189: {'province': 'Hainaut', 'region': 'Wallonie'}, 6190: {'province': 'Hainaut', 'region': 'Wallonie'}, 6191: {'province': 'Hainaut', 'region': 'Wallonie'}, 6192: {'province': 'Hainaut', 'region': 'Wallonie'}, 6193: {'province': 'Hainaut', 'region': 'Wallonie'}, 6194: {'province': 'Hainaut', 'region': 'Wallonie'}, 6195: {'province': 'Hainaut', 'region': 'Wallonie'}, 6196: {'province': 'Hainaut', 'region': 'Wallonie'}, 6197: {'province': 'Hainaut', 'region': 'Wallonie'}, 6198: {'province': 'Hainaut', 'region': 'Wallonie'}, 6199: {'province': 'Hainaut', 'region': 'Wallonie'}, 6200: {'province': 'Hainaut', 'region': 'Wallonie'}, 6201: {'province': 'Hainaut', 'region': 'Wallonie'}, 6202: {'province': 'Hainaut', 'region': 'Wallonie'}, 6203: {'province': 'Hainaut', 'region': 'Wallonie'}, 6204: {'province': 'Hainaut', 'region': 'Wallonie'}, 6205: {'province': 'Hainaut', 'region': 'Wallonie'}, 6206: {'province': 'Hainaut', 'region': 'Wallonie'}, 6207: {'province': 'Hainaut', 'region': 'Wallonie'}, 6208: {'province': 'Hainaut', 'region': 'Wallonie'}, 6209: {'province': 'Hainaut', 'region': 'Wallonie'}, 6210: {'province': 'Hainaut', 'region': 'Wallonie'}, 6211: {'province': 'Hainaut', 'region': 'Wallonie'}, 6212: {'province': 'Hainaut', 'region': 'Wallonie'}, 6213: {'province': 'Hainaut', 'region': 'Wallonie'}, 6214: {'province': 'Hainaut', 'region': 'Wallonie'}, 6215: {'province': 'Hainaut', 'region': 'Wallonie'}, 6216: {'province': 'Hainaut', 'region': 'Wallonie'}, 6217: {'province': 'Hainaut', 'region': 'Wallonie'}, 6218: {'province': 'Hainaut', 'region': 'Wallonie'}, 6219: {'province': 'Hainaut', 'region': 'Wallonie'}, 6220: {'province': 'Hainaut', 'region': 'Wallonie'}, 6221: {'province': 'Hainaut', 'region': 'Wallonie'}, 6222: {'province': 'Hainaut', 'region': 'Wallonie'}, 6223: {'province': 'Hainaut', 'region': 'Wallonie'}, 6224: {'province': 'Hainaut', 'region': 'Wallonie'}, 6225: {'province': 'Hainaut', 'region': 'Wallonie'}, 6226: {'province': 'Hainaut', 'region': 'Wallonie'}, 6227: {'province': 'Hainaut', 'region': 'Wallonie'}, 6228: {'province': 'Hainaut', 'region': 'Wallonie'}, 6229: {'province': 'Hainaut', 'region': 'Wallonie'}, 6230: {'province': 'Hainaut', 'region': 'Wallonie'}, 6231: {'province': 'Hainaut', 'region': 'Wallonie'}, 6232: {'province': 'Hainaut', 'region': 'Wallonie'}, 6233: {'province': 'Hainaut', 'region': 'Wallonie'}, 6234: {'province': 'Hainaut', 'region': 'Wallonie'}, 6235: {'province': 'Hainaut', 'region': 'Wallonie'}, 6236: {'province': 'Hainaut', 'region': 'Wallonie'}, 6237: {'province': 'Hainaut', 'region': 'Wallonie'}, 6238: {'province': 'Hainaut', 'region': 'Wallonie'}, 6239: {'province': 'Hainaut', 'region': 'Wallonie'}, 6240: {'province': 'Hainaut', 'region': 'Wallonie'}, 6241: {'province': 'Hainaut', 'region': 'Wallonie'}, 6242: {'province': 'Hainaut', 'region': 'Wallonie'}, 6243: {'province': 'Hainaut', 'region': 'Wallonie'}, 6244: {'province': 'Hainaut', 'region': 'Wallonie'}, 6245: {'province': 'Hainaut', 'region': 'Wallonie'}, 6246: {'province': 'Hainaut', 'region': 'Wallonie'}, 6247: {'province': 'Hainaut', 'region': 'Wallonie'}, 6248: {'province': 'Hainaut', 'region': 'Wallonie'}, 6249: {'province': 'Hainaut', 'region': 'Wallonie'}, 6250: {'province': 'Hainaut', 'region': 'Wallonie'}, 6251: {'province': 'Hainaut', 'region': 'Wallonie'}, 6252: {'province': 'Hainaut', 'region': 'Wallonie'}, 6253: {'province': 'Hainaut', 'region': 'Wallonie'}, 6254: {'province': 'Hainaut', 'region': 'Wallonie'}, 6255: {'province': 'Hainaut', 'region': 'Wallonie'}, 6256: {'province': 'Hainaut', 'region': 'Wallonie'}, 6257: {'province': 'Hainaut', 'region': 'Wallonie'}, 6258: {'province': 'Hainaut', 'region': 'Wallonie'}, 6259: {'province': 'Hainaut', 'region': 'Wallonie'}, 6260: {'province': 'Hainaut', 'region': 'Wallonie'}, 6261: {'province': 'Hainaut', 'region': 'Wallonie'}, 6262: {'province': 'Hainaut', 'region': 'Wallonie'}, 6263: {'province': 'Hainaut', 'region': 'Wallonie'}, 6264: {'province': 'Hainaut', 'region': 'Wallonie'}, 6265: {'province': 'Hainaut', 'region': 'Wallonie'}, 6266: {'province': 'Hainaut', 'region': 'Wallonie'}, 6267: {'province': 'Hainaut', 'region': 'Wallonie'}, 6268: {'province': 'Hainaut', 'region': 'Wallonie'}, 6269: {'province': 'Hainaut', 'region': 'Wallonie'}, 6270: {'province': 'Hainaut', 'region': 'Wallonie'}, 6271: {'province': 'Hainaut', 'region': 'Wallonie'}, 6272: {'province': 'Hainaut', 'region': 'Wallonie'}, 6273: {'province': 'Hainaut', 'region': 'Wallonie'}, 6274: {'province': 'Hainaut', 'region': 'Wallonie'}, 6275: {'province': 'Hainaut', 'region': 'Wallonie'}, 6276: {'province': 'Hainaut', 'region': 'Wallonie'}, 6277: {'province': 'Hainaut', 'region': 'Wallonie'}, 6278: {'province': 'Hainaut', 'region': 'Wallonie'}, 6279: {'province': 'Hainaut', 'region': 'Wallonie'}, 6280: {'province': 'Hainaut', 'region': 'Wallonie'}, 6281: {'province': 'Hainaut', 'region': 'Wallonie'}, 6282: {'province': 'Hainaut', 'region': 'Wallonie'}, 6283: {'province': 'Hainaut', 'region': 'Wallonie'}, 6284: {'province': 'Hainaut', 'region': 'Wallonie'}, 6285: {'province': 'Hainaut', 'region': 'Wallonie'}, 6286: {'province': 'Hainaut', 'region': 'Wallonie'}, 6287: {'province': 'Hainaut', 'region': 'Wallonie'}, 6288: {'province': 'Hainaut', 'region': 'Wallonie'}, 6289: {'province': 'Hainaut', 'region': 'Wallonie'}, 6290: {'province': 'Hainaut', 'region': 'Wallonie'}, 6291: {'province': 'Hainaut', 'region': 'Wallonie'}, 6292: {'province': 'Hainaut', 'region': 'Wallonie'}, 6293: {'province': 'Hainaut', 'region': 'Wallonie'}, 6294: {'province': 'Hainaut', 'region': 'Wallonie'}, 6295: {'province': 'Hainaut', 'region': 'Wallonie'}, 6296: {'province': 'Hainaut', 'region': 'Wallonie'}, 6297: {'province': 'Hainaut', 'region': 'Wallonie'}, 6298: {'province': 'Hainaut', 'region': 'Wallonie'}, 6299: {'province': 'Hainaut', 'region': 'Wallonie'}, 6300: {'province': 'Hainaut', 'region': 'Wallonie'}, 6301: {'province': 'Hainaut', 'region': 'Wallonie'}, 6302: {'province': 'Hainaut', 'region': 'Wallonie'}, 6303: {'province': 'Hainaut', 'region': 'Wallonie'}, 6304: {'province': 'Hainaut', 'region': 'Wallonie'}, 6305: {'province': 'Hainaut', 'region': 'Wallonie'}, 6306: {'province': 'Hainaut', 'region': 'Wallonie'}, 6307: {'province': 'Hainaut', 'region': 'Wallonie'}, 6308: {'province': 'Hainaut', 'region': 'Wallonie'}, 6309: {'province': 'Hainaut', 'region': 'Wallonie'}, 6310: {'province': 'Hainaut', 'region': 'Wallonie'}, 6311: {'province': 'Hainaut', 'region': 'Wallonie'}, 6312: {'province': 'Hainaut', 'region': 'Wallonie'}, 6313: {'province': 'Hainaut', 'region': 'Wallonie'}, 6314: {'province': 'Hainaut', 'region': 'Wallonie'}, 6315: {'province': 'Hainaut', 'region': 'Wallonie'}, 6316: {'province': 'Hainaut', 'region': 'Wallonie'}, 6317: {'province': 'Hainaut', 'region': 'Wallonie'}, 6318: {'province': 'Hainaut', 'region': 'Wallonie'}, 6319: {'province': 'Hainaut', 'region': 'Wallonie'}, 6320: {'province': 'Hainaut', 'region': 'Wallonie'}, 6321: {'province': 'Hainaut', 'region': 'Wallonie'}, 6322: {'province': 'Hainaut', 'region': 'Wallonie'}, 6323: {'province': 'Hainaut', 'region': 'Wallonie'}, 6324: {'province': 'Hainaut', 'region': 'Wallonie'}, 6325: {'province': 'Hainaut', 'region': 'Wallonie'}, 6326: {'province': 'Hainaut', 'region': 'Wallonie'}, 6327: {'province': 'Hainaut', 'region': 'Wallonie'}, 6328: {'province': 'Hainaut', 'region': 'Wallonie'}, 6329: {'province': 'Hainaut', 'region': 'Wallonie'}, 6330: {'province': 'Hainaut', 'region': 'Wallonie'}, 6331: {'province': 'Hainaut', 'region': 'Wallonie'}, 6332: {'province': 'Hainaut', 'region': 'Wallonie'}, 6333: {'province': 'Hainaut', 'region': 'Wallonie'}, 6334: {'province': 'Hainaut', 'region': 'Wallonie'}, 6335: {'province': 'Hainaut', 'region': 'Wallonie'}, 6336: {'province': 'Hainaut', 'region': 'Wallonie'}, 6337: {'province': 'Hainaut', 'region': 'Wallonie'}, 6338: {'province': 'Hainaut', 'region': 'Wallonie'}, 6339: {'province': 'Hainaut', 'region': 'Wallonie'}, 6340: {'province': 'Hainaut', 'region': 'Wallonie'}, 6341: {'province': 'Hainaut', 'region': 'Wallonie'}, 6342: {'province': 'Hainaut', 'region': 'Wallonie'}, 6343: {'province': 'Hainaut', 'region': 'Wallonie'}, 6344: {'province': 'Hainaut', 'region': 'Wallonie'}, 6345: {'province': 'Hainaut', 'region': 'Wallonie'}, 6346: {'province': 'Hainaut', 'region': 'Wallonie'}, 6347: {'province': 'Hainaut', 'region': 'Wallonie'}, 6348: {'province': 'Hainaut', 'region': 'Wallonie'}, 6349: {'province': 'Hainaut', 'region': 'Wallonie'}, 6350: {'province': 'Hainaut', 'region': 'Wallonie'}, 6351: {'province': 'Hainaut', 'region': 'Wallonie'}, 6352: {'province': 'Hainaut', 'region': 'Wallonie'}, 6353: {'province': 'Hainaut', 'region': 'Wallonie'}, 6354: {'province': 'Hainaut', 'region': 'Wallonie'}, 6355: {'province': 'Hainaut', 'region': 'Wallonie'}, 6356: {'province': 'Hainaut', 'region': 'Wallonie'}, 6357: {'province': 'Hainaut', 'region': 'Wallonie'}, 6358: {'province': 'Hainaut', 'region': 'Wallonie'}, 6359: {'province': 'Hainaut', 'region': 'Wallonie'}, 6360: {'province': 'Hainaut', 'region': 'Wallonie'}, 6361: {'province': 'Hainaut', 'region': 'Wallonie'}, 6362: {'province': 'Hainaut', 'region': 'Wallonie'}, 6363: {'province': 'Hainaut', 'region': 'Wallonie'}, 6364: {'province': 'Hainaut', 'region': 'Wallonie'}, 6365: {'province': 'Hainaut', 'region': 'Wallonie'}, 6366: {'province': 'Hainaut', 'region': 'Wallonie'}, 6367: {'province': 'Hainaut', 'region': 'Wallonie'}, 6368: {'province': 'Hainaut', 'region': 'Wallonie'}, 6369: {'province': 'Hainaut', 'region': 'Wallonie'}, 6370: {'province': 'Hainaut', 'region': 'Wallonie'}, 6371: {'province': 'Hainaut', 'region': 'Wallonie'}, 6372: {'province': 'Hainaut', 'region': 'Wallonie'}, 6373: {'province': 'Hainaut', 'region': 'Wallonie'}, 6374: {'province': 'Hainaut', 'region': 'Wallonie'}, 6375: {'province': 'Hainaut', 'region': 'Wallonie'}, 6376: {'province': 'Hainaut', 'region': 'Wallonie'}, 6377: {'province': 'Hainaut', 'region': 'Wallonie'}, 6378: {'province': 'Hainaut', 'region': 'Wallonie'}, 6379: {'province': 'Hainaut', 'region': 'Wallonie'}, 6380: {'province': 'Hainaut', 'region': 'Wallonie'}, 6381: {'province': 'Hainaut', 'region': 'Wallonie'}, 6382: {'province': 'Hainaut', 'region': 'Wallonie'}, 6383: {'province': 'Hainaut', 'region': 'Wallonie'}, 6384: {'province': 'Hainaut', 'region': 'Wallonie'}, 6385: {'province': 'Hainaut', 'region': 'Wallonie'}, 6386: {'province': 'Hainaut', 'region': 'Wallonie'}, 6387: {'province': 'Hainaut', 'region': 'Wallonie'}, 6388: {'province': 'Hainaut', 'region': 'Wallonie'}, 6389: {'province': 'Hainaut', 'region': 'Wallonie'}, 6390: {'province': 'Hainaut', 'region': 'Wallonie'}, 6391: {'province': 'Hainaut', 'region': 'Wallonie'}, 6392: {'province': 'Hainaut', 'region': 'Wallonie'}, 6393: {'province': 'Hainaut', 'region': 'Wallonie'}, 6394: {'province': 'Hainaut', 'region': 'Wallonie'}, 6395: {'province': 'Hainaut', 'region': 'Wallonie'}, 6396: {'province': 'Hainaut', 'region': 'Wallonie'}, 6397: {'province': 'Hainaut', 'region': 'Wallonie'}, 6398: {'province': 'Hainaut', 'region': 'Wallonie'}, 6399: {'province': 'Hainaut', 'region': 'Wallonie'}, 6400: {'province': 'Hainaut', 'region': 'Wallonie'}, 6401: {'province': 'Hainaut', 'region': 'Wallonie'}, 6402: {'province': 'Hainaut', 'region': 'Wallonie'}, 6403: {'province': 'Hainaut', 'region': 'Wallonie'}, 6404: {'province': 'Hainaut', 'region': 'Wallonie'}, 6405: {'province': 'Hainaut', 'region': 'Wallonie'}, 6406: {'province': 'Hainaut', 'region': 'Wallonie'}, 6407: {'province': 'Hainaut', 'region': 'Wallonie'}, 6408: {'province': 'Hainaut', 'region': 'Wallonie'}, 6409: {'province': 'Hainaut', 'region': 'Wallonie'}, 6410: {'province': 'Hainaut', 'region': 'Wallonie'}, 6411: {'province': 'Hainaut', 'region': 'Wallonie'}, 6412: {'province': 'Hainaut', 'region': 'Wallonie'}, 6413: {'province': 'Hainaut', 'region': 'Wallonie'}, 6414: {'province': 'Hainaut', 'region': 'Wallonie'}, 6415: {'province': 'Hainaut', 'region': 'Wallonie'}, 6416: {'province': 'Hainaut', 'region': 'Wallonie'}, 6417: {'province': 'Hainaut', 'region': 'Wallonie'}, 6418: {'province': 'Hainaut', 'region': 'Wallonie'}, 6419: {'province': 'Hainaut', 'region': 'Wallonie'}, 6420: {'province': 'Hainaut', 'region': 'Wallonie'}, 6421: {'province': 'Hainaut', 'region': 'Wallonie'}, 6422: {'province': 'Hainaut', 'region': 'Wallonie'}, 6423: {'province': 'Hainaut', 'region': 'Wallonie'}, 6424: {'province': 'Hainaut', 'region': 'Wallonie'}, 6425: {'province': 'Hainaut', 'region': 'Wallonie'}, 6426: {'province': 'Hainaut', 'region': 'Wallonie'}, 6427: {'province': 'Hainaut', 'region': 'Wallonie'}, 6428: {'province': 'Hainaut', 'region': 'Wallonie'}, 6429: {'province': 'Hainaut', 'region': 'Wallonie'}, 6430: {'province': 'Hainaut', 'region': 'Wallonie'}, 6431: {'province': 'Hainaut', 'region': 'Wallonie'}, 6432: {'province': 'Hainaut', 'region': 'Wallonie'}, 6433: {'province': 'Hainaut', 'region': 'Wallonie'}, 6434: {'province': 'Hainaut', 'region': 'Wallonie'}, 6435: {'province': 'Hainaut', 'region': 'Wallonie'}, 6436: {'province': 'Hainaut', 'region': 'Wallonie'}, 6437: {'province': 'Hainaut', 'region': 'Wallonie'}, 6438: {'province': 'Hainaut', 'region': 'Wallonie'}, 6439: {'province': 'Hainaut', 'region': 'Wallonie'}, 6440: {'province': 'Hainaut', 'region': 'Wallonie'}, 6441: {'province': 'Hainaut', 'region': 'Wallonie'}, 6442: {'province': 'Hainaut', 'region': 'Wallonie'}, 6443: {'province': 'Hainaut', 'region': 'Wallonie'}, 6444: {'province': 'Hainaut', 'region': 'Wallonie'}, 6445: {'province': 'Hainaut', 'region': 'Wallonie'}, 6446: {'province': 'Hainaut', 'region': 'Wallonie'}, 6447: {'province': 'Hainaut', 'region': 'Wallonie'}, 6448: {'province': 'Hainaut', 'region': 'Wallonie'}, 6449: {'province': 'Hainaut', 'region': 'Wallonie'}, 6450: {'province': 'Hainaut', 'region': 'Wallonie'}, 6451: {'province': 'Hainaut', 'region': 'Wallonie'}, 6452: {'province': 'Hainaut', 'region': 'Wallonie'}, 6453: {'province': 'Hainaut', 'region': 'Wallonie'}, 6454: {'province': 'Hainaut', 'region': 'Wallonie'}, 6455: {'province': 'Hainaut', 'region': 'Wallonie'}, 6456: {'province': 'Hainaut', 'region': 'Wallonie'}, 6457: {'province': 'Hainaut', 'region': 'Wallonie'}, 6458: {'province': 'Hainaut', 'region': 'Wallonie'}, 6459: {'province': 'Hainaut', 'region': 'Wallonie'}, 6460: {'province': 'Hainaut', 'region': 'Wallonie'}, 6461: {'province': 'Hainaut', 'region': 'Wallonie'}, 6462: {'province': 'Hainaut', 'region': 'Wallonie'}, 6463: {'province': 'Hainaut', 'region': 'Wallonie'}, 6464: {'province': 'Hainaut', 'region': 'Wallonie'}, 6465: {'province': 'Hainaut', 'region': 'Wallonie'}, 6466: {'province': 'Hainaut', 'region': 'Wallonie'}, 6467: {'province': 'Hainaut', 'region': 'Wallonie'}, 6468: {'province': 'Hainaut', 'region': 'Wallonie'}, 6469: {'province': 'Hainaut', 'region': 'Wallonie'}, 6470: {'province': 'Hainaut', 'region': 'Wallonie'}, 6471: {'province': 'Hainaut', 'region': 'Wallonie'}, 6472: {'province': 'Hainaut', 'region': 'Wallonie'}, 6473: {'province': 'Hainaut', 'region': 'Wallonie'}, 6474: {'province': 'Hainaut', 'region': 'Wallonie'}, 6475: {'province': 'Hainaut', 'region': 'Wallonie'}, 6476: {'province': 'Hainaut', 'region': 'Wallonie'}, 6477: {'province': 'Hainaut', 'region': 'Wallonie'}, 6478: {'province': 'Hainaut', 'region': 'Wallonie'}, 6479: {'province': 'Hainaut', 'region': 'Wallonie'}, 6480: {'province': 'Hainaut', 'region': 'Wallonie'}, 6481: {'province': 'Hainaut', 'region': 'Wallonie'}, 6482: {'province': 'Hainaut', 'region': 'Wallonie'}, 6483: {'province': 'Hainaut', 'region': 'Wallonie'}, 6484: {'province': 'Hainaut', 'region': 'Wallonie'}, 6485: {'province': 'Hainaut', 'region': 'Wallonie'}, 6486: {'province': 'Hainaut', 'region': 'Wallonie'}, 6487: {'province': 'Hainaut', 'region': 'Wallonie'}, 6488: {'province': 'Hainaut', 'region': 'Wallonie'}, 6489: {'province': 'Hainaut', 'region': 'Wallonie'}, 6490: {'province': 'Hainaut', 'region': 'Wallonie'}, 6491: {'province': 'Hainaut', 'region': 'Wallonie'}, 6492: {'province': 'Hainaut', 'region': 'Wallonie'}, 6493: {'province': 'Hainaut', 'region': 'Wallonie'}, 6494: {'province': 'Hainaut', 'region': 'Wallonie'}, 6495: {'province': 'Hainaut', 'region': 'Wallonie'}, 6496: {'province': 'Hainaut', 'region': 'Wallonie'}, 6497: {'province': 'Hainaut', 'region': 'Wallonie'}, 6498: {'province': 'Hainaut', 'region': 'Wallonie'}, 6499: {'province': 'Hainaut', 'region': 'Wallonie'}, 6500: {'province': 'Hainaut', 'region': 'Wallonie'}, 6501: {'province': 'Hainaut', 'region': 'Wallonie'}, 6502: {'province': 'Hainaut', 'region': 'Wallonie'}, 6503: {'province': 'Hainaut', 'region': 'Wallonie'}, 6504: {'province': 'Hainaut', 'region': 'Wallonie'}, 6505: {'province': 'Hainaut', 'region': 'Wallonie'}, 6506: {'province': 'Hainaut', 'region': 'Wallonie'}, 6507: {'province': 'Hainaut', 'region': 'Wallonie'}, 6508: {'province': 'Hainaut', 'region': 'Wallonie'}, 6509: {'province': 'Hainaut', 'region': 'Wallonie'}, 6510: {'province': 'Hainaut', 'region': 'Wallonie'}, 6511: {'province': 'Hainaut', 'region': 'Wallonie'}, 6512: {'province': 'Hainaut', 'region': 'Wallonie'}, 6513: {'province': 'Hainaut', 'region': 'Wallonie'}, 6514: {'province': 'Hainaut', 'region': 'Wallonie'}, 6515: {'province': 'Hainaut', 'region': 'Wallonie'}, 6516: {'province': 'Hainaut', 'region': 'Wallonie'}, 6517: {'province': 'Hainaut', 'region': 'Wallonie'}, 6518: {'province': 'Hainaut', 'region': 'Wallonie'}, 6519: {'province': 'Hainaut', 'region': 'Wallonie'}, 6520: {'province': 'Hainaut', 'region': 'Wallonie'}, 6521: {'province': 'Hainaut', 'region': 'Wallonie'}, 6522: {'province': 'Hainaut', 'region': 'Wallonie'}, 6523: {'province': 'Hainaut', 'region': 'Wallonie'}, 6524: {'province': 'Hainaut', 'region': 'Wallonie'}, 6525: {'province': 'Hainaut', 'region': 'Wallonie'}, 6526: {'province': 'Hainaut', 'region': 'Wallonie'}, 6527: {'province': 'Hainaut', 'region': 'Wallonie'}, 6528: {'province': 'Hainaut', 'region': 'Wallonie'}, 6529: {'province': 'Hainaut', 'region': 'Wallonie'}, 6530: {'province': 'Hainaut', 'region': 'Wallonie'}, 6531: {'province': 'Hainaut', 'region': 'Wallonie'}, 6532: {'province': 'Hainaut', 'region': 'Wallonie'}, 6533: {'province': 'Hainaut', 'region': 'Wallonie'}, 6534: {'province': 'Hainaut', 'region': 'Wallonie'}, 6535: {'province': 'Hainaut', 'region': 'Wallonie'}, 6536: {'province': 'Hainaut', 'region': 'Wallonie'}, 6537: {'province': 'Hainaut', 'region': 'Wallonie'}, 6538: {'province': 'Hainaut', 'region': 'Wallonie'}, 6539: {'province': 'Hainaut', 'region': 'Wallonie'}, 6540: {'province': 'Hainaut', 'region': 'Wallonie'}, 6541: {'province': 'Hainaut', 'region': 'Wallonie'}, 6542: {'province': 'Hainaut', 'region': 'Wallonie'}, 6543: {'province': 'Hainaut', 'region': 'Wallonie'}, 6544: {'province': 'Hainaut', 'region': 'Wallonie'}, 6545: {'province': 'Hainaut', 'region': 'Wallonie'}, 6546: {'province': 'Hainaut', 'region': 'Wallonie'}, 6547: {'province': 'Hainaut', 'region': 'Wallonie'}, 6548: {'province': 'Hainaut', 'region': 'Wallonie'}, 6549: {'province': 'Hainaut', 'region': 'Wallonie'}, 6550: {'province': 'Hainaut', 'region': 'Wallonie'}, 6551: {'province': 'Hainaut', 'region': 'Wallonie'}, 6552: {'province': 'Hainaut', 'region': 'Wallonie'}, 6553: {'province': 'Hainaut', 'region': 'Wallonie'}, 6554: {'province': 'Hainaut', 'region': 'Wallonie'}, 6555: {'province': 'Hainaut', 'region': 'Wallonie'}, 6556: {'province': 'Hainaut', 'region': 'Wallonie'}, 6557: {'province': 'Hainaut', 'region': 'Wallonie'}, 6558: {'province': 'Hainaut', 'region': 'Wallonie'}, 6559: {'province': 'Hainaut', 'region': 'Wallonie'}, 6560: {'province': 'Hainaut', 'region': 'Wallonie'}, 6561: {'province': 'Hainaut', 'region': 'Wallonie'}, 6562: {'province': 'Hainaut', 'region': 'Wallonie'}, 6563: {'province': 'Hainaut', 'region': 'Wallonie'}, 6564: {'province': 'Hainaut', 'region': 'Wallonie'}, 6565: {'province': 'Hainaut', 'region': 'Wallonie'}, 6566: {'province': 'Hainaut', 'region': 'Wallonie'}, 6567: {'province': 'Hainaut', 'region': 'Wallonie'}, 6568: {'province': 'Hainaut', 'region': 'Wallonie'}, 6569: {'province': 'Hainaut', 'region': 'Wallonie'}, 6570: {'province': 'Hainaut', 'region': 'Wallonie'}, 6571: {'province': 'Hainaut', 'region': 'Wallonie'}, 6572: {'province': 'Hainaut', 'region': 'Wallonie'}, 6573: {'province': 'Hainaut', 'region': 'Wallonie'}, 6574: {'province': 'Hainaut', 'region': 'Wallonie'}, 6575: {'province': 'Hainaut', 'region': 'Wallonie'}, 6576: {'province': 'Hainaut', 'region': 'Wallonie'}, 6577: {'province': 'Hainaut', 'region': 'Wallonie'}, 6578: {'province': 'Hainaut', 'region': 'Wallonie'}, 6579: {'province': 'Hainaut', 'region': 'Wallonie'}, 6580: {'province': 'Hainaut', 'region': 'Wallonie'}, 6581: {'province': 'Hainaut', 'region': 'Wallonie'}, 6582: {'province': 'Hainaut', 'region': 'Wallonie'}, 6583: {'province': 'Hainaut', 'region': 'Wallonie'}, 6584: {'province': 'Hainaut', 'region': 'Wallonie'}, 6585: {'province': 'Hainaut', 'region': 'Wallonie'}, 6586: {'province': 'Hainaut', 'region': 'Wallonie'}, 6587: {'province': 'Hainaut', 'region': 'Wallonie'}, 6588: {'province': 'Hainaut', 'region': 'Wallonie'}, 6589: {'province': 'Hainaut', 'region': 'Wallonie'}, 6590: {'province': 'Hainaut', 'region': 'Wallonie'}, 6591: {'province': 'Hainaut', 'region': 'Wallonie'}, 6592: {'province': 'Hainaut', 'region': 'Wallonie'}, 6593: {'province': 'Hainaut', 'region': 'Wallonie'}, 6594: {'province': 'Hainaut', 'region': 'Wallonie'}, 6595: {'province': 'Hainaut', 'region': 'Wallonie'}, 6596: {'province': 'Hainaut', 'region': 'Wallonie'}, 6597: {'province': 'Hainaut', 'region': 'Wallonie'}, 6598: {'province': 'Hainaut', 'region': 'Wallonie'}, 6599: {'province': 'Hainaut', 'region': 'Wallonie'}, 7000: {'province': 'Hainaut', 'region': 'Wallonie'}, 7001: {'province': 'Hainaut', 'region': 'Wallonie'}, 7002: {'province': 'Hainaut', 'region': 'Wallonie'}, 7003: {'province': 'Hainaut', 'region': 'Wallonie'}, 7004: {'province': 'Hainaut', 'region': 'Wallonie'}, 7005: {'province': 'Hainaut', 'region': 'Wallonie'}, 7006: {'province': 'Hainaut', 'region': 'Wallonie'}, 7007: {'province': 'Hainaut', 'region': 'Wallonie'}, 7008: {'province': 'Hainaut', 'region': 'Wallonie'}, 7009: {'province': 'Hainaut', 'region': 'Wallonie'}, 7010: {'province': 'Hainaut', 'region': 'Wallonie'}, 7011: {'province': 'Hainaut', 'region': 'Wallonie'}, 7012: {'province': 'Hainaut', 'region': 'Wallonie'}, 7013: {'province': 'Hainaut', 'region': 'Wallonie'}, 7014: {'province': 'Hainaut', 'region': 'Wallonie'}, 7015: {'province': 'Hainaut', 'region': 'Wallonie'}, 7016: {'province': 'Hainaut', 'region': 'Wallonie'}, 7017: {'province': 'Hainaut', 'region': 'Wallonie'}, 7018: {'province': 'Hainaut', 'region': 'Wallonie'}, 7019: {'province': 'Hainaut', 'region': 'Wallonie'}, 7020: {'province': 'Hainaut', 'region': 'Wallonie'}, 7021: {'province': 'Hainaut', 'region': 'Wallonie'}, 7022: {'province': 'Hainaut', 'region': 'Wallonie'}, 7023: {'province': 'Hainaut', 'region': 'Wallonie'}, 7024: {'province': 'Hainaut', 'region': 'Wallonie'}, 7025: {'province': 'Hainaut', 'region': 'Wallonie'}, 7026: {'province': 'Hainaut', 'region': 'Wallonie'}, 7027: {'province': 'Hainaut', 'region': 'Wallonie'}, 7028: {'province': 'Hainaut', 'region': 'Wallonie'}, 7029: {'province': 'Hainaut', 'region': 'Wallonie'}, 7030: {'province': 'Hainaut', 'region': 'Wallonie'}, 7031: {'province': 'Hainaut', 'region': 'Wallonie'}, 7032: {'province': 'Hainaut', 'region': 'Wallonie'}, 7033: {'province': 'Hainaut', 'region': 'Wallonie'}, 7034: {'province': 'Hainaut', 'region': 'Wallonie'}, 7035: {'province': 'Hainaut', 'region': 'Wallonie'}, 7036: {'province': 'Hainaut', 'region': 'Wallonie'}, 7037: {'province': 'Hainaut', 'region': 'Wallonie'}, 7038: {'province': 'Hainaut', 'region': 'Wallonie'}, 7039: {'province': 'Hainaut', 'region': 'Wallonie'}, 7040: {'province': 'Hainaut', 'region': 'Wallonie'}, 7041: {'province': 'Hainaut', 'region': 'Wallonie'}, 7042: {'province': 'Hainaut', 'region': 'Wallonie'}, 7043: {'province': 'Hainaut', 'region': 'Wallonie'}, 7044: {'province': 'Hainaut', 'region': 'Wallonie'}, 7045: {'province': 'Hainaut', 'region': 'Wallonie'}, 7046: {'province': 'Hainaut', 'region': 'Wallonie'}, 7047: {'province': 'Hainaut', 'region': 'Wallonie'}, 7048: {'province': 'Hainaut', 'region': 'Wallonie'}, 7049: {'province': 'Hainaut', 'region': 'Wallonie'}, 7050: {'province': 'Hainaut', 'region': 'Wallonie'}, 7051: {'province': 'Hainaut', 'region': 'Wallonie'}, 7052: {'province': 'Hainaut', 'region': 'Wallonie'}, 7053: {'province': 'Hainaut', 'region': 'Wallonie'}, 7054: {'province': 'Hainaut', 'region': 'Wallonie'}, 7055: {'province': 'Hainaut', 'region': 'Wallonie'}, 7056: {'province': 'Hainaut', 'region': 'Wallonie'}, 7057: {'province': 'Hainaut', 'region': 'Wallonie'}, 7058: {'province': 'Hainaut', 'region': 'Wallonie'}, 7059: {'province': 'Hainaut', 'region': 'Wallonie'}, 7060: {'province': 'Hainaut', 'region': 'Wallonie'}, 7061: {'province': 'Hainaut', 'region': 'Wallonie'}, 7062: {'province': 'Hainaut', 'region': 'Wallonie'}, 7063: {'province': 'Hainaut', 'region': 'Wallonie'}, 7064: {'province': 'Hainaut', 'region': 'Wallonie'}, 7065: {'province': 'Hainaut', 'region': 'Wallonie'}, 7066: {'province': 'Hainaut', 'region': 'Wallonie'}, 7067: {'province': 'Hainaut', 'region': 'Wallonie'}, 7068: {'province': 'Hainaut', 'region': 'Wallonie'}, 7069: {'province': 'Hainaut', 'region': 'Wallonie'}, 7070: {'province': 'Hainaut', 'region': 'Wallonie'}, 7071: {'province': 'Hainaut', 'region': 'Wallonie'}, 7072: {'province': 'Hainaut', 'region': 'Wallonie'}, 7073: {'province': 'Hainaut', 'region': 'Wallonie'}, 7074: {'province': 'Hainaut', 'region': 'Wallonie'}, 7075: {'province': 'Hainaut', 'region': 'Wallonie'}, 7076: {'province': 'Hainaut', 'region': 'Wallonie'}, 7077: {'province': 'Hainaut', 'region': 'Wallonie'}, 7078: {'province': 'Hainaut', 'region': 'Wallonie'}, 7079: {'province': 'Hainaut', 'region': 'Wallonie'}, 7080: {'province': 'Hainaut', 'region': 'Wallonie'}, 7081: {'province': 'Hainaut', 'region': 'Wallonie'}, 7082: {'province': 'Hainaut', 'region': 'Wallonie'}, 7083: {'province': 'Hainaut', 'region': 'Wallonie'}, 7084: {'province': 'Hainaut', 'region': 'Wallonie'}, 7085: {'province': 'Hainaut', 'region': 'Wallonie'}, 7086: {'province': 'Hainaut', 'region': 'Wallonie'}, 7087: {'province': 'Hainaut', 'region': 'Wallonie'}, 7088: {'province': 'Hainaut', 'region': 'Wallonie'}, 7089: {'province': 'Hainaut', 'region': 'Wallonie'}, 7090: {'province': 'Hainaut', 'region': 'Wallonie'}, 7091: {'province': 'Hainaut', 'region': 'Wallonie'}, 7092: {'province': 'Hainaut', 'region': 'Wallonie'}, 7093: {'province': 'Hainaut', 'region': 'Wallonie'}, 7094: {'province': 'Hainaut', 'region': 'Wallonie'}, 7095: {'province': 'Hainaut', 'region': 'Wallonie'}, 7096: {'province': 'Hainaut', 'region': 'Wallonie'}, 7097: {'province': 'Hainaut', 'region': 'Wallonie'}, 7098: {'province': 'Hainaut', 'region': 'Wallonie'}, 7099: {'province': 'Hainaut', 'region': 'Wallonie'}, 7100: {'province': 'Hainaut', 'region': 'Wallonie'}, 7101: {'province': 'Hainaut', 'region': 'Wallonie'}, 7102: {'province': 'Hainaut', 'region': 'Wallonie'}, 7103: {'province': 'Hainaut', 'region': 'Wallonie'}, 7104: {'province': 'Hainaut', 'region': 'Wallonie'}, 7105: {'province': 'Hainaut', 'region': 'Wallonie'}, 7106: {'province': 'Hainaut', 'region': 'Wallonie'}, 7107: {'province': 'Hainaut', 'region': 'Wallonie'}, 7108: {'province': 'Hainaut', 'region': 'Wallonie'}, 7109: {'province': 'Hainaut', 'region': 'Wallonie'}, 7110: {'province': 'Hainaut', 'region': 'Wallonie'}, 7111: {'province': 'Hainaut', 'region': 'Wallonie'}, 7112: {'province': 'Hainaut', 'region': 'Wallonie'}, 7113: {'province': 'Hainaut', 'region': 'Wallonie'}, 7114: {'province': 'Hainaut', 'region': 'Wallonie'}, 7115: {'province': 'Hainaut', 'region': 'Wallonie'}, 7116: {'province': 'Hainaut', 'region': 'Wallonie'}, 7117: {'province': 'Hainaut', 'region': 'Wallonie'}, 7118: {'province': 'Hainaut', 'region': 'Wallonie'}, 7119: {'province': 'Hainaut', 'region': 'Wallonie'}, 7120: {'province': 'Hainaut', 'region': 'Wallonie'}, 7121: {'province': 'Hainaut', 'region': 'Wallonie'}, 7122: {'province': 'Hainaut', 'region': 'Wallonie'}, 7123: {'province': 'Hainaut', 'region': 'Wallonie'}, 7124: {'province': 'Hainaut', 'region': 'Wallonie'}, 7125: {'province': 'Hainaut', 'region': 'Wallonie'}, 7126: {'province': 'Hainaut', 'region': 'Wallonie'}, 7127: {'province': 'Hainaut', 'region': 'Wallonie'}, 7128: {'province': 'Hainaut', 'region': 'Wallonie'}, 7129: {'province': 'Hainaut', 'region': 'Wallonie'}, 7130: {'province': 'Hainaut', 'region': 'Wallonie'}, 7131: {'province': 'Hainaut', 'region': 'Wallonie'}, 7132: {'province': 'Hainaut', 'region': 'Wallonie'}, 7133: {'province': 'Hainaut', 'region': 'Wallonie'}, 7134: {'province': 'Hainaut', 'region': 'Wallonie'}, 7135: {'province': 'Hainaut', 'region': 'Wallonie'}, 7136: {'province': 'Hainaut', 'region': 'Wallonie'}, 7137: {'province': 'Hainaut', 'region': 'Wallonie'}, 7138: {'province': 'Hainaut', 'region': 'Wallonie'}, 7139: {'province': 'Hainaut', 'region': 'Wallonie'}, 7140: {'province': 'Hainaut', 'region': 'Wallonie'}, 7141: {'province': 'Hainaut', 'region': 'Wallonie'}, 7142: {'province': 'Hainaut', 'region': 'Wallonie'}, 7143: {'province': 'Hainaut', 'region': 'Wallonie'}, 7144: {'province': 'Hainaut', 'region': 'Wallonie'}, 7145: {'province': 'Hainaut', 'region': 'Wallonie'}, 7146: {'province': 'Hainaut', 'region': 'Wallonie'}, 7147: {'province': 'Hainaut', 'region': 'Wallonie'}, 7148: {'province': 'Hainaut', 'region': 'Wallonie'}, 7149: {'province': 'Hainaut', 'region': 'Wallonie'}, 7150: {'province': 'Hainaut', 'region': 'Wallonie'}, 7151: {'province': 'Hainaut', 'region': 'Wallonie'}, 7152: {'province': 'Hainaut', 'region': 'Wallonie'}, 7153: {'province': 'Hainaut', 'region': 'Wallonie'}, 7154: {'province': 'Hainaut', 'region': 'Wallonie'}, 7155: {'province': 'Hainaut', 'region': 'Wallonie'}, 7156: {'province': 'Hainaut', 'region': 'Wallonie'}, 7157: {'province': 'Hainaut', 'region': 'Wallonie'}, 7158: {'province': 'Hainaut', 'region': 'Wallonie'}, 7159: {'province': 'Hainaut', 'region': 'Wallonie'}, 7160: {'province': 'Hainaut', 'region': 'Wallonie'}, 7161: {'province': 'Hainaut', 'region': 'Wallonie'}, 7162: {'province': 'Hainaut', 'region': 'Wallonie'}, 7163: {'province': 'Hainaut', 'region': 'Wallonie'}, 7164: {'province': 'Hainaut', 'region': 'Wallonie'}, 7165: {'province': 'Hainaut', 'region': 'Wallonie'}, 7166: {'province': 'Hainaut', 'region': 'Wallonie'}, 7167: {'province': 'Hainaut', 'region': 'Wallonie'}, 7168: {'province': 'Hainaut', 'region': 'Wallonie'}, 7169: {'province': 'Hainaut', 'region': 'Wallonie'}, 7170: {'province': 'Hainaut', 'region': 'Wallonie'}, 7171: {'province': 'Hainaut', 'region': 'Wallonie'}, 7172: {'province': 'Hainaut', 'region': 'Wallonie'}, 7173: {'province': 'Hainaut', 'region': 'Wallonie'}, 7174: {'province': 'Hainaut', 'region': 'Wallonie'}, 7175: {'province': 'Hainaut', 'region': 'Wallonie'}, 7176: {'province': 'Hainaut', 'region': 'Wallonie'}, 7177: {'province': 'Hainaut', 'region': 'Wallonie'}, 7178: {'province': 'Hainaut', 'region': 'Wallonie'}, 7179: {'province': 'Hainaut', 'region': 'Wallonie'}, 7180: {'province': 'Hainaut', 'region': 'Wallonie'}, 7181: {'province': 'Hainaut', 'region': 'Wallonie'}, 7182: {'province': 'Hainaut', 'region': 'Wallonie'}, 7183: {'province': 'Hainaut', 'region': 'Wallonie'}, 7184: {'province': 'Hainaut', 'region': 'Wallonie'}, 7185: {'province': 'Hainaut', 'region': 'Wallonie'}, 7186: {'province': 'Hainaut', 'region': 'Wallonie'}, 7187: {'province': 'Hainaut', 'region': 'Wallonie'}, 7188: {'province': 'Hainaut', 'region': 'Wallonie'}, 7189: {'province': 'Hainaut', 'region': 'Wallonie'}, 7190: {'province': 'Hainaut', 'region': 'Wallonie'}, 7191: {'province': 'Hainaut', 'region': 'Wallonie'}, 7192: {'province': 'Hainaut', 'region': 'Wallonie'}, 7193: {'province': 'Hainaut', 'region': 'Wallonie'}, 7194: {'province': 'Hainaut', 'region': 'Wallonie'}, 7195: {'province': 'Hainaut', 'region': 'Wallonie'}, 7196: {'province': 'Hainaut', 'region': 'Wallonie'}, 7197: {'province': 'Hainaut', 'region': 'Wallonie'}, 7198: {'province': 'Hainaut', 'region': 'Wallonie'}, 7199: {'province': 'Hainaut', 'region': 'Wallonie'}, 7200: {'province': 'Hainaut', 'region': 'Wallonie'}, 7201: {'province': 'Hainaut', 'region': 'Wallonie'}, 7202: {'province': 'Hainaut', 'region': 'Wallonie'}, 7203: {'province': 'Hainaut', 'region': 'Wallonie'}, 7204: {'province': 'Hainaut', 'region': 'Wallonie'}, 7205: {'province': 'Hainaut', 'region': 'Wallonie'}, 7206: {'province': 'Hainaut', 'region': 'Wallonie'}, 7207: {'province': 'Hainaut', 'region': 'Wallonie'}, 7208: {'province': 'Hainaut', 'region': 'Wallonie'}, 7209: {'province': 'Hainaut', 'region': 'Wallonie'}, 7210: {'province': 'Hainaut', 'region': 'Wallonie'}, 7211: {'province': 'Hainaut', 'region': 'Wallonie'}, 7212: {'province': 'Hainaut', 'region': 'Wallonie'}, 7213: {'province': 'Hainaut', 'region': 'Wallonie'}, 7214: {'province': 'Hainaut', 'region': 'Wallonie'}, 7215: {'province': 'Hainaut', 'region': 'Wallonie'}, 7216: {'province': 'Hainaut', 'region': 'Wallonie'}, 7217: {'province': 'Hainaut', 'region': 'Wallonie'}, 7218: {'province': 'Hainaut', 'region': 'Wallonie'}, 7219: {'province': 'Hainaut', 'region': 'Wallonie'}, 7220: {'province': 'Hainaut', 'region': 'Wallonie'}, 7221: {'province': 'Hainaut', 'region': 'Wallonie'}, 7222: {'province': 'Hainaut', 'region': 'Wallonie'}, 7223: {'province': 'Hainaut', 'region': 'Wallonie'}, 7224: {'province': 'Hainaut', 'region': 'Wallonie'}, 7225: {'province': 'Hainaut', 'region': 'Wallonie'}, 7226: {'province': 'Hainaut', 'region': 'Wallonie'}, 7227: {'province': 'Hainaut', 'region': 'Wallonie'}, 7228: {'province': 'Hainaut', 'region': 'Wallonie'}, 7229: {'province': 'Hainaut', 'region': 'Wallonie'}, 7230: {'province': 'Hainaut', 'region': 'Wallonie'}, 7231: {'province': 'Hainaut', 'region': 'Wallonie'}, 7232: {'province': 'Hainaut', 'region': 'Wallonie'}, 7233: {'province': 'Hainaut', 'region': 'Wallonie'}, 7234: {'province': 'Hainaut', 'region': 'Wallonie'}, 7235: {'province': 'Hainaut', 'region': 'Wallonie'}, 7236: {'province': 'Hainaut', 'region': 'Wallonie'}, 7237: {'province': 'Hainaut', 'region': 'Wallonie'}, 7238: {'province': 'Hainaut', 'region': 'Wallonie'}, 7239: {'province': 'Hainaut', 'region': 'Wallonie'}, 7240: {'province': 'Hainaut', 'region': 'Wallonie'}, 7241: {'province': 'Hainaut', 'region': 'Wallonie'}, 7242: {'province': 'Hainaut', 'region': 'Wallonie'}, 7243: {'province': 'Hainaut', 'region': 'Wallonie'}, 7244: {'province': 'Hainaut', 'region': 'Wallonie'}, 7245: {'province': 'Hainaut', 'region': 'Wallonie'}, 7246: {'province': 'Hainaut', 'region': 'Wallonie'}, 7247: {'province': 'Hainaut', 'region': 'Wallonie'}, 7248: {'province': 'Hainaut', 'region': 'Wallonie'}, 7249: {'province': 'Hainaut', 'region': 'Wallonie'}, 7250: {'province': 'Hainaut', 'region': 'Wallonie'}, 7251: {'province': 'Hainaut', 'region': 'Wallonie'}, 7252: {'province': 'Hainaut', 'region': 'Wallonie'}, 7253: {'province': 'Hainaut', 'region': 'Wallonie'}, 7254: {'province': 'Hainaut', 'region': 'Wallonie'}, 7255: {'province': 'Hainaut', 'region': 'Wallonie'}, 7256: {'province': 'Hainaut', 'region': 'Wallonie'}, 7257: {'province': 'Hainaut', 'region': 'Wallonie'}, 7258: {'province': 'Hainaut', 'region': 'Wallonie'}, 7259: {'province': 'Hainaut', 'region': 'Wallonie'}, 7260: {'province': 'Hainaut', 'region': 'Wallonie'}, 7261: {'province': 'Hainaut', 'region': 'Wallonie'}, 7262: {'province': 'Hainaut', 'region': 'Wallonie'}, 7263: {'province': 'Hainaut', 'region': 'Wallonie'}, 7264: {'province': 'Hainaut', 'region': 'Wallonie'}, 7265: {'province': 'Hainaut', 'region': 'Wallonie'}, 7266: {'province': 'Hainaut', 'region': 'Wallonie'}, 7267: {'province': 'Hainaut', 'region': 'Wallonie'}, 7268: {'province': 'Hainaut', 'region': 'Wallonie'}, 7269: {'province': 'Hainaut', 'region': 'Wallonie'}, 7270: {'province': 'Hainaut', 'region': 'Wallonie'}, 7271: {'province': 'Hainaut', 'region': 'Wallonie'}, 7272: {'province': 'Hainaut', 'region': 'Wallonie'}, 7273: {'province': 'Hainaut', 'region': 'Wallonie'}, 7274: {'province': 'Hainaut', 'region': 'Wallonie'}, 7275: {'province': 'Hainaut', 'region': 'Wallonie'}, 7276: {'province': 'Hainaut', 'region': 'Wallonie'}, 7277: {'province': 'Hainaut', 'region': 'Wallonie'}, 7278: {'province': 'Hainaut', 'region': 'Wallonie'}, 7279: {'province': 'Hainaut', 'region': 'Wallonie'}, 7280: {'province': 'Hainaut', 'region': 'Wallonie'}, 7281: {'province': 'Hainaut', 'region': 'Wallonie'}, 7282: {'province': 'Hainaut', 'region': 'Wallonie'}, 7283: {'province': 'Hainaut', 'region': 'Wallonie'}, 7284: {'province': 'Hainaut', 'region': 'Wallonie'}, 7285: {'province': 'Hainaut', 'region': 'Wallonie'}, 7286: {'province': 'Hainaut', 'region': 'Wallonie'}, 7287: {'province': 'Hainaut', 'region': 'Wallonie'}, 7288: {'province': 'Hainaut', 'region': 'Wallonie'}, 7289: {'province': 'Hainaut', 'region': 'Wallonie'}, 7290: {'province': 'Hainaut', 'region': 'Wallonie'}, 7291: {'province': 'Hainaut', 'region': 'Wallonie'}, 7292: {'province': 'Hainaut', 'region': 'Wallonie'}, 7293: {'province': 'Hainaut', 'region': 'Wallonie'}, 7294: {'province': 'Hainaut', 'region': 'Wallonie'}, 7295: {'province': 'Hainaut', 'region': 'Wallonie'}, 7296: {'province': 'Hainaut', 'region': 'Wallonie'}, 7297: {'province': 'Hainaut', 'region': 'Wallonie'}, 7298: {'province': 'Hainaut', 'region': 'Wallonie'}, 7299: {'province': 'Hainaut', 'region': 'Wallonie'}, 7300: {'province': 'Hainaut', 'region': 'Wallonie'}, 7301: {'province': 'Hainaut', 'region': 'Wallonie'}, 7302: {'province': 'Hainaut', 'region': 'Wallonie'}, 7303: {'province': 'Hainaut', 'region': 'Wallonie'}, 7304: {'province': 'Hainaut', 'region': 'Wallonie'}, 7305: {'province': 'Hainaut', 'region': 'Wallonie'}, 7306: {'province': 'Hainaut', 'region': 'Wallonie'}, 7307: {'province': 'Hainaut', 'region': 'Wallonie'}, 7308: {'province': 'Hainaut', 'region': 'Wallonie'}, 7309: {'province': 'Hainaut', 'region': 'Wallonie'}, 7310: {'province': 'Hainaut', 'region': 'Wallonie'}, 7311: {'province': 'Hainaut', 'region': 'Wallonie'}, 7312: {'province': 'Hainaut', 'region': 'Wallonie'}, 7313: {'province': 'Hainaut', 'region': 'Wallonie'}, 7314: {'province': 'Hainaut', 'region': 'Wallonie'}, 7315: {'province': 'Hainaut', 'region': 'Wallonie'}, 7316: {'province': 'Hainaut', 'region': 'Wallonie'}, 7317: {'province': 'Hainaut', 'region': 'Wallonie'}, 7318: {'province': 'Hainaut', 'region': 'Wallonie'}, 7319: {'province': 'Hainaut', 'region': 'Wallonie'}, 7320: {'province': 'Hainaut', 'region': 'Wallonie'}, 7321: {'province': 'Hainaut', 'region': 'Wallonie'}, 7322: {'province': 'Hainaut', 'region': 'Wallonie'}, 7323: {'province': 'Hainaut', 'region': 'Wallonie'}, 7324: {'province': 'Hainaut', 'region': 'Wallonie'}, 7325: {'province': 'Hainaut', 'region': 'Wallonie'}, 7326: {'province': 'Hainaut', 'region': 'Wallonie'}, 7327: {'province': 'Hainaut', 'region': 'Wallonie'}, 7328: {'province': 'Hainaut', 'region': 'Wallonie'}, 7329: {'province': 'Hainaut', 'region': 'Wallonie'}, 7330: {'province': 'Hainaut', 'region': 'Wallonie'}, 7331: {'province': 'Hainaut', 'region': 'Wallonie'}, 7332: {'province': 'Hainaut', 'region': 'Wallonie'}, 7333: {'province': 'Hainaut', 'region': 'Wallonie'}, 7334: {'province': 'Hainaut', 'region': 'Wallonie'}, 7335: {'province': 'Hainaut', 'region': 'Wallonie'}, 7336: {'province': 'Hainaut', 'region': 'Wallonie'}, 7337: {'province': 'Hainaut', 'region': 'Wallonie'}, 7338: {'province': 'Hainaut', 'region': 'Wallonie'}, 7339: {'province': 'Hainaut', 'region': 'Wallonie'}, 7340: {'province': 'Hainaut', 'region': 'Wallonie'}, 7341: {'province': 'Hainaut', 'region': 'Wallonie'}, 7342: {'province': 'Hainaut', 'region': 'Wallonie'}, 7343: {'province': 'Hainaut', 'region': 'Wallonie'}, 7344: {'province': 'Hainaut', 'region': 'Wallonie'}, 7345: {'province': 'Hainaut', 'region': 'Wallonie'}, 7346: {'province': 'Hainaut', 'region': 'Wallonie'}, 7347: {'province': 'Hainaut', 'region': 'Wallonie'}, 7348: {'province': 'Hainaut', 'region': 'Wallonie'}, 7349: {'province': 'Hainaut', 'region': 'Wallonie'}, 7350: {'province': 'Hainaut', 'region': 'Wallonie'}, 7351: {'province': 'Hainaut', 'region': 'Wallonie'}, 7352: {'province': 'Hainaut', 'region': 'Wallonie'}, 7353: {'province': 'Hainaut', 'region': 'Wallonie'}, 7354: {'province': 'Hainaut', 'region': 'Wallonie'}, 7355: {'province': 'Hainaut', 'region': 'Wallonie'}, 7356: {'province': 'Hainaut', 'region': 'Wallonie'}, 7357: {'province': 'Hainaut', 'region': 'Wallonie'}, 7358: {'province': 'Hainaut', 'region': 'Wallonie'}, 7359: {'province': 'Hainaut', 'region': 'Wallonie'}, 7360: {'province': 'Hainaut', 'region': 'Wallonie'}, 7361: {'province': 'Hainaut', 'region': 'Wallonie'}, 7362: {'province': 'Hainaut', 'region': 'Wallonie'}, 7363: {'province': 'Hainaut', 'region': 'Wallonie'}, 7364: {'province': 'Hainaut', 'region': 'Wallonie'}, 7365: {'province': 'Hainaut', 'region': 'Wallonie'}, 7366: {'province': 'Hainaut', 'region': 'Wallonie'}, 7367: {'province': 'Hainaut', 'region': 'Wallonie'}, 7368: {'province': 'Hainaut', 'region': 'Wallonie'}, 7369: {'province': 'Hainaut', 'region': 'Wallonie'}, 7370: {'province': 'Hainaut', 'region': 'Wallonie'}, 7371: {'province': 'Hainaut', 'region': 'Wallonie'}, 7372: {'province': 'Hainaut', 'region': 'Wallonie'}, 7373: {'province': 'Hainaut', 'region': 'Wallonie'}, 7374: {'province': 'Hainaut', 'region': 'Wallonie'}, 7375: {'province': 'Hainaut', 'region': 'Wallonie'}, 7376: {'province': 'Hainaut', 'region': 'Wallonie'}, 7377: {'province': 'Hainaut', 'region': 'Wallonie'}, 7378: {'province': 'Hainaut', 'region': 'Wallonie'}, 7379: {'province': 'Hainaut', 'region': 'Wallonie'}, 7380: {'province': 'Hainaut', 'region': 'Wallonie'}, 7381: {'province': 'Hainaut', 'region': 'Wallonie'}, 7382: {'province': 'Hainaut', 'region': 'Wallonie'}, 7383: {'province': 'Hainaut', 'region': 'Wallonie'}, 7384: {'province': 'Hainaut', 'region': 'Wallonie'}, 7385: {'province': 'Hainaut', 'region': 'Wallonie'}, 7386: {'province': 'Hainaut', 'region': 'Wallonie'}, 7387: {'province': 'Hainaut', 'region': 'Wallonie'}, 7388: {'province': 'Hainaut', 'region': 'Wallonie'}, 7389: {'province': 'Hainaut', 'region': 'Wallonie'}, 7390: {'province': 'Hainaut', 'region': 'Wallonie'}, 7391: {'province': 'Hainaut', 'region': 'Wallonie'}, 7392: {'province': 'Hainaut', 'region': 'Wallonie'}, 7393: {'province': 'Hainaut', 'region': 'Wallonie'}, 7394: {'province': 'Hainaut', 'region': 'Wallonie'}, 7395: {'province': 'Hainaut', 'region': 'Wallonie'}, 7396: {'province': 'Hainaut', 'region': 'Wallonie'}, 7397: {'province': 'Hainaut', 'region': 'Wallonie'}, 7398: {'province': 'Hainaut', 'region': 'Wallonie'}, 7399: {'province': 'Hainaut', 'region': 'Wallonie'}, 7400: {'province': 'Hainaut', 'region': 'Wallonie'}, 7401: {'province': 'Hainaut', 'region': 'Wallonie'}, 7402: {'province': 'Hainaut', 'region': 'Wallonie'}, 7403: {'province': 'Hainaut', 'region': 'Wallonie'}, 7404: {'province': 'Hainaut', 'region': 'Wallonie'}, 7405: {'province': 'Hainaut', 'region': 'Wallonie'}, 7406: {'province': 'Hainaut', 'region': 'Wallonie'}, 7407: {'province': 'Hainaut', 'region': 'Wallonie'}, 7408: {'province': 'Hainaut', 'region': 'Wallonie'}, 7409: {'province': 'Hainaut', 'region': 'Wallonie'}, 7410: {'province': 'Hainaut', 'region': 'Wallonie'}, 7411: {'province': 'Hainaut', 'region': 'Wallonie'}, 7412: {'province': 'Hainaut', 'region': 'Wallonie'}, 7413: {'province': 'Hainaut', 'region': 'Wallonie'}, 7414: {'province': 'Hainaut', 'region': 'Wallonie'}, 7415: {'province': 'Hainaut', 'region': 'Wallonie'}, 7416: {'province': 'Hainaut', 'region': 'Wallonie'}, 7417: {'province': 'Hainaut', 'region': 'Wallonie'}, 7418: {'province': 'Hainaut', 'region': 'Wallonie'}, 7419: {'province': 'Hainaut', 'region': 'Wallonie'}, 7420: {'province': 'Hainaut', 'region': 'Wallonie'}, 7421: {'province': 'Hainaut', 'region': 'Wallonie'}, 7422: {'province': 'Hainaut', 'region': 'Wallonie'}, 7423: {'province': 'Hainaut', 'region': 'Wallonie'}, 7424: {'province': 'Hainaut', 'region': 'Wallonie'}, 7425: {'province': 'Hainaut', 'region': 'Wallonie'}, 7426: {'province': 'Hainaut', 'region': 'Wallonie'}, 7427: {'province': 'Hainaut', 'region': 'Wallonie'}, 7428: {'province': 'Hainaut', 'region': 'Wallonie'}, 7429: {'province': 'Hainaut', 'region': 'Wallonie'}, 7430: {'province': 'Hainaut', 'region': 'Wallonie'}, 7431: {'province': 'Hainaut', 'region': 'Wallonie'}, 7432: {'province': 'Hainaut', 'region': 'Wallonie'}, 7433: {'province': 'Hainaut', 'region': 'Wallonie'}, 7434: {'province': 'Hainaut', 'region': 'Wallonie'}, 7435: {'province': 'Hainaut', 'region': 'Wallonie'}, 7436: {'province': 'Hainaut', 'region': 'Wallonie'}, 7437: {'province': 'Hainaut', 'region': 'Wallonie'}, 7438: {'province': 'Hainaut', 'region': 'Wallonie'}, 7439: {'province': 'Hainaut', 'region': 'Wallonie'}, 7440: {'province': 'Hainaut', 'region': 'Wallonie'}, 7441: {'province': 'Hainaut', 'region': 'Wallonie'}, 7442: {'province': 'Hainaut', 'region': 'Wallonie'}, 7443: {'province': 'Hainaut', 'region': 'Wallonie'}, 7444: {'province': 'Hainaut', 'region': 'Wallonie'}, 7445: {'province': 'Hainaut', 'region': 'Wallonie'}, 7446: {'province': 'Hainaut', 'region': 'Wallonie'}, 7447: {'province': 'Hainaut', 'region': 'Wallonie'}, 7448: {'province': 'Hainaut', 'region': 'Wallonie'}, 7449: {'province': 'Hainaut', 'region': 'Wallonie'}, 7450: {'province': 'Hainaut', 'region': 'Wallonie'}, 7451: {'province': 'Hainaut', 'region': 'Wallonie'}, 7452: {'province': 'Hainaut', 'region': 'Wallonie'}, 7453: {'province': 'Hainaut', 'region': 'Wallonie'}, 7454: {'province': 'Hainaut', 'region': 'Wallonie'}, 7455: {'province': 'Hainaut', 'region': 'Wallonie'}, 7456: {'province': 'Hainaut', 'region': 'Wallonie'}, 7457: {'province': 'Hainaut', 'region': 'Wallonie'}, 7458: {'province': 'Hainaut', 'region': 'Wallonie'}, 7459: {'province': 'Hainaut', 'region': 'Wallonie'}, 7460: {'province': 'Hainaut', 'region': 'Wallonie'}, 7461: {'province': 'Hainaut', 'region': 'Wallonie'}, 7462: {'province': 'Hainaut', 'region': 'Wallonie'}, 7463: {'province': 'Hainaut', 'region': 'Wallonie'}, 7464: {'province': 'Hainaut', 'region': 'Wallonie'}, 7465: {'province': 'Hainaut', 'region': 'Wallonie'}, 7466: {'province': 'Hainaut', 'region': 'Wallonie'}, 7467: {'province': 'Hainaut', 'region': 'Wallonie'}, 7468: {'province': 'Hainaut', 'region': 'Wallonie'}, 7469: {'province': 'Hainaut', 'region': 'Wallonie'}, 7470: {'province': 'Hainaut', 'region': 'Wallonie'}, 7471: {'province': 'Hainaut', 'region': 'Wallonie'}, 7472: {'province': 'Hainaut', 'region': 'Wallonie'}, 7473: {'province': 'Hainaut', 'region': 'Wallonie'}, 7474: {'province': 'Hainaut', 'region': 'Wallonie'}, 7475: {'province': 'Hainaut', 'region': 'Wallonie'}, 7476: {'province': 'Hainaut', 'region': 'Wallonie'}, 7477: {'province': 'Hainaut', 'region': 'Wallonie'}, 7478: {'province': 'Hainaut', 'region': 'Wallonie'}, 7479: {'province': 'Hainaut', 'region': 'Wallonie'}, 7480: {'province': 'Hainaut', 'region': 'Wallonie'}, 7481: {'province': 'Hainaut', 'region': 'Wallonie'}, 7482: {'province': 'Hainaut', 'region': 'Wallonie'}, 7483: {'province': 'Hainaut', 'region': 'Wallonie'}, 7484: {'province': 'Hainaut', 'region': 'Wallonie'}, 7485: {'province': 'Hainaut', 'region': 'Wallonie'}, 7486: {'province': 'Hainaut', 'region': 'Wallonie'}, 7487: {'province': 'Hainaut', 'region': 'Wallonie'}, 7488: {'province': 'Hainaut', 'region': 'Wallonie'}, 7489: {'province': 'Hainaut', 'region': 'Wallonie'}, 7490: {'province': 'Hainaut', 'region': 'Wallonie'}, 7491: {'province': 'Hainaut', 'region': 'Wallonie'}, 7492: {'province': 'Hainaut', 'region': 'Wallonie'}, 7493: {'province': 'Hainaut', 'region': 'Wallonie'}, 7494: {'province': 'Hainaut', 'region': 'Wallonie'}, 7495: {'province': 'Hainaut', 'region': 'Wallonie'}, 7496: {'province': 'Hainaut', 'region': 'Wallonie'}, 7497: {'province': 'Hainaut', 'region': 'Wallonie'}, 7498: {'province': 'Hainaut', 'region': 'Wallonie'}, 7499: {'province': 'Hainaut', 'region': 'Wallonie'}, 7500: {'province': 'Hainaut', 'region': 'Wallonie'}, 7501: {'province': 'Hainaut', 'region': 'Wallonie'}, 7502: {'province': 'Hainaut', 'region': 'Wallonie'}, 7503: {'province': 'Hainaut', 'region': 'Wallonie'}, 7504: {'province': 'Hainaut', 'region': 'Wallonie'}, 7505: {'province': 'Hainaut', 'region': 'Wallonie'}, 7506: {'province': 'Hainaut', 'region': 'Wallonie'}, 7507: {'province': 'Hainaut', 'region': 'Wallonie'}, 7508: {'province': 'Hainaut', 'region': 'Wallonie'}, 7509: {'province': 'Hainaut', 'region': 'Wallonie'}, 7510: {'province': 'Hainaut', 'region': 'Wallonie'}, 7511: {'province': 'Hainaut', 'region': 'Wallonie'}, 7512: {'province': 'Hainaut', 'region': 'Wallonie'}, 7513: {'province': 'Hainaut', 'region': 'Wallonie'}, 7514: {'province': 'Hainaut', 'region': 'Wallonie'}, 7515: {'province': 'Hainaut', 'region': 'Wallonie'}, 7516: {'province': 'Hainaut', 'region': 'Wallonie'}, 7517: {'province': 'Hainaut', 'region': 'Wallonie'}, 7518: {'province': 'Hainaut', 'region': 'Wallonie'}, 7519: {'province': 'Hainaut', 'region': 'Wallonie'}, 7520: {'province': 'Hainaut', 'region': 'Wallonie'}, 7521: {'province': 'Hainaut', 'region': 'Wallonie'}, 7522: {'province': 'Hainaut', 'region': 'Wallonie'}, 7523: {'province': 'Hainaut', 'region': 'Wallonie'}, 7524: {'province': 'Hainaut', 'region': 'Wallonie'}, 7525: {'province': 'Hainaut', 'region': 'Wallonie'}, 7526: {'province': 'Hainaut', 'region': 'Wallonie'}, 7527: {'province': 'Hainaut', 'region': 'Wallonie'}, 7528: {'province': 'Hainaut', 'region': 'Wallonie'}, 7529: {'province': 'Hainaut', 'region': 'Wallonie'}, 7530: {'province': 'Hainaut', 'region': 'Wallonie'}, 7531: {'province': 'Hainaut', 'region': 'Wallonie'}, 7532: {'province': 'Hainaut', 'region': 'Wallonie'}, 7533: {'province': 'Hainaut', 'region': 'Wallonie'}, 7534: {'province': 'Hainaut', 'region': 'Wallonie'}, 7535: {'province': 'Hainaut', 'region': 'Wallonie'}, 7536: {'province': 'Hainaut', 'region': 'Wallonie'}, 7537: {'province': 'Hainaut', 'region': 'Wallonie'}, 7538: {'province': 'Hainaut', 'region': 'Wallonie'}, 7539: {'province': 'Hainaut', 'region': 'Wallonie'}, 7540: {'province': 'Hainaut', 'region': 'Wallonie'}, 7541: {'province': 'Hainaut', 'region': 'Wallonie'}, 7542: {'province': 'Hainaut', 'region': 'Wallonie'}, 7543: {'province': 'Hainaut', 'region': 'Wallonie'}, 7544: {'province': 'Hainaut', 'region': 'Wallonie'}, 7545: {'province': 'Hainaut', 'region': 'Wallonie'}, 7546: {'province': 'Hainaut', 'region': 'Wallonie'}, 7547: {'province': 'Hainaut', 'region': 'Wallonie'}, 7548: {'province': 'Hainaut', 'region': 'Wallonie'}, 7549: {'province': 'Hainaut', 'region': 'Wallonie'}, 7550: {'province': 'Hainaut', 'region': 'Wallonie'}, 7551: {'province': 'Hainaut', 'region': 'Wallonie'}, 7552: {'province': 'Hainaut', 'region': 'Wallonie'}, 7553: {'province': 'Hainaut', 'region': 'Wallonie'}, 7554: {'province': 'Hainaut', 'region': 'Wallonie'}, 7555: {'province': 'Hainaut', 'region': 'Wallonie'}, 7556: {'province': 'Hainaut', 'region': 'Wallonie'}, 7557: {'province': 'Hainaut', 'region': 'Wallonie'}, 7558: {'province': 'Hainaut', 'region': 'Wallonie'}, 7559: {'province': 'Hainaut', 'region': 'Wallonie'}, 7560: {'province': 'Hainaut', 'region': 'Wallonie'}, 7561: {'province': 'Hainaut', 'region': 'Wallonie'}, 7562: {'province': 'Hainaut', 'region': 'Wallonie'}, 7563: {'province': 'Hainaut', 'region': 'Wallonie'}, 7564: {'province': 'Hainaut', 'region': 'Wallonie'}, 7565: {'province': 'Hainaut', 'region': 'Wallonie'}, 7566: {'province': 'Hainaut', 'region': 'Wallonie'}, 7567: {'province': 'Hainaut', 'region': 'Wallonie'}, 7568: {'province': 'Hainaut', 'region': 'Wallonie'}, 7569: {'province': 'Hainaut', 'region': 'Wallonie'}, 7570: {'province': 'Hainaut', 'region': 'Wallonie'}, 7571: {'province': 'Hainaut', 'region': 'Wallonie'}, 7572: {'province': 'Hainaut', 'region': 'Wallonie'}, 7573: {'province': 'Hainaut', 'region': 'Wallonie'}, 7574: {'province': 'Hainaut', 'region': 'Wallonie'}, 7575: {'province': 'Hainaut', 'region': 'Wallonie'}, 7576: {'province': 'Hainaut', 'region': 'Wallonie'}, 7577: {'province': 'Hainaut', 'region': 'Wallonie'}, 7578: {'province': 'Hainaut', 'region': 'Wallonie'}, 7579: {'province': 'Hainaut', 'region': 'Wallonie'}, 7580: {'province': 'Hainaut', 'region': 'Wallonie'}, 7581: {'province': 'Hainaut', 'region': 'Wallonie'}, 7582: {'province': 'Hainaut', 'region': 'Wallonie'}, 7583: {'province': 'Hainaut', 'region': 'Wallonie'}, 7584: {'province': 'Hainaut', 'region': 'Wallonie'}, 7585: {'province': 'Hainaut', 'region': 'Wallonie'}, 7586: {'province': 'Hainaut', 'region': 'Wallonie'}, 7587: {'province': 'Hainaut', 'region': 'Wallonie'}, 7588: {'province': 'Hainaut', 'region': 'Wallonie'}, 7589: {'province': 'Hainaut', 'region': 'Wallonie'}, 7590: {'province': 'Hainaut', 'region': 'Wallonie'}, 7591: {'province': 'Hainaut', 'region': 'Wallonie'}, 7592: {'province': 'Hainaut', 'region': 'Wallonie'}, 7593: {'province': 'Hainaut', 'region': 'Wallonie'}, 7594: {'province': 'Hainaut', 'region': 'Wallonie'}, 7595: {'province': 'Hainaut', 'region': 'Wallonie'}, 7596: {'province': 'Hainaut', 'region': 'Wallonie'}, 7597: {'province': 'Hainaut', 'region': 'Wallonie'}, 7598: {'province': 'Hainaut', 'region': 'Wallonie'}, 7599: {'province': 'Hainaut', 'region': 'Wallonie'}, 7600: {'province': 'Hainaut', 'region': 'Wallonie'}, 7601: {'province': 'Hainaut', 'region': 'Wallonie'}, 7602: {'province': 'Hainaut', 'region': 'Wallonie'}, 7603: {'province': 'Hainaut', 'region': 'Wallonie'}, 7604: {'province': 'Hainaut', 'region': 'Wallonie'}, 7605: {'province': 'Hainaut', 'region': 'Wallonie'}, 7606: {'province': 'Hainaut', 'region': 'Wallonie'}, 7607: {'province': 'Hainaut', 'region': 'Wallonie'}, 7608: {'province': 'Hainaut', 'region': 'Wallonie'}, 7609: {'province': 'Hainaut', 'region': 'Wallonie'}, 7610: {'province': 'Hainaut', 'region': 'Wallonie'}, 7611: {'province': 'Hainaut', 'region': 'Wallonie'}, 7612: {'province': 'Hainaut', 'region': 'Wallonie'}, 7613: {'province': 'Hainaut', 'region': 'Wallonie'}, 7614: {'province': 'Hainaut', 'region': 'Wallonie'}, 7615: {'province': 'Hainaut', 'region': 'Wallonie'}, 7616: {'province': 'Hainaut', 'region': 'Wallonie'}, 7617: {'province': 'Hainaut', 'region': 'Wallonie'}, 7618: {'province': 'Hainaut', 'region': 'Wallonie'}, 7619: {'province': 'Hainaut', 'region': 'Wallonie'}, 7620: {'province': 'Hainaut', 'region': 'Wallonie'}, 7621: {'province': 'Hainaut', 'region': 'Wallonie'}, 7622: {'province': 'Hainaut', 'region': 'Wallonie'}, 7623: {'province': 'Hainaut', 'region': 'Wallonie'}, 7624: {'province': 'Hainaut', 'region': 'Wallonie'}, 7625: {'province': 'Hainaut', 'region': 'Wallonie'}, 7626: {'province': 'Hainaut', 'region': 'Wallonie'}, 7627: {'province': 'Hainaut', 'region': 'Wallonie'}, 7628: {'province': 'Hainaut', 'region': 'Wallonie'}, 7629: {'province': 'Hainaut', 'region': 'Wallonie'}, 7630: {'province': 'Hainaut', 'region': 'Wallonie'}, 7631: {'province': 'Hainaut', 'region': 'Wallonie'}, 7632: {'province': 'Hainaut', 'region': 'Wallonie'}, 7633: {'province': 'Hainaut', 'region': 'Wallonie'}, 7634: {'province': 'Hainaut', 'region': 'Wallonie'}, 7635: {'province': 'Hainaut', 'region': 'Wallonie'}, 7636: {'province': 'Hainaut', 'region': 'Wallonie'}, 7637: {'province': 'Hainaut', 'region': 'Wallonie'}, 7638: {'province': 'Hainaut', 'region': 'Wallonie'}, 7639: {'province': 'Hainaut', 'region': 'Wallonie'}, 7640: {'province': 'Hainaut', 'region': 'Wallonie'}, 7641: {'province': 'Hainaut', 'region': 'Wallonie'}, 7642: {'province': 'Hainaut', 'region': 'Wallonie'}, 7643: {'province': 'Hainaut', 'region': 'Wallonie'}, 7644: {'province': 'Hainaut', 'region': 'Wallonie'}, 7645: {'province': 'Hainaut', 'region': 'Wallonie'}, 7646: {'province': 'Hainaut', 'region': 'Wallonie'}, 7647: {'province': 'Hainaut', 'region': 'Wallonie'}, 7648: {'province': 'Hainaut', 'region': 'Wallonie'}, 7649: {'province': 'Hainaut', 'region': 'Wallonie'}, 7650: {'province': 'Hainaut', 'region': 'Wallonie'}, 7651: {'province': 'Hainaut', 'region': 'Wallonie'}, 7652: {'province': 'Hainaut', 'region': 'Wallonie'}, 7653: {'province': 'Hainaut', 'region': 'Wallonie'}, 7654: {'province': 'Hainaut', 'region': 'Wallonie'}, 7655: {'province': 'Hainaut', 'region': 'Wallonie'}, 7656: {'province': 'Hainaut', 'region': 'Wallonie'}, 7657: {'province': 'Hainaut', 'region': 'Wallonie'}, 7658: {'province': 'Hainaut', 'region': 'Wallonie'}, 7659: {'province': 'Hainaut', 'region': 'Wallonie'}, 7660: {'province': 'Hainaut', 'region': 'Wallonie'}, 7661: {'province': 'Hainaut', 'region': 'Wallonie'}, 7662: {'province': 'Hainaut', 'region': 'Wallonie'}, 7663: {'province': 'Hainaut', 'region': 'Wallonie'}, 7664: {'province': 'Hainaut', 'region': 'Wallonie'}, 7665: {'province': 'Hainaut', 'region': 'Wallonie'}, 7666: {'province': 'Hainaut', 'region': 'Wallonie'}, 7667: {'province': 'Hainaut', 'region': 'Wallonie'}, 7668: {'province': 'Hainaut', 'region': 'Wallonie'}, 7669: {'province': 'Hainaut', 'region': 'Wallonie'}, 7670: {'province': 'Hainaut', 'region': 'Wallonie'}, 7671: {'province': 'Hainaut', 'region': 'Wallonie'}, 7672: {'province': 'Hainaut', 'region': 'Wallonie'}, 7673: {'province': 'Hainaut', 'region': 'Wallonie'}, 7674: {'province': 'Hainaut', 'region': 'Wallonie'}, 7675: {'province': 'Hainaut', 'region': 'Wallonie'}, 7676: {'province': 'Hainaut', 'region': 'Wallonie'}, 7677: {'province': 'Hainaut', 'region': 'Wallonie'}, 7678: {'province': 'Hainaut', 'region': 'Wallonie'}, 7679: {'province': 'Hainaut', 'region': 'Wallonie'}, 7680: {'province': 'Hainaut', 'region': 'Wallonie'}, 7681: {'province': 'Hainaut', 'region': 'Wallonie'}, 7682: {'province': 'Hainaut', 'region': 'Wallonie'}, 7683: {'province': 'Hainaut', 'region': 'Wallonie'}, 7684: {'province': 'Hainaut', 'region': 'Wallonie'}, 7685: {'province': 'Hainaut', 'region': 'Wallonie'}, 7686: {'province': 'Hainaut', 'region': 'Wallonie'}, 7687: {'province': 'Hainaut', 'region': 'Wallonie'}, 7688: {'province': 'Hainaut', 'region': 'Wallonie'}, 7689: {'province': 'Hainaut', 'region': 'Wallonie'}, 7690: {'province': 'Hainaut', 'region': 'Wallonie'}, 7691: {'province': 'Hainaut', 'region': 'Wallonie'}, 7692: {'province': 'Hainaut', 'region': 'Wallonie'}, 7693: {'province': 'Hainaut', 'region': 'Wallonie'}, 7694: {'province': 'Hainaut', 'region': 'Wallonie'}, 7695: {'province': 'Hainaut', 'region': 'Wallonie'}, 7696: {'province': 'Hainaut', 'region': 'Wallonie'}, 7697: {'province': 'Hainaut', 'region': 'Wallonie'}, 7698: {'province': 'Hainaut', 'region': 'Wallonie'}, 7699: {'province': 'Hainaut', 'region': 'Wallonie'}, 7700: {'province': 'Hainaut', 'region': 'Wallonie'}, 7701: {'province': 'Hainaut', 'region': 'Wallonie'}, 7702: {'province': 'Hainaut', 'region': 'Wallonie'}, 7703: {'province': 'Hainaut', 'region': 'Wallonie'}, 7704: {'province': 'Hainaut', 'region': 'Wallonie'}, 7705: {'province': 'Hainaut', 'region': 'Wallonie'}, 7706: {'province': 'Hainaut', 'region': 'Wallonie'}, 7707: {'province': 'Hainaut', 'region': 'Wallonie'}, 7708: {'province': 'Hainaut', 'region': 'Wallonie'}, 7709: {'province': 'Hainaut', 'region': 'Wallonie'}, 7710: {'province': 'Hainaut', 'region': 'Wallonie'}, 7711: {'province': 'Hainaut', 'region': 'Wallonie'}, 7712: {'province': 'Hainaut', 'region': 'Wallonie'}, 7713: {'province': 'Hainaut', 'region': 'Wallonie'}, 7714: {'province': 'Hainaut', 'region': 'Wallonie'}, 7715: {'province': 'Hainaut', 'region': 'Wallonie'}, 7716: {'province': 'Hainaut', 'region': 'Wallonie'}, 7717: {'province': 'Hainaut', 'region': 'Wallonie'}, 7718: {'province': 'Hainaut', 'region': 'Wallonie'}, 7719: {'province': 'Hainaut', 'region': 'Wallonie'}, 7720: {'province': 'Hainaut', 'region': 'Wallonie'}, 7721: {'province': 'Hainaut', 'region': 'Wallonie'}, 7722: {'province': 'Hainaut', 'region': 'Wallonie'}, 7723: {'province': 'Hainaut', 'region': 'Wallonie'}, 7724: {'province': 'Hainaut', 'region': 'Wallonie'}, 7725: {'province': 'Hainaut', 'region': 'Wallonie'}, 7726: {'province': 'Hainaut', 'region': 'Wallonie'}, 7727: {'province': 'Hainaut', 'region': 'Wallonie'}, 7728: {'province': 'Hainaut', 'region': 'Wallonie'}, 7729: {'province': 'Hainaut', 'region': 'Wallonie'}, 7730: {'province': 'Hainaut', 'region': 'Wallonie'}, 7731: {'province': 'Hainaut', 'region': 'Wallonie'}, 7732: {'province': 'Hainaut', 'region': 'Wallonie'}, 7733: {'province': 'Hainaut', 'region': 'Wallonie'}, 7734: {'province': 'Hainaut', 'region': 'Wallonie'}, 7735: {'province': 'Hainaut', 'region': 'Wallonie'}, 7736: {'province': 'Hainaut', 'region': 'Wallonie'}, 7737: {'province': 'Hainaut', 'region': 'Wallonie'}, 7738: {'province': 'Hainaut', 'region': 'Wallonie'}, 7739: {'province': 'Hainaut', 'region': 'Wallonie'}, 7740: {'province': 'Hainaut', 'region': 'Wallonie'}, 7741: {'province': 'Hainaut', 'region': 'Wallonie'}, 7742: {'province': 'Hainaut', 'region': 'Wallonie'}, 7743: {'province': 'Hainaut', 'region': 'Wallonie'}, 7744: {'province': 'Hainaut', 'region': 'Wallonie'}, 7745: {'province': 'Hainaut', 'region': 'Wallonie'}, 7746: {'province': 'Hainaut', 'region': 'Wallonie'}, 7747: {'province': 'Hainaut', 'region': 'Wallonie'}, 7748: {'province': 'Hainaut', 'region': 'Wallonie'}, 7749: {'province': 'Hainaut', 'region': 'Wallonie'}, 7750: {'province': 'Hainaut', 'region': 'Wallonie'}, 7751: {'province': 'Hainaut', 'region': 'Wallonie'}, 7752: {'province': 'Hainaut', 'region': 'Wallonie'}, 7753: {'province': 'Hainaut', 'region': 'Wallonie'}, 7754: {'province': 'Hainaut', 'region': 'Wallonie'}, 7755: {'province': 'Hainaut', 'region': 'Wallonie'}, 7756: {'province': 'Hainaut', 'region': 'Wallonie'}, 7757: {'province': 'Hainaut', 'region': 'Wallonie'}, 7758: {'province': 'Hainaut', 'region': 'Wallonie'}, 7759: {'province': 'Hainaut', 'region': 'Wallonie'}, 7760: {'province': 'Hainaut', 'region': 'Wallonie'}, 7761: {'province': 'Hainaut', 'region': 'Wallonie'}, 7762: {'province': 'Hainaut', 'region': 'Wallonie'}, 7763: {'province': 'Hainaut', 'region': 'Wallonie'}, 7764: {'province': 'Hainaut', 'region': 'Wallonie'}, 7765: {'province': 'Hainaut', 'region': 'Wallonie'}, 7766: {'province': 'Hainaut', 'region': 'Wallonie'}, 7767: {'province': 'Hainaut', 'region': 'Wallonie'}, 7768: {'province': 'Hainaut', 'region': 'Wallonie'}, 7769: {'province': 'Hainaut', 'region': 'Wallonie'}, 7770: {'province': 'Hainaut', 'region': 'Wallonie'}, 7771: {'province': 'Hainaut', 'region': 'Wallonie'}, 7772: {'province': 'Hainaut', 'region': 'Wallonie'}, 7773: {'province': 'Hainaut', 'region': 'Wallonie'}, 7774: {'province': 'Hainaut', 'region': 'Wallonie'}, 7775: {'province': 'Hainaut', 'region': 'Wallonie'}, 7776: {'province': 'Hainaut', 'region': 'Wallonie'}, 7777: {'province': 'Hainaut', 'region': 'Wallonie'}, 7778: {'province': 'Hainaut', 'region': 'Wallonie'}, 7779: {'province': 'Hainaut', 'region': 'Wallonie'}, 7780: {'province': 'Hainaut', 'region': 'Wallonie'}, 7781: {'province': 'Hainaut', 'region': 'Wallonie'}, 7782: {'province': 'Hainaut', 'region': 'Wallonie'}, 7783: {'province': 'Hainaut', 'region': 'Wallonie'}, 7784: {'province': 'Hainaut', 'region': 'Wallonie'}, 7785: {'province': 'Hainaut', 'region': 'Wallonie'}, 7786: {'province': 'Hainaut', 'region': 'Wallonie'}, 7787: {'province': 'Hainaut', 'region': 'Wallonie'}, 7788: {'province': 'Hainaut', 'region': 'Wallonie'}, 7789: {'province': 'Hainaut', 'region': 'Wallonie'}, 7790: {'province': 'Hainaut', 'region': 'Wallonie'}, 7791: {'province': 'Hainaut', 'region': 'Wallonie'}, 7792: {'province': 'Hainaut', 'region': 'Wallonie'}, 7793: {'province': 'Hainaut', 'region': 'Wallonie'}, 7794: {'province': 'Hainaut', 'region': 'Wallonie'}, 7795: {'province': 'Hainaut', 'region': 'Wallonie'}, 7796: {'province': 'Hainaut', 'region': 'Wallonie'}, 7797: {'province': 'Hainaut', 'region': 'Wallonie'}, 7798: {'province': 'Hainaut', 'region': 'Wallonie'}, 7799: {'province': 'Hainaut', 'region': 'Wallonie'}, 7800: {'province': 'Hainaut', 'region': 'Wallonie'}, 7801: {'province': 'Hainaut', 'region': 'Wallonie'}, 7802: {'province': 'Hainaut', 'region': 'Wallonie'}, 7803: {'province': 'Hainaut', 'region': 'Wallonie'}, 7804: {'province': 'Hainaut', 'region': 'Wallonie'}, 7805: {'province': 'Hainaut', 'region': 'Wallonie'}, 7806: {'province': 'Hainaut', 'region': 'Wallonie'}, 7807: {'province': 'Hainaut', 'region': 'Wallonie'}, 7808: {'province': 'Hainaut', 'region': 'Wallonie'}, 7809: {'province': 'Hainaut', 'region': 'Wallonie'}, 7810: {'province': 'Hainaut', 'region': 'Wallonie'}, 7811: {'province': 'Hainaut', 'region': 'Wallonie'}, 7812: {'province': 'Hainaut', 'region': 'Wallonie'}, 7813: {'province': 'Hainaut', 'region': 'Wallonie'}, 7814: {'province': 'Hainaut', 'region': 'Wallonie'}, 7815: {'province': 'Hainaut', 'region': 'Wallonie'}, 7816: {'province': 'Hainaut', 'region': 'Wallonie'}, 7817: {'province': 'Hainaut', 'region': 'Wallonie'}, 7818: {'province': 'Hainaut', 'region': 'Wallonie'}, 7819: {'province': 'Hainaut', 'region': 'Wallonie'}, 7820: {'province': 'Hainaut', 'region': 'Wallonie'}, 7821: {'province': 'Hainaut', 'region': 'Wallonie'}, 7822: {'province': 'Hainaut', 'region': 'Wallonie'}, 7823: {'province': 'Hainaut', 'region': 'Wallonie'}, 7824: {'province': 'Hainaut', 'region': 'Wallonie'}, 7825: {'province': 'Hainaut', 'region': 'Wallonie'}, 7826: {'province': 'Hainaut', 'region': 'Wallonie'}, 7827: {'province': 'Hainaut', 'region': 'Wallonie'}, 7828: {'province': 'Hainaut', 'region': 'Wallonie'}, 7829: {'province': 'Hainaut', 'region': 'Wallonie'}, 7830: {'province': 'Hainaut', 'region': 'Wallonie'}, 7831: {'province': 'Hainaut', 'region': 'Wallonie'}, 7832: {'province': 'Hainaut', 'region': 'Wallonie'}, 7833: {'province': 'Hainaut', 'region': 'Wallonie'}, 7834: {'province': 'Hainaut', 'region': 'Wallonie'}, 7835: {'province': 'Hainaut', 'region': 'Wallonie'}, 7836: {'province': 'Hainaut', 'region': 'Wallonie'}, 7837: {'province': 'Hainaut', 'region': 'Wallonie'}, 7838: {'province': 'Hainaut', 'region': 'Wallonie'}, 7839: {'province': 'Hainaut', 'region': 'Wallonie'}, 7840: {'province': 'Hainaut', 'region': 'Wallonie'}, 7841: {'province': 'Hainaut', 'region': 'Wallonie'}, 7842: {'province': 'Hainaut', 'region': 'Wallonie'}, 7843: {'province': 'Hainaut', 'region': 'Wallonie'}, 7844: {'province': 'Hainaut', 'region': 'Wallonie'}, 7845: {'province': 'Hainaut', 'region': 'Wallonie'}, 7846: {'province': 'Hainaut', 'region': 'Wallonie'}, 7847: {'province': 'Hainaut', 'region': 'Wallonie'}, 7848: {'province': 'Hainaut', 'region': 'Wallonie'}, 7849: {'province': 'Hainaut', 'region': 'Wallonie'}, 7850: {'province': 'Hainaut', 'region': 'Wallonie'}, 7851: {'province': 'Hainaut', 'region': 'Wallonie'}, 7852: {'province': 'Hainaut', 'region': 'Wallonie'}, 7853: {'province': 'Hainaut', 'region': 'Wallonie'}, 7854: {'province': 'Hainaut', 'region': 'Wallonie'}, 7855: {'province': 'Hainaut', 'region': 'Wallonie'}, 7856: {'province': 'Hainaut', 'region': 'Wallonie'}, 7857: {'province': 'Hainaut', 'region': 'Wallonie'}, 7858: {'province': 'Hainaut', 'region': 'Wallonie'}, 7859: {'province': 'Hainaut', 'region': 'Wallonie'}, 7860: {'province': 'Hainaut', 'region': 'Wallonie'}, 7861: {'province': 'Hainaut', 'region': 'Wallonie'}, 7862: {'province': 'Hainaut', 'region': 'Wallonie'}, 7863: {'province': 'Hainaut', 'region': 'Wallonie'}, 7864: {'province': 'Hainaut', 'region': 'Wallonie'}, 7865: {'province': 'Hainaut', 'region': 'Wallonie'}, 7866: {'province': 'Hainaut', 'region': 'Wallonie'}, 7867: {'province': 'Hainaut', 'region': 'Wallonie'}, 7868: {'province': 'Hainaut', 'region': 'Wallonie'}, 7869: {'province': 'Hainaut', 'region': 'Wallonie'}, 7870: {'province': 'Hainaut', 'region': 'Wallonie'}, 7871: {'province': 'Hainaut', 'region': 'Wallonie'}, 7872: {'province': 'Hainaut', 'region': 'Wallonie'}, 7873: {'province': 'Hainaut', 'region': 'Wallonie'}, 7874: {'province': 'Hainaut', 'region': 'Wallonie'}, 7875: {'province': 'Hainaut', 'region': 'Wallonie'}, 7876: {'province': 'Hainaut', 'region': 'Wallonie'}, 7877: {'province': 'Hainaut', 'region': 'Wallonie'}, 7878: {'province': 'Hainaut', 'region': 'Wallonie'}, 7879: {'province': 'Hainaut', 'region': 'Wallonie'}, 7880: {'province': 'Hainaut', 'region': 'Wallonie'}, 7881: {'province': 'Hainaut', 'region': 'Wallonie'}, 7882: {'province': 'Hainaut', 'region': 'Wallonie'}, 7883: {'province': 'Hainaut', 'region': 'Wallonie'}, 7884: {'province': 'Hainaut', 'region': 'Wallonie'}, 7885: {'province': 'Hainaut', 'region': 'Wallonie'}, 7886: {'province': 'Hainaut', 'region': 'Wallonie'}, 7887: {'province': 'Hainaut', 'region': 'Wallonie'}, 7888: {'province': 'Hainaut', 'region': 'Wallonie'}, 7889: {'province': 'Hainaut', 'region': 'Wallonie'}, 7890: {'province': 'Hainaut', 'region': 'Wallonie'}, 7891: {'province': 'Hainaut', 'region': 'Wallonie'}, 7892: {'province': 'Hainaut', 'region': 'Wallonie'}, 7893: {'province': 'Hainaut', 'region': 'Wallonie'}, 7894: {'province': 'Hainaut', 'region': 'Wallonie'}, 7895: {'province': 'Hainaut', 'region': 'Wallonie'}, 7896: {'province': 'Hainaut', 'region': 'Wallonie'}, 7897: {'province': 'Hainaut', 'region': 'Wallonie'}, 7898: {'province': 'Hainaut', 'region': 'Wallonie'}, 7899: {'province': 'Hainaut', 'region': 'Wallonie'}, 7900: {'province': 'Hainaut', 'region': 'Wallonie'}, 7901: {'province': 'Hainaut', 'region': 'Wallonie'}, 7902: {'province': 'Hainaut', 'region': 'Wallonie'}, 7903: {'province': 'Hainaut', 'region': 'Wallonie'}, 7904: {'province': 'Hainaut', 'region': 'Wallonie'}, 7905: {'province': 'Hainaut', 'region': 'Wallonie'}, 7906: {'province': 'Hainaut', 'region': 'Wallonie'}, 7907: {'province': 'Hainaut', 'region': 'Wallonie'}, 7908: {'province': 'Hainaut', 'region': 'Wallonie'}, 7909: {'province': 'Hainaut', 'region': 'Wallonie'}, 7910: {'province': 'Hainaut', 'region': 'Wallonie'}, 7911: {'province': 'Hainaut', 'region': 'Wallonie'}, 7912: {'province': 'Hainaut', 'region': 'Wallonie'}, 7913: {'province': 'Hainaut', 'region': 'Wallonie'}, 7914: {'province': 'Hainaut', 'region': 'Wallonie'}, 7915: {'province': 'Hainaut', 'region': 'Wallonie'}, 7916: {'province': 'Hainaut', 'region': 'Wallonie'}, 7917: {'province': 'Hainaut', 'region': 'Wallonie'}, 7918: {'province': 'Hainaut', 'region': 'Wallonie'}, 7919: {'province': 'Hainaut', 'region': 'Wallonie'}, 7920: {'province': 'Hainaut', 'region': 'Wallonie'}, 7921: {'province': 'Hainaut', 'region': 'Wallonie'}, 7922: {'province': 'Hainaut', 'region': 'Wallonie'}, 7923: {'province': 'Hainaut', 'region': 'Wallonie'}, 7924: {'province': 'Hainaut', 'region': 'Wallonie'}, 7925: {'province': 'Hainaut', 'region': 'Wallonie'}, 7926: {'province': 'Hainaut', 'region': 'Wallonie'}, 7927: {'province': 'Hainaut', 'region': 'Wallonie'}, 7928: {'province': 'Hainaut', 'region': 'Wallonie'}, 7929: {'province': 'Hainaut', 'region': 'Wallonie'}, 7930: {'province': 'Hainaut', 'region': 'Wallonie'}, 7931: {'province': 'Hainaut', 'region': 'Wallonie'}, 7932: {'province': 'Hainaut', 'region': 'Wallonie'}, 7933: {'province': 'Hainaut', 'region': 'Wallonie'}, 7934: {'province': 'Hainaut', 'region': 'Wallonie'}, 7935: {'province': 'Hainaut', 'region': 'Wallonie'}, 7936: {'province': 'Hainaut', 'region': 'Wallonie'}, 7937: {'province': 'Hainaut', 'region': 'Wallonie'}, 7938: {'province': 'Hainaut', 'region': 'Wallonie'}, 7939: {'province': 'Hainaut', 'region': 'Wallonie'}, 7940: {'province': 'Hainaut', 'region': 'Wallonie'}, 7941: {'province': 'Hainaut', 'region': 'Wallonie'}, 7942: {'province': 'Hainaut', 'region': 'Wallonie'}, 7943: {'province': 'Hainaut', 'region': 'Wallonie'}, 7944: {'province': 'Hainaut', 'region': 'Wallonie'}, 7945: {'province': 'Hainaut', 'region': 'Wallonie'}, 7946: {'province': 'Hainaut', 'region': 'Wallonie'}, 7947: {'province': 'Hainaut', 'region': 'Wallonie'}, 7948: {'province': 'Hainaut', 'region': 'Wallonie'}, 7949: {'province': 'Hainaut', 'region': 'Wallonie'}, 7950: {'province': 'Hainaut', 'region': 'Wallonie'}, 7951: {'province': 'Hainaut', 'region': 'Wallonie'}, 7952: {'province': 'Hainaut', 'region': 'Wallonie'}, 7953: {'province': 'Hainaut', 'region': 'Wallonie'}, 7954: {'province': 'Hainaut', 'region': 'Wallonie'}, 7955: {'province': 'Hainaut', 'region': 'Wallonie'}, 7956: {'province': 'Hainaut', 'region': 'Wallonie'}, 7957: {'province': 'Hainaut', 'region': 'Wallonie'}, 7958: {'province': 'Hainaut', 'region': 'Wallonie'}, 7959: {'province': 'Hainaut', 'region': 'Wallonie'}, 7960: {'province': 'Hainaut', 'region': 'Wallonie'}, 7961: {'province': 'Hainaut', 'region': 'Wallonie'}, 7962: {'province': 'Hainaut', 'region': 'Wallonie'}, 7963: {'province': 'Hainaut', 'region': 'Wallonie'}, 7964: {'province': 'Hainaut', 'region': 'Wallonie'}, 7965: {'province': 'Hainaut', 'region': 'Wallonie'}, 7966: {'province': 'Hainaut', 'region': 'Wallonie'}, 7967: {'province': 'Hainaut', 'region': 'Wallonie'}, 7968: {'province': 'Hainaut', 'region': 'Wallonie'}, 7969: {'province': 'Hainaut', 'region': 'Wallonie'}, 7970: {'province': 'Hainaut', 'region': 'Wallonie'}, 7971: {'province': 'Hainaut', 'region': 'Wallonie'}, 7972: {'province': 'Hainaut', 'region': 'Wallonie'}, 7973: {'province': 'Hainaut', 'region': 'Wallonie'}, 7974: {'province': 'Hainaut', 'region': 'Wallonie'}, 7975: {'province': 'Hainaut', 'region': 'Wallonie'}, 7976: {'province': 'Hainaut', 'region': 'Wallonie'}, 7977: {'province': 'Hainaut', 'region': 'Wallonie'}, 7978: {'province': 'Hainaut', 'region': 'Wallonie'}, 7979: {'province': 'Hainaut', 'region': 'Wallonie'}, 7980: {'province': 'Hainaut', 'region': 'Wallonie'}, 7981: {'province': 'Hainaut', 'region': 'Wallonie'}, 7982: {'province': 'Hainaut', 'region': 'Wallonie'}, 7983: {'province': 'Hainaut', 'region': 'Wallonie'}, 7984: {'province': 'Hainaut', 'region': 'Wallonie'}, 7985: {'province': 'Hainaut', 'region': 'Wallonie'}, 7986: {'province': 'Hainaut', 'region': 'Wallonie'}, 7987: {'province': 'Hainaut', 'region': 'Wallonie'}, 7988: {'province': 'Hainaut', 'region': 'Wallonie'}, 7989: {'province': 'Hainaut', 'region': 'Wallonie'}, 7990: {'province': 'Hainaut', 'region': 'Wallonie'}, 7991: {'province': 'Hainaut', 'region': 'Wallonie'}, 7992: {'province': 'Hainaut', 'region': 'Wallonie'}, 7993: {'province': 'Hainaut', 'region': 'Wallonie'}, 7994: {'province': 'Hainaut', 'region': 'Wallonie'}, 7995: {'province': 'Hainaut', 'region': 'Wallonie'}, 7996: {'province': 'Hainaut', 'region': 'Wallonie'}, 7997: {'province': 'Hainaut', 'region': 'Wallonie'}, 7998: {'province': 'Hainaut', 'region': 'Wallonie'}, 7999: {'province': 'Hainaut', 'region': 'Wallonie'}, 6600: {'province': 'Luxembourg', 'region': 'Wallonie'}, 6601: {'province': 'Luxembourg', 'region': 'Wallonie'}, 6602: {'province': 'Luxembourg', 'region': 'Wallonie'}, 6603: {'province': 'Luxembourg', 'region': 'Wallonie'}, 6604: {'province': 'Luxembourg', 'region': 'Wallonie'}, 6605: {'province': 'Luxembourg', 'region': 'Wallonie'}, 6606: {'province': 'Luxembourg', 'region': 'Wallonie'}, 6607: {'province': 'Luxembourg', 'region': 'Wallonie'}, 6608: {'province': 'Luxembourg', 'region': 'Wallonie'}, 6609: {'province': 'Luxembourg', 'region': 'Wallonie'}, 6610: {'province': 'Luxembourg', 'region': 'Wallonie'}, 6611: {'province': 'Luxembourg', 'region': 'Wallonie'}, 6612: {'province': 'Luxembourg', 'region': 'Wallonie'}, 6613: {'province': 'Luxembourg', 'region': 'Wallonie'}, 6614: {'province': 'Luxembourg', 'region': 'Wallonie'}, 6615: {'province': 'Luxembourg', 'region': 'Wallonie'}, 6616: {'province': 'Luxembourg', 'region': 'Wallonie'}, 6617: {'province': 'Luxembourg', 'region': 'Wallonie'}, 6618: {'province': 'Luxembourg', 'region': 'Wallonie'}, 6619: {'province': 'Luxembourg', 'region': 'Wallonie'}, 6620: {'province': 'Luxembourg', 'region': 'Wallonie'}, 6621: {'province': 'Luxembourg', 'region': 'Wallonie'}, 6622: {'province': 'Luxembourg', 'region': 'Wallonie'}, 6623: {'province': 'Luxembourg', 'region': 'Wallonie'}, 6624: {'province': 'Luxembourg', 'region': 'Wallonie'}, 6625: {'province': 'Luxembourg', 'region': 'Wallonie'}, 6626: {'province': 'Luxembourg', 'region': 'Wallonie'}, 6627: {'province': 'Luxembourg', 'region': 'Wallonie'}, 6628: {'province': 'Luxembourg', 'region': 'Wallonie'}, 6629: {'province': 'Luxembourg', 'region': 'Wallonie'}, 6630: {'province': 'Luxembourg', 'region': 'Wallonie'}, 6631: {'province': 'Luxembourg', 'region': 'Wallonie'}, 6632: {'province': 'Luxembourg', 'region': 'Wallonie'}, 6633: {'province': 'Luxembourg', 'region': 'Wallonie'}, 6634: {'province': 'Luxembourg', 'region': 'Wallonie'}, 6635: {'province': 'Luxembourg', 'region': 'Wallonie'}, 6636: {'province': 'Luxembourg', 'region': 'Wallonie'}, 6637: {'province': 'Luxembourg', 'region': 'Wallonie'}, 6638: {'province': 'Luxembourg', 'region': 'Wallonie'}, 6639: {'province': 'Luxembourg', 'region': 'Wallonie'}, 6640: {'province': 'Luxembourg', 'region': 'Wallonie'}, 6641: {'province': 'Luxembourg', 'region': 'Wallonie'}, 6642: {'province': 'Luxembourg', 'region': 'Wallonie'}, 6643: {'province': 'Luxembourg', 'region': 'Wallonie'}, 6644: {'province': 'Luxembourg', 'region': 'Wallonie'}, 6645: {'province': 'Luxembourg', 'region': 'Wallonie'}, 6646: {'province': 'Luxembourg', 'region': 'Wallonie'}, 6647: {'province': 'Luxembourg', 'region': 'Wallonie'}, 6648: {'province': 'Luxembourg', 'region': 'Wallonie'}, 6649: {'province': 'Luxembourg', 'region': 'Wallonie'}, 6650: {'province': 'Luxembourg', 'region': 'Wallonie'}, 6651: {'province': 'Luxembourg', 'region': 'Wallonie'}, 6652: {'province': 'Luxembourg', 'region': 'Wallonie'}, 6653: {'province': 'Luxembourg', 'region': 'Wallonie'}, 6654: {'province': 'Luxembourg', 'region': 'Wallonie'}, 6655: {'province': 'Luxembourg', 'region': 'Wallonie'}, 6656: {'province': 'Luxembourg', 'region': 'Wallonie'}, 6657: {'province': 'Luxembourg', 'region': 'Wallonie'}, 6658: {'province': 'Luxembourg', 'region': 'Wallonie'}, 6659: {'province': 'Luxembourg', 'region': 'Wallonie'}, 6660: {'province': 'Luxembourg', 'region': 'Wallonie'}, 6661: {'province': 'Luxembourg', 'region': 'Wallonie'}, 6662: {'province': 'Luxembourg', 'region': 'Wallonie'}, 6663: {'province': 'Luxembourg', 'region': 'Wallonie'}, 6664: {'province': 'Luxembourg', 'region': 'Wallonie'}, 6665: {'province': 'Luxembourg', 'region': 'Wallonie'}, 6666: {'province': 'Luxembourg', 'region': 'Wallonie'}, 6667: {'province': 'Luxembourg', 'region': 'Wallonie'}, 6668: {'province': 'Luxembourg', 'region': 'Wallonie'}, 6669: {'province': 'Luxembourg', 'region': 'Wallonie'}, 6670: {'province': 'Luxembourg', 'region': 'Wallonie'}, 6671: {'province': 'Luxembourg', 'region': 'Wallonie'}, 6672: {'province': 'Luxembourg', 'region': 'Wallonie'}, 6673: {'province': 'Luxembourg', 'region': 'Wallonie'}, 6674: {'province': 'Luxembourg', 'region': 'Wallonie'}, 6675: {'province': 'Luxembourg', 'region': 'Wallonie'}, 6676: {'province': 'Luxembourg', 'region': 'Wallonie'}, 6677: {'province': 'Luxembourg', 'region': 'Wallonie'}, 6678: {'province': 'Luxembourg', 'region': 'Wallonie'}, 6679: {'province': 'Luxembourg', 'region': 'Wallonie'}, 6680: {'province': 'Luxembourg', 'region': 'Wallonie'}, 6681: {'province': 'Luxembourg', 'region': 'Wallonie'}, 6682: {'province': 'Luxembourg', 'region': 'Wallonie'}, 6683: {'province': 'Luxembourg', 'region': 'Wallonie'}, 6684: {'province': 'Luxembourg', 'region': 'Wallonie'}, 6685: {'province': 'Luxembourg', 'region': 'Wallonie'}, 6686: {'province': 'Luxembourg', 'region': 'Wallonie'}, 6687: {'province': 'Luxembourg', 'region': 'Wallonie'}, 6688: {'province': 'Luxembourg', 'region': 'Wallonie'}, 6689: {'province': 'Luxembourg', 'region': 'Wallonie'}, 6690: {'province': 'Luxembourg', 'region': 'Wallonie'}, 6691: {'province': 'Luxembourg', 'region': 'Wallonie'}, 6692: {'province': 'Luxembourg', 'region': 'Wallonie'}, 6693: {'province': 'Luxembourg', 'region': 'Wallonie'}, 6694: {'province': 'Luxembourg', 'region': 'Wallonie'}, 6695: {'province': 'Luxembourg', 'region': 'Wallonie'}, 6696: {'province': 'Luxembourg', 'region': 'Wallonie'}, 6697: {'province': 'Luxembourg', 'region': 'Wallonie'}, 6698: {'province': 'Luxembourg', 'region': 'Wallonie'}, 6699: {'province': 'Luxembourg', 'region': 'Wallonie'}, 6700: {'province': 'Luxembourg', 'region': 'Wallonie'}, 6701: {'province': 'Luxembourg', 'region': 'Wallonie'}, 6702: {'province': 'Luxembourg', 'region': 'Wallonie'}, 6703: {'province': 'Luxembourg', 'region': 'Wallonie'}, 6704: {'province': 'Luxembourg', 'region': 'Wallonie'}, 6705: {'province': 'Luxembourg', 'region': 'Wallonie'}, 6706: {'province': 'Luxembourg', 'region': 'Wallonie'}, 6707: {'province': 'Luxembourg', 'region': 'Wallonie'}, 6708: {'province': 'Luxembourg', 'region': 'Wallonie'}, 6709: {'province': 'Luxembourg', 'region': 'Wallonie'}, 6710: {'province': 'Luxembourg', 'region': 'Wallonie'}, 6711: {'province': 'Luxembourg', 'region': 'Wallonie'}, 6712: {'province': 'Luxembourg', 'region': 'Wallonie'}, 6713: {'province': 'Luxembourg', 'region': 'Wallonie'}, 6714: {'province': 'Luxembourg', 'region': 'Wallonie'}, 6715: {'province': 'Luxembourg', 'region': 'Wallonie'}, 6716: {'province': 'Luxembourg', 'region': 'Wallonie'}, 6717: {'province': 'Luxembourg', 'region': 'Wallonie'}, 6718: {'province': 'Luxembourg', 'region': 'Wallonie'}, 6719: {'province': 'Luxembourg', 'region': 'Wallonie'}, 6720: {'province': 'Luxembourg', 'region': 'Wallonie'}, 6721: {'province': 'Luxembourg', 'region': 'Wallonie'}, 6722: {'province': 'Luxembourg', 'region': 'Wallonie'}, 6723: {'province': 'Luxembourg', 'region': 'Wallonie'}, 6724: {'province': 'Luxembourg', 'region': 'Wallonie'}, 6725: {'province': 'Luxembourg', 'region': 'Wallonie'}, 6726: {'province': 'Luxembourg', 'region': 'Wallonie'}, 6727: {'province': 'Luxembourg', 'region': 'Wallonie'}, 6728: {'province': 'Luxembourg', 'region': 'Wallonie'}, 6729: {'province': 'Luxembourg', 'region': 'Wallonie'}, 6730: {'province': 'Luxembourg', 'region': 'Wallonie'}, 6731: {'province': 'Luxembourg', 'region': 'Wallonie'}, 6732: {'province': 'Luxembourg', 'region': 'Wallonie'}, 6733: {'province': 'Luxembourg', 'region': 'Wallonie'}, 6734: {'province': 'Luxembourg', 'region': 'Wallonie'}, 6735: {'province': 'Luxembourg', 'region': 'Wallonie'}, 6736: {'province': 'Luxembourg', 'region': 'Wallonie'}, 6737: {'province': 'Luxembourg', 'region': 'Wallonie'}, 6738: {'province': 'Luxembourg', 'region': 'Wallonie'}, 6739: {'province': 'Luxembourg', 'region': 'Wallonie'}, 6740: {'province': 'Luxembourg', 'region': 'Wallonie'}, 6741: {'province': 'Luxembourg', 'region': 'Wallonie'}, 6742: {'province': 'Luxembourg', 'region': 'Wallonie'}, 6743: {'province': 'Luxembourg', 'region': 'Wallonie'}, 6744: {'province': 'Luxembourg', 'region': 'Wallonie'}, 6745: {'province': 'Luxembourg', 'region': 'Wallonie'}, 6746: {'province': 'Luxembourg', 'region': 'Wallonie'}, 6747: {'province': 'Luxembourg', 'region': 'Wallonie'}, 6748: {'province': 'Luxembourg', 'region': 'Wallonie'}, 6749: {'province': 'Luxembourg', 'region': 'Wallonie'}, 6750: {'province': 'Luxembourg', 'region': 'Wallonie'}, 6751: {'province': 'Luxembourg', 'region': 'Wallonie'}, 6752: {'province': 'Luxembourg', 'region': 'Wallonie'}, 6753: {'province': 'Luxembourg', 'region': 'Wallonie'}, 6754: {'province': 'Luxembourg', 'region': 'Wallonie'}, 6755: {'province': 'Luxembourg', 'region': 'Wallonie'}, 6756: {'province': 'Luxembourg', 'region': 'Wallonie'}, 6757: {'province': 'Luxembourg', 'region': 'Wallonie'}, 6758: {'province': 'Luxembourg', 'region': 'Wallonie'}, 6759: {'province': 'Luxembourg', 'region': 'Wallonie'}, 6760: {'province': 'Luxembourg', 'region': 'Wallonie'}, 6761: {'province': 'Luxembourg', 'region': 'Wallonie'}, 6762: {'province': 'Luxembourg', 'region': 'Wallonie'}, 6763: {'province': 'Luxembourg', 'region': 'Wallonie'}, 6764: {'province': 'Luxembourg', 'region': 'Wallonie'}, 6765: {'province': 'Luxembourg', 'region': 'Wallonie'}, 6766: {'province': 'Luxembourg', 'region': 'Wallonie'}, 6767: {'province': 'Luxembourg', 'region': 'Wallonie'}, 6768: {'province': 'Luxembourg', 'region': 'Wallonie'}, 6769: {'province': 'Luxembourg', 'region': 'Wallonie'}, 6770: {'province': 'Luxembourg', 'region': 'Wallonie'}, 6771: {'province': 'Luxembourg', 'region': 'Wallonie'}, 6772: {'province': 'Luxembourg', 'region': 'Wallonie'}, 6773: {'province': 'Luxembourg', 'region': 'Wallonie'}, 6774: {'province': 'Luxembourg', 'region': 'Wallonie'}, 6775: {'province': 'Luxembourg', 'region': 'Wallonie'}, 6776: {'province': 'Luxembourg', 'region': 'Wallonie'}, 6777: {'province': 'Luxembourg', 'region': 'Wallonie'}, 6778: {'province': 'Luxembourg', 'region': 'Wallonie'}, 6779: {'province': 'Luxembourg', 'region': 'Wallonie'}, 6780: {'province': 'Luxembourg', 'region': 'Wallonie'}, 6781: {'province': 'Luxembourg', 'region': 'Wallonie'}, 6782: {'province': 'Luxembourg', 'region': 'Wallonie'}, 6783: {'province': 'Luxembourg', 'region': 'Wallonie'}, 6784: {'province': 'Luxembourg', 'region': 'Wallonie'}, 6785: {'province': 'Luxembourg', 'region': 'Wallonie'}, 6786: {'province': 'Luxembourg', 'region': 'Wallonie'}, 6787: {'province': 'Luxembourg', 'region': 'Wallonie'}, 6788: {'province': 'Luxembourg', 'region': 'Wallonie'}, 6789: {'province': 'Luxembourg', 'region': 'Wallonie'}, 6790: {'province': 'Luxembourg', 'region': 'Wallonie'}, 6791: {'province': 'Luxembourg', 'region': 'Wallonie'}, 6792: {'province': 'Luxembourg', 'region': 'Wallonie'}, 6793: {'province': 'Luxembourg', 'region': 'Wallonie'}, 6794: {'province': 'Luxembourg', 'region': 'Wallonie'}, 6795: {'province': 'Luxembourg', 'region': 'Wallonie'}, 6796: {'province': 'Luxembourg', 'region': 'Wallonie'}, 6797: {'province': 'Luxembourg', 'region': 'Wallonie'}, 6798: {'province': 'Luxembourg', 'region': 'Wallonie'}, 6799: {'province': 'Luxembourg', 'region': 'Wallonie'}, 6800: {'province': 'Luxembourg', 'region': 'Wallonie'}, 6801: {'province': 'Luxembourg', 'region': 'Wallonie'}, 6802: {'province': 'Luxembourg', 'region': 'Wallonie'}, 6803: {'province': 'Luxembourg', 'region': 'Wallonie'}, 6804: {'province': 'Luxembourg', 'region': 'Wallonie'}, 6805: {'province': 'Luxembourg', 'region': 'Wallonie'}, 6806: {'province': 'Luxembourg', 'region': 'Wallonie'}, 6807: {'province': 'Luxembourg', 'region': 'Wallonie'}, 6808: {'province': 'Luxembourg', 'region': 'Wallonie'}, 6809: {'province': 'Luxembourg', 'region': 'Wallonie'}, 6810: {'province': 'Luxembourg', 'region': 'Wallonie'}, 6811: {'province': 'Luxembourg', 'region': 'Wallonie'}, 6812: {'province': 'Luxembourg', 'region': 'Wallonie'}, 6813: {'province': 'Luxembourg', 'region': 'Wallonie'}, 6814: {'province': 'Luxembourg', 'region': 'Wallonie'}, 6815: {'province': 'Luxembourg', 'region': 'Wallonie'}, 6816: {'province': 'Luxembourg', 'region': 'Wallonie'}, 6817: {'province': 'Luxembourg', 'region': 'Wallonie'}, 6818: {'province': 'Luxembourg', 'region': 'Wallonie'}, 6819: {'province': 'Luxembourg', 'region': 'Wallonie'}, 6820: {'province': 'Luxembourg', 'region': 'Wallonie'}, 6821: {'province': 'Luxembourg', 'region': 'Wallonie'}, 6822: {'province': 'Luxembourg', 'region': 'Wallonie'}, 6823: {'province': 'Luxembourg', 'region': 'Wallonie'}, 6824: {'province': 'Luxembourg', 'region': 'Wallonie'}, 6825: {'province': 'Luxembourg', 'region': 'Wallonie'}, 6826: {'province': 'Luxembourg', 'region': 'Wallonie'}, 6827: {'province': 'Luxembourg', 'region': 'Wallonie'}, 6828: {'province': 'Luxembourg', 'region': 'Wallonie'}, 6829: {'province': 'Luxembourg', 'region': 'Wallonie'}, 6830: {'province': 'Luxembourg', 'region': 'Wallonie'}, 6831: {'province': 'Luxembourg', 'region': 'Wallonie'}, 6832: {'province': 'Luxembourg', 'region': 'Wallonie'}, 6833: {'province': 'Luxembourg', 'region': 'Wallonie'}, 6834: {'province': 'Luxembourg', 'region': 'Wallonie'}, 6835: {'province': 'Luxembourg', 'region': 'Wallonie'}, 6836: {'province': 'Luxembourg', 'region': 'Wallonie'}, 6837: {'province': 'Luxembourg', 'region': 'Wallonie'}, 6838: {'province': 'Luxembourg', 'region': 'Wallonie'}, 6839: {'province': 'Luxembourg', 'region': 'Wallonie'}, 6840: {'province': 'Luxembourg', 'region': 'Wallonie'}, 6841: {'province': 'Luxembourg', 'region': 'Wallonie'}, 6842: {'province': 'Luxembourg', 'region': 'Wallonie'}, 6843: {'province': 'Luxembourg', 'region': 'Wallonie'}, 6844: {'province': 'Luxembourg', 'region': 'Wallonie'}, 6845: {'province': 'Luxembourg', 'region': 'Wallonie'}, 6846: {'province': 'Luxembourg', 'region': 'Wallonie'}, 6847: {'province': 'Luxembourg', 'region': 'Wallonie'}, 6848: {'province': 'Luxembourg', 'region': 'Wallonie'}, 6849: {'province': 'Luxembourg', 'region': 'Wallonie'}, 6850: {'province': 'Luxembourg', 'region': 'Wallonie'}, 6851: {'province': 'Luxembourg', 'region': 'Wallonie'}, 6852: {'province': 'Luxembourg', 'region': 'Wallonie'}, 6853: {'province': 'Luxembourg', 'region': 'Wallonie'}, 6854: {'province': 'Luxembourg', 'region': 'Wallonie'}, 6855: {'province': 'Luxembourg', 'region': 'Wallonie'}, 6856: {'province': 'Luxembourg', 'region': 'Wallonie'}, 6857: {'province': 'Luxembourg', 'region': 'Wallonie'}, 6858: {'province': 'Luxembourg', 'region': 'Wallonie'}, 6859: {'province': 'Luxembourg', 'region': 'Wallonie'}, 6860: {'province': 'Luxembourg', 'region': 'Wallonie'}, 6861: {'province': 'Luxembourg', 'region': 'Wallonie'}, 6862: {'province': 'Luxembourg', 'region': 'Wallonie'}, 6863: {'province': 'Luxembourg', 'region': 'Wallonie'}, 6864: {'province': 'Luxembourg', 'region': 'Wallonie'}, 6865: {'province': 'Luxembourg', 'region': 'Wallonie'}, 6866: {'province': 'Luxembourg', 'region': 'Wallonie'}, 6867: {'province': 'Luxembourg', 'region': 'Wallonie'}, 6868: {'province': 'Luxembourg', 'region': 'Wallonie'}, 6869: {'province': 'Luxembourg', 'region': 'Wallonie'}, 6870: {'province': 'Luxembourg', 'region': 'Wallonie'}, 6871: {'province': 'Luxembourg', 'region': 'Wallonie'}, 6872: {'province': 'Luxembourg', 'region': 'Wallonie'}, 6873: {'province': 'Luxembourg', 'region': 'Wallonie'}, 6874: {'province': 'Luxembourg', 'region': 'Wallonie'}, 6875: {'province': 'Luxembourg', 'region': 'Wallonie'}, 6876: {'province': 'Luxembourg', 'region': 'Wallonie'}, 6877: {'province': 'Luxembourg', 'region': 'Wallonie'}, 6878: {'province': 'Luxembourg', 'region': 'Wallonie'}, 6879: {'province': 'Luxembourg', 'region': 'Wallonie'}, 6880: {'province': 'Luxembourg', 'region': 'Wallonie'}, 6881: {'province': 'Luxembourg', 'region': 'Wallonie'}, 6882: {'province': 'Luxembourg', 'region': 'Wallonie'}, 6883: {'province': 'Luxembourg', 'region': 'Wallonie'}, 6884: {'province': 'Luxembourg', 'region': 'Wallonie'}, 6885: {'province': 'Luxembourg', 'region': 'Wallonie'}, 6886: {'province': 'Luxembourg', 'region': 'Wallonie'}, 6887: {'province': 'Luxembourg', 'region': 'Wallonie'}, 6888: {'province': 'Luxembourg', 'region': 'Wallonie'}, 6889: {'province': 'Luxembourg', 'region': 'Wallonie'}, 6890: {'province': 'Luxembourg', 'region': 'Wallonie'}, 6891: {'province': 'Luxembourg', 'region': 'Wallonie'}, 6892: {'province': 'Luxembourg', 'region': 'Wallonie'}, 6893: {'province': 'Luxembourg', 'region': 'Wallonie'}, 6894: {'province': 'Luxembourg', 'region': 'Wallonie'}, 6895: {'province': 'Luxembourg', 'region': 'Wallonie'}, 6896: {'province': 'Luxembourg', 'region': 'Wallonie'}, 6897: {'province': 'Luxembourg', 'region': 'Wallonie'}, 6898: {'province': 'Luxembourg', 'region': 'Wallonie'}, 6899: {'province': 'Luxembourg', 'region': 'Wallonie'}, 6900: {'province': 'Luxembourg', 'region': 'Wallonie'}, 6901: {'province': 'Luxembourg', 'region': 'Wallonie'}, 6902: {'province': 'Luxembourg', 'region': 'Wallonie'}, 6903: {'province': 'Luxembourg', 'region': 'Wallonie'}, 6904: {'province': 'Luxembourg', 'region': 'Wallonie'}, 6905: {'province': 'Luxembourg', 'region': 'Wallonie'}, 6906: {'province': 'Luxembourg', 'region': 'Wallonie'}, 6907: {'province': 'Luxembourg', 'region': 'Wallonie'}, 6908: {'province': 'Luxembourg', 'region': 'Wallonie'}, 6909: {'province': 'Luxembourg', 'region': 'Wallonie'}, 6910: {'province': 'Luxembourg', 'region': 'Wallonie'}, 6911: {'province': 'Luxembourg', 'region': 'Wallonie'}, 6912: {'province': 'Luxembourg', 'region': 'Wallonie'}, 6913: {'province': 'Luxembourg', 'region': 'Wallonie'}, 6914: {'province': 'Luxembourg', 'region': 'Wallonie'}, 6915: {'province': 'Luxembourg', 'region': 'Wallonie'}, 6916: {'province': 'Luxembourg', 'region': 'Wallonie'}, 6917: {'province': 'Luxembourg', 'region': 'Wallonie'}, 6918: {'province': 'Luxembourg', 'region': 'Wallonie'}, 6919: {'province': 'Luxembourg', 'region': 'Wallonie'}, 6920: {'province': 'Luxembourg', 'region': 'Wallonie'}, 6921: {'province': 'Luxembourg', 'region': 'Wallonie'}, 6922: {'province': 'Luxembourg', 'region': 'Wallonie'}, 6923: {'province': 'Luxembourg', 'region': 'Wallonie'}, 6924: {'province': 'Luxembourg', 'region': 'Wallonie'}, 6925: {'province': 'Luxembourg', 'region': 'Wallonie'}, 6926: {'province': 'Luxembourg', 'region': 'Wallonie'}, 6927: {'province': 'Luxembourg', 'region': 'Wallonie'}, 6928: {'province': 'Luxembourg', 'region': 'Wallonie'}, 6929: {'province': 'Luxembourg', 'region': 'Wallonie'}, 6930: {'province': 'Luxembourg', 'region': 'Wallonie'}, 6931: {'province': 'Luxembourg', 'region': 'Wallonie'}, 6932: {'province': 'Luxembourg', 'region': 'Wallonie'}, 6933: {'province': 'Luxembourg', 'region': 'Wallonie'}, 6934: {'province': 'Luxembourg', 'region': 'Wallonie'}, 6935: {'province': 'Luxembourg', 'region': 'Wallonie'}, 6936: {'province': 'Luxembourg', 'region': 'Wallonie'}, 6937: {'province': 'Luxembourg', 'region': 'Wallonie'}, 6938: {'province': 'Luxembourg', 'region': 'Wallonie'}, 6939: {'province': 'Luxembourg', 'region': 'Wallonie'}, 6940: {'province': 'Luxembourg', 'region': 'Wallonie'}, 6941: {'province': 'Luxembourg', 'region': 'Wallonie'}, 6942: {'province': 'Luxembourg', 'region': 'Wallonie'}, 6943: {'province': 'Luxembourg', 'region': 'Wallonie'}, 6944: {'province': 'Luxembourg', 'region': 'Wallonie'}, 6945: {'province': 'Luxembourg', 'region': 'Wallonie'}, 6946: {'province': 'Luxembourg', 'region': 'Wallonie'}, 6947: {'province': 'Luxembourg', 'region': 'Wallonie'}, 6948: {'province': 'Luxembourg', 'region': 'Wallonie'}, 6949: {'province': 'Luxembourg', 'region': 'Wallonie'}, 6950: {'province': 'Luxembourg', 'region': 'Wallonie'}, 6951: {'province': 'Luxembourg', 'region': 'Wallonie'}, 6952: {'province': 'Luxembourg', 'region': 'Wallonie'}, 6953: {'province': 'Luxembourg', 'region': 'Wallonie'}, 6954: {'province': 'Luxembourg', 'region': 'Wallonie'}, 6955: {'province': 'Luxembourg', 'region': 'Wallonie'}, 6956: {'province': 'Luxembourg', 'region': 'Wallonie'}, 6957: {'province': 'Luxembourg', 'region': 'Wallonie'}, 6958: {'province': 'Luxembourg', 'region': 'Wallonie'}, 6959: {'province': 'Luxembourg', 'region': 'Wallonie'}, 6960: {'province': 'Luxembourg', 'region': 'Wallonie'}, 6961: {'province': 'Luxembourg', 'region': 'Wallonie'}, 6962: {'province': 'Luxembourg', 'region': 'Wallonie'}, 6963: {'province': 'Luxembourg', 'region': 'Wallonie'}, 6964: {'province': 'Luxembourg', 'region': 'Wallonie'}, 6965: {'province': 'Luxembourg', 'region': 'Wallonie'}, 6966: {'province': 'Luxembourg', 'region': 'Wallonie'}, 6967: {'province': 'Luxembourg', 'region': 'Wallonie'}, 6968: {'province': 'Luxembourg', 'region': 'Wallonie'}, 6969: {'province': 'Luxembourg', 'region': 'Wallonie'}, 6970: {'province': 'Luxembourg', 'region': 'Wallonie'}, 6971: {'province': 'Luxembourg', 'region': 'Wallonie'}, 6972: {'province': 'Luxembourg', 'region': 'Wallonie'}, 6973: {'province': 'Luxembourg', 'region': 'Wallonie'}, 6974: {'province': 'Luxembourg', 'region': 'Wallonie'}, 6975: {'province': 'Luxembourg', 'region': 'Wallonie'}, 6976: {'province': 'Luxembourg', 'region': 'Wallonie'}, 6977: {'province': 'Luxembourg', 'region': 'Wallonie'}, 6978: {'province': 'Luxembourg', 'region': 'Wallonie'}, 6979: {'province': 'Luxembourg', 'region': 'Wallonie'}, 6980: {'province': 'Luxembourg', 'region': 'Wallonie'}, 6981: {'province': 'Luxembourg', 'region': 'Wallonie'}, 6982: {'province': 'Luxembourg', 'region': 'Wallonie'}, 6983: {'province': 'Luxembourg', 'region': 'Wallonie'}, 6984: {'province': 'Luxembourg', 'region': 'Wallonie'}, 6985: {'province': 'Luxembourg', 'region': 'Wallonie'}, 6986: {'province': 'Luxembourg', 'region': 'Wallonie'}, 6987: {'province': 'Luxembourg', 'region': 'Wallonie'}, 6988: {'province': 'Luxembourg', 'region': 'Wallonie'}, 6989: {'province': 'Luxembourg', 'region': 'Wallonie'}, 6990: {'province': 'Luxembourg', 'region': 'Wallonie'}, 6991: {'province': 'Luxembourg', 'region': 'Wallonie'}, 6992: {'province': 'Luxembourg', 'region': 'Wallonie'}, 6993: {'province': 'Luxembourg', 'region': 'Wallonie'}, 6994: {'province': 'Luxembourg', 'region': 'Wallonie'}, 6995: {'province': 'Luxembourg', 'region': 'Wallonie'}, 6996: {'province': 'Luxembourg', 'region': 'Wallonie'}, 6997: {'province': 'Luxembourg', 'region': 'Wallonie'}, 6998: {'province': 'Luxembourg', 'region': 'Wallonie'}, 6999: {'province': 'Luxembourg', 'region': 'Wallonie'}, 8000: {'province': 'Flandre-Occidentale', 'region': 'Flandre'}, 8001: {'province': 'Flandre-Occidentale', 'region': 'Flandre'}, 8002: {'province': 'Flandre-Occidentale', 'region': 'Flandre'}, 8003: {'province': 'Flandre-Occidentale', 'region': 'Flandre'}, 8004: {'province': 'Flandre-Occidentale', 'region': 'Flandre'}, 8005: {'province': 'Flandre-Occidentale', 'region': 'Flandre'}, 8006: {'province': 'Flandre-Occidentale', 'region': 'Flandre'}, 8007: {'province': 'Flandre-Occidentale', 'region': 'Flandre'}, 8008: {'province': 'Flandre-Occidentale', 'region': 'Flandre'}, 8009: {'province': 'Flandre-Occidentale', 'region': 'Flandre'}, 8010: {'province': 'Flandre-Occidentale', 'region': 'Flandre'}, 8011: {'province': 'Flandre-Occidentale', 'region': 'Flandre'}, 8012: {'province': 'Flandre-Occidentale', 'region': 'Flandre'}, 8013: {'province': 'Flandre-Occidentale', 'region': 'Flandre'}, 8014: {'province': 'Flandre-Occidentale', 'region': 'Flandre'}, 8015: {'province': 'Flandre-Occidentale', 'region': 'Flandre'}, 8016: {'province': 'Flandre-Occidentale', 'region': 'Flandre'}, 8017: {'province': 'Flandre-Occidentale', 'region': 'Flandre'}, 8018: {'province': 'Flandre-Occidentale', 'region': 'Flandre'}, 8019: {'province': 'Flandre-Occidentale', 'region': 'Flandre'}, 8020: {'province': 'Flandre-Occidentale', 'region': 'Flandre'}, 8021: {'province': 'Flandre-Occidentale', 'region': 'Flandre'}, 8022: {'province': 'Flandre-Occidentale', 'region': 'Flandre'}, 8023: {'province': 'Flandre-Occidentale', 'region': 'Flandre'}, 8024: {'province': 'Flandre-Occidentale', 'region': 'Flandre'}, 8025: {'province': 'Flandre-Occidentale', 'region': 'Flandre'}, 8026: {'province': 'Flandre-Occidentale', 'region': 'Flandre'}, 8027: {'province': 'Flandre-Occidentale', 'region': 'Flandre'}, 8028: {'province': 'Flandre-Occidentale', 'region': 'Flandre'}, 8029: {'province': 'Flandre-Occidentale', 'region': 'Flandre'}, 8030: {'province': 'Flandre-Occidentale', 'region': 'Flandre'}, 8031: {'province': 'Flandre-Occidentale', 'region': 'Flandre'}, 8032: {'province': 'Flandre-Occidentale', 'region': 'Flandre'}, 8033: {'province': 'Flandre-Occidentale', 'region': 'Flandre'}, 8034: {'province': 'Flandre-Occidentale', 'region': 'Flandre'}, 8035: {'province': 'Flandre-Occidentale', 'region': 'Flandre'}, 8036: {'province': 'Flandre-Occidentale', 'region': 'Flandre'}, 8037: {'province': 'Flandre-Occidentale', 'region': 'Flandre'}, 8038: {'province': 'Flandre-Occidentale', 'region': 'Flandre'}, 8039: {'province': 'Flandre-Occidentale', 'region': 'Flandre'}, 8040: {'province': 'Flandre-Occidentale', 'region': 'Flandre'}, 8041: {'province': 'Flandre-Occidentale', 'region': 'Flandre'}, 8042: {'province': 'Flandre-Occidentale', 'region': 'Flandre'}, 8043: {'province': 'Flandre-Occidentale', 'region': 'Flandre'}, 8044: {'province': 'Flandre-Occidentale', 'region': 'Flandre'}, 8045: {'province': 'Flandre-Occidentale', 'region': 'Flandre'}, 8046: {'province': 'Flandre-Occidentale', 'region': 'Flandre'}, 8047: {'province': 'Flandre-Occidentale', 'region': 'Flandre'}, 8048: {'province': 'Flandre-Occidentale', 'region': 'Flandre'}, 8049: {'province': 'Flandre-Occidentale', 'region': 'Flandre'}, 8050: {'province': 'Flandre-Occidentale', 'region': 'Flandre'}, 8051: {'province': 'Flandre-Occidentale', 'region': 'Flandre'}, 8052: {'province': 'Flandre-Occidentale', 'region': 'Flandre'}, 8053: {'province': 'Flandre-Occidentale', 'region': 'Flandre'}, 8054: {'province': 'Flandre-Occidentale', 'region': 'Flandre'}, 8055: {'province': 'Flandre-Occidentale', 'region': 'Flandre'}, 8056: {'province': 'Flandre-Occidentale', 'region': 'Flandre'}, 8057: {'province': 'Flandre-Occidentale', 'region': 'Flandre'}, 8058: {'province': 'Flandre-Occidentale', 'region': 'Flandre'}, 8059: {'province': 'Flandre-Occidentale', 'region': 'Flandre'}, 8060: {'province': 'Flandre-Occidentale', 'region': 'Flandre'}, 8061: {'province': 'Flandre-Occidentale', 'region': 'Flandre'}, 8062: {'province': 'Flandre-Occidentale', 'region': 'Flandre'}, 8063: {'province': 'Flandre-Occidentale', 'region': 'Flandre'}, 8064: {'province': 'Flandre-Occidentale', 'region': 'Flandre'}, 8065: {'province': 'Flandre-Occidentale', 'region': 'Flandre'}, 8066: {'province': 'Flandre-Occidentale', 'region': 'Flandre'}, 8067: {'province': 'Flandre-Occidentale', 'region': 'Flandre'}, 8068: {'province': 'Flandre-Occidentale', 'region': 'Flandre'}, 8069: {'province': 'Flandre-Occidentale', 'region': 'Flandre'}, 8070: {'province': 'Flandre-Occidentale', 'region': 'Flandre'}, 8071: {'province': 'Flandre-Occidentale', 'region': 'Flandre'}, 8072: {'province': 'Flandre-Occidentale', 'region': 'Flandre'}, 8073: {'province': 'Flandre-Occidentale', 'region': 'Flandre'}, 8074: {'province': 'Flandre-Occidentale', 'region': 'Flandre'}, 8075: {'province': 'Flandre-Occidentale', 'region': 'Flandre'}, 8076: {'province': 'Flandre-Occidentale', 'region': 'Flandre'}, 8077: {'province': 'Flandre-Occidentale', 'region': 'Flandre'}, 8078: {'province': 'Flandre-Occidentale', 'region': 'Flandre'}, 8079: {'province': 'Flandre-Occidentale', 'region': 'Flandre'}, 8080: {'province': 'Flandre-Occidentale', 'region': 'Flandre'}, 8081: {'province': 'Flandre-Occidentale', 'region': 'Flandre'}, 8082: {'province': 'Flandre-Occidentale', 'region': 'Flandre'}, 8083: {'province': 'Flandre-Occidentale', 'region': 'Flandre'}, 8084: {'province': 'Flandre-Occidentale', 'region': 'Flandre'}, 8085: {'province': 'Flandre-Occidentale', 'region': 'Flandre'}, 8086: {'province': 'Flandre-Occidentale', 'region': 'Flandre'}, 8087: {'province': 'Flandre-Occidentale', 'region': 'Flandre'}, 8088: {'province': 'Flandre-Occidentale', 'region': 'Flandre'}, 8089: {'province': 'Flandre-Occidentale', 'region': 'Flandre'}, 8090: {'province': 'Flandre-Occidentale', 'region': 'Flandre'}, 8091: {'province': 'Flandre-Occidentale', 'region': 'Flandre'}, 8092: {'province': 'Flandre-Occidentale', 'region': 'Flandre'}, 8093: {'province': 'Flandre-Occidentale', 'region': 'Flandre'}, 8094: {'province': 'Flandre-Occidentale', 'region': 'Flandre'}, 8095: {'province': 'Flandre-Occidentale', 'region': 'Flandre'}, 8096: {'province': 'Flandre-Occidentale', 'region': 'Flandre'}, 8097: {'province': 'Flandre-Occidentale', 'region': 'Flandre'}, 8098: {'province': 'Flandre-Occidentale', 'region': 'Flandre'}, 8099: {'province': 'Flandre-Occidentale', 'region': 'Flandre'}, 8100: {'province': 'Flandre-Occidentale', 'region': 'Flandre'}, 8101: {'province': 'Flandre-Occidentale', 'region': 'Flandre'}, 8102: {'province': 'Flandre-Occidentale', 'region': 'Flandre'}, 8103: {'province': 'Flandre-Occidentale', 'region': 'Flandre'}, 8104: {'province': 'Flandre-Occidentale', 'region': 'Flandre'}, 8105: {'province': 'Flandre-Occidentale', 'region': 'Flandre'}, 8106: {'province': 'Flandre-Occidentale', 'region': 'Flandre'}, 8107: {'province': 'Flandre-Occidentale', 'region': 'Flandre'}, 8108: {'province': 'Flandre-Occidentale', 'region': 'Flandre'}, 8109: {'province': 'Flandre-Occidentale', 'region': 'Flandre'}, 8110: {'province': 'Flandre-Occidentale', 'region': 'Flandre'}, 8111: {'province': 'Flandre-Occidentale', 'region': 'Flandre'}, 8112: {'province': 'Flandre-Occidentale', 'region': 'Flandre'}, 8113: {'province': 'Flandre-Occidentale', 'region': 'Flandre'}, 8114: {'province': 'Flandre-Occidentale', 'region': 'Flandre'}, 8115: {'province': 'Flandre-Occidentale', 'region': 'Flandre'}, 8116: {'province': 'Flandre-Occidentale', 'region': 'Flandre'}, 8117: {'province': 'Flandre-Occidentale', 'region': 'Flandre'}, 8118: {'province': 'Flandre-Occidentale', 'region': 'Flandre'}, 8119: {'province': 'Flandre-Occidentale', 'region': 'Flandre'}, 8120: {'province': 'Flandre-Occidentale', 'region': 'Flandre'}, 8121: {'province': 'Flandre-Occidentale', 'region': 'Flandre'}, 8122: {'province': 'Flandre-Occidentale', 'region': 'Flandre'}, 8123: {'province': 'Flandre-Occidentale', 'region': 'Flandre'}, 8124: {'province': 'Flandre-Occidentale', 'region': 'Flandre'}, 8125: {'province': 'Flandre-Occidentale', 'region': 'Flandre'}, 8126: {'province': 'Flandre-Occidentale', 'region': 'Flandre'}, 8127: {'province': 'Flandre-Occidentale', 'region': 'Flandre'}, 8128: {'province': 'Flandre-Occidentale', 'region': 'Flandre'}, 8129: {'province': 'Flandre-Occidentale', 'region': 'Flandre'}, 8130: {'province': 'Flandre-Occidentale', 'region': 'Flandre'}, 8131: {'province': 'Flandre-Occidentale', 'region': 'Flandre'}, 8132: {'province': 'Flandre-Occidentale', 'region': 'Flandre'}, 8133: {'province': 'Flandre-Occidentale', 'region': 'Flandre'}, 8134: {'province': 'Flandre-Occidentale', 'region': 'Flandre'}, 8135: {'province': 'Flandre-Occidentale', 'region': 'Flandre'}, 8136: {'province': 'Flandre-Occidentale', 'region': 'Flandre'}, 8137: {'province': 'Flandre-Occidentale', 'region': 'Flandre'}, 8138: {'province': 'Flandre-Occidentale', 'region': 'Flandre'}, 8139: {'province': 'Flandre-Occidentale', 'region': 'Flandre'}, 8140: {'province': 'Flandre-Occidentale', 'region': 'Flandre'}, 8141: {'province': 'Flandre-Occidentale', 'region': 'Flandre'}, 8142: {'province': 'Flandre-Occidentale', 'region': 'Flandre'}, 8143: {'province': 'Flandre-Occidentale', 'region': 'Flandre'}, 8144: {'province': 'Flandre-Occidentale', 'region': 'Flandre'}, 8145: {'province': 'Flandre-Occidentale', 'region': 'Flandre'}, 8146: {'province': 'Flandre-Occidentale', 'region': 'Flandre'}, 8147: {'province': 'Flandre-Occidentale', 'region': 'Flandre'}, 8148: {'province': 'Flandre-Occidentale', 'region': 'Flandre'}, 8149: {'province': 'Flandre-Occidentale', 'region': 'Flandre'}, 8150: {'province': 'Flandre-Occidentale', 'region': 'Flandre'}, 8151: {'province': 'Flandre-Occidentale', 'region': 'Flandre'}, 8152: {'province': 'Flandre-Occidentale', 'region': 'Flandre'}, 8153: {'province': 'Flandre-Occidentale', 'region': 'Flandre'}, 8154: {'province': 'Flandre-Occidentale', 'region': 'Flandre'}, 8155: {'province': 'Flandre-Occidentale', 'region': 'Flandre'}, 8156: {'province': 'Flandre-Occidentale', 'region': 'Flandre'}, 8157: {'province': 'Flandre-Occidentale', 'region': 'Flandre'}, 8158: {'province': 'Flandre-Occidentale', 'region': 'Flandre'}, 8159: {'province': 'Flandre-Occidentale', 'region': 'Flandre'}, 8160: {'province': 'Flandre-Occidentale', 'region': 'Flandre'}, 8161: {'province': 'Flandre-Occidentale', 'region': 'Flandre'}, 8162: {'province': 'Flandre-Occidentale', 'region': 'Flandre'}, 8163: {'province': 'Flandre-Occidentale', 'region': 'Flandre'}, 8164: {'province': 'Flandre-Occidentale', 'region': 'Flandre'}, 8165: {'province': 'Flandre-Occidentale', 'region': 'Flandre'}, 8166: {'province': 'Flandre-Occidentale', 'region': 'Flandre'}, 8167: {'province': 'Flandre-Occidentale', 'region': 'Flandre'}, 8168: {'province': 'Flandre-Occidentale', 'region': 'Flandre'}, 8169: {'province': 'Flandre-Occidentale', 'region': 'Flandre'}, 8170: {'province': 'Flandre-Occidentale', 'region': 'Flandre'}, 8171: {'province': 'Flandre-Occidentale', 'region': 'Flandre'}, 8172: {'province': 'Flandre-Occidentale', 'region': 'Flandre'}, 8173: {'province': 'Flandre-Occidentale', 'region': 'Flandre'}, 8174: {'province': 'Flandre-Occidentale', 'region': 'Flandre'}, 8175: {'province': 'Flandre-Occidentale', 'region': 'Flandre'}, 8176: {'province': 'Flandre-Occidentale', 'region': 'Flandre'}, 8177: {'province': 'Flandre-Occidentale', 'region': 'Flandre'}, 8178: {'province': 'Flandre-Occidentale', 'region': 'Flandre'}, 8179: {'province': 'Flandre-Occidentale', 'region': 'Flandre'}, 8180: {'province': 'Flandre-Occidentale', 'region': 'Flandre'}, 8181: {'province': 'Flandre-Occidentale', 'region': 'Flandre'}, 8182: {'province': 'Flandre-Occidentale', 'region': 'Flandre'}, 8183: {'province': 'Flandre-Occidentale', 'region': 'Flandre'}, 8184: {'province': 'Flandre-Occidentale', 'region': 'Flandre'}, 8185: {'province': 'Flandre-Occidentale', 'region': 'Flandre'}, 8186: {'province': 'Flandre-Occidentale', 'region': 'Flandre'}, 8187: {'province': 'Flandre-Occidentale', 'region': 'Flandre'}, 8188: {'province': 'Flandre-Occidentale', 'region': 'Flandre'}, 8189: {'province': 'Flandre-Occidentale', 'region': 'Flandre'}, 8190: {'province': 'Flandre-Occidentale', 'region': 'Flandre'}, 8191: {'province': 'Flandre-Occidentale', 'region': 'Flandre'}, 8192: {'province': 'Flandre-Occidentale', 'region': 'Flandre'}, 8193: {'province': 'Flandre-Occidentale', 'region': 'Flandre'}, 8194: {'province': 'Flandre-Occidentale', 'region': 'Flandre'}, 8195: {'province': 'Flandre-Occidentale', 'region': 'Flandre'}, 8196: {'province': 'Flandre-Occidentale', 'region': 'Flandre'}, 8197: {'province': 'Flandre-Occidentale', 'region': 'Flandre'}, 8198: {'province': 'Flandre-Occidentale', 'region': 'Flandre'}, 8199: {'province': 'Flandre-Occidentale', 'region': 'Flandre'}, 8200: {'province': 'Flandre-Occidentale', 'region': 'Flandre'}, 8201: {'province': 'Flandre-Occidentale', 'region': 'Flandre'}, 8202: {'province': 'Flandre-Occidentale', 'region': 'Flandre'}, 8203: {'province': 'Flandre-Occidentale', 'region': 'Flandre'}, 8204: {'province': 'Flandre-Occidentale', 'region': 'Flandre'}, 8205: {'province': 'Flandre-Occidentale', 'region': 'Flandre'}, 8206: {'province': 'Flandre-Occidentale', 'region': 'Flandre'}, 8207: {'province': 'Flandre-Occidentale', 'region': 'Flandre'}, 8208: {'province': 'Flandre-Occidentale', 'region': 'Flandre'}, 8209: {'province': 'Flandre-Occidentale', 'region': 'Flandre'}, 8210: {'province': 'Flandre-Occidentale', 'region': 'Flandre'}, 8211: {'province': 'Flandre-Occidentale', 'region': 'Flandre'}, 8212: {'province': 'Flandre-Occidentale', 'region': 'Flandre'}, 8213: {'province': 'Flandre-Occidentale', 'region': 'Flandre'}, 8214: {'province': 'Flandre-Occidentale', 'region': 'Flandre'}, 8215: {'province': 'Flandre-Occidentale', 'region': 'Flandre'}, 8216: {'province': 'Flandre-Occidentale', 'region': 'Flandre'}, 8217: {'province': 'Flandre-Occidentale', 'region': 'Flandre'}, 8218: {'province': 'Flandre-Occidentale', 'region': 'Flandre'}, 8219: {'province': 'Flandre-Occidentale', 'region': 'Flandre'}, 8220: {'province': 'Flandre-Occidentale', 'region': 'Flandre'}, 8221: {'province': 'Flandre-Occidentale', 'region': 'Flandre'}, 8222: {'province': 'Flandre-Occidentale', 'region': 'Flandre'}, 8223: {'province': 'Flandre-Occidentale', 'region': 'Flandre'}, 8224: {'province': 'Flandre-Occidentale', 'region': 'Flandre'}, 8225: {'province': 'Flandre-Occidentale', 'region': 'Flandre'}, 8226: {'province': 'Flandre-Occidentale', 'region': 'Flandre'}, 8227: {'province': 'Flandre-Occidentale', 'region': 'Flandre'}, 8228: {'province': 'Flandre-Occidentale', 'region': 'Flandre'}, 8229: {'province': 'Flandre-Occidentale', 'region': 'Flandre'}, 8230: {'province': 'Flandre-Occidentale', 'region': 'Flandre'}, 8231: {'province': 'Flandre-Occidentale', 'region': 'Flandre'}, 8232: {'province': 'Flandre-Occidentale', 'region': 'Flandre'}, 8233: {'province': 'Flandre-Occidentale', 'region': 'Flandre'}, 8234: {'province': 'Flandre-Occidentale', 'region': 'Flandre'}, 8235: {'province': 'Flandre-Occidentale', 'region': 'Flandre'}, 8236: {'province': 'Flandre-Occidentale', 'region': 'Flandre'}, 8237: {'province': 'Flandre-Occidentale', 'region': 'Flandre'}, 8238: {'province': 'Flandre-Occidentale', 'region': 'Flandre'}, 8239: {'province': 'Flandre-Occidentale', 'region': 'Flandre'}, 8240: {'province': 'Flandre-Occidentale', 'region': 'Flandre'}, 8241: {'province': 'Flandre-Occidentale', 'region': 'Flandre'}, 8242: {'province': 'Flandre-Occidentale', 'region': 'Flandre'}, 8243: {'province': 'Flandre-Occidentale', 'region': 'Flandre'}, 8244: {'province': 'Flandre-Occidentale', 'region': 'Flandre'}, 8245: {'province': 'Flandre-Occidentale', 'region': 'Flandre'}, 8246: {'province': 'Flandre-Occidentale', 'region': 'Flandre'}, 8247: {'province': 'Flandre-Occidentale', 'region': 'Flandre'}, 8248: {'province': 'Flandre-Occidentale', 'region': 'Flandre'}, 8249: {'province': 'Flandre-Occidentale', 'region': 'Flandre'}, 8250: {'province': 'Flandre-Occidentale', 'region': 'Flandre'}, 8251: {'province': 'Flandre-Occidentale', 'region': 'Flandre'}, 8252: {'province': 'Flandre-Occidentale', 'region': 'Flandre'}, 8253: {'province': 'Flandre-Occidentale', 'region': 'Flandre'}, 8254: {'province': 'Flandre-Occidentale', 'region': 'Flandre'}, 8255: {'province': 'Flandre-Occidentale', 'region': 'Flandre'}, 8256: {'province': 'Flandre-Occidentale', 'region': 'Flandre'}, 8257: {'province': 'Flandre-Occidentale', 'region': 'Flandre'}, 8258: {'province': 'Flandre-Occidentale', 'region': 'Flandre'}, 8259: {'province': 'Flandre-Occidentale', 'region': 'Flandre'}, 8260: {'province': 'Flandre-Occidentale', 'region': 'Flandre'}, 8261: {'province': 'Flandre-Occidentale', 'region': 'Flandre'}, 8262: {'province': 'Flandre-Occidentale', 'region': 'Flandre'}, 8263: {'province': 'Flandre-Occidentale', 'region': 'Flandre'}, 8264: {'province': 'Flandre-Occidentale', 'region': 'Flandre'}, 8265: {'province': 'Flandre-Occidentale', 'region': 'Flandre'}, 8266: {'province': 'Flandre-Occidentale', 'region': 'Flandre'}, 8267: {'province': 'Flandre-Occidentale', 'region': 'Flandre'}, 8268: {'province': 'Flandre-Occidentale', 'region': 'Flandre'}, 8269: {'province': 'Flandre-Occidentale', 'region': 'Flandre'}, 8270: {'province': 'Flandre-Occidentale', 'region': 'Flandre'}, 8271: {'province': 'Flandre-Occidentale', 'region': 'Flandre'}, 8272: {'province': 'Flandre-Occidentale', 'region': 'Flandre'}, 8273: {'province': 'Flandre-Occidentale', 'region': 'Flandre'}, 8274: {'province': 'Flandre-Occidentale', 'region': 'Flandre'}, 8275: {'province': 'Flandre-Occidentale', 'region': 'Flandre'}, 8276: {'province': 'Flandre-Occidentale', 'region': 'Flandre'}, 8277: {'province': 'Flandre-Occidentale', 'region': 'Flandre'}, 8278: {'province': 'Flandre-Occidentale', 'region': 'Flandre'}, 8279: {'province': 'Flandre-Occidentale', 'region': 'Flandre'}, 8280: {'province': 'Flandre-Occidentale', 'region': 'Flandre'}, 8281: {'province': 'Flandre-Occidentale', 'region': 'Flandre'}, 8282: {'province': 'Flandre-Occidentale', 'region': 'Flandre'}, 8283: {'province': 'Flandre-Occidentale', 'region': 'Flandre'}, 8284: {'province': 'Flandre-Occidentale', 'region': 'Flandre'}, 8285: {'province': 'Flandre-Occidentale', 'region': 'Flandre'}, 8286: {'province': 'Flandre-Occidentale', 'region': 'Flandre'}, 8287: {'province': 'Flandre-Occidentale', 'region': 'Flandre'}, 8288: {'province': 'Flandre-Occidentale', 'region': 'Flandre'}, 8289: {'province': 'Flandre-Occidentale', 'region': 'Flandre'}, 8290: {'province': 'Flandre-Occidentale', 'region': 'Flandre'}, 8291: {'province': 'Flandre-Occidentale', 'region': 'Flandre'}, 8292: {'province': 'Flandre-Occidentale', 'region': 'Flandre'}, 8293: {'province': 'Flandre-Occidentale', 'region': 'Flandre'}, 8294: {'province': 'Flandre-Occidentale', 'region': 'Flandre'}, 8295: {'province': 'Flandre-Occidentale', 'region': 'Flandre'}, 8296: {'province': 'Flandre-Occidentale', 'region': 'Flandre'}, 8297: {'province': 'Flandre-Occidentale', 'region': 'Flandre'}, 8298: {'province': 'Flandre-Occidentale', 'region': 'Flandre'}, 8299: {'province': 'Flandre-Occidentale', 'region': 'Flandre'}, 8300: {'province': 'Flandre-Occidentale', 'region': 'Flandre'}, 8301: {'province': 'Flandre-Occidentale', 'region': 'Flandre'}, 8302: {'province': 'Flandre-Occidentale', 'region': 'Flandre'}, 8303: {'province': 'Flandre-Occidentale', 'region': 'Flandre'}, 8304: {'province': 'Flandre-Occidentale', 'region': 'Flandre'}, 8305: {'province': 'Flandre-Occidentale', 'region': 'Flandre'}, 8306: {'province': 'Flandre-Occidentale', 'region': 'Flandre'}, 8307: {'province': 'Flandre-Occidentale', 'region': 'Flandre'}, 8308: {'province': 'Flandre-Occidentale', 'region': 'Flandre'}, 8309: {'province': 'Flandre-Occidentale', 'region': 'Flandre'}, 8310: {'province': 'Flandre-Occidentale', 'region': 'Flandre'}, 8311: {'province': 'Flandre-Occidentale', 'region': 'Flandre'}, 8312: {'province': 'Flandre-Occidentale', 'region': 'Flandre'}, 8313: {'province': 'Flandre-Occidentale', 'region': 'Flandre'}, 8314: {'province': 'Flandre-Occidentale', 'region': 'Flandre'}, 8315: {'province': 'Flandre-Occidentale', 'region': 'Flandre'}, 8316: {'province': 'Flandre-Occidentale', 'region': 'Flandre'}, 8317: {'province': 'Flandre-Occidentale', 'region': 'Flandre'}, 8318: {'province': 'Flandre-Occidentale', 'region': 'Flandre'}, 8319: {'province': 'Flandre-Occidentale', 'region': 'Flandre'}, 8320: {'province': 'Flandre-Occidentale', 'region': 'Flandre'}, 8321: {'province': 'Flandre-Occidentale', 'region': 'Flandre'}, 8322: {'province': 'Flandre-Occidentale', 'region': 'Flandre'}, 8323: {'province': 'Flandre-Occidentale', 'region': 'Flandre'}, 8324: {'province': 'Flandre-Occidentale', 'region': 'Flandre'}, 8325: {'province': 'Flandre-Occidentale', 'region': 'Flandre'}, 8326: {'province': 'Flandre-Occidentale', 'region': 'Flandre'}, 8327: {'province': 'Flandre-Occidentale', 'region': 'Flandre'}, 8328: {'province': 'Flandre-Occidentale', 'region': 'Flandre'}, 8329: {'province': 'Flandre-Occidentale', 'region': 'Flandre'}, 8330: {'province': 'Flandre-Occidentale', 'region': 'Flandre'}, 8331: {'province': 'Flandre-Occidentale', 'region': 'Flandre'}, 8332: {'province': 'Flandre-Occidentale', 'region': 'Flandre'}, 8333: {'province': 'Flandre-Occidentale', 'region': 'Flandre'}, 8334: {'province': 'Flandre-Occidentale', 'region': 'Flandre'}, 8335: {'province': 'Flandre-Occidentale', 'region': 'Flandre'}, 8336: {'province': 'Flandre-Occidentale', 'region': 'Flandre'}, 8337: {'province': 'Flandre-Occidentale', 'region': 'Flandre'}, 8338: {'province': 'Flandre-Occidentale', 'region': 'Flandre'}, 8339: {'province': 'Flandre-Occidentale', 'region': 'Flandre'}, 8340: {'province': 'Flandre-Occidentale', 'region': 'Flandre'}, 8341: {'province': 'Flandre-Occidentale', 'region': 'Flandre'}, 8342: {'province': 'Flandre-Occidentale', 'region': 'Flandre'}, 8343: {'province': 'Flandre-Occidentale', 'region': 'Flandre'}, 8344: {'province': 'Flandre-Occidentale', 'region': 'Flandre'}, 8345: {'province': 'Flandre-Occidentale', 'region': 'Flandre'}, 8346: {'province': 'Flandre-Occidentale', 'region': 'Flandre'}, 8347: {'province': 'Flandre-Occidentale', 'region': 'Flandre'}, 8348: {'province': 'Flandre-Occidentale', 'region': 'Flandre'}, 8349: {'province': 'Flandre-Occidentale', 'region': 'Flandre'}, 8350: {'province': 'Flandre-Occidentale', 'region': 'Flandre'}, 8351: {'province': 'Flandre-Occidentale', 'region': 'Flandre'}, 8352: {'province': 'Flandre-Occidentale', 'region': 'Flandre'}, 8353: {'province': 'Flandre-Occidentale', 'region': 'Flandre'}, 8354: {'province': 'Flandre-Occidentale', 'region': 'Flandre'}, 8355: {'province': 'Flandre-Occidentale', 'region': 'Flandre'}, 8356: {'province': 'Flandre-Occidentale', 'region': 'Flandre'}, 8357: {'province': 'Flandre-Occidentale', 'region': 'Flandre'}, 8358: {'province': 'Flandre-Occidentale', 'region': 'Flandre'}, 8359: {'province': 'Flandre-Occidentale', 'region': 'Flandre'}, 8360: {'province': 'Flandre-Occidentale', 'region': 'Flandre'}, 8361: {'province': 'Flandre-Occidentale', 'region': 'Flandre'}, 8362: {'province': 'Flandre-Occidentale', 'region': 'Flandre'}, 8363: {'province': 'Flandre-Occidentale', 'region': 'Flandre'}, 8364: {'province': 'Flandre-Occidentale', 'region': 'Flandre'}, 8365: {'province': 'Flandre-Occidentale', 'region': 'Flandre'}, 8366: {'province': 'Flandre-Occidentale', 'region': 'Flandre'}, 8367: {'province': 'Flandre-Occidentale', 'region': 'Flandre'}, 8368: {'province': 'Flandre-Occidentale', 'region': 'Flandre'}, 8369: {'province': 'Flandre-Occidentale', 'region': 'Flandre'}, 8370: {'province': 'Flandre-Occidentale', 'region': 'Flandre'}, 8371: {'province': 'Flandre-Occidentale', 'region': 'Flandre'}, 8372: {'province': 'Flandre-Occidentale', 'region': 'Flandre'}, 8373: {'province': 'Flandre-Occidentale', 'region': 'Flandre'}, 8374: {'province': 'Flandre-Occidentale', 'region': 'Flandre'}, 8375: {'province': 'Flandre-Occidentale', 'region': 'Flandre'}, 8376: {'province': 'Flandre-Occidentale', 'region': 'Flandre'}, 8377: {'province': 'Flandre-Occidentale', 'region': 'Flandre'}, 8378: {'province': 'Flandre-Occidentale', 'region': 'Flandre'}, 8379: {'province': 'Flandre-Occidentale', 'region': 'Flandre'}, 8380: {'province': 'Flandre-Occidentale', 'region': 'Flandre'}, 8381: {'province': 'Flandre-Occidentale', 'region': 'Flandre'}, 8382: {'province': 'Flandre-Occidentale', 'region': 'Flandre'}, 8383: {'province': 'Flandre-Occidentale', 'region': 'Flandre'}, 8384: {'province': 'Flandre-Occidentale', 'region': 'Flandre'}, 8385: {'province': 'Flandre-Occidentale', 'region': 'Flandre'}, 8386: {'province': 'Flandre-Occidentale', 'region': 'Flandre'}, 8387: {'province': 'Flandre-Occidentale', 'region': 'Flandre'}, 8388: {'province': 'Flandre-Occidentale', 'region': 'Flandre'}, 8389: {'province': 'Flandre-Occidentale', 'region': 'Flandre'}, 8390: {'province': 'Flandre-Occidentale', 'region': 'Flandre'}, 8391: {'province': 'Flandre-Occidentale', 'region': 'Flandre'}, 8392: {'province': 'Flandre-Occidentale', 'region': 'Flandre'}, 8393: {'province': 'Flandre-Occidentale', 'region': 'Flandre'}, 8394: {'province': 'Flandre-Occidentale', 'region': 'Flandre'}, 8395: {'province': 'Flandre-Occidentale', 'region': 'Flandre'}, 8396: {'province': 'Flandre-Occidentale', 'region': 'Flandre'}, 8397: {'province': 'Flandre-Occidentale', 'region': 'Flandre'}, 8398: {'province': 'Flandre-Occidentale', 'region': 'Flandre'}, 8399: {'province': 'Flandre-Occidentale', 'region': 'Flandre'}, 8400: {'province': 'Flandre-Occidentale', 'region': 'Flandre'}, 8401: {'province': 'Flandre-Occidentale', 'region': 'Flandre'}, 8402: {'province': 'Flandre-Occidentale', 'region': 'Flandre'}, 8403: {'province': 'Flandre-Occidentale', 'region': 'Flandre'}, 8404: {'province': 'Flandre-Occidentale', 'region': 'Flandre'}, 8405: {'province': 'Flandre-Occidentale', 'region': 'Flandre'}, 8406: {'province': 'Flandre-Occidentale', 'region': 'Flandre'}, 8407: {'province': 'Flandre-Occidentale', 'region': 'Flandre'}, 8408: {'province': 'Flandre-Occidentale', 'region': 'Flandre'}, 8409: {'province': 'Flandre-Occidentale', 'region': 'Flandre'}, 8410: {'province': 'Flandre-Occidentale', 'region': 'Flandre'}, 8411: {'province': 'Flandre-Occidentale', 'region': 'Flandre'}, 8412: {'province': 'Flandre-Occidentale', 'region': 'Flandre'}, 8413: {'province': 'Flandre-Occidentale', 'region': 'Flandre'}, 8414: {'province': 'Flandre-Occidentale', 'region': 'Flandre'}, 8415: {'province': 'Flandre-Occidentale', 'region': 'Flandre'}, 8416: {'province': 'Flandre-Occidentale', 'region': 'Flandre'}, 8417: {'province': 'Flandre-Occidentale', 'region': 'Flandre'}, 8418: {'province': 'Flandre-Occidentale', 'region': 'Flandre'}, 8419: {'province': 'Flandre-Occidentale', 'region': 'Flandre'}, 8420: {'province': 'Flandre-Occidentale', 'region': 'Flandre'}, 8421: {'province': 'Flandre-Occidentale', 'region': 'Flandre'}, 8422: {'province': 'Flandre-Occidentale', 'region': 'Flandre'}, 8423: {'province': 'Flandre-Occidentale', 'region': 'Flandre'}, 8424: {'province': 'Flandre-Occidentale', 'region': 'Flandre'}, 8425: {'province': 'Flandre-Occidentale', 'region': 'Flandre'}, 8426: {'province': 'Flandre-Occidentale', 'region': 'Flandre'}, 8427: {'province': 'Flandre-Occidentale', 'region': 'Flandre'}, 8428: {'province': 'Flandre-Occidentale', 'region': 'Flandre'}, 8429: {'province': 'Flandre-Occidentale', 'region': 'Flandre'}, 8430: {'province': 'Flandre-Occidentale', 'region': 'Flandre'}, 8431: {'province': 'Flandre-Occidentale', 'region': 'Flandre'}, 8432: {'province': 'Flandre-Occidentale', 'region': 'Flandre'}, 8433: {'province': 'Flandre-Occidentale', 'region': 'Flandre'}, 8434: {'province': 'Flandre-Occidentale', 'region': 'Flandre'}, 8435: {'province': 'Flandre-Occidentale', 'region': 'Flandre'}, 8436: {'province': 'Flandre-Occidentale', 'region': 'Flandre'}, 8437: {'province': 'Flandre-Occidentale', 'region': 'Flandre'}, 8438: {'province': 'Flandre-Occidentale', 'region': 'Flandre'}, 8439: {'province': 'Flandre-Occidentale', 'region': 'Flandre'}, 8440: {'province': 'Flandre-Occidentale', 'region': 'Flandre'}, 8441: {'province': 'Flandre-Occidentale', 'region': 'Flandre'}, 8442: {'province': 'Flandre-Occidentale', 'region': 'Flandre'}, 8443: {'province': 'Flandre-Occidentale', 'region': 'Flandre'}, 8444: {'province': 'Flandre-Occidentale', 'region': 'Flandre'}, 8445: {'province': 'Flandre-Occidentale', 'region': 'Flandre'}, 8446: {'province': 'Flandre-Occidentale', 'region': 'Flandre'}, 8447: {'province': 'Flandre-Occidentale', 'region': 'Flandre'}, 8448: {'province': 'Flandre-Occidentale', 'region': 'Flandre'}, 8449: {'province': 'Flandre-Occidentale', 'region': 'Flandre'}, 8450: {'province': 'Flandre-Occidentale', 'region': 'Flandre'}, 8451: {'province': 'Flandre-Occidentale', 'region': 'Flandre'}, 8452: {'province': 'Flandre-Occidentale', 'region': 'Flandre'}, 8453: {'province': 'Flandre-Occidentale', 'region': 'Flandre'}, 8454: {'province': 'Flandre-Occidentale', 'region': 'Flandre'}, 8455: {'province': 'Flandre-Occidentale', 'region': 'Flandre'}, 8456: {'province': 'Flandre-Occidentale', 'region': 'Flandre'}, 8457: {'province': 'Flandre-Occidentale', 'region': 'Flandre'}, 8458: {'province': 'Flandre-Occidentale', 'region': 'Flandre'}, 8459: {'province': 'Flandre-Occidentale', 'region': 'Flandre'}, 8460: {'province': 'Flandre-Occidentale', 'region': 'Flandre'}, 8461: {'province': 'Flandre-Occidentale', 'region': 'Flandre'}, 8462: {'province': 'Flandre-Occidentale', 'region': 'Flandre'}, 8463: {'province': 'Flandre-Occidentale', 'region': 'Flandre'}, 8464: {'province': 'Flandre-Occidentale', 'region': 'Flandre'}, 8465: {'province': 'Flandre-Occidentale', 'region': 'Flandre'}, 8466: {'province': 'Flandre-Occidentale', 'region': 'Flandre'}, 8467: {'province': 'Flandre-Occidentale', 'region': 'Flandre'}, 8468: {'province': 'Flandre-Occidentale', 'region': 'Flandre'}, 8469: {'province': 'Flandre-Occidentale', 'region': 'Flandre'}, 8470: {'province': 'Flandre-Occidentale', 'region': 'Flandre'}, 8471: {'province': 'Flandre-Occidentale', 'region': 'Flandre'}, 8472: {'province': 'Flandre-Occidentale', 'region': 'Flandre'}, 8473: {'province': 'Flandre-Occidentale', 'region': 'Flandre'}, 8474: {'province': 'Flandre-Occidentale', 'region': 'Flandre'}, 8475: {'province': 'Flandre-Occidentale', 'region': 'Flandre'}, 8476: {'province': 'Flandre-Occidentale', 'region': 'Flandre'}, 8477: {'province': 'Flandre-Occidentale', 'region': 'Flandre'}, 8478: {'province': 'Flandre-Occidentale', 'region': 'Flandre'}, 8479: {'province': 'Flandre-Occidentale', 'region': 'Flandre'}, 8480: {'province': 'Flandre-Occidentale', 'region': 'Flandre'}, 8481: {'province': 'Flandre-Occidentale', 'region': 'Flandre'}, 8482: {'province': 'Flandre-Occidentale', 'region': 'Flandre'}, 8483: {'province': 'Flandre-Occidentale', 'region': 'Flandre'}, 8484: {'province': 'Flandre-Occidentale', 'region': 'Flandre'}, 8485: {'province': 'Flandre-Occidentale', 'region': 'Flandre'}, 8486: {'province': 'Flandre-Occidentale', 'region': 'Flandre'}, 8487: {'province': 'Flandre-Occidentale', 'region': 'Flandre'}, 8488: {'province': 'Flandre-Occidentale', 'region': 'Flandre'}, 8489: {'province': 'Flandre-Occidentale', 'region': 'Flandre'}, 8490: {'province': 'Flandre-Occidentale', 'region': 'Flandre'}, 8491: {'province': 'Flandre-Occidentale', 'region': 'Flandre'}, 8492: {'province': 'Flandre-Occidentale', 'region': 'Flandre'}, 8493: {'province': 'Flandre-Occidentale', 'region': 'Flandre'}, 8494: {'province': 'Flandre-Occidentale', 'region': 'Flandre'}, 8495: {'province': 'Flandre-Occidentale', 'region': 'Flandre'}, 8496: {'province': 'Flandre-Occidentale', 'region': 'Flandre'}, 8497: {'province': 'Flandre-Occidentale', 'region': 'Flandre'}, 8498: {'province': 'Flandre-Occidentale', 'region': 'Flandre'}, 8499: {'province': 'Flandre-Occidentale', 'region': 'Flandre'}, 8500: {'province': 'Flandre-Occidentale', 'region': 'Flandre'}, 8501: {'province': 'Flandre-Occidentale', 'region': 'Flandre'}, 8502: {'province': 'Flandre-Occidentale', 'region': 'Flandre'}, 8503: {'province': 'Flandre-Occidentale', 'region': 'Flandre'}, 8504: {'province': 'Flandre-Occidentale', 'region': 'Flandre'}, 8505: {'province': 'Flandre-Occidentale', 'region': 'Flandre'}, 8506: {'province': 'Flandre-Occidentale', 'region': 'Flandre'}, 8507: {'province': 'Flandre-Occidentale', 'region': 'Flandre'}, 8508: {'province': 'Flandre-Occidentale', 'region': 'Flandre'}, 8509: {'province': 'Flandre-Occidentale', 'region': 'Flandre'}, 8510: {'province': 'Flandre-Occidentale', 'region': 'Flandre'}, 8511: {'province': 'Flandre-Occidentale', 'region': 'Flandre'}, 8512: {'province': 'Flandre-Occidentale', 'region': 'Flandre'}, 8513: {'province': 'Flandre-Occidentale', 'region': 'Flandre'}, 8514: {'province': 'Flandre-Occidentale', 'region': 'Flandre'}, 8515: {'province': 'Flandre-Occidentale', 'region': 'Flandre'}, 8516: {'province': 'Flandre-Occidentale', 'region': 'Flandre'}, 8517: {'province': 'Flandre-Occidentale', 'region': 'Flandre'}, 8518: {'province': 'Flandre-Occidentale', 'region': 'Flandre'}, 8519: {'province': 'Flandre-Occidentale', 'region': 'Flandre'}, 8520: {'province': 'Flandre-Occidentale', 'region': 'Flandre'}, 8521: {'province': 'Flandre-Occidentale', 'region': 'Flandre'}, 8522: {'province': 'Flandre-Occidentale', 'region': 'Flandre'}, 8523: {'province': 'Flandre-Occidentale', 'region': 'Flandre'}, 8524: {'province': 'Flandre-Occidentale', 'region': 'Flandre'}, 8525: {'province': 'Flandre-Occidentale', 'region': 'Flandre'}, 8526: {'province': 'Flandre-Occidentale', 'region': 'Flandre'}, 8527: {'province': 'Flandre-Occidentale', 'region': 'Flandre'}, 8528: {'province': 'Flandre-Occidentale', 'region': 'Flandre'}, 8529: {'province': 'Flandre-Occidentale', 'region': 'Flandre'}, 8530: {'province': 'Flandre-Occidentale', 'region': 'Flandre'}, 8531: {'province': 'Flandre-Occidentale', 'region': 'Flandre'}, 8532: {'province': 'Flandre-Occidentale', 'region': 'Flandre'}, 8533: {'province': 'Flandre-Occidentale', 'region': 'Flandre'}, 8534: {'province': 'Flandre-Occidentale', 'region': 'Flandre'}, 8535: {'province': 'Flandre-Occidentale', 'region': 'Flandre'}, 8536: {'province': 'Flandre-Occidentale', 'region': 'Flandre'}, 8537: {'province': 'Flandre-Occidentale', 'region': 'Flandre'}, 8538: {'province': 'Flandre-Occidentale', 'region': 'Flandre'}, 8539: {'province': 'Flandre-Occidentale', 'region': 'Flandre'}, 8540: {'province': 'Flandre-Occidentale', 'region': 'Flandre'}, 8541: {'province': 'Flandre-Occidentale', 'region': 'Flandre'}, 8542: {'province': 'Flandre-Occidentale', 'region': 'Flandre'}, 8543: {'province': 'Flandre-Occidentale', 'region': 'Flandre'}, 8544: {'province': 'Flandre-Occidentale', 'region': 'Flandre'}, 8545: {'province': 'Flandre-Occidentale', 'region': 'Flandre'}, 8546: {'province': 'Flandre-Occidentale', 'region': 'Flandre'}, 8547: {'province': 'Flandre-Occidentale', 'region': 'Flandre'}, 8548: {'province': 'Flandre-Occidentale', 'region': 'Flandre'}, 8549: {'province': 'Flandre-Occidentale', 'region': 'Flandre'}, 8550: {'province': 'Flandre-Occidentale', 'region': 'Flandre'}, 8551: {'province': 'Flandre-Occidentale', 'region': 'Flandre'}, 8552: {'province': 'Flandre-Occidentale', 'region': 'Flandre'}, 8553: {'province': 'Flandre-Occidentale', 'region': 'Flandre'}, 8554: {'province': 'Flandre-Occidentale', 'region': 'Flandre'}, 8555: {'province': 'Flandre-Occidentale', 'region': 'Flandre'}, 8556: {'province': 'Flandre-Occidentale', 'region': 'Flandre'}, 8557: {'province': 'Flandre-Occidentale', 'region': 'Flandre'}, 8558: {'province': 'Flandre-Occidentale', 'region': 'Flandre'}, 8559: {'province': 'Flandre-Occidentale', 'region': 'Flandre'}, 8560: {'province': 'Flandre-Occidentale', 'region': 'Flandre'}, 8561: {'province': 'Flandre-Occidentale', 'region': 'Flandre'}, 8562: {'province': 'Flandre-Occidentale', 'region': 'Flandre'}, 8563: {'province': 'Flandre-Occidentale', 'region': 'Flandre'}, 8564: {'province': 'Flandre-Occidentale', 'region': 'Flandre'}, 8565: {'province': 'Flandre-Occidentale', 'region': 'Flandre'}, 8566: {'province': 'Flandre-Occidentale', 'region': 'Flandre'}, 8567: {'province': 'Flandre-Occidentale', 'region': 'Flandre'}, 8568: {'province': 'Flandre-Occidentale', 'region': 'Flandre'}, 8569: {'province': 'Flandre-Occidentale', 'region': 'Flandre'}, 8570: {'province': 'Flandre-Occidentale', 'region': 'Flandre'}, 8571: {'province': 'Flandre-Occidentale', 'region': 'Flandre'}, 8572: {'province': 'Flandre-Occidentale', 'region': 'Flandre'}, 8573: {'province': 'Flandre-Occidentale', 'region': 'Flandre'}, 8574: {'province': 'Flandre-Occidentale', 'region': 'Flandre'}, 8575: {'province': 'Flandre-Occidentale', 'region': 'Flandre'}, 8576: {'province': 'Flandre-Occidentale', 'region': 'Flandre'}, 8577: {'province': 'Flandre-Occidentale', 'region': 'Flandre'}, 8578: {'province': 'Flandre-Occidentale', 'region': 'Flandre'}, 8579: {'province': 'Flandre-Occidentale', 'region': 'Flandre'}, 8580: {'province': 'Flandre-Occidentale', 'region': 'Flandre'}, 8581: {'province': 'Flandre-Occidentale', 'region': 'Flandre'}, 8582: {'province': 'Flandre-Occidentale', 'region': 'Flandre'}, 8583: {'province': 'Flandre-Occidentale', 'region': 'Flandre'}, 8584: {'province': 'Flandre-Occidentale', 'region': 'Flandre'}, 8585: {'province': 'Flandre-Occidentale', 'region': 'Flandre'}, 8586: {'province': 'Flandre-Occidentale', 'region': 'Flandre'}, 8587: {'province': 'Flandre-Occidentale', 'region': 'Flandre'}, 8588: {'province': 'Flandre-Occidentale', 'region': 'Flandre'}, 8589: {'province': 'Flandre-Occidentale', 'region': 'Flandre'}, 8590: {'province': 'Flandre-Occidentale', 'region': 'Flandre'}, 8591: {'province': 'Flandre-Occidentale', 'region': 'Flandre'}, 8592: {'province': 'Flandre-Occidentale', 'region': 'Flandre'}, 8593: {'province': 'Flandre-Occidentale', 'region': 'Flandre'}, 8594: {'province': 'Flandre-Occidentale', 'region': 'Flandre'}, 8595: {'province': 'Flandre-Occidentale', 'region': 'Flandre'}, 8596: {'province': 'Flandre-Occidentale', 'region': 'Flandre'}, 8597: {'province': 'Flandre-Occidentale', 'region': 'Flandre'}, 8598: {'province': 'Flandre-Occidentale', 'region': 'Flandre'}, 8599: {'province': 'Flandre-Occidentale', 'region': 'Flandre'}, 8600: {'province': 'Flandre-Occidentale', 'region': 'Flandre'}, 8601: {'province': 'Flandre-Occidentale', 'region': 'Flandre'}, 8602: {'province': 'Flandre-Occidentale', 'region': 'Flandre'}, 8603: {'province': 'Flandre-Occidentale', 'region': 'Flandre'}, 8604: {'province': 'Flandre-Occidentale', 'region': 'Flandre'}, 8605: {'province': 'Flandre-Occidentale', 'region': 'Flandre'}, 8606: {'province': 'Flandre-Occidentale', 'region': 'Flandre'}, 8607: {'province': 'Flandre-Occidentale', 'region': 'Flandre'}, 8608: {'province': 'Flandre-Occidentale', 'region': 'Flandre'}, 8609: {'province': 'Flandre-Occidentale', 'region': 'Flandre'}, 8610: {'province': 'Flandre-Occidentale', 'region': 'Flandre'}, 8611: {'province': 'Flandre-Occidentale', 'region': 'Flandre'}, 8612: {'province': 'Flandre-Occidentale', 'region': 'Flandre'}, 8613: {'province': 'Flandre-Occidentale', 'region': 'Flandre'}, 8614: {'province': 'Flandre-Occidentale', 'region': 'Flandre'}, 8615: {'province': 'Flandre-Occidentale', 'region': 'Flandre'}, 8616: {'province': 'Flandre-Occidentale', 'region': 'Flandre'}, 8617: {'province': 'Flandre-Occidentale', 'region': 'Flandre'}, 8618: {'province': 'Flandre-Occidentale', 'region': 'Flandre'}, 8619: {'province': 'Flandre-Occidentale', 'region': 'Flandre'}, 8620: {'province': 'Flandre-Occidentale', 'region': 'Flandre'}, 8621: {'province': 'Flandre-Occidentale', 'region': 'Flandre'}, 8622: {'province': 'Flandre-Occidentale', 'region': 'Flandre'}, 8623: {'province': 'Flandre-Occidentale', 'region': 'Flandre'}, 8624: {'province': 'Flandre-Occidentale', 'region': 'Flandre'}, 8625: {'province': 'Flandre-Occidentale', 'region': 'Flandre'}, 8626: {'province': 'Flandre-Occidentale', 'region': 'Flandre'}, 8627: {'province': 'Flandre-Occidentale', 'region': 'Flandre'}, 8628: {'province': 'Flandre-Occidentale', 'region': 'Flandre'}, 8629: {'province': 'Flandre-Occidentale', 'region': 'Flandre'}, 8630: {'province': 'Flandre-Occidentale', 'region': 'Flandre'}, 8631: {'province': 'Flandre-Occidentale', 'region': 'Flandre'}, 8632: {'province': 'Flandre-Occidentale', 'region': 'Flandre'}, 8633: {'province': 'Flandre-Occidentale', 'region': 'Flandre'}, 8634: {'province': 'Flandre-Occidentale', 'region': 'Flandre'}, 8635: {'province': 'Flandre-Occidentale', 'region': 'Flandre'}, 8636: {'province': 'Flandre-Occidentale', 'region': 'Flandre'}, 8637: {'province': 'Flandre-Occidentale', 'region': 'Flandre'}, 8638: {'province': 'Flandre-Occidentale', 'region': 'Flandre'}, 8639: {'province': 'Flandre-Occidentale', 'region': 'Flandre'}, 8640: {'province': 'Flandre-Occidentale', 'region': 'Flandre'}, 8641: {'province': 'Flandre-Occidentale', 'region': 'Flandre'}, 8642: {'province': 'Flandre-Occidentale', 'region': 'Flandre'}, 8643: {'province': 'Flandre-Occidentale', 'region': 'Flandre'}, 8644: {'province': 'Flandre-Occidentale', 'region': 'Flandre'}, 8645: {'province': 'Flandre-Occidentale', 'region': 'Flandre'}, 8646: {'province': 'Flandre-Occidentale', 'region': 'Flandre'}, 8647: {'province': 'Flandre-Occidentale', 'region': 'Flandre'}, 8648: {'province': 'Flandre-Occidentale', 'region': 'Flandre'}, 8649: {'province': 'Flandre-Occidentale', 'region': 'Flandre'}, 8650: {'province': 'Flandre-Occidentale', 'region': 'Flandre'}, 8651: {'province': 'Flandre-Occidentale', 'region': 'Flandre'}, 8652: {'province': 'Flandre-Occidentale', 'region': 'Flandre'}, 8653: {'province': 'Flandre-Occidentale', 'region': 'Flandre'}, 8654: {'province': 'Flandre-Occidentale', 'region': 'Flandre'}, 8655: {'province': 'Flandre-Occidentale', 'region': 'Flandre'}, 8656: {'province': 'Flandre-Occidentale', 'region': 'Flandre'}, 8657: {'province': 'Flandre-Occidentale', 'region': 'Flandre'}, 8658: {'province': 'Flandre-Occidentale', 'region': 'Flandre'}, 8659: {'province': 'Flandre-Occidentale', 'region': 'Flandre'}, 8660: {'province': 'Flandre-Occidentale', 'region': 'Flandre'}, 8661: {'province': 'Flandre-Occidentale', 'region': 'Flandre'}, 8662: {'province': 'Flandre-Occidentale', 'region': 'Flandre'}, 8663: {'province': 'Flandre-Occidentale', 'region': 'Flandre'}, 8664: {'province': 'Flandre-Occidentale', 'region': 'Flandre'}, 8665: {'province': 'Flandre-Occidentale', 'region': 'Flandre'}, 8666: {'province': 'Flandre-Occidentale', 'region': 'Flandre'}, 8667: {'province': 'Flandre-Occidentale', 'region': 'Flandre'}, 8668: {'province': 'Flandre-Occidentale', 'region': 'Flandre'}, 8669: {'province': 'Flandre-Occidentale', 'region': 'Flandre'}, 8670: {'province': 'Flandre-Occidentale', 'region': 'Flandre'}, 8671: {'province': 'Flandre-Occidentale', 'region': 'Flandre'}, 8672: {'province': 'Flandre-Occidentale', 'region': 'Flandre'}, 8673: {'province': 'Flandre-Occidentale', 'region': 'Flandre'}, 8674: {'province': 'Flandre-Occidentale', 'region': 'Flandre'}, 8675: {'province': 'Flandre-Occidentale', 'region': 'Flandre'}, 8676: {'province': 'Flandre-Occidentale', 'region': 'Flandre'}, 8677: {'province': 'Flandre-Occidentale', 'region': 'Flandre'}, 8678: {'province': 'Flandre-Occidentale', 'region': 'Flandre'}, 8679: {'province': 'Flandre-Occidentale', 'region': 'Flandre'}, 8680: {'province': 'Flandre-Occidentale', 'region': 'Flandre'}, 8681: {'province': 'Flandre-Occidentale', 'region': 'Flandre'}, 8682: {'province': 'Flandre-Occidentale', 'region': 'Flandre'}, 8683: {'province': 'Flandre-Occidentale', 'region': 'Flandre'}, 8684: {'province': 'Flandre-Occidentale', 'region': 'Flandre'}, 8685: {'province': 'Flandre-Occidentale', 'region': 'Flandre'}, 8686: {'province': 'Flandre-Occidentale', 'region': 'Flandre'}, 8687: {'province': 'Flandre-Occidentale', 'region': 'Flandre'}, 8688: {'province': 'Flandre-Occidentale', 'region': 'Flandre'}, 8689: {'province': 'Flandre-Occidentale', 'region': 'Flandre'}, 8690: {'province': 'Flandre-Occidentale', 'region': 'Flandre'}, 8691: {'province': 'Flandre-Occidentale', 'region': 'Flandre'}, 8692: {'province': 'Flandre-Occidentale', 'region': 'Flandre'}, 8693: {'province': 'Flandre-Occidentale', 'region': 'Flandre'}, 8694: {'province': 'Flandre-Occidentale', 'region': 'Flandre'}, 8695: {'province': 'Flandre-Occidentale', 'region': 'Flandre'}, 8696: {'province': 'Flandre-Occidentale', 'region': 'Flandre'}, 8697: {'province': 'Flandre-Occidentale', 'region': 'Flandre'}, 8698: {'province': 'Flandre-Occidentale', 'region': 'Flandre'}, 8699: {'province': 'Flandre-Occidentale', 'region': 'Flandre'}, 8700: {'province': 'Flandre-Occidentale', 'region': 'Flandre'}, 8701: {'province': 'Flandre-Occidentale', 'region': 'Flandre'}, 8702: {'province': 'Flandre-Occidentale', 'region': 'Flandre'}, 8703: {'province': 'Flandre-Occidentale', 'region': 'Flandre'}, 8704: {'province': 'Flandre-Occidentale', 'region': 'Flandre'}, 8705: {'province': 'Flandre-Occidentale', 'region': 'Flandre'}, 8706: {'province': 'Flandre-Occidentale', 'region': 'Flandre'}, 8707: {'province': 'Flandre-Occidentale', 'region': 'Flandre'}, 8708: {'province': 'Flandre-Occidentale', 'region': 'Flandre'}, 8709: {'province': 'Flandre-Occidentale', 'region': 'Flandre'}, 8710: {'province': 'Flandre-Occidentale', 'region': 'Flandre'}, 8711: {'province': 'Flandre-Occidentale', 'region': 'Flandre'}, 8712: {'province': 'Flandre-Occidentale', 'region': 'Flandre'}, 8713: {'province': 'Flandre-Occidentale', 'region': 'Flandre'}, 8714: {'province': 'Flandre-Occidentale', 'region': 'Flandre'}, 8715: {'province': 'Flandre-Occidentale', 'region': 'Flandre'}, 8716: {'province': 'Flandre-Occidentale', 'region': 'Flandre'}, 8717: {'province': 'Flandre-Occidentale', 'region': 'Flandre'}, 8718: {'province': 'Flandre-Occidentale', 'region': 'Flandre'}, 8719: {'province': 'Flandre-Occidentale', 'region': 'Flandre'}, 8720: {'province': 'Flandre-Occidentale', 'region': 'Flandre'}, 8721: {'province': 'Flandre-Occidentale', 'region': 'Flandre'}, 8722: {'province': 'Flandre-Occidentale', 'region': 'Flandre'}, 8723: {'province': 'Flandre-Occidentale', 'region': 'Flandre'}, 8724: {'province': 'Flandre-Occidentale', 'region': 'Flandre'}, 8725: {'province': 'Flandre-Occidentale', 'region': 'Flandre'}, 8726: {'province': 'Flandre-Occidentale', 'region': 'Flandre'}, 8727: {'province': 'Flandre-Occidentale', 'region': 'Flandre'}, 8728: {'province': 'Flandre-Occidentale', 'region': 'Flandre'}, 8729: {'province': 'Flandre-Occidentale', 'region': 'Flandre'}, 8730: {'province': 'Flandre-Occidentale', 'region': 'Flandre'}, 8731: {'province': 'Flandre-Occidentale', 'region': 'Flandre'}, 8732: {'province': 'Flandre-Occidentale', 'region': 'Flandre'}, 8733: {'province': 'Flandre-Occidentale', 'region': 'Flandre'}, 8734: {'province': 'Flandre-Occidentale', 'region': 'Flandre'}, 8735: {'province': 'Flandre-Occidentale', 'region': 'Flandre'}, 8736: {'province': 'Flandre-Occidentale', 'region': 'Flandre'}, 8737: {'province': 'Flandre-Occidentale', 'region': 'Flandre'}, 8738: {'province': 'Flandre-Occidentale', 'region': 'Flandre'}, 8739: {'province': 'Flandre-Occidentale', 'region': 'Flandre'}, 8740: {'province': 'Flandre-Occidentale', 'region': 'Flandre'}, 8741: {'province': 'Flandre-Occidentale', 'region': 'Flandre'}, 8742: {'province': 'Flandre-Occidentale', 'region': 'Flandre'}, 8743: {'province': 'Flandre-Occidentale', 'region': 'Flandre'}, 8744: {'province': 'Flandre-Occidentale', 'region': 'Flandre'}, 8745: {'province': 'Flandre-Occidentale', 'region': 'Flandre'}, 8746: {'province': 'Flandre-Occidentale', 'region': 'Flandre'}, 8747: {'province': 'Flandre-Occidentale', 'region': 'Flandre'}, 8748: {'province': 'Flandre-Occidentale', 'region': 'Flandre'}, 8749: {'province': 'Flandre-Occidentale', 'region': 'Flandre'}, 8750: {'province': 'Flandre-Occidentale', 'region': 'Flandre'}, 8751: {'province': 'Flandre-Occidentale', 'region': 'Flandre'}, 8752: {'province': 'Flandre-Occidentale', 'region': 'Flandre'}, 8753: {'province': 'Flandre-Occidentale', 'region': 'Flandre'}, 8754: {'province': 'Flandre-Occidentale', 'region': 'Flandre'}, 8755: {'province': 'Flandre-Occidentale', 'region': 'Flandre'}, 8756: {'province': 'Flandre-Occidentale', 'region': 'Flandre'}, 8757: {'province': 'Flandre-Occidentale', 'region': 'Flandre'}, 8758: {'province': 'Flandre-Occidentale', 'region': 'Flandre'}, 8759: {'province': 'Flandre-Occidentale', 'region': 'Flandre'}, 8760: {'province': 'Flandre-Occidentale', 'region': 'Flandre'}, 8761: {'province': 'Flandre-Occidentale', 'region': 'Flandre'}, 8762: {'province': 'Flandre-Occidentale', 'region': 'Flandre'}, 8763: {'province': 'Flandre-Occidentale', 'region': 'Flandre'}, 8764: {'province': 'Flandre-Occidentale', 'region': 'Flandre'}, 8765: {'province': 'Flandre-Occidentale', 'region': 'Flandre'}, 8766: {'province': 'Flandre-Occidentale', 'region': 'Flandre'}, 8767: {'province': 'Flandre-Occidentale', 'region': 'Flandre'}, 8768: {'province': 'Flandre-Occidentale', 'region': 'Flandre'}, 8769: {'province': 'Flandre-Occidentale', 'region': 'Flandre'}, 8770: {'province': 'Flandre-Occidentale', 'region': 'Flandre'}, 8771: {'province': 'Flandre-Occidentale', 'region': 'Flandre'}, 8772: {'province': 'Flandre-Occidentale', 'region': 'Flandre'}, 8773: {'province': 'Flandre-Occidentale', 'region': 'Flandre'}, 8774: {'province': 'Flandre-Occidentale', 'region': 'Flandre'}, 8775: {'province': 'Flandre-Occidentale', 'region': 'Flandre'}, 8776: {'province': 'Flandre-Occidentale', 'region': 'Flandre'}, 8777: {'province': 'Flandre-Occidentale', 'region': 'Flandre'}, 8778: {'province': 'Flandre-Occidentale', 'region': 'Flandre'}, 8779: {'province': 'Flandre-Occidentale', 'region': 'Flandre'}, 8780: {'province': 'Flandre-Occidentale', 'region': 'Flandre'}, 8781: {'province': 'Flandre-Occidentale', 'region': 'Flandre'}, 8782: {'province': 'Flandre-Occidentale', 'region': 'Flandre'}, 8783: {'province': 'Flandre-Occidentale', 'region': 'Flandre'}, 8784: {'province': 'Flandre-Occidentale', 'region': 'Flandre'}, 8785: {'province': 'Flandre-Occidentale', 'region': 'Flandre'}, 8786: {'province': 'Flandre-Occidentale', 'region': 'Flandre'}, 8787: {'province': 'Flandre-Occidentale', 'region': 'Flandre'}, 8788: {'province': 'Flandre-Occidentale', 'region': 'Flandre'}, 8789: {'province': 'Flandre-Occidentale', 'region': 'Flandre'}, 8790: {'province': 'Flandre-Occidentale', 'region': 'Flandre'}, 8791: {'province': 'Flandre-Occidentale', 'region': 'Flandre'}, 8792: {'province': 'Flandre-Occidentale', 'region': 'Flandre'}, 8793: {'province': 'Flandre-Occidentale', 'region': 'Flandre'}, 8794: {'province': 'Flandre-Occidentale', 'region': 'Flandre'}, 8795: {'province': 'Flandre-Occidentale', 'region': 'Flandre'}, 8796: {'province': 'Flandre-Occidentale', 'region': 'Flandre'}, 8797: {'province': 'Flandre-Occidentale', 'region': 'Flandre'}, 8798: {'province': 'Flandre-Occidentale', 'region': 'Flandre'}, 8799: {'province': 'Flandre-Occidentale', 'region': 'Flandre'}, 8800: {'province': 'Flandre-Occidentale', 'region': 'Flandre'}, 8801: {'province': 'Flandre-Occidentale', 'region': 'Flandre'}, 8802: {'province': 'Flandre-Occidentale', 'region': 'Flandre'}, 8803: {'province': 'Flandre-Occidentale', 'region': 'Flandre'}, 8804: {'province': 'Flandre-Occidentale', 'region': 'Flandre'}, 8805: {'province': 'Flandre-Occidentale', 'region': 'Flandre'}, 8806: {'province': 'Flandre-Occidentale', 'region': 'Flandre'}, 8807: {'province': 'Flandre-Occidentale', 'region': 'Flandre'}, 8808: {'province': 'Flandre-Occidentale', 'region': 'Flandre'}, 8809: {'province': 'Flandre-Occidentale', 'region': 'Flandre'}, 8810: {'province': 'Flandre-Occidentale', 'region': 'Flandre'}, 8811: {'province': 'Flandre-Occidentale', 'region': 'Flandre'}, 8812: {'province': 'Flandre-Occidentale', 'region': 'Flandre'}, 8813: {'province': 'Flandre-Occidentale', 'region': 'Flandre'}, 8814: {'province': 'Flandre-Occidentale', 'region': 'Flandre'}, 8815: {'province': 'Flandre-Occidentale', 'region': 'Flandre'}, 8816: {'province': 'Flandre-Occidentale', 'region': 'Flandre'}, 8817: {'province': 'Flandre-Occidentale', 'region': 'Flandre'}, 8818: {'province': 'Flandre-Occidentale', 'region': 'Flandre'}, 8819: {'province': 'Flandre-Occidentale', 'region': 'Flandre'}, 8820: {'province': 'Flandre-Occidentale', 'region': 'Flandre'}, 8821: {'province': 'Flandre-Occidentale', 'region': 'Flandre'}, 8822: {'province': 'Flandre-Occidentale', 'region': 'Flandre'}, 8823: {'province': 'Flandre-Occidentale', 'region': 'Flandre'}, 8824: {'province': 'Flandre-Occidentale', 'region': 'Flandre'}, 8825: {'province': 'Flandre-Occidentale', 'region': 'Flandre'}, 8826: {'province': 'Flandre-Occidentale', 'region': 'Flandre'}, 8827: {'province': 'Flandre-Occidentale', 'region': 'Flandre'}, 8828: {'province': 'Flandre-Occidentale', 'region': 'Flandre'}, 8829: {'province': 'Flandre-Occidentale', 'region': 'Flandre'}, 8830: {'province': 'Flandre-Occidentale', 'region': 'Flandre'}, 8831: {'province': 'Flandre-Occidentale', 'region': 'Flandre'}, 8832: {'province': 'Flandre-Occidentale', 'region': 'Flandre'}, 8833: {'province': 'Flandre-Occidentale', 'region': 'Flandre'}, 8834: {'province': 'Flandre-Occidentale', 'region': 'Flandre'}, 8835: {'province': 'Flandre-Occidentale', 'region': 'Flandre'}, 8836: {'province': 'Flandre-Occidentale', 'region': 'Flandre'}, 8837: {'province': 'Flandre-Occidentale', 'region': 'Flandre'}, 8838: {'province': 'Flandre-Occidentale', 'region': 'Flandre'}, 8839: {'province': 'Flandre-Occidentale', 'region': 'Flandre'}, 8840: {'province': 'Flandre-Occidentale', 'region': 'Flandre'}, 8841: {'province': 'Flandre-Occidentale', 'region': 'Flandre'}, 8842: {'province': 'Flandre-Occidentale', 'region': 'Flandre'}, 8843: {'province': 'Flandre-Occidentale', 'region': 'Flandre'}, 8844: {'province': 'Flandre-Occidentale', 'region': 'Flandre'}, 8845: {'province': 'Flandre-Occidentale', 'region': 'Flandre'}, 8846: {'province': 'Flandre-Occidentale', 'region': 'Flandre'}, 8847: {'province': 'Flandre-Occidentale', 'region': 'Flandre'}, 8848: {'province': 'Flandre-Occidentale', 'region': 'Flandre'}, 8849: {'province': 'Flandre-Occidentale', 'region': 'Flandre'}, 8850: {'province': 'Flandre-Occidentale', 'region': 'Flandre'}, 8851: {'province': 'Flandre-Occidentale', 'region': 'Flandre'}, 8852: {'province': 'Flandre-Occidentale', 'region': 'Flandre'}, 8853: {'province': 'Flandre-Occidentale', 'region': 'Flandre'}, 8854: {'province': 'Flandre-Occidentale', 'region': 'Flandre'}, 8855: {'province': 'Flandre-Occidentale', 'region': 'Flandre'}, 8856: {'province': 'Flandre-Occidentale', 'region': 'Flandre'}, 8857: {'province': 'Flandre-Occidentale', 'region': 'Flandre'}, 8858: {'province': 'Flandre-Occidentale', 'region': 'Flandre'}, 8859: {'province': 'Flandre-Occidentale', 'region': 'Flandre'}, 8860: {'province': 'Flandre-Occidentale', 'region': 'Flandre'}, 8861: {'province': 'Flandre-Occidentale', 'region': 'Flandre'}, 8862: {'province': 'Flandre-Occidentale', 'region': 'Flandre'}, 8863: {'province': 'Flandre-Occidentale', 'region': 'Flandre'}, 8864: {'province': 'Flandre-Occidentale', 'region': 'Flandre'}, 8865: {'province': 'Flandre-Occidentale', 'region': 'Flandre'}, 8866: {'province': 'Flandre-Occidentale', 'region': 'Flandre'}, 8867: {'province': 'Flandre-Occidentale', 'region': 'Flandre'}, 8868: {'province': 'Flandre-Occidentale', 'region': 'Flandre'}, 8869: {'province': 'Flandre-Occidentale', 'region': 'Flandre'}, 8870: {'province': 'Flandre-Occidentale', 'region': 'Flandre'}, 8871: {'province': 'Flandre-Occidentale', 'region': 'Flandre'}, 8872: {'province': 'Flandre-Occidentale', 'region': 'Flandre'}, 8873: {'province': 'Flandre-Occidentale', 'region': 'Flandre'}, 8874: {'province': 'Flandre-Occidentale', 'region': 'Flandre'}, 8875: {'province': 'Flandre-Occidentale', 'region': 'Flandre'}, 8876: {'province': 'Flandre-Occidentale', 'region': 'Flandre'}, 8877: {'province': 'Flandre-Occidentale', 'region': 'Flandre'}, 8878: {'province': 'Flandre-Occidentale', 'region': 'Flandre'}, 8879: {'province': 'Flandre-Occidentale', 'region': 'Flandre'}, 8880: {'province': 'Flandre-Occidentale', 'region': 'Flandre'}, 8881: {'province': 'Flandre-Occidentale', 'region': 'Flandre'}, 8882: {'province': 'Flandre-Occidentale', 'region': 'Flandre'}, 8883: {'province': 'Flandre-Occidentale', 'region': 'Flandre'}, 8884: {'province': 'Flandre-Occidentale', 'region': 'Flandre'}, 8885: {'province': 'Flandre-Occidentale', 'region': 'Flandre'}, 8886: {'province': 'Flandre-Occidentale', 'region': 'Flandre'}, 8887: {'province': 'Flandre-Occidentale', 'region': 'Flandre'}, 8888: {'province': 'Flandre-Occidentale', 'region': 'Flandre'}, 8889: {'province': 'Flandre-Occidentale', 'region': 'Flandre'}, 8890: {'province': 'Flandre-Occidentale', 'region': 'Flandre'}, 8891: {'province': 'Flandre-Occidentale', 'region': 'Flandre'}, 8892: {'province': 'Flandre-Occidentale', 'region': 'Flandre'}, 8893: {'province': 'Flandre-Occidentale', 'region': 'Flandre'}, 8894: {'province': 'Flandre-Occidentale', 'region': 'Flandre'}, 8895: {'province': 'Flandre-Occidentale', 'region': 'Flandre'}, 8896: {'province': 'Flandre-Occidentale', 'region': 'Flandre'}, 8897: {'province': 'Flandre-Occidentale', 'region': 'Flandre'}, 8898: {'province': 'Flandre-Occidentale', 'region': 'Flandre'}, 8899: {'province': 'Flandre-Occidentale', 'region': 'Flandre'}, 8900: {'province': 'Flandre-Occidentale', 'region': 'Flandre'}, 8901: {'province': 'Flandre-Occidentale', 'region': 'Flandre'}, 8902: {'province': 'Flandre-Occidentale', 'region': 'Flandre'}, 8903: {'province': 'Flandre-Occidentale', 'region': 'Flandre'}, 8904: {'province': 'Flandre-Occidentale', 'region': 'Flandre'}, 8905: {'province': 'Flandre-Occidentale', 'region': 'Flandre'}, 8906: {'province': 'Flandre-Occidentale', 'region': 'Flandre'}, 8907: {'province': 'Flandre-Occidentale', 'region': 'Flandre'}, 8908: {'province': 'Flandre-Occidentale', 'region': 'Flandre'}, 8909: {'province': 'Flandre-Occidentale', 'region': 'Flandre'}, 8910: {'province': 'Flandre-Occidentale', 'region': 'Flandre'}, 8911: {'province': 'Flandre-Occidentale', 'region': 'Flandre'}, 8912: {'province': 'Flandre-Occidentale', 'region': 'Flandre'}, 8913: {'province': 'Flandre-Occidentale', 'region': 'Flandre'}, 8914: {'province': 'Flandre-Occidentale', 'region': 'Flandre'}, 8915: {'province': 'Flandre-Occidentale', 'region': 'Flandre'}, 8916: {'province': 'Flandre-Occidentale', 'region': 'Flandre'}, 8917: {'province': 'Flandre-Occidentale', 'region': 'Flandre'}, 8918: {'province': 'Flandre-Occidentale', 'region': 'Flandre'}, 8919: {'province': 'Flandre-Occidentale', 'region': 'Flandre'}, 8920: {'province': 'Flandre-Occidentale', 'region': 'Flandre'}, 8921: {'province': 'Flandre-Occidentale', 'region': 'Flandre'}, 8922: {'province': 'Flandre-Occidentale', 'region': 'Flandre'}, 8923: {'province': 'Flandre-Occidentale', 'region': 'Flandre'}, 8924: {'province': 'Flandre-Occidentale', 'region': 'Flandre'}, 8925: {'province': 'Flandre-Occidentale', 'region': 'Flandre'}, 8926: {'province': 'Flandre-Occidentale', 'region': 'Flandre'}, 8927: {'province': 'Flandre-Occidentale', 'region': 'Flandre'}, 8928: {'province': 'Flandre-Occidentale', 'region': 'Flandre'}, 8929: {'province': 'Flandre-Occidentale', 'region': 'Flandre'}, 8930: {'province': 'Flandre-Occidentale', 'region': 'Flandre'}, 8931: {'province': 'Flandre-Occidentale', 'region': 'Flandre'}, 8932: {'province': 'Flandre-Occidentale', 'region': 'Flandre'}, 8933: {'province': 'Flandre-Occidentale', 'region': 'Flandre'}, 8934: {'province': 'Flandre-Occidentale', 'region': 'Flandre'}, 8935: {'province': 'Flandre-Occidentale', 'region': 'Flandre'}, 8936: {'province': 'Flandre-Occidentale', 'region': 'Flandre'}, 8937: {'province': 'Flandre-Occidentale', 'region': 'Flandre'}, 8938: {'province': 'Flandre-Occidentale', 'region': 'Flandre'}, 8939: {'province': 'Flandre-Occidentale', 'region': 'Flandre'}, 8940: {'province': 'Flandre-Occidentale', 'region': 'Flandre'}, 8941: {'province': 'Flandre-Occidentale', 'region': 'Flandre'}, 8942: {'province': 'Flandre-Occidentale', 'region': 'Flandre'}, 8943: {'province': 'Flandre-Occidentale', 'region': 'Flandre'}, 8944: {'province': 'Flandre-Occidentale', 'region': 'Flandre'}, 8945: {'province': 'Flandre-Occidentale', 'region': 'Flandre'}, 8946: {'province': 'Flandre-Occidentale', 'region': 'Flandre'}, 8947: {'province': 'Flandre-Occidentale', 'region': 'Flandre'}, 8948: {'province': 'Flandre-Occidentale', 'region': 'Flandre'}, 8949: {'province': 'Flandre-Occidentale', 'region': 'Flandre'}, 8950: {'province': 'Flandre-Occidentale', 'region': 'Flandre'}, 8951: {'province': 'Flandre-Occidentale', 'region': 'Flandre'}, 8952: {'province': 'Flandre-Occidentale', 'region': 'Flandre'}, 8953: {'province': 'Flandre-Occidentale', 'region': 'Flandre'}, 8954: {'province': 'Flandre-Occidentale', 'region': 'Flandre'}, 8955: {'province': 'Flandre-Occidentale', 'region': 'Flandre'}, 8956: {'province': 'Flandre-Occidentale', 'region': 'Flandre'}, 8957: {'province': 'Flandre-Occidentale', 'region': 'Flandre'}, 8958: {'province': 'Flandre-Occidentale', 'region': 'Flandre'}, 8959: {'province': 'Flandre-Occidentale', 'region': 'Flandre'}, 8960: {'province': 'Flandre-Occidentale', 'region': 'Flandre'}, 8961: {'province': 'Flandre-Occidentale', 'region': 'Flandre'}, 8962: {'province': 'Flandre-Occidentale', 'region': 'Flandre'}, 8963: {'province': 'Flandre-Occidentale', 'region': 'Flandre'}, 8964: {'province': 'Flandre-Occidentale', 'region': 'Flandre'}, 8965: {'province': 'Flandre-Occidentale', 'region': 'Flandre'}, 8966: {'province': 'Flandre-Occidentale', 'region': 'Flandre'}, 8967: {'province': 'Flandre-Occidentale', 'region': 'Flandre'}, 8968: {'province': 'Flandre-Occidentale', 'region': 'Flandre'}, 8969: {'province': 'Flandre-Occidentale', 'region': 'Flandre'}, 8970: {'province': 'Flandre-Occidentale', 'region': 'Flandre'}, 8971: {'province': 'Flandre-Occidentale', 'region': 'Flandre'}, 8972: {'province': 'Flandre-Occidentale', 'region': 'Flandre'}, 8973: {'province': 'Flandre-Occidentale', 'region': 'Flandre'}, 8974: {'province': 'Flandre-Occidentale', 'region': 'Flandre'}, 8975: {'province': 'Flandre-Occidentale', 'region': 'Flandre'}, 8976: {'province': 'Flandre-Occidentale', 'region': 'Flandre'}, 8977: {'province': 'Flandre-Occidentale', 'region': 'Flandre'}, 8978: {'province': 'Flandre-Occidentale', 'region': 'Flandre'}, 8979: {'province': 'Flandre-Occidentale', 'region': 'Flandre'}, 8980: {'province': 'Flandre-Occidentale', 'region': 'Flandre'}, 8981: {'province': 'Flandre-Occidentale', 'region': 'Flandre'}, 8982: {'province': 'Flandre-Occidentale', 'region': 'Flandre'}, 8983: {'province': 'Flandre-Occidentale', 'region': 'Flandre'}, 8984: {'province': 'Flandre-Occidentale', 'region': 'Flandre'}, 8985: {'province': 'Flandre-Occidentale', 'region': 'Flandre'}, 8986: {'province': 'Flandre-Occidentale', 'region': 'Flandre'}, 8987: {'province': 'Flandre-Occidentale', 'region': 'Flandre'}, 8988: {'province': 'Flandre-Occidentale', 'region': 'Flandre'}, 8989: {'province': 'Flandre-Occidentale', 'region': 'Flandre'}, 8990: {'province': 'Flandre-Occidentale', 'region': 'Flandre'}, 8991: {'province': 'Flandre-Occidentale', 'region': 'Flandre'}, 8992: {'province': 'Flandre-Occidentale', 'region': 'Flandre'}, 8993: {'province': 'Flandre-Occidentale', 'region': 'Flandre'}, 8994: {'province': 'Flandre-Occidentale', 'region': 'Flandre'}, 8995: {'province': 'Flandre-Occidentale', 'region': 'Flandre'}, 8996: {'province': 'Flandre-Occidentale', 'region': 'Flandre'}, 8997: {'province': 'Flandre-Occidentale', 'region': 'Flandre'}, 8998: {'province': 'Flandre-Occidentale', 'region': 'Flandre'}, 8999: {'province': 'Flandre-Occidentale', 'region': 'Flandre'}, 9000: {'province': 'Flandre-Orientale', 'region': 'Flandre'}, 9001: {'province': 'Flandre-Orientale', 'region': 'Flandre'}, 9002: {'province': 'Flandre-Orientale', 'region': 'Flandre'}, 9003: {'province': 'Flandre-Orientale', 'region': 'Flandre'}, 9004: {'province': 'Flandre-Orientale', 'region': 'Flandre'}, 9005: {'province': 'Flandre-Orientale', 'region': 'Flandre'}, 9006: {'province': 'Flandre-Orientale', 'region': 'Flandre'}, 9007: {'province': 'Flandre-Orientale', 'region': 'Flandre'}, 9008: {'province': 'Flandre-Orientale', 'region': 'Flandre'}, 9009: {'province': 'Flandre-Orientale', 'region': 'Flandre'}, 9010: {'province': 'Flandre-Orientale', 'region': 'Flandre'}, 9011: {'province': 'Flandre-Orientale', 'region': 'Flandre'}, 9012: {'province': 'Flandre-Orientale', 'region': 'Flandre'}, 9013: {'province': 'Flandre-Orientale', 'region': 'Flandre'}, 9014: {'province': 'Flandre-Orientale', 'region': 'Flandre'}, 9015: {'province': 'Flandre-Orientale', 'region': 'Flandre'}, 9016: {'province': 'Flandre-Orientale', 'region': 'Flandre'}, 9017: {'province': 'Flandre-Orientale', 'region': 'Flandre'}, 9018: {'province': 'Flandre-Orientale', 'region': 'Flandre'}, 9019: {'province': 'Flandre-Orientale', 'region': 'Flandre'}, 9020: {'province': 'Flandre-Orientale', 'region': 'Flandre'}, 9021: {'province': 'Flandre-Orientale', 'region': 'Flandre'}, 9022: {'province': 'Flandre-Orientale', 'region': 'Flandre'}, 9023: {'province': 'Flandre-Orientale', 'region': 'Flandre'}, 9024: {'province': 'Flandre-Orientale', 'region': 'Flandre'}, 9025: {'province': 'Flandre-Orientale', 'region': 'Flandre'}, 9026: {'province': 'Flandre-Orientale', 'region': 'Flandre'}, 9027: {'province': 'Flandre-Orientale', 'region': 'Flandre'}, 9028: {'province': 'Flandre-Orientale', 'region': 'Flandre'}, 9029: {'province': 'Flandre-Orientale', 'region': 'Flandre'}, 9030: {'province': 'Flandre-Orientale', 'region': 'Flandre'}, 9031: {'province': 'Flandre-Orientale', 'region': 'Flandre'}, 9032: {'province': 'Flandre-Orientale', 'region': 'Flandre'}, 9033: {'province': 'Flandre-Orientale', 'region': 'Flandre'}, 9034: {'province': 'Flandre-Orientale', 'region': 'Flandre'}, 9035: {'province': 'Flandre-Orientale', 'region': 'Flandre'}, 9036: {'province': 'Flandre-Orientale', 'region': 'Flandre'}, 9037: {'province': 'Flandre-Orientale', 'region': 'Flandre'}, 9038: {'province': 'Flandre-Orientale', 'region': 'Flandre'}, 9039: {'province': 'Flandre-Orientale', 'region': 'Flandre'}, 9040: {'province': 'Flandre-Orientale', 'region': 'Flandre'}, 9041: {'province': 'Flandre-Orientale', 'region': 'Flandre'}, 9042: {'province': 'Flandre-Orientale', 'region': 'Flandre'}, 9043: {'province': 'Flandre-Orientale', 'region': 'Flandre'}, 9044: {'province': 'Flandre-Orientale', 'region': 'Flandre'}, 9045: {'province': 'Flandre-Orientale', 'region': 'Flandre'}, 9046: {'province': 'Flandre-Orientale', 'region': 'Flandre'}, 9047: {'province': 'Flandre-Orientale', 'region': 'Flandre'}, 9048: {'province': 'Flandre-Orientale', 'region': 'Flandre'}, 9049: {'province': 'Flandre-Orientale', 'region': 'Flandre'}, 9050: {'province': 'Flandre-Orientale', 'region': 'Flandre'}, 9051: {'province': 'Flandre-Orientale', 'region': 'Flandre'}, 9052: {'province': 'Flandre-Orientale', 'region': 'Flandre'}, 9053: {'province': 'Flandre-Orientale', 'region': 'Flandre'}, 9054: {'province': 'Flandre-Orientale', 'region': 'Flandre'}, 9055: {'province': 'Flandre-Orientale', 'region': 'Flandre'}, 9056: {'province': 'Flandre-Orientale', 'region': 'Flandre'}, 9057: {'province': 'Flandre-Orientale', 'region': 'Flandre'}, 9058: {'province': 'Flandre-Orientale', 'region': 'Flandre'}, 9059: {'province': 'Flandre-Orientale', 'region': 'Flandre'}, 9060: {'province': 'Flandre-Orientale', 'region': 'Flandre'}, 9061: {'province': 'Flandre-Orientale', 'region': 'Flandre'}, 9062: {'province': 'Flandre-Orientale', 'region': 'Flandre'}, 9063: {'province': 'Flandre-Orientale', 'region': 'Flandre'}, 9064: {'province': 'Flandre-Orientale', 'region': 'Flandre'}, 9065: {'province': 'Flandre-Orientale', 'region': 'Flandre'}, 9066: {'province': 'Flandre-Orientale', 'region': 'Flandre'}, 9067: {'province': 'Flandre-Orientale', 'region': 'Flandre'}, 9068: {'province': 'Flandre-Orientale', 'region': 'Flandre'}, 9069: {'province': 'Flandre-Orientale', 'region': 'Flandre'}, 9070: {'province': 'Flandre-Orientale', 'region': 'Flandre'}, 9071: {'province': 'Flandre-Orientale', 'region': 'Flandre'}, 9072: {'province': 'Flandre-Orientale', 'region': 'Flandre'}, 9073: {'province': 'Flandre-Orientale', 'region': 'Flandre'}, 9074: {'province': 'Flandre-Orientale', 'region': 'Flandre'}, 9075: {'province': 'Flandre-Orientale', 'region': 'Flandre'}, 9076: {'province': 'Flandre-Orientale', 'region': 'Flandre'}, 9077: {'province': 'Flandre-Orientale', 'region': 'Flandre'}, 9078: {'province': 'Flandre-Orientale', 'region': 'Flandre'}, 9079: {'province': 'Flandre-Orientale', 'region': 'Flandre'}, 9080: {'province': 'Flandre-Orientale', 'region': 'Flandre'}, 9081: {'province': 'Flandre-Orientale', 'region': 'Flandre'}, 9082: {'province': 'Flandre-Orientale', 'region': 'Flandre'}, 9083: {'province': 'Flandre-Orientale', 'region': 'Flandre'}, 9084: {'province': 'Flandre-Orientale', 'region': 'Flandre'}, 9085: {'province': 'Flandre-Orientale', 'region': 'Flandre'}, 9086: {'province': 'Flandre-Orientale', 'region': 'Flandre'}, 9087: {'province': 'Flandre-Orientale', 'region': 'Flandre'}, 9088: {'province': 'Flandre-Orientale', 'region': 'Flandre'}, 9089: {'province': 'Flandre-Orientale', 'region': 'Flandre'}, 9090: {'province': 'Flandre-Orientale', 'region': 'Flandre'}, 9091: {'province': 'Flandre-Orientale', 'region': 'Flandre'}, 9092: {'province': 'Flandre-Orientale', 'region': 'Flandre'}, 9093: {'province': 'Flandre-Orientale', 'region': 'Flandre'}, 9094: {'province': 'Flandre-Orientale', 'region': 'Flandre'}, 9095: {'province': 'Flandre-Orientale', 'region': 'Flandre'}, 9096: {'province': 'Flandre-Orientale', 'region': 'Flandre'}, 9097: {'province': 'Flandre-Orientale', 'region': 'Flandre'}, 9098: {'province': 'Flandre-Orientale', 'region': 'Flandre'}, 9099: {'province': 'Flandre-Orientale', 'region': 'Flandre'}, 9100: {'province': 'Flandre-Orientale', 'region': 'Flandre'}, 9101: {'province': 'Flandre-Orientale', 'region': 'Flandre'}, 9102: {'province': 'Flandre-Orientale', 'region': 'Flandre'}, 9103: {'province': 'Flandre-Orientale', 'region': 'Flandre'}, 9104: {'province': 'Flandre-Orientale', 'region': 'Flandre'}, 9105: {'province': 'Flandre-Orientale', 'region': 'Flandre'}, 9106: {'province': 'Flandre-Orientale', 'region': 'Flandre'}, 9107: {'province': 'Flandre-Orientale', 'region': 'Flandre'}, 9108: {'province': 'Flandre-Orientale', 'region': 'Flandre'}, 9109: {'province': 'Flandre-Orientale', 'region': 'Flandre'}, 9110: {'province': 'Flandre-Orientale', 'region': 'Flandre'}, 9111: {'province': 'Flandre-Orientale', 'region': 'Flandre'}, 9112: {'province': 'Flandre-Orientale', 'region': 'Flandre'}, 9113: {'province': 'Flandre-Orientale', 'region': 'Flandre'}, 9114: {'province': 'Flandre-Orientale', 'region': 'Flandre'}, 9115: {'province': 'Flandre-Orientale', 'region': 'Flandre'}, 9116: {'province': 'Flandre-Orientale', 'region': 'Flandre'}, 9117: {'province': 'Flandre-Orientale', 'region': 'Flandre'}, 9118: {'province': 'Flandre-Orientale', 'region': 'Flandre'}, 9119: {'province': 'Flandre-Orientale', 'region': 'Flandre'}, 9120: {'province': 'Flandre-Orientale', 'region': 'Flandre'}, 9121: {'province': 'Flandre-Orientale', 'region': 'Flandre'}, 9122: {'province': 'Flandre-Orientale', 'region': 'Flandre'}, 9123: {'province': 'Flandre-Orientale', 'region': 'Flandre'}, 9124: {'province': 'Flandre-Orientale', 'region': 'Flandre'}, 9125: {'province': 'Flandre-Orientale', 'region': 'Flandre'}, 9126: {'province': 'Flandre-Orientale', 'region': 'Flandre'}, 9127: {'province': 'Flandre-Orientale', 'region': 'Flandre'}, 9128: {'province': 'Flandre-Orientale', 'region': 'Flandre'}, 9129: {'province': 'Flandre-Orientale', 'region': 'Flandre'}, 9130: {'province': 'Flandre-Orientale', 'region': 'Flandre'}, 9131: {'province': 'Flandre-Orientale', 'region': 'Flandre'}, 9132: {'province': 'Flandre-Orientale', 'region': 'Flandre'}, 9133: {'province': 'Flandre-Orientale', 'region': 'Flandre'}, 9134: {'province': 'Flandre-Orientale', 'region': 'Flandre'}, 9135: {'province': 'Flandre-Orientale', 'region': 'Flandre'}, 9136: {'province': 'Flandre-Orientale', 'region': 'Flandre'}, 9137: {'province': 'Flandre-Orientale', 'region': 'Flandre'}, 9138: {'province': 'Flandre-Orientale', 'region': 'Flandre'}, 9139: {'province': 'Flandre-Orientale', 'region': 'Flandre'}, 9140: {'province': 'Flandre-Orientale', 'region': 'Flandre'}, 9141: {'province': 'Flandre-Orientale', 'region': 'Flandre'}, 9142: {'province': 'Flandre-Orientale', 'region': 'Flandre'}, 9143: {'province': 'Flandre-Orientale', 'region': 'Flandre'}, 9144: {'province': 'Flandre-Orientale', 'region': 'Flandre'}, 9145: {'province': 'Flandre-Orientale', 'region': 'Flandre'}, 9146: {'province': 'Flandre-Orientale', 'region': 'Flandre'}, 9147: {'province': 'Flandre-Orientale', 'region': 'Flandre'}, 9148: {'province': 'Flandre-Orientale', 'region': 'Flandre'}, 9149: {'province': 'Flandre-Orientale', 'region': 'Flandre'}, 9150: {'province': 'Flandre-Orientale', 'region': 'Flandre'}, 9151: {'province': 'Flandre-Orientale', 'region': 'Flandre'}, 9152: {'province': 'Flandre-Orientale', 'region': 'Flandre'}, 9153: {'province': 'Flandre-Orientale', 'region': 'Flandre'}, 9154: {'province': 'Flandre-Orientale', 'region': 'Flandre'}, 9155: {'province': 'Flandre-Orientale', 'region': 'Flandre'}, 9156: {'province': 'Flandre-Orientale', 'region': 'Flandre'}, 9157: {'province': 'Flandre-Orientale', 'region': 'Flandre'}, 9158: {'province': 'Flandre-Orientale', 'region': 'Flandre'}, 9159: {'province': 'Flandre-Orientale', 'region': 'Flandre'}, 9160: {'province': 'Flandre-Orientale', 'region': 'Flandre'}, 9161: {'province': 'Flandre-Orientale', 'region': 'Flandre'}, 9162: {'province': 'Flandre-Orientale', 'region': 'Flandre'}, 9163: {'province': 'Flandre-Orientale', 'region': 'Flandre'}, 9164: {'province': 'Flandre-Orientale', 'region': 'Flandre'}, 9165: {'province': 'Flandre-Orientale', 'region': 'Flandre'}, 9166: {'province': 'Flandre-Orientale', 'region': 'Flandre'}, 9167: {'province': 'Flandre-Orientale', 'region': 'Flandre'}, 9168: {'province': 'Flandre-Orientale', 'region': 'Flandre'}, 9169: {'province': 'Flandre-Orientale', 'region': 'Flandre'}, 9170: {'province': 'Flandre-Orientale', 'region': 'Flandre'}, 9171: {'province': 'Flandre-Orientale', 'region': 'Flandre'}, 9172: {'province': 'Flandre-Orientale', 'region': 'Flandre'}, 9173: {'province': 'Flandre-Orientale', 'region': 'Flandre'}, 9174: {'province': 'Flandre-Orientale', 'region': 'Flandre'}, 9175: {'province': 'Flandre-Orientale', 'region': 'Flandre'}, 9176: {'province': 'Flandre-Orientale', 'region': 'Flandre'}, 9177: {'province': 'Flandre-Orientale', 'region': 'Flandre'}, 9178: {'province': 'Flandre-Orientale', 'region': 'Flandre'}, 9179: {'province': 'Flandre-Orientale', 'region': 'Flandre'}, 9180: {'province': 'Flandre-Orientale', 'region': 'Flandre'}, 9181: {'province': 'Flandre-Orientale', 'region': 'Flandre'}, 9182: {'province': 'Flandre-Orientale', 'region': 'Flandre'}, 9183: {'province': 'Flandre-Orientale', 'region': 'Flandre'}, 9184: {'province': 'Flandre-Orientale', 'region': 'Flandre'}, 9185: {'province': 'Flandre-Orientale', 'region': 'Flandre'}, 9186: {'province': 'Flandre-Orientale', 'region': 'Flandre'}, 9187: {'province': 'Flandre-Orientale', 'region': 'Flandre'}, 9188: {'province': 'Flandre-Orientale', 'region': 'Flandre'}, 9189: {'province': 'Flandre-Orientale', 'region': 'Flandre'}, 9190: {'province': 'Flandre-Orientale', 'region': 'Flandre'}, 9191: {'province': 'Flandre-Orientale', 'region': 'Flandre'}, 9192: {'province': 'Flandre-Orientale', 'region': 'Flandre'}, 9193: {'province': 'Flandre-Orientale', 'region': 'Flandre'}, 9194: {'province': 'Flandre-Orientale', 'region': 'Flandre'}, 9195: {'province': 'Flandre-Orientale', 'region': 'Flandre'}, 9196: {'province': 'Flandre-Orientale', 'region': 'Flandre'}, 9197: {'province': 'Flandre-Orientale', 'region': 'Flandre'}, 9198: {'province': 'Flandre-Orientale', 'region': 'Flandre'}, 9199: {'province': 'Flandre-Orientale', 'region': 'Flandre'}, 9200: {'province': 'Flandre-Orientale', 'region': 'Flandre'}, 9201: {'province': 'Flandre-Orientale', 'region': 'Flandre'}, 9202: {'province': 'Flandre-Orientale', 'region': 'Flandre'}, 9203: {'province': 'Flandre-Orientale', 'region': 'Flandre'}, 9204: {'province': 'Flandre-Orientale', 'region': 'Flandre'}, 9205: {'province': 'Flandre-Orientale', 'region': 'Flandre'}, 9206: {'province': 'Flandre-Orientale', 'region': 'Flandre'}, 9207: {'province': 'Flandre-Orientale', 'region': 'Flandre'}, 9208: {'province': 'Flandre-Orientale', 'region': 'Flandre'}, 9209: {'province': 'Flandre-Orientale', 'region': 'Flandre'}, 9210: {'province': 'Flandre-Orientale', 'region': 'Flandre'}, 9211: {'province': 'Flandre-Orientale', 'region': 'Flandre'}, 9212: {'province': 'Flandre-Orientale', 'region': 'Flandre'}, 9213: {'province': 'Flandre-Orientale', 'region': 'Flandre'}, 9214: {'province': 'Flandre-Orientale', 'region': 'Flandre'}, 9215: {'province': 'Flandre-Orientale', 'region': 'Flandre'}, 9216: {'province': 'Flandre-Orientale', 'region': 'Flandre'}, 9217: {'province': 'Flandre-Orientale', 'region': 'Flandre'}, 9218: {'province': 'Flandre-Orientale', 'region': 'Flandre'}, 9219: {'province': 'Flandre-Orientale', 'region': 'Flandre'}, 9220: {'province': 'Flandre-Orientale', 'region': 'Flandre'}, 9221: {'province': 'Flandre-Orientale', 'region': 'Flandre'}, 9222: {'province': 'Flandre-Orientale', 'region': 'Flandre'}, 9223: {'province': 'Flandre-Orientale', 'region': 'Flandre'}, 9224: {'province': 'Flandre-Orientale', 'region': 'Flandre'}, 9225: {'province': 'Flandre-Orientale', 'region': 'Flandre'}, 9226: {'province': 'Flandre-Orientale', 'region': 'Flandre'}, 9227: {'province': 'Flandre-Orientale', 'region': 'Flandre'}, 9228: {'province': 'Flandre-Orientale', 'region': 'Flandre'}, 9229: {'province': 'Flandre-Orientale', 'region': 'Flandre'}, 9230: {'province': 'Flandre-Orientale', 'region': 'Flandre'}, 9231: {'province': 'Flandre-Orientale', 'region': 'Flandre'}, 9232: {'province': 'Flandre-Orientale', 'region': 'Flandre'}, 9233: {'province': 'Flandre-Orientale', 'region': 'Flandre'}, 9234: {'province': 'Flandre-Orientale', 'region': 'Flandre'}, 9235: {'province': 'Flandre-Orientale', 'region': 'Flandre'}, 9236: {'province': 'Flandre-Orientale', 'region': 'Flandre'}, 9237: {'province': 'Flandre-Orientale', 'region': 'Flandre'}, 9238: {'province': 'Flandre-Orientale', 'region': 'Flandre'}, 9239: {'province': 'Flandre-Orientale', 'region': 'Flandre'}, 9240: {'province': 'Flandre-Orientale', 'region': 'Flandre'}, 9241: {'province': 'Flandre-Orientale', 'region': 'Flandre'}, 9242: {'province': 'Flandre-Orientale', 'region': 'Flandre'}, 9243: {'province': 'Flandre-Orientale', 'region': 'Flandre'}, 9244: {'province': 'Flandre-Orientale', 'region': 'Flandre'}, 9245: {'province': 'Flandre-Orientale', 'region': 'Flandre'}, 9246: {'province': 'Flandre-Orientale', 'region': 'Flandre'}, 9247: {'province': 'Flandre-Orientale', 'region': 'Flandre'}, 9248: {'province': 'Flandre-Orientale', 'region': 'Flandre'}, 9249: {'province': 'Flandre-Orientale', 'region': 'Flandre'}, 9250: {'province': 'Flandre-Orientale', 'region': 'Flandre'}, 9251: {'province': 'Flandre-Orientale', 'region': 'Flandre'}, 9252: {'province': 'Flandre-Orientale', 'region': 'Flandre'}, 9253: {'province': 'Flandre-Orientale', 'region': 'Flandre'}, 9254: {'province': 'Flandre-Orientale', 'region': 'Flandre'}, 9255: {'province': 'Flandre-Orientale', 'region': 'Flandre'}, 9256: {'province': 'Flandre-Orientale', 'region': 'Flandre'}, 9257: {'province': 'Flandre-Orientale', 'region': 'Flandre'}, 9258: {'province': 'Flandre-Orientale', 'region': 'Flandre'}, 9259: {'province': 'Flandre-Orientale', 'region': 'Flandre'}, 9260: {'province': 'Flandre-Orientale', 'region': 'Flandre'}, 9261: {'province': 'Flandre-Orientale', 'region': 'Flandre'}, 9262: {'province': 'Flandre-Orientale', 'region': 'Flandre'}, 9263: {'province': 'Flandre-Orientale', 'region': 'Flandre'}, 9264: {'province': 'Flandre-Orientale', 'region': 'Flandre'}, 9265: {'province': 'Flandre-Orientale', 'region': 'Flandre'}, 9266: {'province': 'Flandre-Orientale', 'region': 'Flandre'}, 9267: {'province': 'Flandre-Orientale', 'region': 'Flandre'}, 9268: {'province': 'Flandre-Orientale', 'region': 'Flandre'}, 9269: {'province': 'Flandre-Orientale', 'region': 'Flandre'}, 9270: {'province': 'Flandre-Orientale', 'region': 'Flandre'}, 9271: {'province': 'Flandre-Orientale', 'region': 'Flandre'}, 9272: {'province': 'Flandre-Orientale', 'region': 'Flandre'}, 9273: {'province': 'Flandre-Orientale', 'region': 'Flandre'}, 9274: {'province': 'Flandre-Orientale', 'region': 'Flandre'}, 9275: {'province': 'Flandre-Orientale', 'region': 'Flandre'}, 9276: {'province': 'Flandre-Orientale', 'region': 'Flandre'}, 9277: {'province': 'Flandre-Orientale', 'region': 'Flandre'}, 9278: {'province': 'Flandre-Orientale', 'region': 'Flandre'}, 9279: {'province': 'Flandre-Orientale', 'region': 'Flandre'}, 9280: {'province': 'Flandre-Orientale', 'region': 'Flandre'}, 9281: {'province': 'Flandre-Orientale', 'region': 'Flandre'}, 9282: {'province': 'Flandre-Orientale', 'region': 'Flandre'}, 9283: {'province': 'Flandre-Orientale', 'region': 'Flandre'}, 9284: {'province': 'Flandre-Orientale', 'region': 'Flandre'}, 9285: {'province': 'Flandre-Orientale', 'region': 'Flandre'}, 9286: {'province': 'Flandre-Orientale', 'region': 'Flandre'}, 9287: {'province': 'Flandre-Orientale', 'region': 'Flandre'}, 9288: {'province': 'Flandre-Orientale', 'region': 'Flandre'}, 9289: {'province': 'Flandre-Orientale', 'region': 'Flandre'}, 9290: {'province': 'Flandre-Orientale', 'region': 'Flandre'}, 9291: {'province': 'Flandre-Orientale', 'region': 'Flandre'}, 9292: {'province': 'Flandre-Orientale', 'region': 'Flandre'}, 9293: {'province': 'Flandre-Orientale', 'region': 'Flandre'}, 9294: {'province': 'Flandre-Orientale', 'region': 'Flandre'}, 9295: {'province': 'Flandre-Orientale', 'region': 'Flandre'}, 9296: {'province': 'Flandre-Orientale', 'region': 'Flandre'}, 9297: {'province': 'Flandre-Orientale', 'region': 'Flandre'}, 9298: {'province': 'Flandre-Orientale', 'region': 'Flandre'}, 9299: {'province': 'Flandre-Orientale', 'region': 'Flandre'}, 9300: {'province': 'Flandre-Orientale', 'region': 'Flandre'}, 9301: {'province': 'Flandre-Orientale', 'region': 'Flandre'}, 9302: {'province': 'Flandre-Orientale', 'region': 'Flandre'}, 9303: {'province': 'Flandre-Orientale', 'region': 'Flandre'}, 9304: {'province': 'Flandre-Orientale', 'region': 'Flandre'}, 9305: {'province': 'Flandre-Orientale', 'region': 'Flandre'}, 9306: {'province': 'Flandre-Orientale', 'region': 'Flandre'}, 9307: {'province': 'Flandre-Orientale', 'region': 'Flandre'}, 9308: {'province': 'Flandre-Orientale', 'region': 'Flandre'}, 9309: {'province': 'Flandre-Orientale', 'region': 'Flandre'}, 9310: {'province': 'Flandre-Orientale', 'region': 'Flandre'}, 9311: {'province': 'Flandre-Orientale', 'region': 'Flandre'}, 9312: {'province': 'Flandre-Orientale', 'region': 'Flandre'}, 9313: {'province': 'Flandre-Orientale', 'region': 'Flandre'}, 9314: {'province': 'Flandre-Orientale', 'region': 'Flandre'}, 9315: {'province': 'Flandre-Orientale', 'region': 'Flandre'}, 9316: {'province': 'Flandre-Orientale', 'region': 'Flandre'}, 9317: {'province': 'Flandre-Orientale', 'region': 'Flandre'}, 9318: {'province': 'Flandre-Orientale', 'region': 'Flandre'}, 9319: {'province': 'Flandre-Orientale', 'region': 'Flandre'}, 9320: {'province': 'Flandre-Orientale', 'region': 'Flandre'}, 9321: {'province': 'Flandre-Orientale', 'region': 'Flandre'}, 9322: {'province': 'Flandre-Orientale', 'region': 'Flandre'}, 9323: {'province': 'Flandre-Orientale', 'region': 'Flandre'}, 9324: {'province': 'Flandre-Orientale', 'region': 'Flandre'}, 9325: {'province': 'Flandre-Orientale', 'region': 'Flandre'}, 9326: {'province': 'Flandre-Orientale', 'region': 'Flandre'}, 9327: {'province': 'Flandre-Orientale', 'region': 'Flandre'}, 9328: {'province': 'Flandre-Orientale', 'region': 'Flandre'}, 9329: {'province': 'Flandre-Orientale', 'region': 'Flandre'}, 9330: {'province': 'Flandre-Orientale', 'region': 'Flandre'}, 9331: {'province': 'Flandre-Orientale', 'region': 'Flandre'}, 9332: {'province': 'Flandre-Orientale', 'region': 'Flandre'}, 9333: {'province': 'Flandre-Orientale', 'region': 'Flandre'}, 9334: {'province': 'Flandre-Orientale', 'region': 'Flandre'}, 9335: {'province': 'Flandre-Orientale', 'region': 'Flandre'}, 9336: {'province': 'Flandre-Orientale', 'region': 'Flandre'}, 9337: {'province': 'Flandre-Orientale', 'region': 'Flandre'}, 9338: {'province': 'Flandre-Orientale', 'region': 'Flandre'}, 9339: {'province': 'Flandre-Orientale', 'region': 'Flandre'}, 9340: {'province': 'Flandre-Orientale', 'region': 'Flandre'}, 9341: {'province': 'Flandre-Orientale', 'region': 'Flandre'}, 9342: {'province': 'Flandre-Orientale', 'region': 'Flandre'}, 9343: {'province': 'Flandre-Orientale', 'region': 'Flandre'}, 9344: {'province': 'Flandre-Orientale', 'region': 'Flandre'}, 9345: {'province': 'Flandre-Orientale', 'region': 'Flandre'}, 9346: {'province': 'Flandre-Orientale', 'region': 'Flandre'}, 9347: {'province': 'Flandre-Orientale', 'region': 'Flandre'}, 9348: {'province': 'Flandre-Orientale', 'region': 'Flandre'}, 9349: {'province': 'Flandre-Orientale', 'region': 'Flandre'}, 9350: {'province': 'Flandre-Orientale', 'region': 'Flandre'}, 9351: {'province': 'Flandre-Orientale', 'region': 'Flandre'}, 9352: {'province': 'Flandre-Orientale', 'region': 'Flandre'}, 9353: {'province': 'Flandre-Orientale', 'region': 'Flandre'}, 9354: {'province': 'Flandre-Orientale', 'region': 'Flandre'}, 9355: {'province': 'Flandre-Orientale', 'region': 'Flandre'}, 9356: {'province': 'Flandre-Orientale', 'region': 'Flandre'}, 9357: {'province': 'Flandre-Orientale', 'region': 'Flandre'}, 9358: {'province': 'Flandre-Orientale', 'region': 'Flandre'}, 9359: {'province': 'Flandre-Orientale', 'region': 'Flandre'}, 9360: {'province': 'Flandre-Orientale', 'region': 'Flandre'}, 9361: {'province': 'Flandre-Orientale', 'region': 'Flandre'}, 9362: {'province': 'Flandre-Orientale', 'region': 'Flandre'}, 9363: {'province': 'Flandre-Orientale', 'region': 'Flandre'}, 9364: {'province': 'Flandre-Orientale', 'region': 'Flandre'}, 9365: {'province': 'Flandre-Orientale', 'region': 'Flandre'}, 9366: {'province': 'Flandre-Orientale', 'region': 'Flandre'}, 9367: {'province': 'Flandre-Orientale', 'region': 'Flandre'}, 9368: {'province': 'Flandre-Orientale', 'region': 'Flandre'}, 9369: {'province': 'Flandre-Orientale', 'region': 'Flandre'}, 9370: {'province': 'Flandre-Orientale', 'region': 'Flandre'}, 9371: {'province': 'Flandre-Orientale', 'region': 'Flandre'}, 9372: {'province': 'Flandre-Orientale', 'region': 'Flandre'}, 9373: {'province': 'Flandre-Orientale', 'region': 'Flandre'}, 9374: {'province': 'Flandre-Orientale', 'region': 'Flandre'}, 9375: {'province': 'Flandre-Orientale', 'region': 'Flandre'}, 9376: {'province': 'Flandre-Orientale', 'region': 'Flandre'}, 9377: {'province': 'Flandre-Orientale', 'region': 'Flandre'}, 9378: {'province': 'Flandre-Orientale', 'region': 'Flandre'}, 9379: {'province': 'Flandre-Orientale', 'region': 'Flandre'}, 9380: {'province': 'Flandre-Orientale', 'region': 'Flandre'}, 9381: {'province': 'Flandre-Orientale', 'region': 'Flandre'}, 9382: {'province': 'Flandre-Orientale', 'region': 'Flandre'}, 9383: {'province': 'Flandre-Orientale', 'region': 'Flandre'}, 9384: {'province': 'Flandre-Orientale', 'region': 'Flandre'}, 9385: {'province': 'Flandre-Orientale', 'region': 'Flandre'}, 9386: {'province': 'Flandre-Orientale', 'region': 'Flandre'}, 9387: {'province': 'Flandre-Orientale', 'region': 'Flandre'}, 9388: {'province': 'Flandre-Orientale', 'region': 'Flandre'}, 9389: {'province': 'Flandre-Orientale', 'region': 'Flandre'}, 9390: {'province': 'Flandre-Orientale', 'region': 'Flandre'}, 9391: {'province': 'Flandre-Orientale', 'region': 'Flandre'}, 9392: {'province': 'Flandre-Orientale', 'region': 'Flandre'}, 9393: {'province': 'Flandre-Orientale', 'region': 'Flandre'}, 9394: {'province': 'Flandre-Orientale', 'region': 'Flandre'}, 9395: {'province': 'Flandre-Orientale', 'region': 'Flandre'}, 9396: {'province': 'Flandre-Orientale', 'region': 'Flandre'}, 9397: {'province': 'Flandre-Orientale', 'region': 'Flandre'}, 9398: {'province': 'Flandre-Orientale', 'region': 'Flandre'}, 9399: {'province': 'Flandre-Orientale', 'region': 'Flandre'}, 9400: {'province': 'Flandre-Orientale', 'region': 'Flandre'}, 9401: {'province': 'Flandre-Orientale', 'region': 'Flandre'}, 9402: {'province': 'Flandre-Orientale', 'region': 'Flandre'}, 9403: {'province': 'Flandre-Orientale', 'region': 'Flandre'}, 9404: {'province': 'Flandre-Orientale', 'region': 'Flandre'}, 9405: {'province': 'Flandre-Orientale', 'region': 'Flandre'}, 9406: {'province': 'Flandre-Orientale', 'region': 'Flandre'}, 9407: {'province': 'Flandre-Orientale', 'region': 'Flandre'}, 9408: {'province': 'Flandre-Orientale', 'region': 'Flandre'}, 9409: {'province': 'Flandre-Orientale', 'region': 'Flandre'}, 9410: {'province': 'Flandre-Orientale', 'region': 'Flandre'}, 9411: {'province': 'Flandre-Orientale', 'region': 'Flandre'}, 9412: {'province': 'Flandre-Orientale', 'region': 'Flandre'}, 9413: {'province': 'Flandre-Orientale', 'region': 'Flandre'}, 9414: {'province': 'Flandre-Orientale', 'region': 'Flandre'}, 9415: {'province': 'Flandre-Orientale', 'region': 'Flandre'}, 9416: {'province': 'Flandre-Orientale', 'region': 'Flandre'}, 9417: {'province': 'Flandre-Orientale', 'region': 'Flandre'}, 9418: {'province': 'Flandre-Orientale', 'region': 'Flandre'}, 9419: {'province': 'Flandre-Orientale', 'region': 'Flandre'}, 9420: {'province': 'Flandre-Orientale', 'region': 'Flandre'}, 9421: {'province': 'Flandre-Orientale', 'region': 'Flandre'}, 9422: {'province': 'Flandre-Orientale', 'region': 'Flandre'}, 9423: {'province': 'Flandre-Orientale', 'region': 'Flandre'}, 9424: {'province': 'Flandre-Orientale', 'region': 'Flandre'}, 9425: {'province': 'Flandre-Orientale', 'region': 'Flandre'}, 9426: {'province': 'Flandre-Orientale', 'region': 'Flandre'}, 9427: {'province': 'Flandre-Orientale', 'region': 'Flandre'}, 9428: {'province': 'Flandre-Orientale', 'region': 'Flandre'}, 9429: {'province': 'Flandre-Orientale', 'region': 'Flandre'}, 9430: {'province': 'Flandre-Orientale', 'region': 'Flandre'}, 9431: {'province': 'Flandre-Orientale', 'region': 'Flandre'}, 9432: {'province': 'Flandre-Orientale', 'region': 'Flandre'}, 9433: {'province': 'Flandre-Orientale', 'region': 'Flandre'}, 9434: {'province': 'Flandre-Orientale', 'region': 'Flandre'}, 9435: {'province': 'Flandre-Orientale', 'region': 'Flandre'}, 9436: {'province': 'Flandre-Orientale', 'region': 'Flandre'}, 9437: {'province': 'Flandre-Orientale', 'region': 'Flandre'}, 9438: {'province': 'Flandre-Orientale', 'region': 'Flandre'}, 9439: {'province': 'Flandre-Orientale', 'region': 'Flandre'}, 9440: {'province': 'Flandre-Orientale', 'region': 'Flandre'}, 9441: {'province': 'Flandre-Orientale', 'region': 'Flandre'}, 9442: {'province': 'Flandre-Orientale', 'region': 'Flandre'}, 9443: {'province': 'Flandre-Orientale', 'region': 'Flandre'}, 9444: {'province': 'Flandre-Orientale', 'region': 'Flandre'}, 9445: {'province': 'Flandre-Orientale', 'region': 'Flandre'}, 9446: {'province': 'Flandre-Orientale', 'region': 'Flandre'}, 9447: {'province': 'Flandre-Orientale', 'region': 'Flandre'}, 9448: {'province': 'Flandre-Orientale', 'region': 'Flandre'}, 9449: {'province': 'Flandre-Orientale', 'region': 'Flandre'}, 9450: {'province': 'Flandre-Orientale', 'region': 'Flandre'}, 9451: {'province': 'Flandre-Orientale', 'region': 'Flandre'}, 9452: {'province': 'Flandre-Orientale', 'region': 'Flandre'}, 9453: {'province': 'Flandre-Orientale', 'region': 'Flandre'}, 9454: {'province': 'Flandre-Orientale', 'region': 'Flandre'}, 9455: {'province': 'Flandre-Orientale', 'region': 'Flandre'}, 9456: {'province': 'Flandre-Orientale', 'region': 'Flandre'}, 9457: {'province': 'Flandre-Orientale', 'region': 'Flandre'}, 9458: {'province': 'Flandre-Orientale', 'region': 'Flandre'}, 9459: {'province': 'Flandre-Orientale', 'region': 'Flandre'}, 9460: {'province': 'Flandre-Orientale', 'region': 'Flandre'}, 9461: {'province': 'Flandre-Orientale', 'region': 'Flandre'}, 9462: {'province': 'Flandre-Orientale', 'region': 'Flandre'}, 9463: {'province': 'Flandre-Orientale', 'region': 'Flandre'}, 9464: {'province': 'Flandre-Orientale', 'region': 'Flandre'}, 9465: {'province': 'Flandre-Orientale', 'region': 'Flandre'}, 9466: {'province': 'Flandre-Orientale', 'region': 'Flandre'}, 9467: {'province': 'Flandre-Orientale', 'region': 'Flandre'}, 9468: {'province': 'Flandre-Orientale', 'region': 'Flandre'}, 9469: {'province': 'Flandre-Orientale', 'region': 'Flandre'}, 9470: {'province': 'Flandre-Orientale', 'region': 'Flandre'}, 9471: {'province': 'Flandre-Orientale', 'region': 'Flandre'}, 9472: {'province': 'Flandre-Orientale', 'region': 'Flandre'}, 9473: {'province': 'Flandre-Orientale', 'region': 'Flandre'}, 9474: {'province': 'Flandre-Orientale', 'region': 'Flandre'}, 9475: {'province': 'Flandre-Orientale', 'region': 'Flandre'}, 9476: {'province': 'Flandre-Orientale', 'region': 'Flandre'}, 9477: {'province': 'Flandre-Orientale', 'region': 'Flandre'}, 9478: {'province': 'Flandre-Orientale', 'region': 'Flandre'}, 9479: {'province': 'Flandre-Orientale', 'region': 'Flandre'}, 9480: {'province': 'Flandre-Orientale', 'region': 'Flandre'}, 9481: {'province': 'Flandre-Orientale', 'region': 'Flandre'}, 9482: {'province': 'Flandre-Orientale', 'region': 'Flandre'}, 9483: {'province': 'Flandre-Orientale', 'region': 'Flandre'}, 9484: {'province': 'Flandre-Orientale', 'region': 'Flandre'}, 9485: {'province': 'Flandre-Orientale', 'region': 'Flandre'}, 9486: {'province': 'Flandre-Orientale', 'region': 'Flandre'}, 9487: {'province': 'Flandre-Orientale', 'region': 'Flandre'}, 9488: {'province': 'Flandre-Orientale', 'region': 'Flandre'}, 9489: {'province': 'Flandre-Orientale', 'region': 'Flandre'}, 9490: {'province': 'Flandre-Orientale', 'region': 'Flandre'}, 9491: {'province': 'Flandre-Orientale', 'region': 'Flandre'}, 9492: {'province': 'Flandre-Orientale', 'region': 'Flandre'}, 9493: {'province': 'Flandre-Orientale', 'region': 'Flandre'}, 9494: {'province': 'Flandre-Orientale', 'region': 'Flandre'}, 9495: {'province': 'Flandre-Orientale', 'region': 'Flandre'}, 9496: {'province': 'Flandre-Orientale', 'region': 'Flandre'}, 9497: {'province': 'Flandre-Orientale', 'region': 'Flandre'}, 9498: {'province': 'Flandre-Orientale', 'region': 'Flandre'}, 9499: {'province': 'Flandre-Orientale', 'region': 'Flandre'}, 9500: {'province': 'Flandre-Orientale', 'region': 'Flandre'}, 9501: {'province': 'Flandre-Orientale', 'region': 'Flandre'}, 9502: {'province': 'Flandre-Orientale', 'region': 'Flandre'}, 9503: {'province': 'Flandre-Orientale', 'region': 'Flandre'}, 9504: {'province': 'Flandre-Orientale', 'region': 'Flandre'}, 9505: {'province': 'Flandre-Orientale', 'region': 'Flandre'}, 9506: {'province': 'Flandre-Orientale', 'region': 'Flandre'}, 9507: {'province': 'Flandre-Orientale', 'region': 'Flandre'}, 9508: {'province': 'Flandre-Orientale', 'region': 'Flandre'}, 9509: {'province': 'Flandre-Orientale', 'region': 'Flandre'}, 9510: {'province': 'Flandre-Orientale', 'region': 'Flandre'}, 9511: {'province': 'Flandre-Orientale', 'region': 'Flandre'}, 9512: {'province': 'Flandre-Orientale', 'region': 'Flandre'}, 9513: {'province': 'Flandre-Orientale', 'region': 'Flandre'}, 9514: {'province': 'Flandre-Orientale', 'region': 'Flandre'}, 9515: {'province': 'Flandre-Orientale', 'region': 'Flandre'}, 9516: {'province': 'Flandre-Orientale', 'region': 'Flandre'}, 9517: {'province': 'Flandre-Orientale', 'region': 'Flandre'}, 9518: {'province': 'Flandre-Orientale', 'region': 'Flandre'}, 9519: {'province': 'Flandre-Orientale', 'region': 'Flandre'}, 9520: {'province': 'Flandre-Orientale', 'region': 'Flandre'}, 9521: {'province': 'Flandre-Orientale', 'region': 'Flandre'}, 9522: {'province': 'Flandre-Orientale', 'region': 'Flandre'}, 9523: {'province': 'Flandre-Orientale', 'region': 'Flandre'}, 9524: {'province': 'Flandre-Orientale', 'region': 'Flandre'}, 9525: {'province': 'Flandre-Orientale', 'region': 'Flandre'}, 9526: {'province': 'Flandre-Orientale', 'region': 'Flandre'}, 9527: {'province': 'Flandre-Orientale', 'region': 'Flandre'}, 9528: {'province': 'Flandre-Orientale', 'region': 'Flandre'}, 9529: {'province': 'Flandre-Orientale', 'region': 'Flandre'}, 9530: {'province': 'Flandre-Orientale', 'region': 'Flandre'}, 9531: {'province': 'Flandre-Orientale', 'region': 'Flandre'}, 9532: {'province': 'Flandre-Orientale', 'region': 'Flandre'}, 9533: {'province': 'Flandre-Orientale', 'region': 'Flandre'}, 9534: {'province': 'Flandre-Orientale', 'region': 'Flandre'}, 9535: {'province': 'Flandre-Orientale', 'region': 'Flandre'}, 9536: {'province': 'Flandre-Orientale', 'region': 'Flandre'}, 9537: {'province': 'Flandre-Orientale', 'region': 'Flandre'}, 9538: {'province': 'Flandre-Orientale', 'region': 'Flandre'}, 9539: {'province': 'Flandre-Orientale', 'region': 'Flandre'}, 9540: {'province': 'Flandre-Orientale', 'region': 'Flandre'}, 9541: {'province': 'Flandre-Orientale', 'region': 'Flandre'}, 9542: {'province': 'Flandre-Orientale', 'region': 'Flandre'}, 9543: {'province': 'Flandre-Orientale', 'region': 'Flandre'}, 9544: {'province': 'Flandre-Orientale', 'region': 'Flandre'}, 9545: {'province': 'Flandre-Orientale', 'region': 'Flandre'}, 9546: {'province': 'Flandre-Orientale', 'region': 'Flandre'}, 9547: {'province': 'Flandre-Orientale', 'region': 'Flandre'}, 9548: {'province': 'Flandre-Orientale', 'region': 'Flandre'}, 9549: {'province': 'Flandre-Orientale', 'region': 'Flandre'}, 9550: {'province': 'Flandre-Orientale', 'region': 'Flandre'}, 9551: {'province': 'Flandre-Orientale', 'region': 'Flandre'}, 9552: {'province': 'Flandre-Orientale', 'region': 'Flandre'}, 9553: {'province': 'Flandre-Orientale', 'region': 'Flandre'}, 9554: {'province': 'Flandre-Orientale', 'region': 'Flandre'}, 9555: {'province': 'Flandre-Orientale', 'region': 'Flandre'}, 9556: {'province': 'Flandre-Orientale', 'region': 'Flandre'}, 9557: {'province': 'Flandre-Orientale', 'region': 'Flandre'}, 9558: {'province': 'Flandre-Orientale', 'region': 'Flandre'}, 9559: {'province': 'Flandre-Orientale', 'region': 'Flandre'}, 9560: {'province': 'Flandre-Orientale', 'region': 'Flandre'}, 9561: {'province': 'Flandre-Orientale', 'region': 'Flandre'}, 9562: {'province': 'Flandre-Orientale', 'region': 'Flandre'}, 9563: {'province': 'Flandre-Orientale', 'region': 'Flandre'}, 9564: {'province': 'Flandre-Orientale', 'region': 'Flandre'}, 9565: {'province': 'Flandre-Orientale', 'region': 'Flandre'}, 9566: {'province': 'Flandre-Orientale', 'region': 'Flandre'}, 9567: {'province': 'Flandre-Orientale', 'region': 'Flandre'}, 9568: {'province': 'Flandre-Orientale', 'region': 'Flandre'}, 9569: {'province': 'Flandre-Orientale', 'region': 'Flandre'}, 9570: {'province': 'Flandre-Orientale', 'region': 'Flandre'}, 9571: {'province': 'Flandre-Orientale', 'region': 'Flandre'}, 9572: {'province': 'Flandre-Orientale', 'region': 'Flandre'}, 9573: {'province': 'Flandre-Orientale', 'region': 'Flandre'}, 9574: {'province': 'Flandre-Orientale', 'region': 'Flandre'}, 9575: {'province': 'Flandre-Orientale', 'region': 'Flandre'}, 9576: {'province': 'Flandre-Orientale', 'region': 'Flandre'}, 9577: {'province': 'Flandre-Orientale', 'region': 'Flandre'}, 9578: {'province': 'Flandre-Orientale', 'region': 'Flandre'}, 9579: {'province': 'Flandre-Orientale', 'region': 'Flandre'}, 9580: {'province': 'Flandre-Orientale', 'region': 'Flandre'}, 9581: {'province': 'Flandre-Orientale', 'region': 'Flandre'}, 9582: {'province': 'Flandre-Orientale', 'region': 'Flandre'}, 9583: {'province': 'Flandre-Orientale', 'region': 'Flandre'}, 9584: {'province': 'Flandre-Orientale', 'region': 'Flandre'}, 9585: {'province': 'Flandre-Orientale', 'region': 'Flandre'}, 9586: {'province': 'Flandre-Orientale', 'region': 'Flandre'}, 9587: {'province': 'Flandre-Orientale', 'region': 'Flandre'}, 9588: {'province': 'Flandre-Orientale', 'region': 'Flandre'}, 9589: {'province': 'Flandre-Orientale', 'region': 'Flandre'}, 9590: {'province': 'Flandre-Orientale', 'region': 'Flandre'}, 9591: {'province': 'Flandre-Orientale', 'region': 'Flandre'}, 9592: {'province': 'Flandre-Orientale', 'region': 'Flandre'}, 9593: {'province': 'Flandre-Orientale', 'region': 'Flandre'}, 9594: {'province': 'Flandre-Orientale', 'region': 'Flandre'}, 9595: {'province': 'Flandre-Orientale', 'region': 'Flandre'}, 9596: {'province': 'Flandre-Orientale', 'region': 'Flandre'}, 9597: {'province': 'Flandre-Orientale', 'region': 'Flandre'}, 9598: {'province': 'Flandre-Orientale', 'region': 'Flandre'}, 9599: {'province': 'Flandre-Orientale', 'region': 'Flandre'}, 9600: {'province': 'Flandre-Orientale', 'region': 'Flandre'}, 9601: {'province': 'Flandre-Orientale', 'region': 'Flandre'}, 9602: {'province': 'Flandre-Orientale', 'region': 'Flandre'}, 9603: {'province': 'Flandre-Orientale', 'region': 'Flandre'}, 9604: {'province': 'Flandre-Orientale', 'region': 'Flandre'}, 9605: {'province': 'Flandre-Orientale', 'region': 'Flandre'}, 9606: {'province': 'Flandre-Orientale', 'region': 'Flandre'}, 9607: {'province': 'Flandre-Orientale', 'region': 'Flandre'}, 9608: {'province': 'Flandre-Orientale', 'region': 'Flandre'}, 9609: {'province': 'Flandre-Orientale', 'region': 'Flandre'}, 9610: {'province': 'Flandre-Orientale', 'region': 'Flandre'}, 9611: {'province': 'Flandre-Orientale', 'region': 'Flandre'}, 9612: {'province': 'Flandre-Orientale', 'region': 'Flandre'}, 9613: {'province': 'Flandre-Orientale', 'region': 'Flandre'}, 9614: {'province': 'Flandre-Orientale', 'region': 'Flandre'}, 9615: {'province': 'Flandre-Orientale', 'region': 'Flandre'}, 9616: {'province': 'Flandre-Orientale', 'region': 'Flandre'}, 9617: {'province': 'Flandre-Orientale', 'region': 'Flandre'}, 9618: {'province': 'Flandre-Orientale', 'region': 'Flandre'}, 9619: {'province': 'Flandre-Orientale', 'region': 'Flandre'}, 9620: {'province': 'Flandre-Orientale', 'region': 'Flandre'}, 9621: {'province': 'Flandre-Orientale', 'region': 'Flandre'}, 9622: {'province': 'Flandre-Orientale', 'region': 'Flandre'}, 9623: {'province': 'Flandre-Orientale', 'region': 'Flandre'}, 9624: {'province': 'Flandre-Orientale', 'region': 'Flandre'}, 9625: {'province': 'Flandre-Orientale', 'region': 'Flandre'}, 9626: {'province': 'Flandre-Orientale', 'region': 'Flandre'}, 9627: {'province': 'Flandre-Orientale', 'region': 'Flandre'}, 9628: {'province': 'Flandre-Orientale', 'region': 'Flandre'}, 9629: {'province': 'Flandre-Orientale', 'region': 'Flandre'}, 9630: {'province': 'Flandre-Orientale', 'region': 'Flandre'}, 9631: {'province': 'Flandre-Orientale', 'region': 'Flandre'}, 9632: {'province': 'Flandre-Orientale', 'region': 'Flandre'}, 9633: {'province': 'Flandre-Orientale', 'region': 'Flandre'}, 9634: {'province': 'Flandre-Orientale', 'region': 'Flandre'}, 9635: {'province': 'Flandre-Orientale', 'region': 'Flandre'}, 9636: {'province': 'Flandre-Orientale', 'region': 'Flandre'}, 9637: {'province': 'Flandre-Orientale', 'region': 'Flandre'}, 9638: {'province': 'Flandre-Orientale', 'region': 'Flandre'}, 9639: {'province': 'Flandre-Orientale', 'region': 'Flandre'}, 9640: {'province': 'Flandre-Orientale', 'region': 'Flandre'}, 9641: {'province': 'Flandre-Orientale', 'region': 'Flandre'}, 9642: {'province': 'Flandre-Orientale', 'region': 'Flandre'}, 9643: {'province': 'Flandre-Orientale', 'region': 'Flandre'}, 9644: {'province': 'Flandre-Orientale', 'region': 'Flandre'}, 9645: {'province': 'Flandre-Orientale', 'region': 'Flandre'}, 9646: {'province': 'Flandre-Orientale', 'region': 'Flandre'}, 9647: {'province': 'Flandre-Orientale', 'region': 'Flandre'}, 9648: {'province': 'Flandre-Orientale', 'region': 'Flandre'}, 9649: {'province': 'Flandre-Orientale', 'region': 'Flandre'}, 9650: {'province': 'Flandre-Orientale', 'region': 'Flandre'}, 9651: {'province': 'Flandre-Orientale', 'region': 'Flandre'}, 9652: {'province': 'Flandre-Orientale', 'region': 'Flandre'}, 9653: {'province': 'Flandre-Orientale', 'region': 'Flandre'}, 9654: {'province': 'Flandre-Orientale', 'region': 'Flandre'}, 9655: {'province': 'Flandre-Orientale', 'region': 'Flandre'}, 9656: {'province': 'Flandre-Orientale', 'region': 'Flandre'}, 9657: {'province': 'Flandre-Orientale', 'region': 'Flandre'}, 9658: {'province': 'Flandre-Orientale', 'region': 'Flandre'}, 9659: {'province': 'Flandre-Orientale', 'region': 'Flandre'}, 9660: {'province': 'Flandre-Orientale', 'region': 'Flandre'}, 9661: {'province': 'Flandre-Orientale', 'region': 'Flandre'}, 9662: {'province': 'Flandre-Orientale', 'region': 'Flandre'}, 9663: {'province': 'Flandre-Orientale', 'region': 'Flandre'}, 9664: {'province': 'Flandre-Orientale', 'region': 'Flandre'}, 9665: {'province': 'Flandre-Orientale', 'region': 'Flandre'}, 9666: {'province': 'Flandre-Orientale', 'region': 'Flandre'}, 9667: {'province': 'Flandre-Orientale', 'region': 'Flandre'}, 9668: {'province': 'Flandre-Orientale', 'region': 'Flandre'}, 9669: {'province': 'Flandre-Orientale', 'region': 'Flandre'}, 9670: {'province': 'Flandre-Orientale', 'region': 'Flandre'}, 9671: {'province': 'Flandre-Orientale', 'region': 'Flandre'}, 9672: {'province': 'Flandre-Orientale', 'region': 'Flandre'}, 9673: {'province': 'Flandre-Orientale', 'region': 'Flandre'}, 9674: {'province': 'Flandre-Orientale', 'region': 'Flandre'}, 9675: {'province': 'Flandre-Orientale', 'region': 'Flandre'}, 9676: {'province': 'Flandre-Orientale', 'region': 'Flandre'}, 9677: {'province': 'Flandre-Orientale', 'region': 'Flandre'}, 9678: {'province': 'Flandre-Orientale', 'region': 'Flandre'}, 9679: {'province': 'Flandre-Orientale', 'region': 'Flandre'}, 9680: {'province': 'Flandre-Orientale', 'region': 'Flandre'}, 9681: {'province': 'Flandre-Orientale', 'region': 'Flandre'}, 9682: {'province': 'Flandre-Orientale', 'region': 'Flandre'}, 9683: {'province': 'Flandre-Orientale', 'region': 'Flandre'}, 9684: {'province': 'Flandre-Orientale', 'region': 'Flandre'}, 9685: {'province': 'Flandre-Orientale', 'region': 'Flandre'}, 9686: {'province': 'Flandre-Orientale', 'region': 'Flandre'}, 9687: {'province': 'Flandre-Orientale', 'region': 'Flandre'}, 9688: {'province': 'Flandre-Orientale', 'region': 'Flandre'}, 9689: {'province': 'Flandre-Orientale', 'region': 'Flandre'}, 9690: {'province': 'Flandre-Orientale', 'region': 'Flandre'}, 9691: {'province': 'Flandre-Orientale', 'region': 'Flandre'}, 9692: {'province': 'Flandre-Orientale', 'region': 'Flandre'}, 9693: {'province': 'Flandre-Orientale', 'region': 'Flandre'}, 9694: {'province': 'Flandre-Orientale', 'region': 'Flandre'}, 9695: {'province': 'Flandre-Orientale', 'region': 'Flandre'}, 9696: {'province': 'Flandre-Orientale', 'region': 'Flandre'}, 9697: {'province': 'Flandre-Orientale', 'region': 'Flandre'}, 9698: {'province': 'Flandre-Orientale', 'region': 'Flandre'}, 9699: {'province': 'Flandre-Orientale', 'region': 'Flandre'}, 9700: {'province': 'Flandre-Orientale', 'region': 'Flandre'}, 9701: {'province': 'Flandre-Orientale', 'region': 'Flandre'}, 9702: {'province': 'Flandre-Orientale', 'region': 'Flandre'}, 9703: {'province': 'Flandre-Orientale', 'region': 'Flandre'}, 9704: {'province': 'Flandre-Orientale', 'region': 'Flandre'}, 9705: {'province': 'Flandre-Orientale', 'region': 'Flandre'}, 9706: {'province': 'Flandre-Orientale', 'region': 'Flandre'}, 9707: {'province': 'Flandre-Orientale', 'region': 'Flandre'}, 9708: {'province': 'Flandre-Orientale', 'region': 'Flandre'}, 9709: {'province': 'Flandre-Orientale', 'region': 'Flandre'}, 9710: {'province': 'Flandre-Orientale', 'region': 'Flandre'}, 9711: {'province': 'Flandre-Orientale', 'region': 'Flandre'}, 9712: {'province': 'Flandre-Orientale', 'region': 'Flandre'}, 9713: {'province': 'Flandre-Orientale', 'region': 'Flandre'}, 9714: {'province': 'Flandre-Orientale', 'region': 'Flandre'}, 9715: {'province': 'Flandre-Orientale', 'region': 'Flandre'}, 9716: {'province': 'Flandre-Orientale', 'region': 'Flandre'}, 9717: {'province': 'Flandre-Orientale', 'region': 'Flandre'}, 9718: {'province': 'Flandre-Orientale', 'region': 'Flandre'}, 9719: {'province': 'Flandre-Orientale', 'region': 'Flandre'}, 9720: {'province': 'Flandre-Orientale', 'region': 'Flandre'}, 9721: {'province': 'Flandre-Orientale', 'region': 'Flandre'}, 9722: {'province': 'Flandre-Orientale', 'region': 'Flandre'}, 9723: {'province': 'Flandre-Orientale', 'region': 'Flandre'}, 9724: {'province': 'Flandre-Orientale', 'region': 'Flandre'}, 9725: {'province': 'Flandre-Orientale', 'region': 'Flandre'}, 9726: {'province': 'Flandre-Orientale', 'region': 'Flandre'}, 9727: {'province': 'Flandre-Orientale', 'region': 'Flandre'}, 9728: {'province': 'Flandre-Orientale', 'region': 'Flandre'}, 9729: {'province': 'Flandre-Orientale', 'region': 'Flandre'}, 9730: {'province': 'Flandre-Orientale', 'region': 'Flandre'}, 9731: {'province': 'Flandre-Orientale', 'region': 'Flandre'}, 9732: {'province': 'Flandre-Orientale', 'region': 'Flandre'}, 9733: {'province': 'Flandre-Orientale', 'region': 'Flandre'}, 9734: {'province': 'Flandre-Orientale', 'region': 'Flandre'}, 9735: {'province': 'Flandre-Orientale', 'region': 'Flandre'}, 9736: {'province': 'Flandre-Orientale', 'region': 'Flandre'}, 9737: {'province': 'Flandre-Orientale', 'region': 'Flandre'}, 9738: {'province': 'Flandre-Orientale', 'region': 'Flandre'}, 9739: {'province': 'Flandre-Orientale', 'region': 'Flandre'}, 9740: {'province': 'Flandre-Orientale', 'region': 'Flandre'}, 9741: {'province': 'Flandre-Orientale', 'region': 'Flandre'}, 9742: {'province': 'Flandre-Orientale', 'region': 'Flandre'}, 9743: {'province': 'Flandre-Orientale', 'region': 'Flandre'}, 9744: {'province': 'Flandre-Orientale', 'region': 'Flandre'}, 9745: {'province': 'Flandre-Orientale', 'region': 'Flandre'}, 9746: {'province': 'Flandre-Orientale', 'region': 'Flandre'}, 9747: {'province': 'Flandre-Orientale', 'region': 'Flandre'}, 9748: {'province': 'Flandre-Orientale', 'region': 'Flandre'}, 9749: {'province': 'Flandre-Orientale', 'region': 'Flandre'}, 9750: {'province': 'Flandre-Orientale', 'region': 'Flandre'}, 9751: {'province': 'Flandre-Orientale', 'region': 'Flandre'}, 9752: {'province': 'Flandre-Orientale', 'region': 'Flandre'}, 9753: {'province': 'Flandre-Orientale', 'region': 'Flandre'}, 9754: {'province': 'Flandre-Orientale', 'region': 'Flandre'}, 9755: {'province': 'Flandre-Orientale', 'region': 'Flandre'}, 9756: {'province': 'Flandre-Orientale', 'region': 'Flandre'}, 9757: {'province': 'Flandre-Orientale', 'region': 'Flandre'}, 9758: {'province': 'Flandre-Orientale', 'region': 'Flandre'}, 9759: {'province': 'Flandre-Orientale', 'region': 'Flandre'}, 9760: {'province': 'Flandre-Orientale', 'region': 'Flandre'}, 9761: {'province': 'Flandre-Orientale', 'region': 'Flandre'}, 9762: {'province': 'Flandre-Orientale', 'region': 'Flandre'}, 9763: {'province': 'Flandre-Orientale', 'region': 'Flandre'}, 9764: {'province': 'Flandre-Orientale', 'region': 'Flandre'}, 9765: {'province': 'Flandre-Orientale', 'region': 'Flandre'}, 9766: {'province': 'Flandre-Orientale', 'region': 'Flandre'}, 9767: {'province': 'Flandre-Orientale', 'region': 'Flandre'}, 9768: {'province': 'Flandre-Orientale', 'region': 'Flandre'}, 9769: {'province': 'Flandre-Orientale', 'region': 'Flandre'}, 9770: {'province': 'Flandre-Orientale', 'region': 'Flandre'}, 9771: {'province': 'Flandre-Orientale', 'region': 'Flandre'}, 9772: {'province': 'Flandre-Orientale', 'region': 'Flandre'}, 9773: {'province': 'Flandre-Orientale', 'region': 'Flandre'}, 9774: {'province': 'Flandre-Orientale', 'region': 'Flandre'}, 9775: {'province': 'Flandre-Orientale', 'region': 'Flandre'}, 9776: {'province': 'Flandre-Orientale', 'region': 'Flandre'}, 9777: {'province': 'Flandre-Orientale', 'region': 'Flandre'}, 9778: {'province': 'Flandre-Orientale', 'region': 'Flandre'}, 9779: {'province': 'Flandre-Orientale', 'region': 'Flandre'}, 9780: {'province': 'Flandre-Orientale', 'region': 'Flandre'}, 9781: {'province': 'Flandre-Orientale', 'region': 'Flandre'}, 9782: {'province': 'Flandre-Orientale', 'region': 'Flandre'}, 9783: {'province': 'Flandre-Orientale', 'region': 'Flandre'}, 9784: {'province': 'Flandre-Orientale', 'region': 'Flandre'}, 9785: {'province': 'Flandre-Orientale', 'region': 'Flandre'}, 9786: {'province': 'Flandre-Orientale', 'region': 'Flandre'}, 9787: {'province': 'Flandre-Orientale', 'region': 'Flandre'}, 9788: {'province': 'Flandre-Orientale', 'region': 'Flandre'}, 9789: {'province': 'Flandre-Orientale', 'region': 'Flandre'}, 9790: {'province': 'Flandre-Orientale', 'region': 'Flandre'}, 9791: {'province': 'Flandre-Orientale', 'region': 'Flandre'}, 9792: {'province': 'Flandre-Orientale', 'region': 'Flandre'}, 9793: {'province': 'Flandre-Orientale', 'region': 'Flandre'}, 9794: {'province': 'Flandre-Orientale', 'region': 'Flandre'}, 9795: {'province': 'Flandre-Orientale', 'region': 'Flandre'}, 9796: {'province': 'Flandre-Orientale', 'region': 'Flandre'}, 9797: {'province': 'Flandre-Orientale', 'region': 'Flandre'}, 9798: {'province': 'Flandre-Orientale', 'region': 'Flandre'}, 9799: {'province': 'Flandre-Orientale', 'region': 'Flandre'}, 9800: {'province': 'Flandre-Orientale', 'region': 'Flandre'}, 9801: {'province': 'Flandre-Orientale', 'region': 'Flandre'}, 9802: {'province': 'Flandre-Orientale', 'region': 'Flandre'}, 9803: {'province': 'Flandre-Orientale', 'region': 'Flandre'}, 9804: {'province': 'Flandre-Orientale', 'region': 'Flandre'}, 9805: {'province': 'Flandre-Orientale', 'region': 'Flandre'}, 9806: {'province': 'Flandre-Orientale', 'region': 'Flandre'}, 9807: {'province': 'Flandre-Orientale', 'region': 'Flandre'}, 9808: {'province': 'Flandre-Orientale', 'region': 'Flandre'}, 9809: {'province': 'Flandre-Orientale', 'region': 'Flandre'}, 9810: {'province': 'Flandre-Orientale', 'region': 'Flandre'}, 9811: {'province': 'Flandre-Orientale', 'region': 'Flandre'}, 9812: {'province': 'Flandre-Orientale', 'region': 'Flandre'}, 9813: {'province': 'Flandre-Orientale', 'region': 'Flandre'}, 9814: {'province': 'Flandre-Orientale', 'region': 'Flandre'}, 9815: {'province': 'Flandre-Orientale', 'region': 'Flandre'}, 9816: {'province': 'Flandre-Orientale', 'region': 'Flandre'}, 9817: {'province': 'Flandre-Orientale', 'region': 'Flandre'}, 9818: {'province': 'Flandre-Orientale', 'region': 'Flandre'}, 9819: {'province': 'Flandre-Orientale', 'region': 'Flandre'}, 9820: {'province': 'Flandre-Orientale', 'region': 'Flandre'}, 9821: {'province': 'Flandre-Orientale', 'region': 'Flandre'}, 9822: {'province': 'Flandre-Orientale', 'region': 'Flandre'}, 9823: {'province': 'Flandre-Orientale', 'region': 'Flandre'}, 9824: {'province': 'Flandre-Orientale', 'region': 'Flandre'}, 9825: {'province': 'Flandre-Orientale', 'region': 'Flandre'}, 9826: {'province': 'Flandre-Orientale', 'region': 'Flandre'}, 9827: {'province': 'Flandre-Orientale', 'region': 'Flandre'}, 9828: {'province': 'Flandre-Orientale', 'region': 'Flandre'}, 9829: {'province': 'Flandre-Orientale', 'region': 'Flandre'}, 9830: {'province': 'Flandre-Orientale', 'region': 'Flandre'}, 9831: {'province': 'Flandre-Orientale', 'region': 'Flandre'}, 9832: {'province': 'Flandre-Orientale', 'region': 'Flandre'}, 9833: {'province': 'Flandre-Orientale', 'region': 'Flandre'}, 9834: {'province': 'Flandre-Orientale', 'region': 'Flandre'}, 9835: {'province': 'Flandre-Orientale', 'region': 'Flandre'}, 9836: {'province': 'Flandre-Orientale', 'region': 'Flandre'}, 9837: {'province': 'Flandre-Orientale', 'region': 'Flandre'}, 9838: {'province': 'Flandre-Orientale', 'region': 'Flandre'}, 9839: {'province': 'Flandre-Orientale', 'region': 'Flandre'}, 9840: {'province': 'Flandre-Orientale', 'region': 'Flandre'}, 9841: {'province': 'Flandre-Orientale', 'region': 'Flandre'}, 9842: {'province': 'Flandre-Orientale', 'region': 'Flandre'}, 9843: {'province': 'Flandre-Orientale', 'region': 'Flandre'}, 9844: {'province': 'Flandre-Orientale', 'region': 'Flandre'}, 9845: {'province': 'Flandre-Orientale', 'region': 'Flandre'}, 9846: {'province': 'Flandre-Orientale', 'region': 'Flandre'}, 9847: {'province': 'Flandre-Orientale', 'region': 'Flandre'}, 9848: {'province': 'Flandre-Orientale', 'region': 'Flandre'}, 9849: {'province': 'Flandre-Orientale', 'region': 'Flandre'}, 9850: {'province': 'Flandre-Orientale', 'region': 'Flandre'}, 9851: {'province': 'Flandre-Orientale', 'region': 'Flandre'}, 9852: {'province': 'Flandre-Orientale', 'region': 'Flandre'}, 9853: {'province': 'Flandre-Orientale', 'region': 'Flandre'}, 9854: {'province': 'Flandre-Orientale', 'region': 'Flandre'}, 9855: {'province': 'Flandre-Orientale', 'region': 'Flandre'}, 9856: {'province': 'Flandre-Orientale', 'region': 'Flandre'}, 9857: {'province': 'Flandre-Orientale', 'region': 'Flandre'}, 9858: {'province': 'Flandre-Orientale', 'region': 'Flandre'}, 9859: {'province': 'Flandre-Orientale', 'region': 'Flandre'}, 9860: {'province': 'Flandre-Orientale', 'region': 'Flandre'}, 9861: {'province': 'Flandre-Orientale', 'region': 'Flandre'}, 9862: {'province': 'Flandre-Orientale', 'region': 'Flandre'}, 9863: {'province': 'Flandre-Orientale', 'region': 'Flandre'}, 9864: {'province': 'Flandre-Orientale', 'region': 'Flandre'}, 9865: {'province': 'Flandre-Orientale', 'region': 'Flandre'}, 9866: {'province': 'Flandre-Orientale', 'region': 'Flandre'}, 9867: {'province': 'Flandre-Orientale', 'region': 'Flandre'}, 9868: {'province': 'Flandre-Orientale', 'region': 'Flandre'}, 9869: {'province': 'Flandre-Orientale', 'region': 'Flandre'}, 9870: {'province': 'Flandre-Orientale', 'region': 'Flandre'}, 9871: {'province': 'Flandre-Orientale', 'region': 'Flandre'}, 9872: {'province': 'Flandre-Orientale', 'region': 'Flandre'}, 9873: {'province': 'Flandre-Orientale', 'region': 'Flandre'}, 9874: {'province': 'Flandre-Orientale', 'region': 'Flandre'}, 9875: {'province': 'Flandre-Orientale', 'region': 'Flandre'}, 9876: {'province': 'Flandre-Orientale', 'region': 'Flandre'}, 9877: {'province': 'Flandre-Orientale', 'region': 'Flandre'}, 9878: {'province': 'Flandre-Orientale', 'region': 'Flandre'}, 9879: {'province': 'Flandre-Orientale', 'region': 'Flandre'}, 9880: {'province': 'Flandre-Orientale', 'region': 'Flandre'}, 9881: {'province': 'Flandre-Orientale', 'region': 'Flandre'}, 9882: {'province': 'Flandre-Orientale', 'region': 'Flandre'}, 9883: {'province': 'Flandre-Orientale', 'region': 'Flandre'}, 9884: {'province': 'Flandre-Orientale', 'region': 'Flandre'}, 9885: {'province': 'Flandre-Orientale', 'region': 'Flandre'}, 9886: {'province': 'Flandre-Orientale', 'region': 'Flandre'}, 9887: {'province': 'Flandre-Orientale', 'region': 'Flandre'}, 9888: {'province': 'Flandre-Orientale', 'region': 'Flandre'}, 9889: {'province': 'Flandre-Orientale', 'region': 'Flandre'}, 9890: {'province': 'Flandre-Orientale', 'region': 'Flandre'}, 9891: {'province': 'Flandre-Orientale', 'region': 'Flandre'}, 9892: {'province': 'Flandre-Orientale', 'region': 'Flandre'}, 9893: {'province': 'Flandre-Orientale', 'region': 'Flandre'}, 9894: {'province': 'Flandre-Orientale', 'region': 'Flandre'}, 9895: {'province': 'Flandre-Orientale', 'region': 'Flandre'}, 9896: {'province': 'Flandre-Orientale', 'region': 'Flandre'}, 9897: {'province': 'Flandre-Orientale', 'region': 'Flandre'}, 9898: {'province': 'Flandre-Orientale', 'region': 'Flandre'}, 9899: {'province': 'Flandre-Orientale', 'region': 'Flandre'}, 9900: {'province': 'Flandre-Orientale', 'region': 'Flandre'}, 9901: {'province': 'Flandre-Orientale', 'region': 'Flandre'}, 9902: {'province': 'Flandre-Orientale', 'region': 'Flandre'}, 9903: {'province': 'Flandre-Orientale', 'region': 'Flandre'}, 9904: {'province': 'Flandre-Orientale', 'region': 'Flandre'}, 9905: {'province': 'Flandre-Orientale', 'region': 'Flandre'}, 9906: {'province': 'Flandre-Orientale', 'region': 'Flandre'}, 9907: {'province': 'Flandre-Orientale', 'region': 'Flandre'}, 9908: {'province': 'Flandre-Orientale', 'region': 'Flandre'}, 9909: {'province': 'Flandre-Orientale', 'region': 'Flandre'}, 9910: {'province': 'Flandre-Orientale', 'region': 'Flandre'}, 9911: {'province': 'Flandre-Orientale', 'region': 'Flandre'}, 9912: {'province': 'Flandre-Orientale', 'region': 'Flandre'}, 9913: {'province': 'Flandre-Orientale', 'region': 'Flandre'}, 9914: {'province': 'Flandre-Orientale', 'region': 'Flandre'}, 9915: {'province': 'Flandre-Orientale', 'region': 'Flandre'}, 9916: {'province': 'Flandre-Orientale', 'region': 'Flandre'}, 9917: {'province': 'Flandre-Orientale', 'region': 'Flandre'}, 9918: {'province': 'Flandre-Orientale', 'region': 'Flandre'}, 9919: {'province': 'Flandre-Orientale', 'region': 'Flandre'}, 9920: {'province': 'Flandre-Orientale', 'region': 'Flandre'}, 9921: {'province': 'Flandre-Orientale', 'region': 'Flandre'}, 9922: {'province': 'Flandre-Orientale', 'region': 'Flandre'}, 9923: {'province': 'Flandre-Orientale', 'region': 'Flandre'}, 9924: {'province': 'Flandre-Orientale', 'region': 'Flandre'}, 9925: {'province': 'Flandre-Orientale', 'region': 'Flandre'}, 9926: {'province': 'Flandre-Orientale', 'region': 'Flandre'}, 9927: {'province': 'Flandre-Orientale', 'region': 'Flandre'}, 9928: {'province': 'Flandre-Orientale', 'region': 'Flandre'}, 9929: {'province': 'Flandre-Orientale', 'region': 'Flandre'}, 9930: {'province': 'Flandre-Orientale', 'region': 'Flandre'}, 9931: {'province': 'Flandre-Orientale', 'region': 'Flandre'}, 9932: {'province': 'Flandre-Orientale', 'region': 'Flandre'}, 9933: {'province': 'Flandre-Orientale', 'region': 'Flandre'}, 9934: {'province': 'Flandre-Orientale', 'region': 'Flandre'}, 9935: {'province': 'Flandre-Orientale', 'region': 'Flandre'}, 9936: {'province': 'Flandre-Orientale', 'region': 'Flandre'}, 9937: {'province': 'Flandre-Orientale', 'region': 'Flandre'}, 9938: {'province': 'Flandre-Orientale', 'region': 'Flandre'}, 9939: {'province': 'Flandre-Orientale', 'region': 'Flandre'}, 9940: {'province': 'Flandre-Orientale', 'region': 'Flandre'}, 9941: {'province': 'Flandre-Orientale', 'region': 'Flandre'}, 9942: {'province': 'Flandre-Orientale', 'region': 'Flandre'}, 9943: {'province': 'Flandre-Orientale', 'region': 'Flandre'}, 9944: {'province': 'Flandre-Orientale', 'region': 'Flandre'}, 9945: {'province': 'Flandre-Orientale', 'region': 'Flandre'}, 9946: {'province': 'Flandre-Orientale', 'region': 'Flandre'}, 9947: {'province': 'Flandre-Orientale', 'region': 'Flandre'}, 9948: {'province': 'Flandre-Orientale', 'region': 'Flandre'}, 9949: {'province': 'Flandre-Orientale', 'region': 'Flandre'}, 9950: {'province': 'Flandre-Orientale', 'region': 'Flandre'}, 9951: {'province': 'Flandre-Orientale', 'region': 'Flandre'}, 9952: {'province': 'Flandre-Orientale', 'region': 'Flandre'}, 9953: {'province': 'Flandre-Orientale', 'region': 'Flandre'}, 9954: {'province': 'Flandre-Orientale', 'region': 'Flandre'}, 9955: {'province': 'Flandre-Orientale', 'region': 'Flandre'}, 9956: {'province': 'Flandre-Orientale', 'region': 'Flandre'}, 9957: {'province': 'Flandre-Orientale', 'region': 'Flandre'}, 9958: {'province': 'Flandre-Orientale', 'region': 'Flandre'}, 9959: {'province': 'Flandre-Orientale', 'region': 'Flandre'}, 9960: {'province': 'Flandre-Orientale', 'region': 'Flandre'}, 9961: {'province': 'Flandre-Orientale', 'region': 'Flandre'}, 9962: {'province': 'Flandre-Orientale', 'region': 'Flandre'}, 9963: {'province': 'Flandre-Orientale', 'region': 'Flandre'}, 9964: {'province': 'Flandre-Orientale', 'region': 'Flandre'}, 9965: {'province': 'Flandre-Orientale', 'region': 'Flandre'}, 9966: {'province': 'Flandre-Orientale', 'region': 'Flandre'}, 9967: {'province': 'Flandre-Orientale', 'region': 'Flandre'}, 9968: {'province': 'Flandre-Orientale', 'region': 'Flandre'}, 9969: {'province': 'Flandre-Orientale', 'region': 'Flandre'}, 9970: {'province': 'Flandre-Orientale', 'region': 'Flandre'}, 9971: {'province': 'Flandre-Orientale', 'region': 'Flandre'}, 9972: {'province': 'Flandre-Orientale', 'region': 'Flandre'}, 9973: {'province': 'Flandre-Orientale', 'region': 'Flandre'}, 9974: {'province': 'Flandre-Orientale', 'region': 'Flandre'}, 9975: {'province': 'Flandre-Orientale', 'region': 'Flandre'}, 9976: {'province': 'Flandre-Orientale', 'region': 'Flandre'}, 9977: {'province': 'Flandre-Orientale', 'region': 'Flandre'}, 9978: {'province': 'Flandre-Orientale', 'region': 'Flandre'}, 9979: {'province': 'Flandre-Orientale', 'region': 'Flandre'}, 9980: {'province': 'Flandre-Orientale', 'region': 'Flandre'}, 9981: {'province': 'Flandre-Orientale', 'region': 'Flandre'}, 9982: {'province': 'Flandre-Orientale', 'region': 'Flandre'}, 9983: {'province': 'Flandre-Orientale', 'region': 'Flandre'}, 9984: {'province': 'Flandre-Orientale', 'region': 'Flandre'}, 9985: {'province': 'Flandre-Orientale', 'region': 'Flandre'}, 9986: {'province': 'Flandre-Orientale', 'region': 'Flandre'}, 9987: {'province': 'Flandre-Orientale', 'region': 'Flandre'}, 9988: {'province': 'Flandre-Orientale', 'region': 'Flandre'}, 9989: {'province': 'Flandre-Orientale', 'region': 'Flandre'}, 9990: {'province': 'Flandre-Orientale', 'region': 'Flandre'}, 9991: {'province': 'Flandre-Orientale', 'region': 'Flandre'}, 9992: {'province': 'Flandre-Orientale', 'region': 'Flandre'}, 9993: {'province': 'Flandre-Orientale', 'region': 'Flandre'}, 9994: {'province': 'Flandre-Orientale', 'region': 'Flandre'}, 9995: {'province': 'Flandre-Orientale', 'region': 'Flandre'}, 9996: {'province': 'Flandre-Orientale', 'region': 'Flandre'}, 9997: {'province': 'Flandre-Orientale', 'region': 'Flandre'}, 9998: {'province': 'Flandre-Orientale', 'region': 'Flandre'}, 9999: {'province': 'Flandre-Orientale', 'region': 'Flandre'}}\n"
          ],
          "name": "stdout"
        }
      ]
    },
    {
      "cell_type": "code",
      "metadata": {
        "id": "vmWHI0JlJgDP",
        "colab_type": "code",
        "colab": {
          "base_uri": "https://localhost:8080/",
          "height": 549
        },
        "outputId": "d80041f6-ea43-4b21-e48a-2977042634e4"
      },
      "source": [
        "def add_province(postal_code):\n",
        "  \"\"\"Return the province associated with a given locality.\"\"\"\n",
        "  return postal_dict[postal_code]['province']\n",
        "\n",
        "def add_region(postal_code):\n",
        "  return postal_dict[postal_code]['region']\n",
        "\n",
        "provinces_regions = df['postal_code'].apply(lambda postal_code: pd.Series({\n",
        "    'province': add_province(postal_code),\n",
        "    'region': add_region(postal_code)\n",
        "    }))\n",
        "\n",
        "df = pd.concat([df, provinces_regions], axis=1)\n",
        "df.head(10)"
      ],
      "execution_count": 299,
      "outputs": [
        {
          "output_type": "execute_result",
          "data": {
            "text/html": [
              "<div>\n",
              "<style scoped>\n",
              "    .dataframe tbody tr th:only-of-type {\n",
              "        vertical-align: middle;\n",
              "    }\n",
              "\n",
              "    .dataframe tbody tr th {\n",
              "        vertical-align: top;\n",
              "    }\n",
              "\n",
              "    .dataframe thead th {\n",
              "        text-align: right;\n",
              "    }\n",
              "</style>\n",
              "<table border=\"1\" class=\"dataframe\">\n",
              "  <thead>\n",
              "    <tr style=\"text-align: right;\">\n",
              "      <th></th>\n",
              "      <th>postal_code</th>\n",
              "      <th>city_name</th>\n",
              "      <th>type_of_property</th>\n",
              "      <th>price</th>\n",
              "      <th>number_of_rooms</th>\n",
              "      <th>house_area</th>\n",
              "      <th>fully_equipped_kitchen</th>\n",
              "      <th>open_fire</th>\n",
              "      <th>terrace</th>\n",
              "      <th>garden</th>\n",
              "      <th>surface_of_the_land</th>\n",
              "      <th>number_of_facades</th>\n",
              "      <th>swimming_pool</th>\n",
              "      <th>state_of_the_building</th>\n",
              "      <th>lattitude</th>\n",
              "      <th>longitude</th>\n",
              "      <th>province</th>\n",
              "      <th>region</th>\n",
              "    </tr>\n",
              "  </thead>\n",
              "  <tbody>\n",
              "    <tr>\n",
              "      <th>0</th>\n",
              "      <td>1050</td>\n",
              "      <td>Ixelles</td>\n",
              "      <td>0</td>\n",
              "      <td>340000</td>\n",
              "      <td>6</td>\n",
              "      <td>203</td>\n",
              "      <td>1</td>\n",
              "      <td>0</td>\n",
              "      <td>1</td>\n",
              "      <td>0</td>\n",
              "      <td>95</td>\n",
              "      <td>2</td>\n",
              "      <td>0</td>\n",
              "      <td>to be done up</td>\n",
              "      <td>4.381571</td>\n",
              "      <td>50.822285</td>\n",
              "      <td>Bruxelles-Capitale</td>\n",
              "      <td>Bruxelles</td>\n",
              "    </tr>\n",
              "    <tr>\n",
              "      <th>1</th>\n",
              "      <td>1050</td>\n",
              "      <td>Ixelles</td>\n",
              "      <td>0</td>\n",
              "      <td>520000</td>\n",
              "      <td>4</td>\n",
              "      <td>200</td>\n",
              "      <td>0</td>\n",
              "      <td>0</td>\n",
              "      <td>0</td>\n",
              "      <td>0</td>\n",
              "      <td>69</td>\n",
              "      <td>2</td>\n",
              "      <td>0</td>\n",
              "      <td>to renovate</td>\n",
              "      <td>4.381571</td>\n",
              "      <td>50.822285</td>\n",
              "      <td>Bruxelles-Capitale</td>\n",
              "      <td>Bruxelles</td>\n",
              "    </tr>\n",
              "    <tr>\n",
              "      <th>3</th>\n",
              "      <td>1050</td>\n",
              "      <td>Ixelles</td>\n",
              "      <td>0</td>\n",
              "      <td>599000</td>\n",
              "      <td>4</td>\n",
              "      <td>160</td>\n",
              "      <td>1</td>\n",
              "      <td>0</td>\n",
              "      <td>1</td>\n",
              "      <td>1</td>\n",
              "      <td>100</td>\n",
              "      <td>2</td>\n",
              "      <td>0</td>\n",
              "      <td>to be done up</td>\n",
              "      <td>4.381571</td>\n",
              "      <td>50.822285</td>\n",
              "      <td>Bruxelles-Capitale</td>\n",
              "      <td>Bruxelles</td>\n",
              "    </tr>\n",
              "    <tr>\n",
              "      <th>4</th>\n",
              "      <td>1050</td>\n",
              "      <td>Ixelles</td>\n",
              "      <td>0</td>\n",
              "      <td>599000</td>\n",
              "      <td>3</td>\n",
              "      <td>160</td>\n",
              "      <td>1</td>\n",
              "      <td>0</td>\n",
              "      <td>1</td>\n",
              "      <td>1</td>\n",
              "      <td>130</td>\n",
              "      <td>2</td>\n",
              "      <td>0</td>\n",
              "      <td>good</td>\n",
              "      <td>4.381571</td>\n",
              "      <td>50.822285</td>\n",
              "      <td>Bruxelles-Capitale</td>\n",
              "      <td>Bruxelles</td>\n",
              "    </tr>\n",
              "    <tr>\n",
              "      <th>5</th>\n",
              "      <td>1050</td>\n",
              "      <td>Ixelles</td>\n",
              "      <td>0</td>\n",
              "      <td>575000</td>\n",
              "      <td>3</td>\n",
              "      <td>171</td>\n",
              "      <td>0</td>\n",
              "      <td>0</td>\n",
              "      <td>0</td>\n",
              "      <td>0</td>\n",
              "      <td>46</td>\n",
              "      <td>2</td>\n",
              "      <td>0</td>\n",
              "      <td>just renovated</td>\n",
              "      <td>4.381571</td>\n",
              "      <td>50.822285</td>\n",
              "      <td>Bruxelles-Capitale</td>\n",
              "      <td>Bruxelles</td>\n",
              "    </tr>\n",
              "    <tr>\n",
              "      <th>6</th>\n",
              "      <td>1050</td>\n",
              "      <td>Ixelles</td>\n",
              "      <td>0</td>\n",
              "      <td>590000</td>\n",
              "      <td>4</td>\n",
              "      <td>225</td>\n",
              "      <td>0</td>\n",
              "      <td>0</td>\n",
              "      <td>1</td>\n",
              "      <td>0</td>\n",
              "      <td>0</td>\n",
              "      <td>2</td>\n",
              "      <td>0</td>\n",
              "      <td>to renovate</td>\n",
              "      <td>4.381571</td>\n",
              "      <td>50.822285</td>\n",
              "      <td>Bruxelles-Capitale</td>\n",
              "      <td>Bruxelles</td>\n",
              "    </tr>\n",
              "    <tr>\n",
              "      <th>7</th>\n",
              "      <td>1050</td>\n",
              "      <td>Ixelles</td>\n",
              "      <td>0</td>\n",
              "      <td>575000</td>\n",
              "      <td>4</td>\n",
              "      <td>209</td>\n",
              "      <td>1</td>\n",
              "      <td>0</td>\n",
              "      <td>0</td>\n",
              "      <td>0</td>\n",
              "      <td>0</td>\n",
              "      <td>2</td>\n",
              "      <td>0</td>\n",
              "      <td>unknown</td>\n",
              "      <td>4.381571</td>\n",
              "      <td>50.822285</td>\n",
              "      <td>Bruxelles-Capitale</td>\n",
              "      <td>Bruxelles</td>\n",
              "    </tr>\n",
              "    <tr>\n",
              "      <th>8</th>\n",
              "      <td>1050</td>\n",
              "      <td>Ixelles</td>\n",
              "      <td>0</td>\n",
              "      <td>595000</td>\n",
              "      <td>1</td>\n",
              "      <td>195</td>\n",
              "      <td>1</td>\n",
              "      <td>1</td>\n",
              "      <td>1</td>\n",
              "      <td>1</td>\n",
              "      <td>617</td>\n",
              "      <td>4</td>\n",
              "      <td>0</td>\n",
              "      <td>as new</td>\n",
              "      <td>4.381571</td>\n",
              "      <td>50.822285</td>\n",
              "      <td>Bruxelles-Capitale</td>\n",
              "      <td>Bruxelles</td>\n",
              "    </tr>\n",
              "    <tr>\n",
              "      <th>9</th>\n",
              "      <td>1050</td>\n",
              "      <td>Ixelles</td>\n",
              "      <td>0</td>\n",
              "      <td>595777</td>\n",
              "      <td>4</td>\n",
              "      <td>250</td>\n",
              "      <td>0</td>\n",
              "      <td>0</td>\n",
              "      <td>0</td>\n",
              "      <td>0</td>\n",
              "      <td>70</td>\n",
              "      <td>2</td>\n",
              "      <td>0</td>\n",
              "      <td>unknown</td>\n",
              "      <td>4.381571</td>\n",
              "      <td>50.822285</td>\n",
              "      <td>Bruxelles-Capitale</td>\n",
              "      <td>Bruxelles</td>\n",
              "    </tr>\n",
              "    <tr>\n",
              "      <th>11</th>\n",
              "      <td>1050</td>\n",
              "      <td>Ixelles</td>\n",
              "      <td>0</td>\n",
              "      <td>650000</td>\n",
              "      <td>6</td>\n",
              "      <td>250</td>\n",
              "      <td>1</td>\n",
              "      <td>0</td>\n",
              "      <td>0</td>\n",
              "      <td>0</td>\n",
              "      <td>60</td>\n",
              "      <td>2</td>\n",
              "      <td>0</td>\n",
              "      <td>good</td>\n",
              "      <td>4.381571</td>\n",
              "      <td>50.822285</td>\n",
              "      <td>Bruxelles-Capitale</td>\n",
              "      <td>Bruxelles</td>\n",
              "    </tr>\n",
              "  </tbody>\n",
              "</table>\n",
              "</div>"
            ],
            "text/plain": [
              "    postal_code city_name  ...            province     region\n",
              "0          1050   Ixelles  ...  Bruxelles-Capitale  Bruxelles\n",
              "1          1050   Ixelles  ...  Bruxelles-Capitale  Bruxelles\n",
              "3          1050   Ixelles  ...  Bruxelles-Capitale  Bruxelles\n",
              "4          1050   Ixelles  ...  Bruxelles-Capitale  Bruxelles\n",
              "5          1050   Ixelles  ...  Bruxelles-Capitale  Bruxelles\n",
              "6          1050   Ixelles  ...  Bruxelles-Capitale  Bruxelles\n",
              "7          1050   Ixelles  ...  Bruxelles-Capitale  Bruxelles\n",
              "8          1050   Ixelles  ...  Bruxelles-Capitale  Bruxelles\n",
              "9          1050   Ixelles  ...  Bruxelles-Capitale  Bruxelles\n",
              "11         1050   Ixelles  ...  Bruxelles-Capitale  Bruxelles\n",
              "\n",
              "[10 rows x 18 columns]"
            ]
          },
          "metadata": {
            "tags": []
          },
          "execution_count": 299
        }
      ]
    },
    {
      "cell_type": "markdown",
      "metadata": {
        "id": "ZeBIMQIJE4x5",
        "colab_type": "text"
      },
      "source": [
        "## Export"
      ]
    },
    {
      "cell_type": "code",
      "metadata": {
        "id": "uoGhJZKvE8N8",
        "colab_type": "code",
        "colab": {
          "base_uri": "https://localhost:8080/",
          "height": 34
        },
        "outputId": "34d44100-d6da-417f-bda4-f58eb52bca03"
      },
      "source": [
        "df.dropna(inplace=True)\n",
        "df.shape\n",
        "\n",
        "df.to_csv('belgium_real_estate.csv')"
      ],
      "execution_count": 300,
      "outputs": [
        {
          "output_type": "execute_result",
          "data": {
            "text/plain": [
              "(40395, 18)"
            ]
          },
          "metadata": {
            "tags": []
          },
          "execution_count": 300
        }
      ]
    },
    {
      "cell_type": "code",
      "metadata": {
        "id": "5sCLy5xgYfHB",
        "colab_type": "code",
        "colab": {
          "base_uri": "https://localhost:8080/",
          "height": 609
        },
        "outputId": "246ad429-01f2-446c-a8f2-a51e5153f12d"
      },
      "source": [
        "df"
      ],
      "execution_count": 301,
      "outputs": [
        {
          "output_type": "execute_result",
          "data": {
            "text/html": [
              "<div>\n",
              "<style scoped>\n",
              "    .dataframe tbody tr th:only-of-type {\n",
              "        vertical-align: middle;\n",
              "    }\n",
              "\n",
              "    .dataframe tbody tr th {\n",
              "        vertical-align: top;\n",
              "    }\n",
              "\n",
              "    .dataframe thead th {\n",
              "        text-align: right;\n",
              "    }\n",
              "</style>\n",
              "<table border=\"1\" class=\"dataframe\">\n",
              "  <thead>\n",
              "    <tr style=\"text-align: right;\">\n",
              "      <th></th>\n",
              "      <th>postal_code</th>\n",
              "      <th>city_name</th>\n",
              "      <th>type_of_property</th>\n",
              "      <th>price</th>\n",
              "      <th>number_of_rooms</th>\n",
              "      <th>house_area</th>\n",
              "      <th>fully_equipped_kitchen</th>\n",
              "      <th>open_fire</th>\n",
              "      <th>terrace</th>\n",
              "      <th>garden</th>\n",
              "      <th>surface_of_the_land</th>\n",
              "      <th>number_of_facades</th>\n",
              "      <th>swimming_pool</th>\n",
              "      <th>state_of_the_building</th>\n",
              "      <th>lattitude</th>\n",
              "      <th>longitude</th>\n",
              "      <th>province</th>\n",
              "      <th>region</th>\n",
              "    </tr>\n",
              "  </thead>\n",
              "  <tbody>\n",
              "    <tr>\n",
              "      <th>0</th>\n",
              "      <td>1050</td>\n",
              "      <td>Ixelles</td>\n",
              "      <td>0</td>\n",
              "      <td>340000</td>\n",
              "      <td>6</td>\n",
              "      <td>203</td>\n",
              "      <td>1</td>\n",
              "      <td>0</td>\n",
              "      <td>1</td>\n",
              "      <td>0</td>\n",
              "      <td>95</td>\n",
              "      <td>2</td>\n",
              "      <td>0</td>\n",
              "      <td>to be done up</td>\n",
              "      <td>4.381571</td>\n",
              "      <td>50.822285</td>\n",
              "      <td>Bruxelles-Capitale</td>\n",
              "      <td>Bruxelles</td>\n",
              "    </tr>\n",
              "    <tr>\n",
              "      <th>1</th>\n",
              "      <td>1050</td>\n",
              "      <td>Ixelles</td>\n",
              "      <td>0</td>\n",
              "      <td>520000</td>\n",
              "      <td>4</td>\n",
              "      <td>200</td>\n",
              "      <td>0</td>\n",
              "      <td>0</td>\n",
              "      <td>0</td>\n",
              "      <td>0</td>\n",
              "      <td>69</td>\n",
              "      <td>2</td>\n",
              "      <td>0</td>\n",
              "      <td>to renovate</td>\n",
              "      <td>4.381571</td>\n",
              "      <td>50.822285</td>\n",
              "      <td>Bruxelles-Capitale</td>\n",
              "      <td>Bruxelles</td>\n",
              "    </tr>\n",
              "    <tr>\n",
              "      <th>3</th>\n",
              "      <td>1050</td>\n",
              "      <td>Ixelles</td>\n",
              "      <td>0</td>\n",
              "      <td>599000</td>\n",
              "      <td>4</td>\n",
              "      <td>160</td>\n",
              "      <td>1</td>\n",
              "      <td>0</td>\n",
              "      <td>1</td>\n",
              "      <td>1</td>\n",
              "      <td>100</td>\n",
              "      <td>2</td>\n",
              "      <td>0</td>\n",
              "      <td>to be done up</td>\n",
              "      <td>4.381571</td>\n",
              "      <td>50.822285</td>\n",
              "      <td>Bruxelles-Capitale</td>\n",
              "      <td>Bruxelles</td>\n",
              "    </tr>\n",
              "    <tr>\n",
              "      <th>4</th>\n",
              "      <td>1050</td>\n",
              "      <td>Ixelles</td>\n",
              "      <td>0</td>\n",
              "      <td>599000</td>\n",
              "      <td>3</td>\n",
              "      <td>160</td>\n",
              "      <td>1</td>\n",
              "      <td>0</td>\n",
              "      <td>1</td>\n",
              "      <td>1</td>\n",
              "      <td>130</td>\n",
              "      <td>2</td>\n",
              "      <td>0</td>\n",
              "      <td>good</td>\n",
              "      <td>4.381571</td>\n",
              "      <td>50.822285</td>\n",
              "      <td>Bruxelles-Capitale</td>\n",
              "      <td>Bruxelles</td>\n",
              "    </tr>\n",
              "    <tr>\n",
              "      <th>5</th>\n",
              "      <td>1050</td>\n",
              "      <td>Ixelles</td>\n",
              "      <td>0</td>\n",
              "      <td>575000</td>\n",
              "      <td>3</td>\n",
              "      <td>171</td>\n",
              "      <td>0</td>\n",
              "      <td>0</td>\n",
              "      <td>0</td>\n",
              "      <td>0</td>\n",
              "      <td>46</td>\n",
              "      <td>2</td>\n",
              "      <td>0</td>\n",
              "      <td>just renovated</td>\n",
              "      <td>4.381571</td>\n",
              "      <td>50.822285</td>\n",
              "      <td>Bruxelles-Capitale</td>\n",
              "      <td>Bruxelles</td>\n",
              "    </tr>\n",
              "    <tr>\n",
              "      <th>...</th>\n",
              "      <td>...</td>\n",
              "      <td>...</td>\n",
              "      <td>...</td>\n",
              "      <td>...</td>\n",
              "      <td>...</td>\n",
              "      <td>...</td>\n",
              "      <td>...</td>\n",
              "      <td>...</td>\n",
              "      <td>...</td>\n",
              "      <td>...</td>\n",
              "      <td>...</td>\n",
              "      <td>...</td>\n",
              "      <td>...</td>\n",
              "      <td>...</td>\n",
              "      <td>...</td>\n",
              "      <td>...</td>\n",
              "      <td>...</td>\n",
              "      <td>...</td>\n",
              "    </tr>\n",
              "    <tr>\n",
              "      <th>52070</th>\n",
              "      <td>1472</td>\n",
              "      <td>Vieux-Genappe</td>\n",
              "      <td>0</td>\n",
              "      <td>475000</td>\n",
              "      <td>5</td>\n",
              "      <td>216</td>\n",
              "      <td>1</td>\n",
              "      <td>1</td>\n",
              "      <td>0</td>\n",
              "      <td>0</td>\n",
              "      <td>1550</td>\n",
              "      <td>4</td>\n",
              "      <td>1</td>\n",
              "      <td>as new</td>\n",
              "      <td>4.401503</td>\n",
              "      <td>50.629025</td>\n",
              "      <td>Brabant wallon</td>\n",
              "      <td>Wallonie</td>\n",
              "    </tr>\n",
              "    <tr>\n",
              "      <th>52071</th>\n",
              "      <td>1472</td>\n",
              "      <td>Vieux-Genappe</td>\n",
              "      <td>0</td>\n",
              "      <td>475000</td>\n",
              "      <td>5</td>\n",
              "      <td>215</td>\n",
              "      <td>1</td>\n",
              "      <td>0</td>\n",
              "      <td>1</td>\n",
              "      <td>0</td>\n",
              "      <td>1550</td>\n",
              "      <td>0</td>\n",
              "      <td>1</td>\n",
              "      <td>good</td>\n",
              "      <td>4.401503</td>\n",
              "      <td>50.629025</td>\n",
              "      <td>Brabant wallon</td>\n",
              "      <td>Wallonie</td>\n",
              "    </tr>\n",
              "    <tr>\n",
              "      <th>52072</th>\n",
              "      <td>1461</td>\n",
              "      <td>Haut-Ittre</td>\n",
              "      <td>0</td>\n",
              "      <td>499000</td>\n",
              "      <td>5</td>\n",
              "      <td>275</td>\n",
              "      <td>1</td>\n",
              "      <td>0</td>\n",
              "      <td>1</td>\n",
              "      <td>1</td>\n",
              "      <td>1561</td>\n",
              "      <td>4</td>\n",
              "      <td>0</td>\n",
              "      <td>unknown</td>\n",
              "      <td>4.296472</td>\n",
              "      <td>50.648804</td>\n",
              "      <td>Brabant wallon</td>\n",
              "      <td>Wallonie</td>\n",
              "    </tr>\n",
              "    <tr>\n",
              "      <th>52073</th>\n",
              "      <td>1761</td>\n",
              "      <td>Borchtlombeek</td>\n",
              "      <td>0</td>\n",
              "      <td>495000</td>\n",
              "      <td>4</td>\n",
              "      <td>235</td>\n",
              "      <td>1</td>\n",
              "      <td>0</td>\n",
              "      <td>0</td>\n",
              "      <td>1</td>\n",
              "      <td>488</td>\n",
              "      <td>4</td>\n",
              "      <td>0</td>\n",
              "      <td>unknown</td>\n",
              "      <td>4.136915</td>\n",
              "      <td>50.848178</td>\n",
              "      <td>Brabant flamand</td>\n",
              "      <td>Flandre</td>\n",
              "    </tr>\n",
              "    <tr>\n",
              "      <th>52075</th>\n",
              "      <td>3381</td>\n",
              "      <td>Kapellen</td>\n",
              "      <td>0</td>\n",
              "      <td>485000</td>\n",
              "      <td>3</td>\n",
              "      <td>220</td>\n",
              "      <td>0</td>\n",
              "      <td>0</td>\n",
              "      <td>1</td>\n",
              "      <td>0</td>\n",
              "      <td>1019</td>\n",
              "      <td>4</td>\n",
              "      <td>0</td>\n",
              "      <td>good</td>\n",
              "      <td>4.960878</td>\n",
              "      <td>50.887345</td>\n",
              "      <td>Brabant flamand</td>\n",
              "      <td>Flandre</td>\n",
              "    </tr>\n",
              "  </tbody>\n",
              "</table>\n",
              "<p>40395 rows × 18 columns</p>\n",
              "</div>"
            ],
            "text/plain": [
              "       postal_code      city_name  ...            province     region\n",
              "0             1050        Ixelles  ...  Bruxelles-Capitale  Bruxelles\n",
              "1             1050        Ixelles  ...  Bruxelles-Capitale  Bruxelles\n",
              "3             1050        Ixelles  ...  Bruxelles-Capitale  Bruxelles\n",
              "4             1050        Ixelles  ...  Bruxelles-Capitale  Bruxelles\n",
              "5             1050        Ixelles  ...  Bruxelles-Capitale  Bruxelles\n",
              "...            ...            ...  ...                 ...        ...\n",
              "52070         1472  Vieux-Genappe  ...      Brabant wallon   Wallonie\n",
              "52071         1472  Vieux-Genappe  ...      Brabant wallon   Wallonie\n",
              "52072         1461     Haut-Ittre  ...      Brabant wallon   Wallonie\n",
              "52073         1761  Borchtlombeek  ...     Brabant flamand    Flandre\n",
              "52075         3381       Kapellen  ...     Brabant flamand    Flandre\n",
              "\n",
              "[40395 rows x 18 columns]"
            ]
          },
          "metadata": {
            "tags": []
          },
          "execution_count": 301
        }
      ]
    }
  ]
}